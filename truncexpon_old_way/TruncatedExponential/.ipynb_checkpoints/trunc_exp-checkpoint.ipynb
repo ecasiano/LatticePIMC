{
 "cells": [
  {
   "cell_type": "code",
   "execution_count": 51,
   "metadata": {},
   "outputs": [],
   "source": [
    "import matplotlib.pyplot as plt\n",
    "import numpy as np\n",
    "%matplotlib inline\n",
    "from numpy import pi as π\n",
    "from scipy.integrate import quad, simps"
   ]
  },
  {
   "cell_type": "code",
   "execution_count": 52,
   "metadata": {},
   "outputs": [],
   "source": [
    "from scipy.stats import truncexpon,expon"
   ]
  },
  {
   "cell_type": "code",
   "execution_count": 53,
   "metadata": {},
   "outputs": [],
   "source": [
    "def trunc_exp(tau_new,tau_min,tau_max,E):\n",
    "    b = tau_max-tau_min\n",
    "    scale = 1/E\n",
    "    return np.exp(-(tau_new-tau_min)/scale)/(1.0-np.exp(-b/scale))/scale"
   ]
  },
  {
   "cell_type": "code",
   "execution_count": 54,
   "metadata": {},
   "outputs": [],
   "source": [
    "def trunc_exp_rvs_proko(tau_min,tau_max,E,N=100000):\n",
    "    Z = 1 - np.exp(-E*(tau_max-tau_min))\n",
    "    random_numbers = np.ones(N)\n",
    "    for i in range(N):\n",
    "        r = np.random.random()\n",
    "        tau_new = tau_min - np.log(1-Z*r)  / E\n",
    "        random_numbers[i] = tau_new\n",
    "    return random_numbers"
   ]
  },
  {
   "cell_type": "code",
   "execution_count": 55,
   "metadata": {},
   "outputs": [],
   "source": [
    "tau_min = 0\n",
    "tau_max = 1\n",
    "E = 10\n",
    "\n",
    "b = tau_max-tau_min\n",
    "scale = 1/E\n",
    "\n",
    "N = 500000\n",
    "\n",
    "# Generate support of pdf\n",
    "x = np.linspace(tau_min,tau_max,1000)\n",
    "\n",
    "# Homemade pdf\n",
    "homemade_pdf = trunc_exp(x,tau_min,tau_max,E)\n",
    "\n",
    "# Prokof'ev\n",
    "rvs_proko = trunc_exp_rvs_proko(tau_min,tau_max,E,N)\n",
    "\n",
    "# scipy.stats\n",
    "# rvs_scipy = truncexpon.rvs(b=b/scale,scale=scale,size=N)"
   ]
  },
  {
   "cell_type": "code",
   "execution_count": 56,
   "metadata": {},
   "outputs": [
    {
     "data": {
      "image/png": "[encoded data removed]",
      "text/plain": [
       "<Figure size 432x288 with 1 Axes>"
      ]
     },
     "metadata": {
      "needs_background": "light"
     },
     "output_type": "display_data"
    }
   ],
   "source": [
    "plt.plot(x,homemade_pdf)\n",
    "plt.hist(rvs_proko, density=True, bins=500);\n",
    "# plt.hist(rvs_scipy, density=True, bins=500);"
   ]
  },
  {
   "cell_type": "code",
   "execution_count": 57,
   "metadata": {},
   "outputs": [
    {
     "name": "stdout",
     "output_type": "stream",
     "text": [
      "1.00000004164267\n",
      "289891.41225890967\n"
     ]
    }
   ],
   "source": [
    "# Check normalizations\n",
    "print(simps(homemade_pdf,x))\n",
    "print(sum(rvs_proko))"
   ]
  },
  {
   "cell_type": "code",
   "execution_count": null,
   "metadata": {},
   "outputs": [],
   "source": []
  },
  {
   "cell_type": "code",
   "execution_count": 60,
   "metadata": {},
   "outputs": [
    {
     "data": {
      "text/plain": [
       "array([0.57978282, 0.57978282, 0.57978282, 0.57978282, 0.57978282,\n",
       "       0.57978282, 0.57978282, 0.57978282, 0.57978282, 0.57978282,\n",
       "       0.57978282])"
      ]
     },
     "execution_count": 60,
     "metadata": {},
     "output_type": "execute_result"
    }
   ],
   "source": [
    "rvs_proko[0:11]"
   ]
  },
  {
   "cell_type": "code",
   "execution_count": null,
   "metadata": {},
   "outputs": [],
   "source": []
  },
  {
   "cell_type": "code",
   "execution_count": null,
   "metadata": {},
   "outputs": [],
   "source": [
    "b = 1\n",
    "x = np.linspace(-0.2,2*b,100000)\n",
    "scale = 0.8\n",
    "\n",
    "y1 = truncexpon.pdf(x,b,scale=scale)\n",
    "y2 = truncexpon.pdf(x,b/scale,scale=scale)\n",
    "\n",
    "# Check normalizations\n",
    "print(simps(y1,x))\n",
    "print(simps(y2,x))\n",
    "\n",
    "#plt.plot(x,y1,label=\"b=b,scale=%.2f\"%scale)\n",
    "plt.plot(x,y2,label=\"b=b/scale,scale=%.2f\"%scale)\n",
    "plt.legend();"
   ]
  },
  {
   "cell_type": "code",
   "execution_count": null,
   "metadata": {},
   "outputs": [],
   "source": []
  }
 ],
 "metadata": {
  "kernelspec": {
   "display_name": "Python 3",
   "language": "python",
   "name": "python3"
  },
  "language_info": {
   "codemirror_mode": {
    "name": "ipython",
    "version": 3
   },
   "file_extension": ".py",
   "mimetype": "text/x-python",
   "name": "python",
   "nbconvert_exporter": "python",
   "pygments_lexer": "ipython3",
   "version": "3.7.6"
  }
 },
 "nbformat": 4,
 "nbformat_minor": 4
}
