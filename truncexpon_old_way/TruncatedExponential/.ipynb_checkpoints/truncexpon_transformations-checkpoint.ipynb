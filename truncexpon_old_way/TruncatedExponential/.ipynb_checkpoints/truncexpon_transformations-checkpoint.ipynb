{
 "cells": [
  {
   "cell_type": "code",
   "execution_count": 1,
   "metadata": {},
   "outputs": [],
   "source": [
    "import numpy as np\n",
    "import matplotlib.pyplot as plt\n",
    "from scipy.stats import truncexpon\n",
    "from scipy.integrate import quad, simps\n",
    "from math import e"
   ]
  },
  {
   "cell_type": "markdown",
   "metadata": {},
   "source": [
    "### $dV>0,\\tau_w>0$"
   ]
  },
  {
   "cell_type": "code",
   "execution_count": 2,
   "metadata": {},
   "outputs": [],
   "source": [
    "# Distribution parameters\n",
    "loc = 0\n",
    "b = 1\n",
    "dV = 10 #scale\n",
    "scale = 1/abs(dV)\n",
    "\n",
    "# generate the pdf\n",
    "x = np.linspace(loc,loc+b,100)\n",
    "pdf = truncexpon.pdf(x,b=b/scale,loc=loc,scale=scale)\n",
    "A = simps(pdf,x)\n",
    "\n",
    "# generate the random variates\n",
    "tau_w = truncexpon.rvs(b=b/scale,loc=loc,scale=scale,size=int(5E+06))        "
   ]
  },
  {
   "cell_type": "code",
   "execution_count": 4,
   "metadata": {},
   "outputs": [
    {
     "data": {
      "text/plain": [
       "<matplotlib.legend.Legend at 0x7fcf13eab250>"
      ]
     },
     "execution_count": 4,
     "metadata": {},
     "output_type": "execute_result"
    },
    {
     "data": {
      "image/png": "[encoded data removed]",
      "text/plain": [
       "<Figure size 432x288 with 1 Axes>"
      ]
     },
     "metadata": {
      "needs_background": "light"
     },
     "output_type": "display_data"
    }
   ],
   "source": [
    "# Plot the three distributions\n",
    "plt.plot(x,pdf,label='scipy.stats')\n",
    "plt.hist(tau_w,bins=x,density=True,histtype='stepfilled',alpha=0.45,color='blue') ;\n",
    "\n",
    "plt.legend()"
   ]
  },
  {
   "cell_type": "markdown",
   "metadata": {},
   "source": [
    "### $dV>0,\\tau_w<0$"
   ]
  },
  {
   "cell_type": "code",
   "execution_count": 46,
   "metadata": {},
   "outputs": [],
   "source": [
    "# generate the pdf\n",
    "x_pdf = np.linspace(loc,loc+b,100)\n",
    "pdf = truncexpon.pdf(x_pdf,b=b/scale,loc=loc,scale=scale)\n",
    "A = simps(pdf,x_pdf)\n",
    "\n",
    "# generate the random variates\n",
    "x = truncexpon.rvs(b=b/scale,loc=loc,scale=scale,size=int(5E+06))\n",
    "x = x - b\n",
    "tau_w = x"
   ]
  },
  {
   "cell_type": "code",
   "execution_count": 47,
   "metadata": {},
   "outputs": [
    {
     "name": "stderr",
     "output_type": "stream",
     "text": [
      "No handles with labels found to put in legend.\n"
     ]
    },
    {
     "data": {
      "text/plain": [
       "<matplotlib.legend.Legend at 0x1a190914a8>"
      ]
     },
     "execution_count": 47,
     "metadata": {},
     "output_type": "execute_result"
    },
    {
     "data": {
      "image/png": "[encoded data removed]",
      "text/plain": [
       "<Figure size 432x288 with 1 Axes>"
      ]
     },
     "metadata": {
      "needs_background": "light"
     },
     "output_type": "display_data"
    }
   ],
   "source": [
    "# Plot the three distributions\n",
    "#plt.plot(x,pdf,label='scipy.stats')\n",
    "plt.hist(tau_w,bins=x_pdf-b,density=True,histtype='stepfilled',alpha=0.45,color='blue') ;\n",
    "\n",
    "plt.legend()"
   ]
  },
  {
   "cell_type": "markdown",
   "metadata": {},
   "source": [
    "### $dV<0,\\tau_w>0$"
   ]
  },
  {
   "cell_type": "code",
   "execution_count": 58,
   "metadata": {},
   "outputs": [
    {
     "name": "stdout",
     "output_type": "stream",
     "text": [
      "1.0000000000416678\n"
     ]
    }
   ],
   "source": [
    "# generate the pdf\n",
    "x_pdf = np.linspace(loc,loc+b,10000)\n",
    "pdf = truncexpon.pdf(x_pdf,b=b/scale,loc=loc,scale=scale)\n",
    "A = simps(pdf,x_pdf)\n",
    "\n",
    "# generate the random variates\n",
    "x = truncexpon.rvs(b=b/scale,loc=loc,scale=scale,size=int(5E+06))\n",
    "x = -x + b\n",
    "tau_w = x"
   ]
  },
  {
   "cell_type": "code",
   "execution_count": 56,
   "metadata": {},
   "outputs": [
    {
     "name": "stderr",
     "output_type": "stream",
     "text": [
      "No handles with labels found to put in legend.\n"
     ]
    },
    {
     "data": {
      "text/plain": [
       "<matplotlib.legend.Legend at 0x1a18d12710>"
      ]
     },
     "execution_count": 56,
     "metadata": {},
     "output_type": "execute_result"
    },
    {
     "data": {
      "image/png": "[encoded data removed]",
      "text/plain": [
       "<Figure size 432x288 with 1 Axes>"
      ]
     },
     "metadata": {
      "needs_background": "light"
     },
     "output_type": "display_data"
    }
   ],
   "source": [
    "# Plot the three distributions\n",
    "#plt.plot(x,pdf,label='scipy.stats')\n",
    "plt.hist(tau_w,bins=-x_pdf[::-1]+b,density=True,histtype='stepfilled',alpha=0.45,color='blue') ;\n",
    "\n",
    "plt.legend()"
   ]
  },
  {
   "cell_type": "markdown",
   "metadata": {},
   "source": [
    "### $dV<0,\\tau_w<0$"
   ]
  },
  {
   "cell_type": "code",
   "execution_count": 59,
   "metadata": {},
   "outputs": [],
   "source": [
    "# generate the pdf\n",
    "x_pdf = np.linspace(loc,loc+b,10000)\n",
    "pdf = truncexpon.pdf(x_pdf,b=b/scale,loc=loc,scale=scale)\n",
    "A = simps(pdf,x_pdf)\n",
    "\n",
    "# generate the random variates\n",
    "x = truncexpon.rvs(b=b/scale,loc=loc,scale=scale,size=int(5E+06))\n",
    "x = -x\n",
    "tau_w = x"
   ]
  },
  {
   "cell_type": "code",
   "execution_count": 62,
   "metadata": {},
   "outputs": [
    {
     "name": "stderr",
     "output_type": "stream",
     "text": [
      "No handles with labels found to put in legend.\n"
     ]
    },
    {
     "data": {
      "text/plain": [
       "<matplotlib.legend.Legend at 0x1a1929df60>"
      ]
     },
     "execution_count": 62,
     "metadata": {},
     "output_type": "execute_result"
    },
    {
     "data": {
      "image/png": "[encoded data removed]",
      "text/plain": [
       "<Figure size 432x288 with 1 Axes>"
      ]
     },
     "metadata": {
      "needs_background": "light"
     },
     "output_type": "display_data"
    }
   ],
   "source": [
    "# Plot the three distributions\n",
    "#plt.plot(x,pdf,label='scipy.stats')\n",
    "plt.hist(tau_w,bins=-x_pdf[::-1],density=True,histtype='stepfilled',alpha=0.45,color='blue') ;\n",
    "\n",
    "plt.legend()"
   ]
  },
  {
   "cell_type": "code",
   "execution_count": null,
   "metadata": {},
   "outputs": [],
   "source": []
  }
 ],
 "metadata": {
  "kernelspec": {
   "display_name": "Python 3",
   "language": "python",
   "name": "python3"
  },
  "language_info": {
   "codemirror_mode": {
    "name": "ipython",
    "version": 3
   },
   "file_extension": ".py",
   "mimetype": "text/x-python",
   "name": "python",
   "nbconvert_exporter": "python",
   "pygments_lexer": "ipython3",
   "version": "3.7.6"
  }
 },
 "nbformat": 4,
 "nbformat_minor": 4
}
