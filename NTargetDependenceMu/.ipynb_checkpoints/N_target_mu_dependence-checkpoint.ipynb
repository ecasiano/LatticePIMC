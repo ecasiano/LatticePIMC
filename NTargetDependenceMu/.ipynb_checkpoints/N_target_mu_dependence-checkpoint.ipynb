{
 "cells": [
  {
   "cell_type": "markdown",
   "metadata": {},
   "source": [
    "### $N$ dependence on $\\mu$ (Grand Canonical)"
   ]
  },
  {
   "cell_type": "code",
   "execution_count": 7,
   "metadata": {},
   "outputs": [],
   "source": [
    "import numpy as np\n",
    "import matplotlib.pyplot as plt"
   ]
  },
  {
   "cell_type": "code",
   "execution_count": 8,
   "metadata": {},
   "outputs": [],
   "source": [
    "# Load data files\n",
    "data_01 = np.loadtxt(\"4_4_0.0000_-2.4000_1.0000_0.1706_1.0000_0.5000_100000_can.dat\")\n",
    "\n",
    "# Load N data as a function of measurement\n",
    "N_list_01 = data_01[:,3]\n",
    "\n",
    "\n",
    "# Take cumulative averages\n",
    "N_list_01_cumsum = np.cumsum(N_list_01)\n",
    "for i in range(len(N_list_01_cumsum)):\n",
    "    N_list_01_cumsum[i] /= (i+1)\n",
    "       \n",
    "# data_02 = np.loadtxt(\"4_4_0.0000_-2.4444_1.0000_0.1709_1.0000_0.5000_100000_gcan.dat\")\n",
    "# data_03 = np.loadtxt(\"4_4_0.0000_-2.5555_1.0000_0.1803_1.0000_0.5000_100000_gcan.dat\")\n",
    "\n",
    "# N_list_02 = data_02[:,3]\n",
    "# N_list_03 = data_03[:,3]\n",
    "\n",
    "# N_list_02_cumsum = np.cumsum(N_list_02)\n",
    "# for i in range(len(N_list_02_cumsum)):\n",
    "#     N_list_02_cumsum[i] /= (i+1)\n",
    "    \n",
    "# N_list_03_cumsum = np.cumsum(N_list_03)\n",
    "# for i in range(len(N_list_03_cumsum)):\n",
    "#     N_list_03_cumsum[i] /= (i+1)"
   ]
  },
  {
   "cell_type": "code",
   "execution_count": 10,
   "metadata": {},
   "outputs": [
    {
     "data": {
      "image/png": "[encoded data removed]",
      "text/plain": [
       "<Figure size 432x288 with 1 Axes>"
      ]
     },
     "metadata": {
      "needs_background": "light"
     },
     "output_type": "display_data"
    }
   ],
   "source": [
    "# Plot the running average of N as a function of sample for various mu\n",
    "fig, ax1 = plt.subplots()\n",
    "ax1.plot(N_list_01_cumsum,'-',color='lightskyblue',label=r'$\\mu=1$')\n",
    "#ax1.plot(N_list_02_cumsum,'-',color='mediumseagreen',label=r'$\\mu=-2.4444$')\n",
    "#ax1.plot(N_list_03_cumsum,'-',color='lightcoral',label=r'$\\mu=-2.5555$')\n",
    "ax1.axhline(y=4,linewidth=1,color=\"#555555\",zorder=2) # Target N\n",
    "ax1.set_ylabel(r\"$\\langle N \\rangle$\")\n",
    "ax1.set_xlabel(r\"$\\rm{sample \\ number}$\")\n",
    "ax1.tick_params(axis='both',which='both',right=False,top=False,labelright=False,direction='in')\n",
    "plt.legend()\n",
    "plt.savefig(\"4_4_1_1_N_target__CAN_CONST.pdf\")\n",
    "#plt.close();"
   ]
  },
  {
   "cell_type": "code",
   "execution_count": null,
   "metadata": {},
   "outputs": [],
   "source": []
  },
  {
   "cell_type": "code",
   "execution_count": null,
   "metadata": {},
   "outputs": [],
   "source": []
  },
  {
   "cell_type": "code",
   "execution_count": null,
   "metadata": {},
   "outputs": [],
   "source": []
  },
  {
   "cell_type": "code",
   "execution_count": null,
   "metadata": {},
   "outputs": [],
   "source": []
  }
 ],
 "metadata": {
  "kernelspec": {
   "display_name": "Python 3",
   "language": "python",
   "name": "python3"
  },
  "language_info": {
   "codemirror_mode": {
    "name": "ipython",
    "version": 3
   },
   "file_extension": ".py",
   "mimetype": "text/x-python",
   "name": "python",
   "nbconvert_exporter": "python",
   "pygments_lexer": "ipython3",
   "version": "3.7.3"
  }
 },
 "nbformat": 4,
 "nbformat_minor": 4
}
