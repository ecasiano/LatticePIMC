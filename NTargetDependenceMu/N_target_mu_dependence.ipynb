{
 "cells": [
  {
   "cell_type": "markdown",
   "metadata": {},
   "source": [
    "### $N$ dependence on $\\mu$ (Grand Canonical)"
   ]
  },
  {
   "cell_type": "code",
   "execution_count": 67,
   "metadata": {},
   "outputs": [],
   "source": [
    "import numpy as np\n",
    "import matplotlib.pyplot as plt"
   ]
  },
  {
   "cell_type": "code",
   "execution_count": 68,
   "metadata": {},
   "outputs": [],
   "source": [
    "# Load data files\n",
    "data_01 = np.loadtxt(\"4_4_0.0000_-2.8844_1.0000_0.1628_1.0000_0.5000_500000_gcan.dat\")\n",
    "data_02 = np.loadtxt(\"4_4_0.0000_-3.0000_1.0000_0.1768_1.0000_0.5000_500000_gcan.dat\")\n",
    "data_03 = np.loadtxt(\"4_4_0.0000_-3.2000_1.0000_0.1856_1.0000_0.5000_500000_gcan.dat\")\n",
    "\n",
    "# Load N data as a function of measurement\n",
    "N_list_01 = data_01[:,3]\n",
    "N_list_02 = data_02[:,3]\n",
    "N_list_03 = data_03[:,3]\n",
    "\n",
    "# Take cumulative averages\n",
    "N_list_01_cumsum = np.cumsum(N_list_01)\n",
    "for i in range(len(N_list_01_cumsum)):\n",
    "    N_list_01_cumsum[i] /= (i+1)\n",
    "    \n",
    "N_list_02_cumsum = np.cumsum(N_list_02)\n",
    "for i in range(len(N_list_02_cumsum)):\n",
    "    N_list_02_cumsum[i] /= (i+1)\n",
    "    \n",
    "N_list_03_cumsum = np.cumsum(N_list_03)\n",
    "for i in range(len(N_list_03_cumsum)):\n",
    "    N_list_03_cumsum[i] /= (i+1)"
   ]
  },
  {
   "cell_type": "code",
   "execution_count": 78,
   "metadata": {},
   "outputs": [],
   "source": [
    "# Plot the running average of N as a function of sample for various mu\n",
    "#Plot\n",
    "fig, ax1 = plt.subplots()\n",
    "ax1.plot(N_list_01_cumsum,'-',color='lightskyblue',label=r'$\\mu=-2.8844$')\n",
    "ax1.plot(N_list_02_cumsum,'-',color='mediumseagreen',label=r'$\\mu=-3.0000$')\n",
    "ax1.plot(N_list_03_cumsum,'-',color='lightcoral',label=r'$\\mu=-3.2000$')\n",
    "ax1.axhline(y=4,linewidth=1,color=\"#555555\",zorder=2) # Target N\n",
    "ax1.set_ylabel(r\"$<N>$\")\n",
    "ax1.set_xlabel(r\"$\\rm{sample \\ number}$\")\n",
    "ax1.tick_params(axis='both',which='both',right=False,top=False,labelright=False,direction='in')\n",
    "plt.legend()\n",
    "plt.savefig(\"4_4_0_0_N_target.pdf\")\n",
    "plt.close();"
   ]
  },
  {
   "cell_type": "code",
   "execution_count": null,
   "metadata": {},
   "outputs": [],
   "source": []
  }
 ],
 "metadata": {
  "kernelspec": {
   "display_name": "Python 3",
   "language": "python",
   "name": "python3"
  },
  "language_info": {
   "codemirror_mode": {
    "name": "ipython",
    "version": 3
   },
   "file_extension": ".py",
   "mimetype": "text/x-python",
   "name": "python",
   "nbconvert_exporter": "python",
   "pygments_lexer": "ipython3",
   "version": "3.7.3"
  }
 },
 "nbformat": 4,
 "nbformat_minor": 4
}
