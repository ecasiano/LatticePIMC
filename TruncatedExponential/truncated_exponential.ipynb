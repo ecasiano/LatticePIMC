{
 "cells": [
  {
   "cell_type": "markdown",
   "metadata": {},
   "source": [
    "# Truncated Exponential\n",
    "\n",
    "The truncated exponential is defined as:\n",
    "\\begin{equation}\n",
    "f(x,b) = \\frac{e^{-x}}{1-e^{-b}}\n",
    "\\end{equation}\n",
    "\n",
    "for $x \\in [0,b]$."
   ]
  },
  {
   "cell_type": "markdown",
   "metadata": {},
   "source": [
    "## Scipy implementation"
   ]
  },
  {
   "cell_type": "code",
   "execution_count": 1,
   "metadata": {},
   "outputs": [],
   "source": [
    "from scipy.stats import truncexpon\n",
    "import matplotlib.pyplot as plt\n",
    "import numpy as np"
   ]
  },
  {
   "cell_type": "markdown",
   "metadata": {},
   "source": [
    "## Plotting by picking random values from the distribution"
   ]
  },
  {
   "cell_type": "code",
   "execution_count": 9,
   "metadata": {},
   "outputs": [
    {
     "name": "stdout",
     "output_type": "stream",
     "text": [
      "r =  5.465788251022378\n"
     ]
    },
    {
     "data": {
      "image/png": "[encoded data removed]",
      "text/plain": [
       "<Figure size 432x288 with 1 Axes>"
      ]
     },
     "metadata": {
      "needs_background": "light"
     },
     "output_type": "display_data"
    }
   ],
   "source": [
    "# truncexp parameters \n",
    "b = 2\n",
    "loc = 4\n",
    "scale = 1.75\n",
    "\n",
    "# Set the bins\n",
    "bins = np.linspace(loc,loc+b,100)\n",
    "\n",
    "# Generate pdf and array of random variates\n",
    "x = np.linspace(loc,loc+b,1000)\n",
    "pdf = truncexpon.pdf(x,b=b/scale,loc=loc,scale=scale)\n",
    "r = truncexpon.rvs(b=b/scale,loc=loc,scale=scale,size=int(1E+04))\n",
    "print(\"r = \",r[0])\n",
    "\n",
    "# Plot histogram and compare with pdf\n",
    "fig, ax = plt.subplots(1, 1)\n",
    "ax.plot(x,pdf)\n",
    "ax.hist(r,bins=bins,density=True,histtype='stepfilled',alpha=0.2) ;"
   ]
  },
  {
   "cell_type": "code",
   "execution_count": null,
   "metadata": {},
   "outputs": [],
   "source": []
  },
  {
   "cell_type": "code",
   "execution_count": null,
   "metadata": {},
   "outputs": [],
   "source": []
  },
  {
   "cell_type": "code",
   "execution_count": null,
   "metadata": {},
   "outputs": [],
   "source": []
  },
  {
   "cell_type": "code",
   "execution_count": null,
   "metadata": {},
   "outputs": [],
   "source": []
  }
 ],
 "metadata": {
  "kernelspec": {
   "display_name": "Python 3",
   "language": "python",
   "name": "python3"
  },
  "language_info": {
   "codemirror_mode": {
    "name": "ipython",
    "version": 3
   },
   "file_extension": ".py",
   "mimetype": "text/x-python",
   "name": "python",
   "nbconvert_exporter": "python",
   "pygments_lexer": "ipython3",
   "version": "3.6.8"
  }
 },
 "nbformat": 4,
 "nbformat_minor": 4
}
