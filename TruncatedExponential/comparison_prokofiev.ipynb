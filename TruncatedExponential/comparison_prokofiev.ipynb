{
 "cells": [
  {
   "cell_type": "markdown",
   "metadata": {},
   "source": [
    "### Comparison with distribution from Prokof'ev slides"
   ]
  },
  {
   "cell_type": "code",
   "execution_count": 3,
   "metadata": {},
   "outputs": [],
   "source": [
    "import numpy as np\n",
    "import matplotlib.pyplot as plt\n",
    "from scipy.stats import truncexpon\n",
    "from scipy.integrate import quad, simps\n",
    "from math import e"
   ]
  },
  {
   "cell_type": "code",
   "execution_count": 4,
   "metadata": {},
   "outputs": [],
   "source": [
    "# Truncated exponential distribution based on Prokof'ev slides\n",
    "def p(tau,loc,b,dV):\n",
    "    return dV*e**(-dV*(tau-loc))/(1-e**(-dV*b))"
   ]
  },
  {
   "cell_type": "code",
   "execution_count": 5,
   "metadata": {},
   "outputs": [],
   "source": [
    "def nist(x,x0,mu,sigma):\n",
    "    return (1/sigma)*e**(-(x-mu)/sigma)/(1-e**(-(x0-mu)/sigma))"
   ]
  },
  {
   "cell_type": "code",
   "execution_count": 7,
   "metadata": {},
   "outputs": [
    {
     "name": "stdout",
     "output_type": "stream",
     "text": [
      "1.0000013538179904\n",
      "0.950212931632136\n",
      "1.0000013538179904\n"
     ]
    },
    {
     "data": {
      "text/plain": [
       "[<matplotlib.lines.Line2D at 0x1a13c02d68>]"
      ]
     },
     "execution_count": 7,
     "metadata": {},
     "output_type": "execute_result"
    },
    {
     "data": {
      "image/png": "[encoded data removed]",
      "text/plain": [
       "<Figure size 432x288 with 1 Axes>"
      ]
     },
     "metadata": {
      "needs_background": "light"
     },
     "output_type": "display_data"
    }
   ],
   "source": [
    "loc = 0\n",
    "b = 5\n",
    "x = np.linspace(loc,loc+b,25)\n",
    "dV = 0.6 #scale\n",
    "xmax = x[-1]\n",
    "xmin = x[0]\n",
    "\n",
    "# scipy.stats.truncexpon()\n",
    "b = xmax-xmin\n",
    "loc = xmin\n",
    "scale = 1/dV\n",
    "pdf = truncexpon.pdf(x,b=b/scale,loc=loc,scale=scale)\n",
    "B = simps(pdf,x)\n",
    "print(B)\n",
    "print(1-e**(-dV*b))\n",
    "dV\n",
    "\n",
    "# Prokof'ev\n",
    "y = p(x,loc,b,dV)\n",
    "A = simps(y,x)\n",
    "print(A)\n",
    "plt.plot(x,y,ls='-',lw=4)\n",
    "plt.plot(x,pdf,marker='*',ms=5)\n",
    "\n",
    "# NIST\n",
    "#y_nist = nist()"
   ]
  },
  {
   "cell_type": "code",
   "execution_count": null,
   "metadata": {},
   "outputs": [],
   "source": []
  },
  {
   "cell_type": "code",
   "execution_count": null,
   "metadata": {},
   "outputs": [],
   "source": []
  },
  {
   "cell_type": "code",
   "execution_count": null,
   "metadata": {},
   "outputs": [],
   "source": []
  }
 ],
 "metadata": {
  "kernelspec": {
   "display_name": "Python 3",
   "language": "python",
   "name": "python3"
  },
  "language_info": {
   "codemirror_mode": {
    "name": "ipython",
    "version": 3
   },
   "file_extension": ".py",
   "mimetype": "text/x-python",
   "name": "python",
   "nbconvert_exporter": "python",
   "pygments_lexer": "ipython3",
   "version": "3.7.3"
  }
 },
 "nbformat": 4,
 "nbformat_minor": 4
}
