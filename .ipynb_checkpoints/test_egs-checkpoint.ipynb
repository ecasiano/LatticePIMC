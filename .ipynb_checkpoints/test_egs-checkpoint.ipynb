{
 "cells": [
  {
   "cell_type": "markdown",
   "metadata": {},
   "source": [
    "### Compare theoretical and ground state energy at unit filling"
   ]
  },
  {
   "cell_type": "code",
   "execution_count": 64,
   "metadata": {},
   "outputs": [
    {
     "data": {
      "text/plain": [
       "<module 'pimc' from '/Users/ecasiano/Desktop/LatticePIMC/src/pimc.py'>"
      ]
     },
     "execution_count": 64,
     "metadata": {},
     "output_type": "execute_result"
    }
   ],
   "source": [
    "import numpy as np\n",
    "import bisect\n",
    "import matplotlib.pyplot as plt\n",
    "import pimc # custom module\n",
    "from scipy.stats import truncexpon\n",
    "from scipy.integrate import quad, simps\n",
    "import importlib\n",
    "from random import shuffle\n",
    "importlib.reload(pimc)"
   ]
  },
  {
   "cell_type": "markdown",
   "metadata": {},
   "source": [
    "### Simulation parameters"
   ]
  },
  {
   "cell_type": "code",
   "execution_count": 65,
   "metadata": {},
   "outputs": [
    {
     "data": {
      "image/png": "[encoded data removed]",
      "text/plain": [
       "<Figure size 432x288 with 1 Axes>"
      ]
     },
     "metadata": {
      "needs_background": "light"
     },
     "output_type": "display_data"
    }
   ],
   "source": [
    "# TO DO: Plot <E>/t for fixed U/t as a function of \\beta\n",
    "# - Try U/t = 0 first.\n",
    "# - Put in the free boson weights for |psi_T>. (BEC) (U/t=0) (a BEC for N-1,N,N+1)\n",
    "# - what mu?\n",
    "# - dont make eta too small\n",
    "# - Generate P(N) histogram. Use this to choose mu that will yield target value of N\n",
    "# - Get order of magnitude equilibration times\n",
    "# - <E_GC> should decay exponentially. Check this.\n",
    "# - eta should scale with beta\n",
    "# - Why is insert/delete so sensitive to beta\n",
    "# - mu = 0 yields broad distribution, thus reasonable statistics.\n",
    "# - Try using a horrible wavefn and see what happens.\n",
    "# - Do a wikipage with iterations of the work.\n",
    "\n",
    "importlib.reload(pimc)\n",
    "# Simulation parameters\n",
    "t = 1.0\n",
    "U = 5.0 # eta = 0.09, mu = 0\n",
    "mu = U/2-1.4\n",
    "L = 4\n",
    "N = 4\n",
    "\n",
    "# PIMC parameters\n",
    "beta = 10.0\n",
    "eta = 1/np.sqrt(L*beta)\n",
    "# eta = 0.25\n",
    "# eta = 0.001\n",
    "dtau = 0.2*beta # Set neighborhood of beta/2 where <K> will be measured\n",
    "\n",
    "# Canonical or Grand Canonical?\n",
    "canonical = True # False means Grand Canonical\n",
    "N_check = [N] # Tracks the total number of particle to enforce Canonical simulations\n",
    "\n",
    "# Create a random worldline configuration\n",
    "alpha = pimc.random_boson_config(L,N)\n",
    "alpha = [1]*L\n",
    "data_struct = pimc.create_data_struct(alpha,L)\n",
    "head_loc = []\n",
    "tail_loc = []\n",
    "pimc.view_worldlines(data_struct,beta,figure_name=None)"
   ]
  },
  {
   "cell_type": "code",
   "execution_count": null,
   "metadata": {},
   "outputs": [],
   "source": []
  },
  {
   "cell_type": "markdown",
   "metadata": {},
   "source": [
    "### Do many iterations of the set of PIMC-WA updates"
   ]
  },
  {
   "cell_type": "code",
   "execution_count": 66,
   "metadata": {},
   "outputs": [],
   "source": [
    "importlib.reload(pimc)\n",
    "\n",
    "# Create the data structure\n",
    "data_struct = pimc.create_data_struct(alpha,L)\n",
    "head_loc = []\n",
    "tail_loc = []\n",
    "\n",
    "# Store values of observables\n",
    "Z_ctr = 0           # Count configurations with no worm ends\n",
    "diagonal_list = []  # Diagonal energy\n",
    "kinetic_list = []   # Kinetic energy \n",
    "N_list = []         # Total particles \n",
    "occ_list = []       # Particles at each site\n",
    "# E_N_list = [] # Fixed total particle energies\n",
    "# E_canonical_list = [] # To save energies only for N space configurations\n",
    "\n",
    "# Counters for acceptance of each move\n",
    "insert_worm_data = [0,0] # [accepted,proposed]\n",
    "delete_worm_data = [0,0]\n",
    "\n",
    "insert_anti_data = [0,0]\n",
    "delete_anti_data = [0,0]\n",
    "\n",
    "advance_head_data = [0,0]\n",
    "recede_head_data = [0,0]\n",
    "\n",
    "advance_tail_data = [0,0]\n",
    "recede_tail_data = [0,0]\n",
    "\n",
    "insertZero_worm_data = [0,0]\n",
    "deleteZero_worm_data = [0,0]\n",
    "\n",
    "insertZero_anti_data = [0,0]\n",
    "deleteZero_anti_data = [0,0]\n",
    "\n",
    "insertBeta_worm_data = [0,0]\n",
    "deleteBeta_worm_data = [0,0]\n",
    "\n",
    "insertBeta_anti_data = [0,0]\n",
    "deleteBeta_anti_data = [0,0]\n",
    "\n",
    "ikbh_data = [0,0]\n",
    "dkbh_data = [0,0]\n",
    "\n",
    "ikah_data = [0,0]\n",
    "dkah_data = [0,0]\n",
    "\n",
    "ikbt_data = [0,0]\n",
    "dkbt_data = [0,0]\n",
    "\n",
    "ikat_data = [0,0]\n",
    "dkat_data = [0,0]"
   ]
  },
  {
   "cell_type": "code",
   "execution_count": 57,
   "metadata": {},
   "outputs": [
    {
     "name": "stdout",
     "output_type": "stream",
     "text": [
      "CPU times: user 16.6 s, sys: 111 ms, total: 16.7 s\n",
      "Wall time: 19.6 s\n"
     ]
    }
   ],
   "source": [
    "%%time\n",
    "\n",
    "# Set the number of times the set of updates will be attempted\n",
    "for m in range(mc_steps):\n",
    "    \n",
    "    # assign a label to each update\n",
    "    labels = list(range(15)) # There 15 functions\n",
    "    shuffle(labels)\n",
    "    \n",
    "    # At every mc step, try EVERY update in random order\n",
    "    for label in labels:   \n",
    "        \n",
    "        # Non-Spaceshift moves\n",
    "        if label == 0:\n",
    "            result = pimc.worm_insert(data_struct,beta,head_loc,tail_loc,U,mu,eta,L,N,canonical,N_check,insert_worm_data,insert_anti_data)\n",
    "\n",
    "        elif label == 1:\n",
    "            result = pimc.worm_delete(data_struct,beta,head_loc,tail_loc,U,mu,eta,L,N,canonical,N_check,delete_worm_data,delete_anti_data)\n",
    "\n",
    "        elif label == 2:\n",
    "            result = pimc.worm_timeshift(data_struct,beta,head_loc,tail_loc,U,mu,L,N,canonical,N_check,advance_head_data,recede_head_data,advance_tail_data,recede_tail_data)\n",
    "\n",
    "        elif label == 3:\n",
    "            result = pimc.insertZero(data_struct,beta,head_loc,tail_loc,U,mu,eta,L,N,canonical,N_check,insertZero_worm_data,insertZero_anti_data)\n",
    "\n",
    "        elif label == 4:\n",
    "            result = pimc.deleteZero(data_struct,beta,head_loc,tail_loc,U,mu,eta,L,N,canonical,N_check,deleteZero_worm_data,deleteZero_anti_data)\n",
    "\n",
    "        elif label == 5:\n",
    "            result = pimc.insertBeta(data_struct,beta,head_loc,tail_loc,U,mu,eta,L,N,canonical,N_check,insertBeta_worm_data,insertBeta_anti_data)\n",
    "\n",
    "        elif label == 6:\n",
    "            result = pimc.deleteBeta(data_struct,beta,head_loc,tail_loc,U,mu,eta,L,N,canonical,N_check,deleteBeta_worm_data,deleteBeta_anti_data)\n",
    "\n",
    "        # Spaceshift moves   \n",
    "        elif label == 7:\n",
    "            result = pimc.insert_kink_before_head(data_struct,beta,head_loc,tail_loc,t,U,mu,eta,L,N,canonical,N_check,ikbh_data)  \n",
    "\n",
    "        elif label == 8:\n",
    "            result = pimc.delete_kink_before_head(data_struct,beta,head_loc,tail_loc,t,U,mu,eta,L,N,canonical,N_check,dkbh_data) \n",
    "\n",
    "        elif label == 9:\n",
    "            result = pimc.insert_kink_after_head(data_struct,beta,head_loc,tail_loc,t,U,mu,eta,L,N,canonical,N_check,ikah_data)   \n",
    "\n",
    "        elif label == 10:\n",
    "            result = pimc.delete_kink_after_head(data_struct,beta,head_loc,tail_loc,t,U,mu,eta,L,N,canonical,N_check,dkah_data)\n",
    "\n",
    "        elif label == 11:\n",
    "            result = pimc.insert_kink_before_tail(data_struct,beta,head_loc,tail_loc,t,U,mu,eta,L,N,canonical,N_check,ikbt_data)  \n",
    "\n",
    "        elif label == 12:\n",
    "            result = pimc.delete_kink_before_tail(data_struct,beta,head_loc,tail_loc,t,U,mu,eta,L,N,canonical,N_check,dkbt_data) \n",
    "\n",
    "        elif label == 13:\n",
    "            result = pimc.insert_kink_after_tail(data_struct,beta,head_loc,tail_loc,t,U,mu,eta,L,N,canonical,N_check,ikat_data)   \n",
    "\n",
    "        else:\n",
    "            result = pimc.delete_kink_after_tail(data_struct,beta,head_loc,tail_loc,t,U,mu,eta,L,N,canonical,N_check,dkat_data)\n",
    "      \n",
    "    # print(N_check)   \n",
    "    # Calculate observables when there are no worms present\n",
    "    if m%int(L*beta)==0:\n",
    "        \n",
    "        #print(N_check[0])\n",
    "        \n",
    "        if not(pimc.check_worm(head_loc,tail_loc)):\n",
    "            \n",
    "            # Calculate kinetic, diagonal, and total energy\n",
    "            if canonical:\n",
    "                N_current = int(round(N_check[0],12))  # Round is used to fix precision errors in 12th bit\n",
    "                if N_current == N:  # Round is used to fix precision errors in 16th bit\n",
    "                    kinetic,diagonal = pimc.bh_egs(data_struct,beta,dtau,U,mu,t,L)\n",
    "                    diagonal_list.append(diagonal+mu*N)\n",
    "                    kinetic_list.append(kinetic)\n",
    "                    # Count diagonal configurations\n",
    "                    Z_ctr += 1\n",
    "            else:\n",
    "                    kinetic,diagonal = pimc.bh_egs(data_struct,beta,dtau,U,mu,t,L)\n",
    "                    diagonal_list.append(diagonal)\n",
    "                    kinetic_list.append(kinetic)\n",
    "        \n",
    "            \n",
    "#             # Build histogram of fixed total particle energies E_N\n",
    "#             N_current = int(round(N_check[0],8))  # Round is used to fix precision errors in 16th bit\n",
    "#             E_current = kinetic+diagonal # total energy at this iteration\n",
    "#             if canonical:\n",
    "#                 if N_current == N:\n",
    "#                     E_N_list.append((E_current,N_current))\n",
    "#             else: # Grand canonical \n",
    "#                 E_N_list.append((E_current,N_current))\n",
    "\n",
    "\n",
    "            # Calculate the average total number of particles\n",
    "            N_list.append(pimc.n_pimc(data_struct,beta,L)) # <n>\n",
    "            \n",
    "            # Calculate the average particle occupation\n",
    "            occ_list.append(pimc.n_i_pimc(data_struct,beta,L))          \n",
    "            "
   ]
  },
  {
   "cell_type": "code",
   "execution_count": 58,
   "metadata": {},
   "outputs": [
    {
     "name": "stdout",
     "output_type": "stream",
     "text": [
      "241\n"
     ]
    }
   ],
   "source": [
    "print(Z_ctr)"
   ]
  },
  {
   "cell_type": "code",
   "execution_count": 63,
   "metadata": {},
   "outputs": [
    {
     "name": "stdout",
     "output_type": "stream",
     "text": [
      "\n",
      "-------- Acceptance Ratios --------\n",
      "\n",
      "       Insert worm: (833/5003)\n",
      "       Delete worm: (841/1119)\n",
      "\n",
      "       Insert anti: (876/4893)\n",
      "       Delete anti: (936/1313)\n",
      "\n",
      "       Advance head: (16504/16504)\n",
      "        Recede head: (16822/16822)\n",
      "\n",
      "       Advance tail: (16141/16141)\n",
      "        Recede tail: (16182/16182)\n",
      "\n",
      "   InsertZero worm: (3615/18306)\n",
      "   DeleteZero worm: (3577/4011)\n",
      "\n",
      "   InsertZero anti: (3760/16459)\n",
      "   DeleteZero anti: (3722/4661)\n",
      "\n",
      "   InsertBeta worm: (3529/18783)\n",
      "   DeleteBeta worm: (3499/3793)\n",
      "\n",
      "   InsertBeta anti: (3798/15823)\n",
      "   DeleteBeta anti: (3768/4667)\n",
      "\n",
      "              IKBH: (25960/53799)\n",
      "              DKBH: (25819/33606)\n",
      "\n",
      "              IKAH: (18310/53857)\n",
      "              DKAH: (18417/25091)\n",
      "\n",
      "              IKBT: (17877/53175)\n",
      "              DKBT: (18078/24257)\n",
      "\n",
      "              IKAT: (25814/53105)\n",
      "              DKAT: (25588/33307)\n",
      "\n"
     ]
    }
   ],
   "source": [
    "# Acceptance ratios\n",
    "print(\"\\n-------- Acceptance Ratios --------\\n\")\n",
    "\n",
    "print(\"       Insert worm: (%d/%d)\"%(insert_worm_data[0],insert_worm_data[1]))\n",
    "print(\"       Delete worm: (%d/%d)\\n\"%(delete_worm_data[0],delete_worm_data[1]))\n",
    "\n",
    "print(\"       Insert anti: (%d/%d)\"%(insert_anti_data[0],insert_anti_data[1]))\n",
    "print(\"       Delete anti: (%d/%d)\\n\"%(delete_anti_data[0],delete_anti_data[1]))\n",
    "\n",
    "print(\"       Advance head: (%d/%d)\"%(advance_head_data[0],advance_head_data[1]))\n",
    "print(\"        Recede head: (%d/%d)\\n\"%(recede_head_data[0],recede_head_data[1]))\n",
    "\n",
    "print(\"       Advance tail: (%d/%d)\"%(advance_tail_data[0],advance_tail_data[1]))\n",
    "print(\"        Recede tail: (%d/%d)\\n\"%(recede_tail_data[0],recede_tail_data[1]))\n",
    "\n",
    "print(\"   InsertZero worm: (%d/%d)\"%(insertZero_worm_data[0],insertZero_worm_data[1]))\n",
    "print(\"   DeleteZero worm: (%d/%d)\\n\"%(deleteZero_worm_data[0],deleteZero_worm_data[1]))\n",
    "\n",
    "print(\"   InsertZero anti: (%d/%d)\"%(insertZero_anti_data[0],insertZero_anti_data[1]))\n",
    "print(\"   DeleteZero anti: (%d/%d)\\n\"%(deleteZero_anti_data[0],deleteZero_anti_data[1]))\n",
    "\n",
    "print(\"   InsertBeta worm: (%d/%d)\"%(insertBeta_worm_data[0],insertBeta_worm_data[1]))\n",
    "print(\"   DeleteBeta worm: (%d/%d)\\n\"%(deleteBeta_worm_data[0],deleteBeta_worm_data[1]))\n",
    "\n",
    "print(\"   InsertBeta anti: (%d/%d)\"%(insertBeta_anti_data[0],insertBeta_anti_data[1]))\n",
    "print(\"   DeleteBeta anti: (%d/%d)\\n\"%(deleteBeta_anti_data[0],deleteBeta_anti_data[1]))\n",
    "\n",
    "print(\"              IKBH: (%d/%d)\"%(ikbh_data[0],ikbh_data[1])) \n",
    "print(\"              DKBH: (%d/%d)\\n\"%(dkbh_data[0],dkbh_data[1]))\n",
    "\n",
    "print(\"              IKAH: (%d/%d)\"%(ikah_data[0],ikah_data[1])) \n",
    "print(\"              DKAH: (%d/%d)\\n\"%(dkah_data[0],dkah_data[1])) \n",
    "\n",
    "print(\"              IKBT: (%d/%d)\"%(ikbt_data[0],ikbt_data[1])) \n",
    "print(\"              DKBT: (%d/%d)\\n\"%(dkbt_data[0],dkbt_data[1]))\n",
    "\n",
    "print(\"              IKAT: (%d/%d)\"%(ikat_data[0],ikat_data[1])) \n",
    "print(\"              DKAT: (%d/%d)\\n\"%(dkat_data[0],dkat_data[1])) "
   ]
  },
  {
   "cell_type": "markdown",
   "metadata": {},
   "source": [
    "### Process data"
   ]
  },
  {
   "cell_type": "code",
   "execution_count": 60,
   "metadata": {},
   "outputs": [
    {
     "name": "stdout",
     "output_type": "stream",
     "text": [
      "N_check:  3.9999999999999987\n",
      "3.999999999999991\n"
     ]
    },
    {
     "data": {
      "image/png": "[encoded data removed]",
      "text/plain": [
       "<Figure size 432x288 with 1 Axes>"
      ]
     },
     "metadata": {
      "needs_background": "light"
     },
     "output_type": "display_data"
    }
   ],
   "source": [
    "print(\"N_check: \",pimc.N_tracker(data_struct,beta,L))\n",
    "print(N_check[0])\n",
    "pimc.view_worldlines(data_struct,beta,figure_name=None)"
   ]
  },
  {
   "cell_type": "code",
   "execution_count": 61,
   "metadata": {},
   "outputs": [
    {
     "name": "stdout",
     "output_type": "stream",
     "text": [
      "241\n",
      "241\n",
      "217\n"
     ]
    }
   ],
   "source": [
    "# Set what values to ignore due to equilibration\n",
    "#mc_fraction = 0\n",
    "start = int(len(diagonal_list)*0.10)\n",
    "start = int(len(diagonal_list)*0.10)\n",
    "#start = 100\n",
    "\n",
    "diagonal = np.mean(diagonal_list[start:])\n",
    "kinetic = np.mean(kinetic_list[start:])\n",
    "N_mean = np.mean(N_list[start:])\n",
    "occ = np.mean(occ_list,axis=0)\n",
    "print(Z_ctr)\n",
    "print(len(diagonal_list))\n",
    "print(len(diagonal_list)-start)\n"
   ]
  },
  {
   "cell_type": "code",
   "execution_count": 62,
   "metadata": {},
   "outputs": [
    {
     "name": "stdout",
     "output_type": "stream",
     "text": [
      "\n",
      "Ensemble: Canonical\n",
      "\n",
      "-------- Ground State Energy (E/t) --------\n",
      "E/t: -2.70391705 \n",
      "-------- Average N --------\n",
      "<N>: 4.00000000\n",
      "-------- Average occupation --------\n",
      "<n_i>: [0.97925311 0.94605809 0.94605809 1.12863071]\n",
      "-------- Z-configuration fraction --------\n",
      "Z-fraction: 0.32% (241/75000) \n"
     ]
    }
   ],
   "source": [
    "importlib.reload(pimc)\n",
    "if canonical:\n",
    "    print(\"\\nEnsemble: Canonical\\n\")\n",
    "else:\n",
    "    print(\"\\nEnsemble: Grand Canonical\")\n",
    "print(\"-------- Ground State Energy (E/t) --------\")\n",
    "print(\"E/t: %.8f \"%((diagonal+kinetic)/t))\n",
    "print(\"-------- Average N --------\")\n",
    "print(\"<N>: %.8f\"%(N_mean))\n",
    "print(\"-------- Average occupation --------\")\n",
    "print(\"<n_i>:\",occ)\n",
    "print(\"-------- Z-configuration fraction --------\")\n",
    "print(\"Z-fraction: %.2f%% (%d/%d) \"%(Z_ctr/mc_steps*100,Z_ctr,mc_steps))"
   ]
  },
  {
   "cell_type": "markdown",
   "metadata": {},
   "source": [
    "### Fixed total particle (E_N) energy histogram"
   ]
  },
  {
   "cell_type": "code",
   "execution_count": 41,
   "metadata": {},
   "outputs": [],
   "source": [
    "# from collections import OrderedDict\n",
    "# # reference: https://stackoverflow.com/a/51491688\n",
    "\n",
    "# d = OrderedDict()\n",
    "# for en,n in E_N_list: # en: energy, n: total particle number\n",
    "#     d.setdefault(n, []).append(en)\n",
    "    \n",
    "# d = [(sum(v) / len(v), k) for k, v in d.items()]\n",
    "\n",
    "# d = sorted(d,key=lambda x: x[1])"
   ]
  },
  {
   "cell_type": "code",
   "execution_count": 85,
   "metadata": {},
   "outputs": [],
   "source": [
    "# print(\"\\n-------- Average energy of fixed N sectors (E_N/t) --------\")\n",
    "# for i in range(len(d)):\n",
    "#         print(\"E_%i/t: %.4f\"%(d[i][1],d[i][0]/t))"
   ]
  },
  {
   "cell_type": "code",
   "execution_count": 86,
   "metadata": {},
   "outputs": [
    {
     "data": {
      "text/plain": [
       "55846"
      ]
     },
     "execution_count": 86,
     "metadata": {},
     "output_type": "execute_result"
    }
   ],
   "source": [
    "Z_ctr"
   ]
  },
  {
   "cell_type": "markdown",
   "metadata": {},
   "source": [
    "### Save data"
   ]
  },
  {
   "cell_type": "code",
   "execution_count": 87,
   "metadata": {},
   "outputs": [],
   "source": [
    "kinetic_list = np.array(kinetic_list)\n",
    "with open(\"kinetic_%i_%i_%.4f_%.4f_%.4f_%.4f_%.4f_%i.dat\"%(L,N,U,mu,t,eta,beta,mc_steps),\"w+\") as data:\n",
    "    np.savetxt(data,kinetic_list,delimiter=\",\",fmt=\"%.16f\",header=\"MC_step <E> // BH Parameters: L=%d,N=%d,U=%.8f,mu=%.8f,t=%.4f,eta=%.8f,beta=%.4f,MC_steps=%i\"%(L,N,U,mu,t,eta,beta,mc_steps))\n",
    "    \n",
    "diagonal_list = np.array(diagonal_list)\n",
    "with open(\"diagonal_%i_%i_%.4f_%.4f_%.4f_%.4f_%.4f_%i.dat\"%(L,N,U,mu,t,eta,beta,mc_steps),\"w+\") as data:\n",
    "    np.savetxt(data,diagonal_list,delimiter=\",\",fmt=\"%.16f\",header=\"MC_step <E> // BH Parameters: L=%d,N=%d,U=%.8f,mu=%.8f,t=%.4f,eta=%.8f,beta=%.4f,MC_steps=%i\"%(L,N,U,mu,t,eta,beta,mc_steps))\n",
    "    \n",
    "# n_list = np.array(n_list)\n",
    "# with open(\"n_%i_%i_%.4f_%.4f_%.4f_%i.dat\"%(L,N,U,mu,eta,mc_steps),\"w+\") as data:\n",
    "#     np.savetxt(data,n_list,delimiter=\",\",fmt=\"%.16f\",header=\"MC_step <n> // BH Parameters: L=%d,N=%d,U=%.8f,mu=%.8f,eta=%.8f,MC_steps=%i\"%(L,N,U,mu,eta,mc_steps))\n",
    "    \n",
    "# occ_list = np.array(occ_list)\n",
    "# with open(\"occ_%i_%i_%.4f_%.4f_%.4f_%i.dat\"%(L,N,U,mu,eta,mc_steps),\"w+\") as data:\n",
    "#     np.savetxt(data,occ_list,delimiter=\",\",fmt=\"%.16f\",header=\"MC_step <n_i> // BH Parameters: L=%d,N=%d,U=%.8f,mu=%.8f,eta=%.8f,MC_steps=%i\"%(L,N,U,mu,eta,mc_steps))    "
   ]
  },
  {
   "cell_type": "code",
   "execution_count": null,
   "metadata": {},
   "outputs": [],
   "source": []
  },
  {
   "cell_type": "code",
   "execution_count": null,
   "metadata": {},
   "outputs": [],
   "source": []
  },
  {
   "cell_type": "code",
   "execution_count": null,
   "metadata": {},
   "outputs": [],
   "source": []
  },
  {
   "cell_type": "code",
   "execution_count": null,
   "metadata": {},
   "outputs": [],
   "source": []
  },
  {
   "cell_type": "code",
   "execution_count": null,
   "metadata": {},
   "outputs": [],
   "source": []
  },
  {
   "cell_type": "code",
   "execution_count": null,
   "metadata": {},
   "outputs": [],
   "source": []
  },
  {
   "cell_type": "code",
   "execution_count": null,
   "metadata": {},
   "outputs": [],
   "source": []
  },
  {
   "cell_type": "code",
   "execution_count": null,
   "metadata": {},
   "outputs": [],
   "source": []
  },
  {
   "cell_type": "code",
   "execution_count": null,
   "metadata": {},
   "outputs": [],
   "source": []
  },
  {
   "cell_type": "code",
   "execution_count": 385,
   "metadata": {},
   "outputs": [],
   "source": [
    "# Acceptance ratios\n",
    "# print(\"\\n-------- Acceptance Ratios --------\\n\")\n",
    "\n",
    "# print(\"       Insert worm: %.4f%% (%d/%d)\"%(100*insert_worm_data[0]/insert_worm_data[1],insert_worm_data[0],insert_worm_data[1]))\n",
    "# print(\"       Delete worm: %.4f%% (%d/%d)\\n\"%(100*delete_worm_data[0]/delete_worm_data[1],delete_worm_data[0],delete_worm_data[1]))\n",
    "\n",
    "# print(\"       Insert anti: %.4f%% (%d/%d)\"%(100*insert_anti_data[0]/insert_anti_data[1],insert_anti_data[0],insert_anti_data[1]))\n",
    "# print(\"       Delete anti: %.4f%% (%d/%d)\\n\"%(100*delete_anti_data[0]/delete_anti_data[1],delete_anti_data[0],delete_anti_data[1]))\n",
    "\n",
    "# print(\"       Advance head: %.4f%% (%d/%d)\"%(100*advance_head_data[0]/advance_head_data[1],advance_head_data[0],advance_head_data[1]))\n",
    "# print(\"        Recede head: %.4f%% (%d/%d)\\n\"%(100*recede_head_data[0]/recede_head_data[1],recede_head_data[0],recede_head_data[1]))\n",
    "\n",
    "# print(\"       Advance tail: %.4f%% (%d/%d)\"%(100*advance_tail_data[0]/advance_tail_data[1],advance_tail_data[0],advance_tail_data[1]))\n",
    "# print(\"        Recede tail: %.4f%% (%d/%d)\\n\"%(100*recede_tail_data[0]/recede_tail_data[1],recede_tail_data[0],recede_tail_data[1]))\n",
    "\n",
    "# print(\"   InsertZero worm: %.4f%% (%d/%d)\"%(100*insertZero_worm_data[0]/insertZero_worm_data[1],insertZero_worm_data[0],insertZero_worm_data[1]))\n",
    "# print(\"   DeleteZero worm: %.4f%% (%d/%d)\\n\"%(100*deleteZero_worm_data[0]/deleteZero_worm_data[1],deleteZero_worm_data[0],deleteZero_worm_data[1]))\n",
    "\n",
    "# print(\"   InsertZero anti: %.4f%% (%d/%d)\"%(100*insertZero_anti_data[0]/insertZero_anti_data[1],insertZero_anti_data[0],insertZero_anti_data[1]))\n",
    "# print(\"   DeleteZero anti: %.4f%% (%d/%d)\\n\"%(100*deleteZero_anti_data[0]/deleteZero_anti_data[1],deleteZero_anti_data[0],deleteZero_anti_data[1]))\n",
    "\n",
    "# print(\"   InsertBeta worm: %.4f%% (%d/%d)\"%(100*insertBeta_worm_data[0]/insertBeta_worm_data[1],insertBeta_worm_data[0],insertBeta_worm_data[1]))\n",
    "# print(\"   DeleteBeta worm: %.4f%% (%d/%d)\\n\"%(100*deleteBeta_worm_data[0]/deleteBeta_worm_data[1],deleteBeta_worm_data[0],deleteBeta_worm_data[1]))\n",
    "\n",
    "# print(\"   InsertBeta anti: %.4f%% (%d/%d)\"%(100*insertBeta_anti_data[0]/insertBeta_anti_data[1],insertBeta_anti_data[0],insertBeta_anti_data[1]))\n",
    "# print(\"   DeleteBeta anti: %.4f%% (%d/%d)\\n\"%(100*deleteBeta_anti_data[0]/deleteBeta_anti_data[1],deleteBeta_anti_data[0],deleteBeta_anti_data[1]))\n",
    "\n",
    "# print(\"              IKBH: %.4f%% (%d/%d)\"%(100*ikbh_data[0]/ikbh_data[1],ikbh_data[0],ikbh_data[1])) \n",
    "# print(\"              DKBH: %.4f%% (%d/%d)\\n\"%(100*dkbh_data[0]/dkbh_data[1],dkbh_data[0],dkbh_data[1]))\n",
    "\n",
    "# print(\"              IKAH: %.4f%% (%d/%d)\"%(100*ikah_data[0]/ikah_data[1],ikah_data[0],ikah_data[1])) \n",
    "# print(\"              DKAH: %.4f%% (%d/%d)\\n\"%(100*dkah_data[0]/dkah_data[1],dkah_data[0],dkah_data[1])) \n",
    "\n",
    "# print(\"              IKBT: %.4f%% (%d/%d)\"%(100*ikbt_data[0]/ikbt_data[1],ikbt_data[0],ikbt_data[1])) \n",
    "# print(\"              DKBT: %.4f%% (%d/%d)\\n\"%(100*dkbt_data[0]/dkbt_data[1],dkbt_data[0],dkbt_data[1]))\n",
    "\n",
    "# print(\"              IKAT: %.4f%% (%d/%d)\"%(100*ikat_data[0]/ikat_data[1],ikat_data[0],ikat_data[1])) \n",
    "# print(\"              DKAT: %.4f%% (%d/%d)\\n\"%(100*dkat_data[0]/dkat_data[1],dkat_data[0],dkat_data[1])) "
   ]
  },
  {
   "cell_type": "code",
   "execution_count": null,
   "metadata": {},
   "outputs": [],
   "source": []
  },
  {
   "cell_type": "code",
   "execution_count": null,
   "metadata": {},
   "outputs": [],
   "source": []
  },
  {
   "cell_type": "code",
   "execution_count": null,
   "metadata": {},
   "outputs": [],
   "source": []
  }
 ],
 "metadata": {
  "kernelspec": {
   "display_name": "Python 3",
   "language": "python",
   "name": "python3"
  },
  "language_info": {
   "codemirror_mode": {
    "name": "ipython",
    "version": 3
   },
   "file_extension": ".py",
   "mimetype": "text/x-python",
   "name": "python",
   "nbconvert_exporter": "python",
   "pygments_lexer": "ipython3",
   "version": "3.7.3"
  }
 },
 "nbformat": 4,
 "nbformat_minor": 4
}
