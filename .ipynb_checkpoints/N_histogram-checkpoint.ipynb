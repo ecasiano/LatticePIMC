{
 "cells": [
  {
   "cell_type": "code",
   "execution_count": 6,
   "metadata": {},
   "outputs": [],
   "source": [
    "import numpy as np\n",
    "import matplotlib.pyplot as plt"
   ]
  },
  {
   "cell_type": "code",
   "execution_count": 7,
   "metadata": {},
   "outputs": [
    {
     "name": "stdout",
     "output_type": "stream",
     "text": [
      "4_4_1.0000_-2.4403_1.0000_1.0000_2000000_17_1D_gc_N_pre.dat\n",
      "4_4_1.0000_-2.4403_1.0000_1.0000_2000000_17_1D_gc_mu_pre.dat\n",
      "4_4_1.0000_-2.4403_1.0000_1.0000_500000_17_1D_can_K.dat\n",
      "4_4_1.0000_-2.4403_1.0000_1.0000_500000_17_1D_can_N.dat\n",
      "4_4_1.0000_-2.4403_1.0000_1.0000_500000_17_1D_can_V.dat\n",
      "4_4_1.0000_-2.4403_1.0000_1.0000_500000_17_1D_gc_N_pre.dat\n",
      "4_4_1.0000_-2.4403_1.0000_1.0000_500000_17_1D_gc_mu_pre.dat\n",
      "4_4_1.0000_-2.7515_1.0000_1.0000_5000000_17_1D_can_K.dat\n",
      "4_4_1.0000_-2.7515_1.0000_1.0000_5000000_17_1D_can_N.dat\n",
      "4_4_1.0000_-2.7515_1.0000_1.0000_5000000_17_1D_can_V.dat\n",
      "4_4_1.0000_-2.7515_1.0000_1.0000_5000000_17_1D_gc_N_pre.dat\n",
      "4_4_1.0000_-2.7515_1.0000_1.0000_5000000_17_1D_gc_mu_pre.dat\n",
      "4_4_1.0000_-2.7584_1.0000_1.0000_1000000_17_1D_can_K.dat\n",
      "4_4_1.0000_-2.7584_1.0000_1.0000_1000000_17_1D_can_N.dat\n",
      "4_4_1.0000_-2.7584_1.0000_1.0000_1000000_17_1D_can_V.dat\n",
      "4_4_1.0000_-2.7584_1.0000_1.0000_1000000_17_1D_gc_N_pre.dat\n",
      "4_4_1.0000_-2.7584_1.0000_1.0000_1000000_17_1D_gc_mu_pre.dat\n",
      "4_4_1.0000_-2.7584_1.0000_1.0000_4000000_17_1D_can_K.dat\n",
      "4_4_1.0000_-2.7584_1.0000_1.0000_4000000_17_1D_can_N.dat\n",
      "4_4_1.0000_-2.7584_1.0000_1.0000_4000000_17_1D_can_V.dat\n",
      "4_4_1.0000_-2.7584_1.0000_1.0000_4000000_17_1D_gc_N_pre.dat\n",
      "4_4_1.0000_-2.7584_1.0000_1.0000_4000000_17_1D_gc_mu_pre.dat\n",
      "4_4_1.0000_-2.7972_1.0000_1.0000_4000000_17_1D_can_K.dat\n",
      "4_4_1.0000_-2.7972_1.0000_1.0000_4000000_17_1D_can_N.dat\n",
      "4_4_1.0000_-2.7972_1.0000_1.0000_4000000_17_1D_can_V.dat\n",
      "4_4_1.0000_-2.7972_1.0000_1.0000_4000000_17_1D_gc_N_pre.dat\n",
      "4_4_1.0000_-2.7972_1.0000_1.0000_4000000_17_1D_gc_mu_pre.dat\n",
      "4_4_1.0000_10.0000_1.0000_1.0000_500000_17_1D_gc_N_pre.dat\n",
      "4_4_1.0000_10.0000_1.0000_1.0000_500000_17_1D_gc_mu_pre.dat\n",
      "9_9_1.0000_-3.2466_1.0000_1.0000_5000000_17_1D_can_K.dat\n",
      "9_9_1.0000_-3.2466_1.0000_1.0000_5000000_17_1D_can_N.dat\n",
      "9_9_1.0000_-3.2466_1.0000_1.0000_5000000_17_1D_can_V.dat\n",
      "9_9_1.0000_-3.2466_1.0000_1.0000_5000000_17_1D_gc_N_pre.dat\n",
      "9_9_1.0000_-3.2466_1.0000_1.0000_5000000_17_1D_gc_mu_pre.dat\n",
      "9_9_1.0000_-3.3196_1.0000_1.0000_5000000_17_1D_can_K.dat\n",
      "9_9_1.0000_-3.3196_1.0000_1.0000_5000000_17_1D_can_N.dat\n",
      "9_9_1.0000_-3.3196_1.0000_1.0000_5000000_17_1D_can_V.dat\n",
      "9_9_1.0000_-3.3196_1.0000_1.0000_5000000_17_1D_gc_N_pre.dat\n",
      "9_9_1.0000_-3.3196_1.0000_1.0000_5000000_17_1D_gc_mu_pre.dat\n",
      "\u001b[1m\u001b[36mData\u001b[m\u001b[m\n",
      "\u001b[1m\u001b[36mEnergyAtFixedInteraction\u001b[m\u001b[m\n",
      "\u001b[1m\u001b[36mEntanglement\u001b[m\u001b[m\n",
      "\u001b[1m\u001b[36mFigures\u001b[m\u001b[m\n",
      "\u001b[1m\u001b[36mHigherDimensionTestData\u001b[m\u001b[m\n",
      "N4_L4_1D_U1_t1_Z4pct_N10pct_beta1_M100000_nslices23_binPlot_K.pdf\n",
      "N4_L4_1D_U1_t1_Z4pct_N10pct_beta1_M100000_nslices23_binPlot_U.pdf\n",
      "N4_L4_1D_U1_t1_Z4pct_N10pct_beta1_M100000_nslices23_energyPlot_K.pdf\n",
      "N4_L4_1D_U1_t1_Z4pct_N10pct_beta1_M100000_nslices23_energyPlot_U.pdf\n",
      "\u001b[1m\u001b[36mNTargetDependenceMu\u001b[m\u001b[m\n",
      "N_calibration.pdf\n",
      "N_histogram.ipynb\n",
      "N_histogram.pdf\n",
      "\u001b[1m\u001b[36mNotebooks\u001b[m\u001b[m\n",
      "\u001b[1m\u001b[36mNotes\u001b[m\u001b[m\n",
      "\u001b[1m\u001b[36mNumpaPIMC\u001b[m\u001b[m\n",
      "\u001b[1m\u001b[36mTauSliceComparison\u001b[m\u001b[m\n",
      "\u001b[1m\u001b[36m__pycache__\u001b[m\u001b[m\n",
      "hello.py\n",
      "main.py\n",
      "output.prof\n",
      "pimc.py\n",
      "quick_beta_scaling.ipynb\n",
      "tau_slice_sweep.ipynb\n",
      "tau_slice_sweep.py\n",
      "\u001b[1m\u001b[36mtruncexpon_old_way\u001b[m\u001b[m\n",
      "worldline.pdf\n"
     ]
    }
   ],
   "source": [
    "!ls"
   ]
  },
  {
   "cell_type": "code",
   "execution_count": 8,
   "metadata": {},
   "outputs": [
    {
     "name": "stderr",
     "output_type": "stream",
     "text": [
      "/Users/ecasiano/opt/anaconda3/lib/python3.7/site-packages/ipykernel_launcher.py:2: UserWarning: loadtxt: Empty input file: \"9_9_1.0000_-3.2466_1.0000_1.0000_5000000_17_1D_can_N.dat\"\n",
      "  \n"
     ]
    }
   ],
   "source": [
    "N_file = \"9_9_1.0000_-3.2466_1.0000_1.0000_5000000_17_1D_can_N.dat\"\n",
    "N_data = np.loadtxt(N_file)\n",
    "N_data = np.round(N_data).astype(int) # Round the entries because of numerical precision error\n",
    "\n",
    "# Extract parameters\n",
    "N = float(N_file.split(\"_\")[1]) # \n",
    "U = float(N_file.split(\"_\")[2]) # \n",
    "mu_gc = N_file.split(\"_\")[3] # Grand canonical chemical potential\n",
    "mu_gc = float(mu_gc.replace('\\U00002013', '-')) # Convert string with negative to floar\n",
    "beta = float(N_file.split(\"_\")[5]) # \n",
    "sweeps = float(N_file.split(\"_\")[6]) # "
   ]
  },
  {
   "cell_type": "code",
   "execution_count": 9,
   "metadata": {},
   "outputs": [
    {
     "ename": "ValueError",
     "evalue": "zero-size array to reduction operation minimum which has no identity",
     "output_type": "error",
     "traceback": [
      "\u001b[0;31m---------------------------------------------------------------------------\u001b[0m",
      "\u001b[0;31mValueError\u001b[0m                                Traceback (most recent call last)",
      "\u001b[0;32m<ipython-input-9-b1e16edfbe34>\u001b[0m in \u001b[0;36m<module>\u001b[0;34m\u001b[0m\n\u001b[0;32m----> 1\u001b[0;31m \u001b[0mbins\u001b[0m \u001b[0;34m=\u001b[0m \u001b[0mnp\u001b[0m\u001b[0;34m.\u001b[0m\u001b[0mlinspace\u001b[0m\u001b[0;34m(\u001b[0m\u001b[0mN_data\u001b[0m\u001b[0;34m.\u001b[0m\u001b[0mmin\u001b[0m\u001b[0;34m(\u001b[0m\u001b[0;34m)\u001b[0m\u001b[0;34m,\u001b[0m\u001b[0mN_data\u001b[0m\u001b[0;34m.\u001b[0m\u001b[0mmax\u001b[0m\u001b[0;34m(\u001b[0m\u001b[0;34m)\u001b[0m\u001b[0;34m+\u001b[0m\u001b[0;36m1\u001b[0m\u001b[0;34m,\u001b[0m\u001b[0mlen\u001b[0m\u001b[0;34m(\u001b[0m\u001b[0mnp\u001b[0m\u001b[0;34m.\u001b[0m\u001b[0munique\u001b[0m\u001b[0;34m(\u001b[0m\u001b[0mN_data\u001b[0m\u001b[0;34m)\u001b[0m\u001b[0;34m)\u001b[0m\u001b[0;34m+\u001b[0m\u001b[0;36m1\u001b[0m\u001b[0;34m)\u001b[0m\u001b[0;34m\u001b[0m\u001b[0;34m\u001b[0m\u001b[0m\n\u001b[0m\u001b[1;32m      2\u001b[0m \u001b[0mN_histogram\u001b[0m \u001b[0;34m=\u001b[0m \u001b[0mnp\u001b[0m\u001b[0;34m.\u001b[0m\u001b[0mhistogram\u001b[0m\u001b[0;34m(\u001b[0m\u001b[0mN_data\u001b[0m\u001b[0;34m,\u001b[0m\u001b[0mbins\u001b[0m\u001b[0;34m=\u001b[0m\u001b[0mbins\u001b[0m\u001b[0;34m)\u001b[0m\u001b[0;34m\u001b[0m\u001b[0;34m\u001b[0m\u001b[0m\n\u001b[1;32m      3\u001b[0m \u001b[0mN_histogram\u001b[0m\u001b[0;34m\u001b[0m\u001b[0;34m\u001b[0m\u001b[0m\n",
      "\u001b[0;32m~/opt/anaconda3/lib/python3.7/site-packages/numpy/core/_methods.py\u001b[0m in \u001b[0;36m_amin\u001b[0;34m(a, axis, out, keepdims, initial, where)\u001b[0m\n\u001b[1;32m     32\u001b[0m def _amin(a, axis=None, out=None, keepdims=False,\n\u001b[1;32m     33\u001b[0m           initial=_NoValue, where=True):\n\u001b[0;32m---> 34\u001b[0;31m     \u001b[0;32mreturn\u001b[0m \u001b[0mumr_minimum\u001b[0m\u001b[0;34m(\u001b[0m\u001b[0ma\u001b[0m\u001b[0;34m,\u001b[0m \u001b[0maxis\u001b[0m\u001b[0;34m,\u001b[0m \u001b[0;32mNone\u001b[0m\u001b[0;34m,\u001b[0m \u001b[0mout\u001b[0m\u001b[0;34m,\u001b[0m \u001b[0mkeepdims\u001b[0m\u001b[0;34m,\u001b[0m \u001b[0minitial\u001b[0m\u001b[0;34m,\u001b[0m \u001b[0mwhere\u001b[0m\u001b[0;34m)\u001b[0m\u001b[0;34m\u001b[0m\u001b[0;34m\u001b[0m\u001b[0m\n\u001b[0m\u001b[1;32m     35\u001b[0m \u001b[0;34m\u001b[0m\u001b[0m\n\u001b[1;32m     36\u001b[0m def _sum(a, axis=None, dtype=None, out=None, keepdims=False,\n",
      "\u001b[0;31mValueError\u001b[0m: zero-size array to reduction operation minimum which has no identity"
     ]
    }
   ],
   "source": [
    "bins = np.linspace(N_data.min(),N_data.max()+1,len(np.unique(N_data))+1)\n",
    "N_histogram = np.histogram(N_data,bins=bins)\n",
    "N_histogram"
   ]
  },
  {
   "cell_type": "code",
   "execution_count": 5,
   "metadata": {},
   "outputs": [
    {
     "data": {
      "image/png": "[encoded data removed]",
      "text/plain": [
       "<Figure size 432x288 with 1 Axes>"
      ]
     },
     "metadata": {
      "needs_background": "light"
     },
     "output_type": "display_data"
    }
   ],
   "source": [
    "fig, ax = plt.subplots(1, 1)\n",
    "ax.plot(N_histogram[1][:-1],N_histogram[0]/sum(N_histogram[0]),marker='o',alpha=0.9)\n",
    "ax.hist(N_data,bins=bins,density=True,histtype='stepfilled',alpha=0.45,align='left') ;\n",
    "#ax.axvline(2)\n",
    "# xticks = np.linspace(N_data.min(),N_data.max(),dtype=int)\n",
    "# ax.set_xticks(xticks);\n",
    "ax.set_xlabel(r'$N$')\n",
    "ax.set_ylabel(r'$P(N)$')\n",
    "ax.annotate(r'$N=%d$'%(N),xy=(0.13,0.80),xycoords='figure fraction')\n",
    "ax.annotate(r'$U=%.4f$'%(U),xy=(0.13,0.75),xycoords='figure fraction')\n",
    "ax.annotate(r'$\\mu_{\\rm{gc}}=%.4f$'%(mu_gc),xy=(0.13,0.70),xycoords='figure fraction')\n",
    "ax.annotate(r'$\\beta=%.4f$'%(beta),xy=(0.13,0.65),xycoords='figure fraction')\n",
    "ax.annotate(r'$\\rm{sweeps}=%.1E$'%(sweeps),xy=(0.13,0.60),xycoords='figure fraction')\n",
    "plt.savefig('%d_%.4f_%.4f_%.4f_%d_Nhist.pdf'%(N,U,mu_gc,beta,sweeps))"
   ]
  },
  {
   "cell_type": "markdown",
   "metadata": {},
   "source": [
    "### Determining chemical potential"
   ]
  },
  {
   "cell_type": "markdown",
   "metadata": {},
   "source": [
    "# $\\mu(N) = \\mu_{\\rm{gc}} - \\frac{1}{\\beta} \\log{\\frac{P(N+1)}{P(N)}}$\n",
    "\n",
    "We'll try to find the chemical potential $\\mu(N)$ for which number of particles is equal to $N=9$."
   ]
  },
  {
   "cell_type": "code",
   "execution_count": 138,
   "metadata": {},
   "outputs": [
    {
     "name": "stdout",
     "output_type": "stream",
     "text": [
      "P(N) is Normalized!\n"
     ]
    }
   ],
   "source": [
    "P_N = (N_histogram[0]/sum(N_histogram[0]))\n",
    "N = bins.astype(int)\n",
    "if np.sum(P_N) == 1: print(\"P(N) is Normalized!\")"
   ]
  },
  {
   "cell_type": "code",
   "execution_count": 141,
   "metadata": {},
   "outputs": [],
   "source": [
    "def mu(P_N,N,N_target,mu_gc,beta):\n",
    "    \n",
    "    N_idx = np.where(N==N_target)[0][0]\n",
    "               \n",
    "    return mu_gc - (1/beta)*np.log(P_N[N_idx+1]/P_N[N_idx])\n",
    "\n",
    "    #return np.log(P_N[N_idx+1]/P_N[N_idx])"
   ]
  },
  {
   "cell_type": "code",
   "execution_count": 142,
   "metadata": {},
   "outputs": [
    {
     "data": {
      "text/plain": [
       "-2.434930088621099"
      ]
     },
     "execution_count": 142,
     "metadata": {},
     "output_type": "execute_result"
    }
   ],
   "source": [
    "mu(P_N,N,4,mu_gc,beta)"
   ]
  },
  {
   "cell_type": "code",
   "execution_count": 125,
   "metadata": {},
   "outputs": [
    {
     "data": {
      "text/plain": [
       "0.07814330176366253"
      ]
     },
     "execution_count": 125,
     "metadata": {},
     "output_type": "execute_result"
    }
   ],
   "source": [
    "P_N[5]"
   ]
  },
  {
   "cell_type": "code",
   "execution_count": 101,
   "metadata": {},
   "outputs": [
    {
     "data": {
      "text/plain": [
       "-2.2993623939073773"
      ]
     },
     "execution_count": 101,
     "metadata": {},
     "output_type": "execute_result"
    }
   ],
   "source": [
    "mu_gc - (1/beta)*np.log(P_N[5]/P_N[4])"
   ]
  },
  {
   "cell_type": "code",
   "execution_count": null,
   "metadata": {},
   "outputs": [],
   "source": []
  },
  {
   "cell_type": "code",
   "execution_count": null,
   "metadata": {},
   "outputs": [],
   "source": []
  }
 ],
 "metadata": {
  "kernelspec": {
   "display_name": "Python 3",
   "language": "python",
   "name": "python3"
  },
  "language_info": {
   "codemirror_mode": {
    "name": "ipython",
    "version": 3
   },
   "file_extension": ".py",
   "mimetype": "text/x-python",
   "name": "python",
   "nbconvert_exporter": "python",
   "pygments_lexer": "ipython3",
   "version": "3.7.6"
  }
 },
 "nbformat": 4,
 "nbformat_minor": 4
}
