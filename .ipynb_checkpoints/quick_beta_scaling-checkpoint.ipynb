{
 "cells": [
  {
   "cell_type": "code",
   "execution_count": 20,
   "metadata": {},
   "outputs": [],
   "source": [
    "import numpy as np\n",
    "import matplotlib.pyplot as plt"
   ]
  },
  {
   "cell_type": "code",
   "execution_count": 21,
   "metadata": {},
   "outputs": [
    {
     "ename": "TypeError",
     "evalue": "list() takes at most 1 argument (2 given)",
     "output_type": "error",
     "traceback": [
      "\u001b[0;31m---------------------------------------------------------------------------\u001b[0m",
      "\u001b[0;31mTypeError\u001b[0m                                 Traceback (most recent call last)",
      "\u001b[0;32m<ipython-input-21-40842049d416>\u001b[0m in \u001b[0;36m<module>\u001b[0;34m\u001b[0m\n\u001b[1;32m      1\u001b[0m \u001b[0mE\u001b[0m \u001b[0;34m=\u001b[0m \u001b[0;34m[\u001b[0m\u001b[0;34m]\u001b[0m\u001b[0;34m\u001b[0m\u001b[0;34m\u001b[0m\u001b[0m\n\u001b[0;32m----> 2\u001b[0;31m \u001b[0mbeta\u001b[0m \u001b[0;34m=\u001b[0m \u001b[0mlist\u001b[0m\u001b[0;34m(\u001b[0m\u001b[0;36m1\u001b[0m\u001b[0;34m,\u001b[0m\u001b[0mrange\u001b[0m\u001b[0;34m(\u001b[0m\u001b[0;36m9\u001b[0m\u001b[0;34m)\u001b[0m\u001b[0;34m[\u001b[0m\u001b[0;34m:\u001b[0m\u001b[0;34m:\u001b[0m\u001b[0;36m2\u001b[0m\u001b[0;34m]\u001b[0m\u001b[0;34m)\u001b[0m\u001b[0;34m\u001b[0m\u001b[0;34m\u001b[0m\u001b[0m\n\u001b[0m",
      "\u001b[0;31mTypeError\u001b[0m: list() takes at most 1 argument (2 given)"
     ]
    }
   ],
   "source": [
    "E = []\n",
    "beta = list(1,range(9)[::2])"
   ]
  },
  {
   "cell_type": "code",
   "execution_count": null,
   "metadata": {},
   "outputs": [],
   "source": [
    "# beta = 1\n",
    "K_raw = np.loadtxt(\"Data/4_4_10.0000_1.8000_1.0000_1.0000_500000000_0_canK.dat\")\n",
    "V_raw = np.loadtxt(\"Data/4_4_10.0000_1.8000_1.0000_1.0000_500000000_0_canV.dat\")+1.8*5\n",
    "\n",
    "K_raw = np.vstack((K_raw, np.loadtxt(\"Data/4_4_10.0000_2.5000_1.0000_1.0000_500000000_1968_canK.dat\")))\n",
    "V_raw = np.vstack((V_raw, np.loadtxt(\"Data/4_4_10.0000_2.5000_1.0000_1.0000_500000000_1968_canV.dat\")+4*2.5))\n",
    "\n",
    "K_raw = np.vstack((K_raw, np.loadtxt(\"Data/4_4_10.0000_3.3000_1.0000_1.0000_500000000_17_canK.dat\")))\n",
    "V_raw = np.vstack((V_raw, np.loadtxt(\"Data/4_4_10.0000_3.3000_1.0000_1.0000_500000000_17_canV.dat\")+4*3.3))\n",
    "\n",
    "K_raw = np.vstack((K_raw, np.loadtxt(\"Data/4_4_10.0000_1.8000_1.0000_1.0000_500000000_326_canK.dat\")))\n",
    "V_raw = np.vstack((V_raw, np.loadtxt(\"Data/4_4_10.0000_1.8000_1.0000_1.0000_500000000_326_canV.dat\")+4*1.8))\n",
    "\n",
    "E_raw = K_raw + V_raw\n",
    "E.append(np.mean(E_raw[10]))\n",
    "\n",
    "# beta = 3\n",
    "K_raw = np.loadtxt(\"Data/4_4_10.0000_2.4000_1.0000_3.0000_500000000_0_canK.dat\")\n",
    "V_raw = np.loadtxt(\"Data/4_4_10.0000_2.4000_1.0000_3.0000_500000000_0_canV.dat\")+2.4*5\n",
    "\n",
    "K_raw = np.vstack((K_raw, np.loadtxt(\"Data/4_4_10.0000_2.2000_1.0000_3.0000_500000000_17_canK.dat\")))\n",
    "V_raw = np.vstack((V_raw, np.loadtxt(\"Data/4_4_10.0000_2.2000_1.0000_3.0000_500000000_17_canV.dat\")+4*2.2))\n",
    "\n",
    "K_raw = np.vstack((K_raw, np.loadtxt(\"Data/4_4_10.0000_2.1000_1.0000_3.0000_500000000_326_canK.dat\")))\n",
    "V_raw = np.vstack((V_raw, np.loadtxt(\"Data/4_4_10.0000_2.1000_1.0000_3.0000_500000000_326_canV.dat\")+4*2.1))\n",
    "\n",
    "K_raw = np.vstack((K_raw, np.loadtxt(\"Data/4_4_10.0000_2.1000_1.0000_3.0000_500000000_1968_canK.dat\")))\n",
    "V_raw = np.vstack((V_raw, np.loadtxt(\"Data/4_4_10.0000_2.1000_1.0000_3.0000_500000000_1968_canV.dat\")+4*2.1))\n",
    "\n",
    "E_raw = K_raw + V_raw\n",
    "E.append(np.mean(E_raw[10]))\n",
    "\n",
    "# beta = 5\n",
    "K_raw = np.loadtxt(\"Data/4_4_10.0000_2.0000_1.0000_5.0000_500000000_1968_canK.dat\")\n",
    "V_raw = np.loadtxt(\"Data/4_4_10.0000_2.0000_1.0000_5.0000_500000000_1968_canV.dat\")+2.0*5\n",
    "\n",
    "K_raw = np.vstack((K_raw, np.loadtxt(\"Data/4_4_10.0000_2.0000_1.0000_5.0000_500000000_326_canK.dat\")))\n",
    "V_raw = np.vstack((V_raw, np.loadtxt(\"Data/4_4_10.0000_2.0000_1.0000_5.0000_500000000_326_canV.dat\")+4*2.0))\n",
    "\n",
    "K_raw = np.vstack((K_raw, np.loadtxt(\"Data/4_4_10.0000_2.1000_1.0000_5.0000_500000000_0_canK.dat\")))\n",
    "V_raw = np.vstack((V_raw, np.loadtxt(\"Data/4_4_10.0000_2.1000_1.0000_5.0000_500000000_0_canV.dat\")+4*2.1))\n",
    "\n",
    "K_raw = np.vstack((K_raw, np.loadtxt(\"Data/4_4_10.0000_2.3000_1.0000_5.0000_500000000_17_canK.dat\")))\n",
    "V_raw = np.vstack((V_raw, np.loadtxt(\"Data/4_4_10.0000_2.3000_1.0000_5.0000_500000000_17_canV.dat\")+4*2.3))\n",
    "\n",
    "E_raw = K_raw + V_raw\n",
    "E.append(np.mean(E_raw[10]))\n",
    "\n",
    "# beta = 7\n",
    "K_raw = np.loadtxt(\"Data/4_4_10.0000_1.8000_1.0000_7.0000_500000000_0_canK.dat\")\n",
    "V_raw = np.loadtxt(\"Data/4_4_10.0000_1.8000_1.0000_7.0000_500000000_0_canV.dat\")+1.8*5\n",
    "\n",
    "K_raw = np.vstack((K_raw, np.loadtxt(\"Data/4_4_10.0000_1.8000_1.0000_7.0000_500000000_1968_canK.dat\")))\n",
    "V_raw = np.vstack((V_raw, np.loadtxt(\"Data/4_4_10.0000_1.8000_1.0000_7.0000_500000000_1968_canV.dat\")+4*1.8))\n",
    "\n",
    "K_raw = np.vstack((K_raw, np.loadtxt(\"Data/4_4_10.0000_2.0000_1.0000_7.0000_500000000_17_canK.dat\")))\n",
    "V_raw = np.vstack((V_raw, np.loadtxt(\"Data/4_4_10.0000_2.0000_1.0000_7.0000_500000000_17_canV.dat\")+4*2.0))\n",
    "\n",
    "K_raw = np.vstack((K_raw, np.loadtxt(\"Data/4_4_10.0000_2.1000_1.0000_7.0000_500000000_326_canK.dat\")))\n",
    "V_raw = np.vstack((V_raw, np.loadtxt(\"Data/4_4_10.0000_2.1000_1.0000_7.0000_500000000_326_canV.dat\")+4*2.1))\n",
    "\n",
    "E_raw = K_raw + V_raw\n",
    "E.append(np.mean(E_raw[10]))"
   ]
  },
  {
   "cell_type": "code",
   "execution_count": null,
   "metadata": {},
   "outputs": [],
   "source": [
    "beta"
   ]
  },
  {
   "cell_type": "code",
   "execution_count": null,
   "metadata": {},
   "outputs": [],
   "source": [
    "# Plot total energy as function of tau slices\n",
    "fig, ax3 = plt.subplots()\n",
    "ax3.plot(beta,E,'-',label='beta=4')\n",
    "ax3.axhline(-1.70739753724840,color='#666666')\n",
    "ax3.set_ylabel(r'$\\langle E \\rangle /t$')\n",
    "ax3.set_xlabel(r'$\\tau/\\beta$')\n",
    "ax3.set_xticks(np.linspace(0,beta,n_slices)[1:-1][::10])\n",
    "ax3.tick_params(axis='both',which='both',right=False,top=False,labelright=False,direction='in')\n",
    "plt.legend()"
   ]
  },
  {
   "cell_type": "code",
   "execution_count": null,
   "metadata": {},
   "outputs": [],
   "source": []
  }
 ],
 "metadata": {
  "kernelspec": {
   "display_name": "Python 3",
   "language": "python",
   "name": "python3"
  },
  "language_info": {
   "codemirror_mode": {
    "name": "ipython",
    "version": 3
   },
   "file_extension": ".py",
   "mimetype": "text/x-python",
   "name": "python",
   "nbconvert_exporter": "python",
   "pygments_lexer": "ipython3",
   "version": "3.6.8"
  }
 },
 "nbformat": 4,
 "nbformat_minor": 4
}
