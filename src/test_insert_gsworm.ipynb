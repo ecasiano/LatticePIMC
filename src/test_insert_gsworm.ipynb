{
 "cells": [
  {
   "cell_type": "markdown",
   "metadata": {},
   "source": [
    "# Ground state (edge) insert worm"
   ]
  },
  {
   "cell_type": "code",
   "execution_count": 1,
   "metadata": {},
   "outputs": [],
   "source": [
    "import numpy as np\n",
    "import bisect\n",
    "import matplotlib.pyplot as plt\n",
    "import pimc # custom module\n",
    "from scipy.stats import truncexpon\n",
    "from scipy.integrate import quad, simps"
   ]
  },
  {
   "cell_type": "markdown",
   "metadata": {},
   "source": [
    "### Simulation parameters"
   ]
  },
  {
   "cell_type": "code",
   "execution_count": 2,
   "metadata": {},
   "outputs": [],
   "source": [
    "# Simulation parameters\n",
    "N = 4\n",
    "L = N   # half-filling\n",
    "t = 0\n",
    "U = 1\n",
    "mu = -0.1\n",
    "    \n",
    "# PIMC parameters\n",
    "beta = 1\n",
    "eta = 1/np.sqrt(L*beta)      # worm end fugacity"
   ]
  },
  {
   "cell_type": "markdown",
   "metadata": {},
   "source": [
    "### Create a worldline configuration "
   ]
  },
  {
   "cell_type": "code",
   "execution_count": 3,
   "metadata": {},
   "outputs": [
    {
     "data": {
      "image/png": "[encoded data removed]",
      "text/plain": [
       "<Figure size 432x288 with 1 Axes>"
      ]
     },
     "metadata": {
      "needs_background": "light"
     },
     "output_type": "display_data"
    }
   ],
   "source": [
    "# Create a worldline configuration\n",
    "alpha = [2,2,2,2]\n",
    "data_struct = pimc.create_data_struct(alpha)\n",
    "head_loc = []\n",
    "tail_loc = []\n",
    "pimc.view_worldlines(data_struct,beta,figure_name=None)"
   ]
  },
  {
   "cell_type": "markdown",
   "metadata": {},
   "source": [
    "### Insert a worm or antiworm from $\\tau=0$"
   ]
  },
  {
   "cell_type": "code",
   "execution_count": 7,
   "metadata": {},
   "outputs": [
    {
     "name": "stdout",
     "output_type": "stream",
     "text": [
      "p_type =  0.5\n",
      "p_wormend =  1\n",
      "R =  5.656854249492381\n"
     ]
    },
    {
     "data": {
      "image/png": "[encoded data removed]",
      "text/plain": [
       "<Figure size 432x288 with 1 Axes>"
      ]
     },
     "metadata": {
      "needs_background": "light"
     },
     "output_type": "display_data"
    },
    {
     "name": "stdout",
     "output_type": "stream",
     "text": [
      "head_loc:  [0, 1]\n",
      "tail_loc:  []\n",
      "tau =  0.13559909808845194\n"
     ]
    }
   ],
   "source": [
    "# Create a worldline configuration\n",
    "alpha = [1,1,1,1]\n",
    "data_struct = pimc.create_data_struct(alpha)\n",
    "head_loc = []\n",
    "tail_loc = []\n",
    "\n",
    "pimc.insert_gsworm_zero(data_struct,beta,head_loc,tail_loc,U,mu,eta)\n",
    "\n",
    "pimc.view_worldlines(data_struct,beta,figure_name=None)\n",
    "print(\"head_loc: \",head_loc)\n",
    "print(\"tail_loc: \",tail_loc)\n",
    "\n",
    "#[time,N,(src,dest)]\n",
    "if head_loc != [] and tail_loc == []: # worm\n",
    "    tau = data_struct[head_loc[0]][head_loc[1]][0]\n",
    "else: # antiworm\n",
    "    tau = data_struct[tail_loc[0]][tail_loc[1]][0]\n",
    "\n",
    "print(\"tau = \", tau)"
   ]
  },
  {
   "cell_type": "code",
   "execution_count": 5,
   "metadata": {},
   "outputs": [],
   "source": [
    "# Do insert many times on the above configuration\n",
    "mc_steps = int(1E+05)\n",
    "worm_lengths = np.zeros(mc_steps)  # create array to save worm lengths\n",
    " \n",
    "for m in range(mc_steps):\n",
    "    \n",
    "    pimc.insert_gsworm_zero(data_struct,beta,head_loc,tail_loc,U,mu,eta)\n",
    "\n",
    "    #[time,N,(src,dest)]\n",
    "    if head_loc != [] and tail_loc == []: # worm\n",
    "        tau = data_struct[head_loc[0]][head_loc[1]][0]\n",
    "    else: # antiworm\n",
    "        tau = data_struct[tail_loc[0]][tail_loc[1]][0]\n",
    "        \n",
    "    worm_lengths[m] = tau\n",
    "        \n",
    "    if m == mc_steps - 1: break\n",
    "    \n",
    "    #pimc.view_worldlines(data_struct,beta,figure_name=None)\n",
    "    \n",
    "    # Create a worldline configuration\n",
    "    alpha = [2,2,2,2]\n",
    "    data_struct = pimc.create_data_struct(alpha)\n",
    "    head_loc = []\n",
    "    tail_loc = []"
   ]
  },
  {
   "cell_type": "code",
   "execution_count": 6,
   "metadata": {},
   "outputs": [
    {
     "name": "stdout",
     "output_type": "stream",
     "text": [
      "scale:  0.9090909090909091\n"
     ]
    }
   ],
   "source": [
    "# Histogram of worm lengths\n",
    "b = beta\n",
    "loc = 0\n",
    "\n",
    "# Calculate change in diagonal energy after/before worm end (need this for scale)\n",
    "if head_loc != [] and tail_loc == []: # worm\n",
    "    x = head_loc[0]\n",
    "    k = head_loc[1]\n",
    "    n_f = data_struct[x][k][1]       # particles after head\n",
    "    n_o = data_struct[x][k-1][1]     # particles before head\n",
    "    dV = (U/2)*(n_o*(n_o-1)-n_f*(n_f-1)) - mu*(n_o-n_f)\n",
    "else: # antiworm\n",
    "    x = tail_loc[0]\n",
    "    k = tail_loc[1]\n",
    "    n_f = data_struct[x][k][1]       # particles after tail\n",
    "    n_o = data_struct[x][k-1][1]     # particles before tail\n",
    "    dV = (U/2)*(n_f*(n_f-1)-n_o*(n_o-1)) - mu*(n_f-n_o)\n",
    "\n",
    "scale = 1/abs(dV)\n",
    "print(\"scale: \",scale)\n",
    "# Generate truncated exponential distribution of worm lengths\n",
    "tau_w = np.linspace(0,beta,int(1E+02+1))                    # worm lengths\n",
    "tau_w = (tau_w[1:]+tau_w[0:-1])/2    \n",
    "#[time,N,(src,dest)]\n",
    "if head_loc != [] and tail_loc == []: # worm\n",
    "    pdf = truncexpon.pdf(tau_w,b=b/scale,loc=loc,scale=scale)\n",
    "else: # antiworm\n",
    "    pdf = truncexpon.pdf(-tau_w+b,b=b/scale,loc=loc,scale=scale)\n",
    "\n",
    "# Rescale & normalize the truncated exponential pdf\n",
    "#if tau_t < tau_h:\n",
    "#    pdf *= (beta-tau_w)     # worm\n",
    "#else:\n",
    "#    pdf *= (tau_w)           # antiworm?\n",
    "pdf /= simps(pdf,tau_w)\n",
    "\n",
    "#pdf_1 = pdf*(beta-tau_w)\n",
    "#pdf_1 /= simps(pdf_1,tau_w)\n",
    "#pdf_2 = pdf*(tau_w)\n",
    "#pdf_2 /= simps(pdf_2,tau_w)\n",
    "#pdf_3 = ( pdf_1  + pdf_2 ) / simps(pdf_1+pdf_2,tau_w)\n",
    "\n",
    "# Sampled worm lengths\n",
    "n, bins = np.histogram(worm_lengths, bins=tau_w, density=1) # for histogram"
   ]
  },
  {
   "cell_type": "code",
   "execution_count": 7,
   "metadata": {},
   "outputs": [
    {
     "data": {
      "image/png": "[encoded data removed]",
      "text/plain": [
       "<Figure size 432x288 with 1 Axes>"
      ]
     },
     "metadata": {
      "needs_background": "light"
     },
     "output_type": "display_data"
    }
   ],
   "source": [
    "# Plot\n",
    "fig, ax = plt.subplots(1, 1)\n",
    "ax.plot(tau_w,pdf,label='pdf',linestyle='None',marker='o')\n",
    "ax.hist(worm_lengths,bins=bins,density=True,histtype='stepfilled',alpha=1,label=r'$hist(\\vert\\tau_h-\\tau_t\\vert)$')\n",
    "ax.set_xlabel(r\"$\\vert \\tau_w \\vert $\") ;\n",
    "#ax.set_yscale(\"log\");\n",
    "plt.legend() ;\n",
    "#plt.savefig(\"antiworm_%d_%d_%.4f_%.4f_%.4f_%d.pdf\"%(L,N,U,mu,t,mc_steps))"
   ]
  },
  {
   "cell_type": "markdown",
   "metadata": {},
   "source": [
    "### Just a (slightly) more complex configuration"
   ]
  },
  {
   "cell_type": "code",
   "execution_count": 13,
   "metadata": {},
   "outputs": [
    {
     "data": {
      "image/png": "[encoded data removed]",
      "text/plain": [
       "<Figure size 432x288 with 1 Axes>"
      ]
     },
     "metadata": {
      "needs_background": "light"
     },
     "output_type": "display_data"
    },
    {
     "data": {
      "image/png": "[encoded data removed]",
      "text/plain": [
       "<Figure size 432x288 with 1 Axes>"
      ]
     },
     "metadata": {
      "needs_background": "light"
     },
     "output_type": "display_data"
    },
    {
     "name": "stdout",
     "output_type": "stream",
     "text": [
      "head_loc:  [3, 1]\n",
      "tail_loc:  [1, 1]\n"
     ]
    }
   ],
   "source": [
    "data_struct = []\n",
    "x1 = [[0,1,(0,0)],[0.2,0,(0,1)],[0.8,1,(1,0)]]\n",
    "x2 = [[0,1,(1,1)],[0.2,2,(0,1)],[0.8,1,(1,0)]]\n",
    "x3 = [[0,1,(2,2)],[0.6,2,(3,2)]]\n",
    "x4 = [[0,1,(3,3)],[0.6,0,(3,2)]]\n",
    "data_struct.append(x1)\n",
    "data_struct.append(x2)\n",
    "data_struct.append(x3)\n",
    "data_struct.append(x4)\n",
    "pimc.view_worldlines(data_struct,beta,figure_name=None)\n",
    "\n",
    "head_loc = []\n",
    "tail_loc = []\n",
    "\n",
    "pimc.insert_gsworm_zero(data_struct,beta,head_loc,tail_loc,U,mu,eta)\n",
    "pimc.insert_gsworm_zero(data_struct,beta,head_loc,tail_loc,U,mu,eta)\n",
    "\n",
    "pimc.view_worldlines(data_struct,beta,figure_name=None)\n",
    "print(\"head_loc: \",head_loc)\n",
    "print(\"tail_loc: \",tail_loc)"
   ]
  },
  {
   "cell_type": "markdown",
   "metadata": {},
   "source": [
    "## Insert worm from $\\tau=\\beta$"
   ]
  },
  {
   "cell_type": "code",
   "execution_count": 5,
   "metadata": {},
   "outputs": [],
   "source": [
    "import numpy as np\n",
    "import bisect\n",
    "import matplotlib.pyplot as plt\n",
    "import pimc # custom module\n",
    "from scipy.stats import truncexpon\n",
    "from scipy.integrate import quad, simps"
   ]
  },
  {
   "cell_type": "code",
   "execution_count": 6,
   "metadata": {},
   "outputs": [],
   "source": [
    "# Simulation parameters\n",
    "N = 4\n",
    "L = N   # half-filling\n",
    "t = 0\n",
    "U = 1\n",
    "mu = -0.1\n",
    "    \n",
    "# PIMC parameters\n",
    "beta = 1\n",
    "eta = 1/np.sqrt(L*beta)      # worm end fugacity"
   ]
  },
  {
   "cell_type": "code",
   "execution_count": 7,
   "metadata": {},
   "outputs": [
    {
     "data": {
      "image/png": "[encoded data removed]",
      "text/plain": [
       "<Figure size 432x288 with 1 Axes>"
      ]
     },
     "metadata": {
      "needs_background": "light"
     },
     "output_type": "display_data"
    }
   ],
   "source": [
    "# Create a worldline configuration\n",
    "alpha = [2,2,2,2]\n",
    "data_struct = pimc.create_data_struct(alpha)\n",
    "head_loc = []\n",
    "tail_loc = []\n",
    "pimc.view_worldlines(data_struct,beta,figure_name=None)"
   ]
  },
  {
   "cell_type": "code",
   "execution_count": 9,
   "metadata": {},
   "outputs": [
    {
     "name": "stdout",
     "output_type": "stream",
     "text": [
      "p_type =  0.5\n",
      "p_wormend =  1\n",
      "R =  6.928203230275509\n"
     ]
    },
    {
     "data": {
      "image/png": "[encoded data removed]",
      "text/plain": [
       "<Figure size 432x288 with 1 Axes>"
      ]
     },
     "metadata": {
      "needs_background": "light"
     },
     "output_type": "display_data"
    },
    {
     "name": "stdout",
     "output_type": "stream",
     "text": [
      "head_loc:  []\n",
      "tail_loc:  [2, 1]\n",
      "tau =  0.904268797782879\n"
     ]
    }
   ],
   "source": [
    "# Create a worldline configuration\n",
    "alpha = [2,2,2,2]\n",
    "data_struct = pimc.create_data_struct(alpha)\n",
    "head_loc = []\n",
    "tail_loc = []\n",
    "\n",
    "pimc.insert_gsworm_beta(data_struct,beta,head_loc,tail_loc,U,mu,eta)\n",
    "\n",
    "pimc.view_worldlines(data_struct,beta,figure_name=None)\n",
    "print(\"head_loc: \",head_loc)\n",
    "print(\"tail_loc: \",tail_loc)\n",
    "\n",
    "#[time,N,(src,dest)]\n",
    "if head_loc != [] and tail_loc == []: # worm\n",
    "    tau = data_struct[head_loc[0]][head_loc[1]][0]\n",
    "else: # antiworm\n",
    "    tau = data_struct[tail_loc[0]][tail_loc[1]][0]\n",
    "\n",
    "print(\"tau = \", tau)"
   ]
  },
  {
   "cell_type": "code",
   "execution_count": 18,
   "metadata": {},
   "outputs": [],
   "source": [
    "# Do insert many times on the above configuration\n",
    "mc_steps = int(1E+05)\n",
    "#mc_steps = 5\n",
    "worm_lengths = np.zeros(mc_steps)  # create array to save worm lengths\n",
    " \n",
    "for m in range(mc_steps):\n",
    "    \n",
    "    pimc.insert_gsworm_beta(data_struct,beta,head_loc,tail_loc,U,mu,eta)\n",
    "\n",
    "    #[time,N,(src,dest)]\n",
    "    if head_loc != [] and tail_loc == []: # worm\n",
    "        tau = data_struct[head_loc[0]][head_loc[1]][0]\n",
    "    else: # antiworm\n",
    "        tau = data_struct[tail_loc[0]][tail_loc[1]][0]\n",
    "        \n",
    "    worm_lengths[m] = beta - tau\n",
    "        \n",
    "    #pimc.view_worldlines(data_struct,beta,figure_name=None)\n",
    "\n",
    "    if m == mc_steps - 1: break\n",
    "        \n",
    "    # Create a worldline configuration\n",
    "    alpha = [2,2,2,2]\n",
    "    data_struct = pimc.create_data_struct(alpha)\n",
    "    head_loc = []\n",
    "    tail_loc = []"
   ]
  },
  {
   "cell_type": "code",
   "execution_count": 19,
   "metadata": {},
   "outputs": [
    {
     "name": "stdout",
     "output_type": "stream",
     "text": [
      "scale:  0.47619047619047616\n",
      "Hi\n"
     ]
    }
   ],
   "source": [
    "# Histogram of worm lengths\n",
    "b = beta\n",
    "loc = 0\n",
    "\n",
    "# Calculate change in diagonal energy after/before worm end (need this for scale)\n",
    "if head_loc != [] and tail_loc == []: # antiworm\n",
    "    x = head_loc[0]\n",
    "    k = head_loc[1]\n",
    "    n_f = data_struct[x][k][1]       # particles after head\n",
    "    n_o = data_struct[x][k-1][1]     # particles before head\n",
    "    dV = (U/2)*(n_o*(n_o-1)-n_f*(n_f-1)) - mu*(n_o-n_f)\n",
    "else: # worm\n",
    "    x = tail_loc[0]\n",
    "    k = tail_loc[1]\n",
    "    n_f = data_struct[x][k][1]       # particles after tail\n",
    "    n_o = data_struct[x][k-1][1]     # particles before tail\n",
    "    dV = (U/2)*(n_f*(n_f-1)-n_o*(n_o-1)) - mu*(n_f-n_o)\n",
    "\n",
    "scale = 1/abs(dV)\n",
    "print(\"scale: \",scale)\n",
    "# Generate truncated exponential distribution of worm lengths\n",
    "tau_w = np.linspace(0,beta,int(1E+02+1))                    # worm lengths\n",
    "tau_w = (tau_w[1:]+tau_w[0:-1])/2    \n",
    "#[time,N,(src,dest)]\n",
    "if head_loc == [] and tail_loc != []: # worm\n",
    "    print(\"Hi\")\n",
    "    pdf = truncexpon.pdf(tau_w,b=b/scale,loc=loc,scale=scale)\n",
    "else: # antiworm\n",
    "    pdf = truncexpon.pdf(-tau_w+b,b=b/scale,loc=loc,scale=scale)\n",
    "\n",
    "# Rescale & normalize the truncated exponential pdf\n",
    "#if tau_t < tau_h:\n",
    "#    pdf *= (beta-tau_w)     # worm\n",
    "#else:\n",
    "#    pdf *= (tau_w)           # antiworm?\n",
    "pdf /= simps(pdf,tau_w)\n",
    "\n",
    "#pdf_1 = pdf*(beta-tau_w)\n",
    "#pdf_1 /= simps(pdf_1,tau_w)\n",
    "#pdf_2 = pdf*(tau_w)\n",
    "#pdf_2 /= simps(pdf_2,tau_w)\n",
    "#pdf_3 = ( pdf_1  + pdf_2 ) / simps(pdf_1+pdf_2,tau_w)\n",
    "\n",
    "# Sampled worm lengths\n",
    "n, bins = np.histogram(worm_lengths, bins=tau_w, density=1) # for histogram"
   ]
  },
  {
   "cell_type": "code",
   "execution_count": 20,
   "metadata": {},
   "outputs": [
    {
     "data": {
      "image/png": "[encoded data removed]",
      "text/plain": [
       "<Figure size 432x288 with 1 Axes>"
      ]
     },
     "metadata": {
      "needs_background": "light"
     },
     "output_type": "display_data"
    }
   ],
   "source": [
    "# Plot\n",
    "fig, ax = plt.subplots(1, 1)\n",
    "ax.plot(tau_w,pdf,label='pdf',linestyle='None',marker='o')\n",
    "ax.hist(worm_lengths,bins=bins,density=True,histtype='stepfilled',alpha=1,label=r'$hist(\\vert\\tau_h-\\tau_t\\vert)$')\n",
    "ax.set_xlabel(r\"$\\vert \\tau_w \\vert $\") ;\n",
    "#ax.set_yscale(\"log\");\n",
    "plt.legend() ;\n",
    "#plt.savefig(\"antiworm_%d_%d_%.4f_%.4f_%.4f_%d.pdf\"%(L,N,U,mu,t,mc_steps))"
   ]
  },
  {
   "cell_type": "markdown",
   "metadata": {},
   "source": [
    "### Slightly more complex configuration"
   ]
  },
  {
   "cell_type": "code",
   "execution_count": 7,
   "metadata": {},
   "outputs": [
    {
     "data": {
      "image/png": "[encoded data removed]",
      "text/plain": [
       "<Figure size 432x288 with 1 Axes>"
      ]
     },
     "metadata": {
      "needs_background": "light"
     },
     "output_type": "display_data"
    },
    {
     "data": {
      "image/png": "[encoded data removed]",
      "text/plain": [
       "<Figure size 432x288 with 1 Axes>"
      ]
     },
     "metadata": {
      "needs_background": "light"
     },
     "output_type": "display_data"
    },
    {
     "name": "stdout",
     "output_type": "stream",
     "text": [
      "head_loc:  [1, 3]\n",
      "tail_loc:  [0, 3]\n"
     ]
    }
   ],
   "source": [
    "data_struct = []\n",
    "x1 = [[0,1,(0,0)],[0.2,0,(0,1)],[0.8,1,(1,0)]]\n",
    "x2 = [[0,1,(1,1)],[0.2,2,(0,1)],[0.8,1,(1,0)]]\n",
    "x3 = [[0,1,(2,2)],[0.6,2,(3,2)]]\n",
    "x4 = [[0,1,(3,3)],[0.6,0,(3,2)]]\n",
    "data_struct.append(x1)\n",
    "data_struct.append(x2)\n",
    "data_struct.append(x3)\n",
    "data_struct.append(x4)\n",
    "pimc.view_worldlines(data_struct,beta,figure_name=None)\n",
    "\n",
    "head_loc = []\n",
    "tail_loc = []\n",
    "\n",
    "pimc.insert_gsworm_beta(data_struct,beta,head_loc,tail_loc,U,mu,eta)\n",
    "pimc.insert_gsworm_beta(data_struct,beta,head_loc,tail_loc,U,mu,eta)\n",
    "\n",
    "pimc.view_worldlines(data_struct,beta,figure_name=None)\n",
    "print(\"head_loc: \",head_loc)\n",
    "print(\"tail_loc: \",tail_loc)"
   ]
  },
  {
   "cell_type": "markdown",
   "metadata": {},
   "source": [
    "## Insert a worm end from $\\tau=0$ and the other from $\\tau=\\beta$"
   ]
  },
  {
   "cell_type": "code",
   "execution_count": 14,
   "metadata": {},
   "outputs": [
    {
     "data": {
      "image/png": "[encoded data removed]",
      "text/plain": [
       "<Figure size 432x288 with 1 Axes>"
      ]
     },
     "metadata": {
      "needs_background": "light"
     },
     "output_type": "display_data"
    },
    {
     "data": {
      "image/png": "[encoded data removed]",
      "text/plain": [
       "<Figure size 432x288 with 1 Axes>"
      ]
     },
     "metadata": {
      "needs_background": "light"
     },
     "output_type": "display_data"
    },
    {
     "name": "stdout",
     "output_type": "stream",
     "text": [
      "head_loc:  []\n",
      "tail_loc:  [2, 1, 1, 3]\n"
     ]
    }
   ],
   "source": [
    "data_struct = []\n",
    "x1 = [[0,1,(0,0)],[0.2,0,(0,1)],[0.8,1,(1,0)]]\n",
    "x2 = [[0,1,(1,1)],[0.2,2,(0,1)],[0.8,1,(1,0)]]\n",
    "x3 = [[0,1,(2,2)],[0.6,2,(3,2)]]\n",
    "x4 = [[0,1,(3,3)],[0.6,0,(3,2)]]\n",
    "data_struct.append(x1)\n",
    "data_struct.append(x2)\n",
    "data_struct.append(x3)\n",
    "data_struct.append(x4)\n",
    "pimc.view_worldlines(data_struct,beta,figure_name=None)\n",
    "\n",
    "head_loc = []\n",
    "tail_loc = []\n",
    "\n",
    "pimc.insert_gsworm_zero(data_struct,beta,head_loc,tail_loc,U,mu,eta)\n",
    "pimc.insert_gsworm_beta(data_struct,beta,head_loc,tail_loc,U,mu,eta)\n",
    "\n",
    "pimc.view_worldlines(data_struct,beta,figure_name=None)\n",
    "print(\"head_loc: \",head_loc)\n",
    "print(\"tail_loc: \",tail_loc)"
   ]
  },
  {
   "cell_type": "code",
   "execution_count": null,
   "metadata": {},
   "outputs": [],
   "source": []
  }
 ],
 "metadata": {
  "kernelspec": {
   "display_name": "Python 3",
   "language": "python",
   "name": "python3"
  },
  "language_info": {
   "codemirror_mode": {
    "name": "ipython",
    "version": 3
   },
   "file_extension": ".py",
   "mimetype": "text/x-python",
   "name": "python",
   "nbconvert_exporter": "python",
   "pygments_lexer": "ipython3",
   "version": "3.6.8"
  }
 },
 "nbformat": 4,
 "nbformat_minor": 4
}
