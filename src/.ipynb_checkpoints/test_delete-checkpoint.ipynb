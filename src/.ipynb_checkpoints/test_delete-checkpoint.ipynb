{
 "cells": [
  {
   "cell_type": "markdown",
   "metadata": {},
   "source": [
    "# Delete"
   ]
  },
  {
   "cell_type": "code",
   "execution_count": 7,
   "metadata": {},
   "outputs": [],
   "source": [
    "import numpy as np\n",
    "import bisect\n",
    "import matplotlib.pyplot as plt\n",
    "import pimc # custom module\n",
    "from scipy.stats import truncexpon\n",
    "from scipy.integrate import quad, simps"
   ]
  },
  {
   "cell_type": "markdown",
   "metadata": {},
   "source": [
    "### Simulation parameters"
   ]
  },
  {
   "cell_type": "code",
   "execution_count": 8,
   "metadata": {},
   "outputs": [],
   "source": [
    "# Simulation parameters\n",
    "N = 4\n",
    "L = N   # half-filling\n",
    "t = 0\n",
    "U = 3\n",
    "mu = -0.1\n",
    "    \n",
    "# PIMC parameters\n",
    "beta = 1\n",
    "eta = 1/np.sqrt(L*beta)      # worm end fugacity"
   ]
  },
  {
   "cell_type": "markdown",
   "metadata": {},
   "source": [
    "### Create a worldline configuration (with a worm)"
   ]
  },
  {
   "cell_type": "code",
   "execution_count": 18,
   "metadata": {},
   "outputs": [
    {
     "name": "stdout",
     "output_type": "stream",
     "text": [
      "head_loc:  [2, 2]\n",
      "tail_loc:  [2, 1]\n",
      "worm_length: 0.2500000000000000\n"
     ]
    },
    {
     "data": {
      "image/png": "[encoded data removed]",
      "text/plain": [
       "<Figure size 432x288 with 1 Axes>"
      ]
     },
     "metadata": {
      "needs_background": "light"
     },
     "output_type": "display_data"
    }
   ],
   "source": [
    "# Create a worldline configuration\n",
    "alpha = []\n",
    "for i in range(L):\n",
    "    alpha.append(2)\n",
    "data_struct = pimc.create_data_struct(alpha)\n",
    "head_loc = []\n",
    "tail_loc = []\n",
    "\n",
    "# Insert a worm or antiworm\n",
    "i = 2\n",
    "n_i = alpha[i]\n",
    "epsilon = np.finfo(float).eps\n",
    "\n",
    "# worm \n",
    "tau_h = beta - epsilon\n",
    "tau_h = beta/2\n",
    "tau_t = 0 + epsilon\n",
    "tau_t = beta/4\n",
    "\n",
    "# antiworm\n",
    "#tau_h = 0 + epsilon\n",
    "#tau_h = beta/4\n",
    "#tau_t = beta - epsilon\n",
    "#tau_t = beta/2\n",
    "\n",
    "if tau_t < tau_h:\n",
    "    data_struct[i].append([tau_t,n_i+1,(i,i)])\n",
    "    data_struct[i].append([tau_h,n_i,(i,i)])\n",
    "    tail_loc = [i,1]\n",
    "    head_loc = [i,2]\n",
    "else: # antiworm\n",
    "    data_struct[i].append([tau_h,n_i-1,(i,i)])\n",
    "    data_struct[i].append([tau_t,n_i,(i,i)]) \n",
    "    head_loc = [i,1]\n",
    "    tail_loc = [i,2]\n",
    "    \n",
    "print(\"head_loc: \",head_loc)\n",
    "print(\"tail_loc: \",tail_loc)\n",
    "print(\"worm_length: %.16f\"%(tau_h-tau_t))\n",
    "\n",
    "pimc.view_worldlines(data_struct,beta,figure_name=None)"
   ]
  },
  {
   "cell_type": "code",
   "execution_count": 19,
   "metadata": {},
   "outputs": [
    {
     "name": "stdout",
     "output_type": "stream",
     "text": [
      "R= 0.07407407407407407\n"
     ]
    },
    {
     "data": {
      "image/png": "[encoded data removed]",
      "text/plain": [
       "<Figure size 432x288 with 1 Axes>"
      ]
     },
     "metadata": {
      "needs_background": "light"
     },
     "output_type": "display_data"
    },
    {
     "name": "stdout",
     "output_type": "stream",
     "text": [
      "No worm or antiworm present.\n"
     ]
    }
   ],
   "source": [
    "pimc.worm_delete(data_struct, beta, head_loc, tail_loc, U, mu, eta)\n",
    "pimc.view_worldlines(data_struct,beta,figure_name=None)\n",
    "if head_loc == [] and tail_loc == []:\n",
    "    print(\"No worm or antiworm present.\")\n",
    "else:\n",
    "    print(\"Head time: %.16f\"%data_struct[head_loc[0]][head_loc[1]][0])\n",
    "    print(\"Tail time: %.16f\"%data_struct[tail_loc[0]][tail_loc[1]][0])"
   ]
  },
  {
   "cell_type": "code",
   "execution_count": null,
   "metadata": {},
   "outputs": [],
   "source": []
  }
 ],
 "metadata": {
  "kernelspec": {
   "display_name": "Python 3",
   "language": "python",
   "name": "python3"
  },
  "language_info": {
   "codemirror_mode": {
    "name": "ipython",
    "version": 3
   },
   "file_extension": ".py",
   "mimetype": "text/x-python",
   "name": "python",
   "nbconvert_exporter": "python",
   "pygments_lexer": "ipython3",
   "version": "3.6.8"
  }
 },
 "nbformat": 4,
 "nbformat_minor": 4
}
