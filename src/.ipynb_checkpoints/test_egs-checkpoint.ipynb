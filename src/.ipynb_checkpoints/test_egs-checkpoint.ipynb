{
 "cells": [
  {
   "cell_type": "markdown",
   "metadata": {},
   "source": [
    "### Compare theoretical and ground state energy at unit filling"
   ]
  },
  {
   "cell_type": "code",
   "execution_count": 18,
   "metadata": {},
   "outputs": [
    {
     "data": {
      "text/plain": [
       "<module 'pimc' from '/Users/ecasiano/Desktop/LatticePIMC/src/pimc.py'>"
      ]
     },
     "execution_count": 18,
     "metadata": {},
     "output_type": "execute_result"
    }
   ],
   "source": [
    "import numpy as np\n",
    "import bisect\n",
    "import matplotlib.pyplot as plt\n",
    "import pimc # custom module\n",
    "from scipy.stats import truncexpon\n",
    "from scipy.integrate import quad, simps\n",
    "import importlib\n",
    "importlib.reload(pimc)"
   ]
  },
  {
   "cell_type": "markdown",
   "metadata": {},
   "source": [
    "### Simulation parameters"
   ]
  },
  {
   "cell_type": "code",
   "execution_count": 19,
   "metadata": {},
   "outputs": [
    {
     "data": {
      "image/png": "[encoded data removed]",
      "text/plain": [
       "<Figure size 432x288 with 1 Axes>"
      ]
     },
     "metadata": {
      "needs_background": "light"
     },
     "output_type": "display_data"
    },
    {
     "data": {
      "text/plain": [
       "False"
      ]
     },
     "execution_count": 19,
     "metadata": {},
     "output_type": "execute_result"
    }
   ],
   "source": [
    "importlib.reload(pimc)\n",
    "# Simulation parameters\n",
    "t = 0\n",
    "U = 1\n",
    "mu = 0.1\n",
    "L = 4\n",
    "N = 4\n",
    "    \n",
    "# PIMC parameters\n",
    "beta = 1\n",
    "eta = 1      # worm end fugacity\n",
    "eta = 0.5/np.sqrt(L*beta)\n",
    "\n",
    "# Canonical or Grand Canonical?\n",
    "canonical = False # False means Grand Canonical\n",
    "\n",
    "# Create a random worldline configuration\n",
    "alpha = pimc.random_boson_config(L,N)\n",
    "alpha = [1,1,1,1]\n",
    "data_struct = pimc.create_data_struct(alpha)\n",
    "head_loc = []\n",
    "tail_loc = []\n",
    "pimc.view_worldlines(data_struct,beta,figure_name=None)"
   ]
  },
  {
   "cell_type": "markdown",
   "metadata": {},
   "source": [
    "### Do many iterations of the set of PIMC-WA updates"
   ]
  },
  {
   "cell_type": "code",
   "execution_count": 20,
   "metadata": {},
   "outputs": [],
   "source": [
    "importlib.reload(pimc)\n",
    "# Do insert many times on the above configuration\n",
    "data_struct = pimc.create_data_struct(alpha)\n",
    "head_loc = []\n",
    "tail_loc = []\n",
    "mc_steps = int(1E+05)\n",
    "egs_list = []\n",
    "n_list = []\n",
    "occ_list = []\n",
    "\n",
    "# Counters for acceptance of each move [acceptance,attempt]\n",
    "insert = 0\n",
    "delete = 0\n",
    "timeshift = 0\n",
    "insert_zero = 0\n",
    "delete_zero = 0\n",
    "insert_beta = 0\n",
    "delete_beta = 0\n",
    "for m in range(mc_steps):\n",
    "    \n",
    "    bool1 = pimc.worm_insert(data_struct,beta,head_loc,tail_loc,U,mu,eta,canonical,N) \n",
    "    bool2 = pimc.worm_delete(data_struct,beta,head_loc,tail_loc,U,mu,eta,canonical,N)\n",
    "    bool3 = pimc.worm_timeshift(data_struct,beta,head_loc,tail_loc,U,mu,canonical,N)\n",
    "    bool4 = pimc.insert_gsworm_zero(data_struct,beta,head_loc,tail_loc,U,mu,eta,canonical,N)\n",
    "    bool5 = pimc.delete_gsworm_zero(data_struct,beta,head_loc,tail_loc,U,mu,eta,canonical,N)\n",
    "    bool6 = pimc.insert_gsworm_beta(data_struct,beta,head_loc,tail_loc,U,mu,eta,canonical,N)   \n",
    "    bool7 = pimc.delete_gsworm_beta(data_struct,beta,head_loc,tail_loc,U,mu,eta,canonical,N)\n",
    "    \n",
    "    # Add to acceptance counters\n",
    "    if bool1: insert += 1\n",
    "    if bool2: delete += 1\n",
    "    if bool3: timeshift += 1\n",
    "    if bool4: insert_zero += 1\n",
    "    if bool5: delete_zero += 1\n",
    "    if bool6: insert_beta += 1\n",
    "    if bool7: delete_beta += 1\n",
    "        \n",
    "    # Calculate observables when there are no worms present\n",
    "    if m >= 0.01*mc_steps and m%L==0: # Ignore unequilibrated data\n",
    "        if head_loc == [] and tail_loc == []:\n",
    "            egs_list.append(pimc.egs_pimc(data_struct,beta,U,mu)) # <E>\n",
    "            n_list.append(pimc.n_pimc(data_struct,beta)/L) # <n>\n",
    "            occ_list.append(pimc.n_i_pimc(data_struct,beta))\n",
    "\n",
    "    # TO DO: \n",
    "    # Moves return bool and MC adds move to counter (to not save something else)\n",
    "    \n",
    "    # Ideally, 50/50 accept/reject for each move. (except timeshift)\n",
    "    \n",
    "    # Track acceptance/rejection of each move"
   ]
  },
  {
   "cell_type": "code",
   "execution_count": 21,
   "metadata": {},
   "outputs": [
    {
     "name": "stdout",
     "output_type": "stream",
     "text": [
      "-------- Acceptance Ratios --------\n",
      "          Insert: 0.0002\n",
      "          Delete: 0.0179\n",
      "       Timeshift: 0.9819\n",
      "Insert from zero: 0.0890\n",
      "Delete from zero: 0.0691\n",
      "Insert from beta: 0.0858\n",
      "Delete from beta: 0.0704\n"
     ]
    }
   ],
   "source": [
    "# Acceptance ratios\n",
    "print(\"-------- Acceptance Ratios --------\")\n",
    "print(\"          Insert: %.4f\"%(insert/mc_steps))\n",
    "print(\"          Delete: %.4f\"%(delete/mc_steps))\n",
    "print(\"       Timeshift: %.4f\"%(timeshift/mc_steps))\n",
    "print(\"Insert from zero: %.4f\"%(insert_zero/mc_steps))\n",
    "print(\"Delete from zero: %.4f\"%(delete_zero/mc_steps))\n",
    "print(\"Insert from beta: %.4f\"%(insert_beta/mc_steps))\n",
    "print(\"Delete from beta: %.4f\"%(delete_beta/mc_steps))"
   ]
  },
  {
   "cell_type": "code",
   "execution_count": 22,
   "metadata": {},
   "outputs": [
    {
     "name": "stdout",
     "output_type": "stream",
     "text": [
      "N_check:  1070.011063949765\n"
     ]
    },
    {
     "data": {
      "image/png": "[encoded data removed]",
      "text/plain": [
       "<Figure size 432x288 with 1 Axes>"
      ]
     },
     "metadata": {
      "needs_background": "light"
     },
     "output_type": "display_data"
    },
    {
     "data": {
      "text/plain": [
       "False"
      ]
     },
     "execution_count": 22,
     "metadata": {},
     "output_type": "execute_result"
    }
   ],
   "source": [
    "print(\"N_check: \",pimc.N_tracker(data_struct,beta))\n",
    "pimc.view_worldlines(data_struct,beta,figure_name=None)"
   ]
  },
  {
   "cell_type": "markdown",
   "metadata": {},
   "source": [
    "### Process data"
   ]
  },
  {
   "cell_type": "code",
   "execution_count": 23,
   "metadata": {},
   "outputs": [
    {
     "name": "stdout",
     "output_type": "stream",
     "text": [
      "3\n"
     ]
    }
   ],
   "source": [
    "egs = np.mean(egs_list)\n",
    "n = np.mean(n_list)\n",
    "occ = np.mean(occ_list,axis=0)\n",
    "samples = len(egs_list)\n",
    "print(samples)"
   ]
  },
  {
   "cell_type": "code",
   "execution_count": 24,
   "metadata": {},
   "outputs": [
    {
     "name": "stdout",
     "output_type": "stream",
     "text": [
      "Samples: 3\n",
      "-------- Ground State Energy --------\n",
      "PIMC: 31403.93333333\n",
      "-------- Average particles per site --------\n",
      "PIMC: 88.50000000\n",
      "-------- Average occupation --------\n",
      "PIMC: [ 56.66666667  89.66666667 102.33333333 105.33333333]\n"
     ]
    }
   ],
   "source": [
    "importlib.reload(pimc)\n",
    "print(\"Samples: %d\"%samples)\n",
    "print(\"-------- Ground State Energy --------\")\n",
    "print(\"PIMC: %.8f\"%egs)\n",
    "#print(\"Exact: %.8f\"%pimc.egs_theory(L,U,mu))\n",
    "print(\"-------- Average particles per site --------\")\n",
    "print(\"PIMC: %.8f\"%n)\n",
    "print(\"-------- Average occupation --------\")\n",
    "print(\"PIMC:\",occ)"
   ]
  },
  {
   "cell_type": "code",
   "execution_count": null,
   "metadata": {},
   "outputs": [],
   "source": []
  },
  {
   "cell_type": "code",
   "execution_count": null,
   "metadata": {},
   "outputs": [],
   "source": []
  },
  {
   "cell_type": "code",
   "execution_count": null,
   "metadata": {},
   "outputs": [],
   "source": []
  },
  {
   "cell_type": "markdown",
   "metadata": {},
   "source": [
    "### Running average as a function of sample number"
   ]
  },
  {
   "cell_type": "code",
   "execution_count": 16,
   "metadata": {},
   "outputs": [],
   "source": [
    "egs_mean = np.zeros(samples)\n",
    "egs_total = 0\n",
    "for i in range(samples):\n",
    "    egs_total += egs_list[i]\n",
    "    egs_mean[i] = egs_total/(i+1)"
   ]
  },
  {
   "cell_type": "code",
   "execution_count": null,
   "metadata": {},
   "outputs": [],
   "source": [
    "sample_list = list(range(samples))\n",
    "plt.plot(range(samples),egs_mean)\n",
    "#plt.axhline()\n",
    "plt.ylabel(r'$\\langle E \\rangle$')\n",
    "plt.xlabel(r'$\\mathrm{sample}$')\n",
    "plt.savefig('egs_%i_%i_%.4f_%.4f_%.4f_%i.pdf'%(L,N,U,mu,eta,mc_steps))"
   ]
  },
  {
   "cell_type": "code",
   "execution_count": null,
   "metadata": {},
   "outputs": [],
   "source": []
  },
  {
   "cell_type": "code",
   "execution_count": null,
   "metadata": {},
   "outputs": [],
   "source": []
  },
  {
   "cell_type": "markdown",
   "metadata": {},
   "source": [
    "### Save data"
   ]
  },
  {
   "cell_type": "code",
   "execution_count": 10,
   "metadata": {},
   "outputs": [
    {
     "data": {
      "text/plain": [
       "0.4"
      ]
     },
     "execution_count": 10,
     "metadata": {},
     "output_type": "execute_result"
    }
   ],
   "source": [
    "egs_list = np.array(egs_list)\n",
    "with open(\"egs_%i_%i_%.4f_%.4f_%.4f_%i.dat\"%(L,N,U,mu,eta,mc_steps),\"w+\") as data:\n",
    "    np.savetxt(data,egs_list,delimiter=\",\",fmt=\"%.16f\",header=\"MC_step <E> // BH Parameters: L=%d,N=%d,U=%.8f,mu=%.8f,eta=%.8f,MC_steps=%i\"%(L,N,U,mu,eta,mc_steps))\n",
    "    \n",
    "n_list = np.array(n_list)\n",
    "with open(\"n_%i_%i_%.4f_%.4f_%.4f_%i.dat\"%(L,N,U,mu,eta,mc_steps),\"w+\") as data:\n",
    "    np.savetxt(data,n_list,delimiter=\",\",fmt=\"%.16f\",header=\"MC_step <n> // BH Parameters: L=%d,N=%d,U=%.8f,mu=%.8f,eta=%.8f,MC_steps=%i\"%(L,N,U,mu,eta,mc_steps))\n",
    "    \n",
    "occ_list = np.array(occ_list)\n",
    "with open(\"occ_%i_%i_%.4f_%.4f_%.4f_%i.dat\"%(L,N,U,mu,eta,mc_steps),\"w+\") as data:\n",
    "    np.savetxt(data,occ_list,delimiter=\",\",fmt=\"%.16f\",header=\"MC_step <n_i> // BH Parameters: L=%d,N=%d,U=%.8f,mu=%.8f,eta=%.8f,MC_steps=%i\"%(L,N,U,mu,eta,mc_steps))    \n",
    "    \n",
    "    \n",
    "    "
   ]
  },
  {
   "cell_type": "code",
   "execution_count": null,
   "metadata": {},
   "outputs": [],
   "source": []
  },
  {
   "cell_type": "code",
   "execution_count": null,
   "metadata": {},
   "outputs": [],
   "source": []
  },
  {
   "cell_type": "markdown",
   "metadata": {},
   "source": [
    "### Test the total particle number tracker"
   ]
  },
  {
   "cell_type": "code",
   "execution_count": 4,
   "metadata": {},
   "outputs": [
    {
     "data": {
      "image/png": "[encoded data removed]",
      "text/plain": [
       "<Figure size 432x288 with 1 Axes>"
      ]
     },
     "metadata": {
      "needs_background": "light"
     },
     "output_type": "display_data"
    }
   ],
   "source": [
    "importlib.reload(pimc)\n",
    "# Simulation parameters\n",
    "N = 4\n",
    "L = N   # unit-filling\n",
    "t = 0\n",
    "U = 1\n",
    "n_min = 1\n",
    "mu = U*(n_min-1/2)\n",
    "mu = 0\n",
    "\n",
    "canonical = True # False for Grand Canonical simulation\n",
    "    \n",
    "# PIMC parameters\n",
    "beta = 1\n",
    "eta = 1\n",
    "#eta = 1/np.sqrt(L*beta)      # worm end fugacity\n",
    "\n",
    "# Create unit filling initial configuration\n",
    "alpha = []\n",
    "for i in range(L):\n",
    "    alpha.append(1)\n",
    "alpha\n",
    "\n",
    "alpha = [0,2,2,0]\n",
    "\n",
    "data_struct = pimc.create_data_struct(alpha)\n",
    "#data_struct[0].append([beta/2,0,(0,0)])\n",
    "#data_struct[3].append([3*beta/4,0,(3,3)])\n",
    "\n",
    "head_loc = []\n",
    "tail_loc = []\n",
    "pimc.view_worldlines(data_struct,beta,figure_name=None)"
   ]
  },
  {
   "cell_type": "code",
   "execution_count": 6,
   "metadata": {},
   "outputs": [
    {
     "data": {
      "text/plain": [
       "4.0"
      ]
     },
     "execution_count": 6,
     "metadata": {},
     "output_type": "execute_result"
    }
   ],
   "source": [
    "N_check = pimc.N_tracker(data_struct,beta)\n",
    "egs = pimc.egs_pimc(data_struct,beta,U,mu)\n",
    "N_check"
   ]
  },
  {
   "cell_type": "code",
   "execution_count": null,
   "metadata": {},
   "outputs": [],
   "source": []
  },
  {
   "cell_type": "code",
   "execution_count": 414,
   "metadata": {},
   "outputs": [
    {
     "data": {
      "text/plain": [
       "bool"
      ]
     },
     "execution_count": 414,
     "metadata": {},
     "output_type": "execute_result"
    }
   ],
   "source": [
    "type(pimc.worm_insert(data_struct,beta,head_loc,tail_loc,U,mu,eta,canonical,N) )\n"
   ]
  },
  {
   "cell_type": "code",
   "execution_count": null,
   "metadata": {},
   "outputs": [],
   "source": []
  }
 ],
 "metadata": {
  "kernelspec": {
   "display_name": "Python 3",
   "language": "python",
   "name": "python3"
  },
  "language_info": {
   "codemirror_mode": {
    "name": "ipython",
    "version": 3
   },
   "file_extension": ".py",
   "mimetype": "text/x-python",
   "name": "python",
   "nbconvert_exporter": "python",
   "pygments_lexer": "ipython3",
   "version": "3.7.3"
  }
 },
 "nbformat": 4,
 "nbformat_minor": 4
}
