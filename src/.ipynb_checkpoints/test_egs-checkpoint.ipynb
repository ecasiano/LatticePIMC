{
 "cells": [
  {
   "cell_type": "markdown",
   "metadata": {},
   "source": [
    "### Compare theoretical and ground state energy at unit filling"
   ]
  },
  {
   "cell_type": "code",
   "execution_count": 86,
   "metadata": {},
   "outputs": [
    {
     "data": {
      "text/plain": [
       "<module 'pimc' from '/Users/ecasiano/Desktop/LatticePIMC/src/pimc.py'>"
      ]
     },
     "execution_count": 86,
     "metadata": {},
     "output_type": "execute_result"
    }
   ],
   "source": [
    "import numpy as np\n",
    "import bisect\n",
    "import matplotlib.pyplot as plt\n",
    "import pimc # custom module\n",
    "from scipy.stats import truncexpon\n",
    "from scipy.integrate import quad, simps\n",
    "import importlib\n",
    "importlib.reload(pimc)"
   ]
  },
  {
   "cell_type": "markdown",
   "metadata": {},
   "source": [
    "### Simulation parameters"
   ]
  },
  {
   "cell_type": "code",
   "execution_count": 87,
   "metadata": {},
   "outputs": [
    {
     "data": {
      "image/png": "[encoded data removed]",
      "text/plain": [
       "<Figure size 432x288 with 1 Axes>"
      ]
     },
     "metadata": {
      "needs_background": "light"
     },
     "output_type": "display_data"
    }
   ],
   "source": [
    "importlib.reload(pimc)\n",
    "# Simulation parameters\n",
    "t = 0.8\n",
    "mu = 0.5\n",
    "U = 1\n",
    "L = 4\n",
    "N = 4\n",
    "    \n",
    "# PIMC parameters\n",
    "beta = 1\n",
    "eta = 1      # worm end fugacity\n",
    "eta = 1/np.sqrt(L*beta)\n",
    "\n",
    "# Canonical or Grand Canonical?\n",
    "canonical = False # False means Grand Canonical\n",
    "\n",
    "# Create a random worldline configuration\n",
    "alpha = pimc.random_boson_config(L,N)\n",
    "alpha = [1,1,1,1]\n",
    "data_struct = pimc.create_data_struct(alpha)\n",
    "head_loc = []\n",
    "tail_loc = []\n",
    "pimc.view_worldlines(data_struct,beta,figure_name=None)"
   ]
  },
  {
   "cell_type": "markdown",
   "metadata": {},
   "source": [
    "### Do many iterations of the set of PIMC-WA updates"
   ]
  },
  {
   "cell_type": "code",
   "execution_count": 96,
   "metadata": {},
   "outputs": [
    {
     "name": "stdout",
     "output_type": "stream",
     "text": [
      "CPU times: user 22.9 s, sys: 41.3 ms, total: 23 s\n",
      "Wall time: 23 s\n"
     ]
    }
   ],
   "source": [
    "%%time\n",
    "importlib.reload(pimc)\n",
    "\n",
    "# Create the data structure\n",
    "data_struct = pimc.create_data_struct(alpha)\n",
    "head_loc = []\n",
    "tail_loc = []\n",
    "\n",
    "# Store values of observables\n",
    "egs_list = []\n",
    "n_list = []\n",
    "occ_list = []\n",
    "\n",
    "# Set the number of times the set of updates will be attempted\n",
    "mc_steps = int(1E+06)\n",
    "\n",
    "# Counters for acceptance of each move\n",
    "insert_worm_data = [0,0] # [accepted,proposed]\n",
    "delete_worm_data = [0,0]\n",
    "\n",
    "insert_anti_data = [0,0]\n",
    "delete_anti_data = [0,0]\n",
    "\n",
    "acc_timeshift = 0\n",
    "prop_timeshift = 0\n",
    "\n",
    "insertZero_worm_data = [0,0]\n",
    "deleteZero_worm_data = [0,0]\n",
    "\n",
    "insertZero_anti_data = [0,0]\n",
    "deleteZero_anti_data = [0,0]\n",
    "\n",
    "insertBeta_worm_data = [0,0]\n",
    "deleteBeta_worm_data = [0,0]\n",
    "\n",
    "insertBeta_anti_data = [0,0]\n",
    "deleteBeta_anti_data = [0,0]\n",
    "\n",
    "ikbh_data = [0,0]\n",
    "dkbh_data = [0,0]\n",
    "\n",
    "ikah_data = [0,0]\n",
    "dkah_data = [0,0]\n",
    "\n",
    "# Count the times the configurations has no worm ends\n",
    "Z_ctr = 0\n",
    "for m in range(mc_steps):\n",
    "    \n",
    "    # Propose all moves sequentially\n",
    "    result = pimc.worm_insert(data_struct,beta,head_loc,tail_loc,U,mu,eta,canonical,N,insert_worm_data,insert_anti_data)\n",
    "\n",
    "    result = pimc.worm_delete(data_struct,beta,head_loc,tail_loc,U,mu,eta,canonical,N,delete_worm_data,delete_anti_data)\n",
    "    \n",
    "#     result = pimc.worm_timeshift(data_struct,beta,head_loc,tail_loc,U,mu,canonical,N)\n",
    "#     if result != None:\n",
    "#         prop_timeshift += 1\n",
    "#         acc_timeshift += result\n",
    "        \n",
    "    result = pimc.insertZero(data_struct,beta,head_loc,tail_loc,U,mu,eta,canonical,N,insertZero_worm_data,insertZero_anti_data)\n",
    "        \n",
    "    result = pimc.deleteZero(data_struct,beta,head_loc,tail_loc,U,mu,eta,canonical,N,deleteZero_worm_data,deleteZero_anti_data)\n",
    "        \n",
    "    result = pimc.insertBeta(data_struct,beta,head_loc,tail_loc,U,mu,eta,canonical,N,insertBeta_worm_data,insertBeta_anti_data)\n",
    "        \n",
    "    result = pimc.deleteBeta(data_struct,beta,head_loc,tail_loc,U,mu,eta,canonical,N,deleteBeta_worm_data,deleteBeta_anti_data)\n",
    "    \n",
    "    result = pimc.insert_kink_before_head(data_struct,beta,head_loc,tail_loc,t,U,mu,eta,canonical,N,ikbh_data)  \n",
    "        \n",
    "    result = pimc.delete_kink_before_head(data_struct,beta,head_loc,tail_loc,t,U,mu,eta,canonical,N,dkbh_data) \n",
    "        \n",
    "    result = pimc.insert_kink_after_head(data_struct,beta,head_loc,tail_loc,t,U,mu,eta,canonical,N,ikah_data)   \n",
    "        \n",
    "    result = pimc.delete_kink_after_head(data_struct,beta,head_loc,tail_loc,t,U,mu,eta,canonical,N,dkah_data)\n",
    "        \n",
    "    # Calculate observables when there are no worms present\n",
    "    if m >= 0.25*mc_steps and m%L==0: # Ignore unequilibrated data\n",
    "        if not(pimc.check_worm(head_loc,tail_loc)):\n",
    "            egs_list.append(pimc.egs_pimc(data_struct,beta,U,mu)) # <E>\n",
    "            n_list.append(pimc.n_pimc(data_struct,beta)/L) # <n>\n",
    "            occ_list.append(pimc.n_i_pimc(data_struct,beta))\n",
    "            Z_ctr += 1"
   ]
  },
  {
   "cell_type": "code",
   "execution_count": 97,
   "metadata": {},
   "outputs": [
    {
     "name": "stdout",
     "output_type": "stream",
     "text": [
      "N_check:  9.777820638732694\n"
     ]
    },
    {
     "data": {
      "image/png": "[encoded data removed]",
      "text/plain": [
       "<Figure size 432x288 with 1 Axes>"
      ]
     },
     "metadata": {
      "needs_background": "light"
     },
     "output_type": "display_data"
    }
   ],
   "source": [
    "print(\"N_check: \",pimc.N_tracker(data_struct,beta))\n",
    "pimc.view_worldlines(data_struct,beta,figure_name=None)"
   ]
  },
  {
   "cell_type": "code",
   "execution_count": 98,
   "metadata": {},
   "outputs": [
    {
     "data": {
      "text/plain": [
       "([1, 2], [2, 1])"
      ]
     },
     "execution_count": 98,
     "metadata": {},
     "output_type": "execute_result"
    }
   ],
   "source": [
    "head_loc,tail_loc"
   ]
  },
  {
   "cell_type": "code",
   "execution_count": 81,
   "metadata": {},
   "outputs": [
    {
     "name": "stdout",
     "output_type": "stream",
     "text": [
      "-------- Acceptance Ratios --------\n",
      "\n",
      "       Insert worm: 61.7403% (447/724)\n",
      "       Delete worm: 57.0838% (552/967)\n",
      "\n",
      "       Insert anti: 50.1326% (378/754)\n",
      "       Delete anti: 55.2878% (413/747)\n",
      "\n",
      "   InsertZero worm: 49.3570% (1804/3655)\n",
      "   DeleteZero worm: 50.8336% (1738/3419)\n",
      "\n",
      "   InsertZero anti: 10.6514% (9638/90486)\n",
      "   DeleteZero anti: 75.9378% (9575/12609)\n",
      "\n",
      "   InsertBeta worm: 24.8347% (22497/90587)\n",
      "   DeleteBeta worm: 40.6608% (1883/4631)\n",
      "\n",
      "   InsertBeta anti: 56.1353% (1958/3488)\n",
      "   DeleteBeta anti: 86.2573% (22420/25992)\n",
      "\n"
     ]
    },
    {
     "ename": "ZeroDivisionError",
     "evalue": "division by zero",
     "output_type": "error",
     "traceback": [
      "\u001b[0;31m---------------------------------------------------------------------------\u001b[0m",
      "\u001b[0;31mZeroDivisionError\u001b[0m                         Traceback (most recent call last)",
      "\u001b[0;32m<ipython-input-81-06f5ea875344>\u001b[0m in \u001b[0;36m<module>\u001b[0;34m\u001b[0m\n\u001b[1;32m     22\u001b[0m \u001b[0mprint\u001b[0m\u001b[0;34m(\u001b[0m\u001b[0;34m\"   DeleteBeta anti: %.4f%% (%d/%d)\\n\"\u001b[0m\u001b[0;34m%\u001b[0m\u001b[0;34m(\u001b[0m\u001b[0;36m100\u001b[0m\u001b[0;34m*\u001b[0m\u001b[0mdeleteBeta_anti_data\u001b[0m\u001b[0;34m[\u001b[0m\u001b[0;36m0\u001b[0m\u001b[0;34m]\u001b[0m\u001b[0;34m/\u001b[0m\u001b[0mdeleteBeta_anti_data\u001b[0m\u001b[0;34m[\u001b[0m\u001b[0;36m1\u001b[0m\u001b[0;34m]\u001b[0m\u001b[0;34m,\u001b[0m\u001b[0mdeleteBeta_anti_data\u001b[0m\u001b[0;34m[\u001b[0m\u001b[0;36m0\u001b[0m\u001b[0;34m]\u001b[0m\u001b[0;34m,\u001b[0m\u001b[0mdeleteBeta_anti_data\u001b[0m\u001b[0;34m[\u001b[0m\u001b[0;36m1\u001b[0m\u001b[0;34m]\u001b[0m\u001b[0;34m)\u001b[0m\u001b[0;34m)\u001b[0m\u001b[0;34m\u001b[0m\u001b[0;34m\u001b[0m\u001b[0m\n\u001b[1;32m     23\u001b[0m \u001b[0;34m\u001b[0m\u001b[0m\n\u001b[0;32m---> 24\u001b[0;31m \u001b[0mprint\u001b[0m\u001b[0;34m(\u001b[0m\u001b[0;34m\"              IKBH: %.4f%% (%d/%d)\"\u001b[0m\u001b[0;34m%\u001b[0m\u001b[0;34m(\u001b[0m\u001b[0;36m100\u001b[0m\u001b[0;34m*\u001b[0m\u001b[0mikbh_data\u001b[0m\u001b[0;34m[\u001b[0m\u001b[0;36m0\u001b[0m\u001b[0;34m]\u001b[0m\u001b[0;34m/\u001b[0m\u001b[0mikbh_data\u001b[0m\u001b[0;34m[\u001b[0m\u001b[0;36m1\u001b[0m\u001b[0;34m]\u001b[0m\u001b[0;34m,\u001b[0m\u001b[0mikbh_data\u001b[0m\u001b[0;34m[\u001b[0m\u001b[0;36m0\u001b[0m\u001b[0;34m]\u001b[0m\u001b[0;34m,\u001b[0m\u001b[0mikbh_data\u001b[0m\u001b[0;34m[\u001b[0m\u001b[0;36m1\u001b[0m\u001b[0;34m]\u001b[0m\u001b[0;34m)\u001b[0m\u001b[0;34m)\u001b[0m\u001b[0;34m\u001b[0m\u001b[0;34m\u001b[0m\u001b[0m\n\u001b[0m\u001b[1;32m     25\u001b[0m \u001b[0mprint\u001b[0m\u001b[0;34m(\u001b[0m\u001b[0;34m\"              DKBH: %.4f%% (%d/%d)\\n\"\u001b[0m\u001b[0;34m%\u001b[0m\u001b[0;34m(\u001b[0m\u001b[0;36m100\u001b[0m\u001b[0;34m*\u001b[0m\u001b[0mdkbh_data\u001b[0m\u001b[0;34m[\u001b[0m\u001b[0;36m0\u001b[0m\u001b[0;34m]\u001b[0m\u001b[0;34m/\u001b[0m\u001b[0mdkbh_data\u001b[0m\u001b[0;34m[\u001b[0m\u001b[0;36m1\u001b[0m\u001b[0;34m]\u001b[0m\u001b[0;34m,\u001b[0m\u001b[0mdkbh_data\u001b[0m\u001b[0;34m[\u001b[0m\u001b[0;36m0\u001b[0m\u001b[0;34m]\u001b[0m\u001b[0;34m,\u001b[0m\u001b[0mdkbh_data\u001b[0m\u001b[0;34m[\u001b[0m\u001b[0;36m1\u001b[0m\u001b[0;34m]\u001b[0m\u001b[0;34m)\u001b[0m\u001b[0;34m)\u001b[0m\u001b[0;34m\u001b[0m\u001b[0;34m\u001b[0m\u001b[0m\n\u001b[1;32m     26\u001b[0m \u001b[0;34m\u001b[0m\u001b[0m\n",
      "\u001b[0;31mZeroDivisionError\u001b[0m: division by zero"
     ]
    }
   ],
   "source": [
    "# Acceptance ratios\n",
    "print(\"-------- Acceptance Ratios --------\\n\")\n",
    "\n",
    "print(\"       Insert worm: %.4f%% (%d/%d)\"%(100*insert_worm_data[0]/insert_worm_data[1],insert_worm_data[0],insert_worm_data[1]))\n",
    "print(\"       Delete worm: %.4f%% (%d/%d)\\n\"%(100*delete_worm_data[0]/delete_worm_data[1],delete_worm_data[0],delete_worm_data[1]))\n",
    "\n",
    "print(\"       Insert anti: %.4f%% (%d/%d)\"%(100*insert_anti_data[0]/insert_anti_data[1],insert_anti_data[0],insert_anti_data[1]))\n",
    "print(\"       Delete anti: %.4f%% (%d/%d)\\n\"%(100*delete_anti_data[0]/delete_anti_data[1],delete_anti_data[0],delete_anti_data[1]))\n",
    "\n",
    "#print(\"         Timeshift: %.4f%% (%d)\\n\"%(100*acc_timeshift/prop_timeshift,prop_timeshift))\n",
    "\n",
    "print(\"   InsertZero worm: %.4f%% (%d/%d)\"%(100*insertZero_worm_data[0]/insertZero_worm_data[1],insertZero_worm_data[0],insertZero_worm_data[1]))\n",
    "print(\"   DeleteZero worm: %.4f%% (%d/%d)\\n\"%(100*deleteZero_worm_data[0]/deleteZero_worm_data[1],deleteZero_worm_data[0],deleteZero_worm_data[1]))\n",
    "\n",
    "print(\"   InsertZero anti: %.4f%% (%d/%d)\"%(100*insertZero_anti_data[0]/insertZero_anti_data[1],insertZero_anti_data[0],insertZero_anti_data[1]))\n",
    "print(\"   DeleteZero anti: %.4f%% (%d/%d)\\n\"%(100*deleteZero_anti_data[0]/deleteZero_anti_data[1],deleteZero_anti_data[0],deleteZero_anti_data[1]))\n",
    "\n",
    "print(\"   InsertBeta worm: %.4f%% (%d/%d)\"%(100*insertBeta_worm_data[0]/insertBeta_worm_data[1],insertBeta_worm_data[0],insertBeta_worm_data[1]))\n",
    "print(\"   DeleteBeta worm: %.4f%% (%d/%d)\\n\"%(100*deleteBeta_worm_data[0]/deleteBeta_worm_data[1],deleteBeta_worm_data[0],deleteBeta_worm_data[1]))\n",
    "\n",
    "print(\"   InsertBeta anti: %.4f%% (%d/%d)\"%(100*insertBeta_anti_data[0]/insertBeta_anti_data[1],insertBeta_anti_data[0],insertBeta_anti_data[1]))\n",
    "print(\"   DeleteBeta anti: %.4f%% (%d/%d)\\n\"%(100*deleteBeta_anti_data[0]/deleteBeta_anti_data[1],deleteBeta_anti_data[0],deleteBeta_anti_data[1]))\n",
    "\n",
    "print(\"              IKBH: %.4f%% (%d/%d)\"%(100*ikbh_data[0]/ikbh_data[1],ikbh_data[0],ikbh_data[1])) \n",
    "print(\"              DKBH: %.4f%% (%d/%d)\\n\"%(100*dkbh_data[0]/dkbh_data[1],dkbh_data[0],dkbh_data[1]))\n",
    "\n",
    "print(\"              IKAH: %.4f%% (%d/%d)\"%(100*ikah_data[0]/ikah_data[1],ikah_data[0],ikah_data[1])) \n",
    "print(\"              DKAH: %.4f%% (%d/%d)\"%(100*dkah_data[0]/dkah_data[1],dkah_data[0],dkah_data[1])) "
   ]
  },
  {
   "cell_type": "code",
   "execution_count": null,
   "metadata": {},
   "outputs": [],
   "source": []
  },
  {
   "cell_type": "code",
   "execution_count": 65,
   "metadata": {},
   "outputs": [
    {
     "name": "stdout",
     "output_type": "stream",
     "text": [
      "N_check:  9.72816708210623\n"
     ]
    },
    {
     "data": {
      "image/png": "[encoded data removed]",
      "text/plain": [
       "<Figure size 432x288 with 1 Axes>"
      ]
     },
     "metadata": {
      "needs_background": "light"
     },
     "output_type": "display_data"
    }
   ],
   "source": [
    "print(\"N_check: \",pimc.N_tracker(data_struct,beta))\n",
    "pimc.view_worldlines(data_struct,beta,figure_name=None)"
   ]
  },
  {
   "cell_type": "markdown",
   "metadata": {},
   "source": [
    "### Process data"
   ]
  },
  {
   "cell_type": "code",
   "execution_count": 50,
   "metadata": {},
   "outputs": [
    {
     "name": "stdout",
     "output_type": "stream",
     "text": [
      "1386\n"
     ]
    }
   ],
   "source": [
    "egs = np.mean(egs_list)\n",
    "n = np.mean(n_list)\n",
    "occ = np.mean(occ_list,axis=0)\n",
    "samples = len(egs_list)\n",
    "print(samples)"
   ]
  },
  {
   "cell_type": "code",
   "execution_count": null,
   "metadata": {},
   "outputs": [],
   "source": [
    "importlib.reload(pimc)\n",
    "print(\"Samples: %d\"%samples)\n",
    "print(\"-------- Ground State Energy --------\")\n",
    "print(\"PIMC: %.8f\"%egs)\n",
    "#print(\"Exact: %.8f\"%pimc.egs_theory(L,U,mu))\n",
    "print(\"-------- Average particles per site --------\")\n",
    "print(\"PIMC: %.8f\"%n)\n",
    "print(\"-------- Average occupation --------\")\n",
    "print(\"PIMC:\",occ)\n",
    "print(\"-------- Z-configuration fraction --------\")\n",
    "print(\"Z-fraction: %.2f%%\"%(Z_ctr/mc_steps*100))"
   ]
  },
  {
   "cell_type": "markdown",
   "metadata": {},
   "source": [
    "### Save data"
   ]
  },
  {
   "cell_type": "code",
   "execution_count": null,
   "metadata": {},
   "outputs": [],
   "source": [
    "egs_list = np.array(egs_list)\n",
    "with open(\"egs_%i_%i_%.4f_%.4f_%.4f_%i.dat\"%(L,N,U,mu,eta,mc_steps),\"w+\") as data:\n",
    "    np.savetxt(data,egs_list,delimiter=\",\",fmt=\"%.16f\",header=\"MC_step <E> // BH Parameters: L=%d,N=%d,U=%.8f,mu=%.8f,eta=%.8f,MC_steps=%i\"%(L,N,U,mu,eta,mc_steps))\n",
    "    \n",
    "n_list = np.array(n_list)\n",
    "with open(\"n_%i_%i_%.4f_%.4f_%.4f_%i.dat\"%(L,N,U,mu,eta,mc_steps),\"w+\") as data:\n",
    "    np.savetxt(data,n_list,delimiter=\",\",fmt=\"%.16f\",header=\"MC_step <n> // BH Parameters: L=%d,N=%d,U=%.8f,mu=%.8f,eta=%.8f,MC_steps=%i\"%(L,N,U,mu,eta,mc_steps))\n",
    "    \n",
    "occ_list = np.array(occ_list)\n",
    "with open(\"occ_%i_%i_%.4f_%.4f_%.4f_%i.dat\"%(L,N,U,mu,eta,mc_steps),\"w+\") as data:\n",
    "    np.savetxt(data,occ_list,delimiter=\",\",fmt=\"%.16f\",header=\"MC_step <n_i> // BH Parameters: L=%d,N=%d,U=%.8f,mu=%.8f,eta=%.8f,MC_steps=%i\"%(L,N,U,mu,eta,mc_steps))    "
   ]
  },
  {
   "cell_type": "code",
   "execution_count": null,
   "metadata": {},
   "outputs": [],
   "source": []
  },
  {
   "cell_type": "code",
   "execution_count": null,
   "metadata": {},
   "outputs": [],
   "source": []
  },
  {
   "cell_type": "code",
   "execution_count": null,
   "metadata": {},
   "outputs": [],
   "source": []
  }
 ],
 "metadata": {
  "kernelspec": {
   "display_name": "Python 3",
   "language": "python",
   "name": "python3"
  },
  "language_info": {
   "codemirror_mode": {
    "name": "ipython",
    "version": 3
   },
   "file_extension": ".py",
   "mimetype": "text/x-python",
   "name": "python",
   "nbconvert_exporter": "python",
   "pygments_lexer": "ipython3",
   "version": "3.7.3"
  }
 },
 "nbformat": 4,
 "nbformat_minor": 4
}
