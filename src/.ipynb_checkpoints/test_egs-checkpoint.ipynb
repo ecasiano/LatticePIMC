{
 "cells": [
  {
   "cell_type": "markdown",
   "metadata": {},
   "source": [
    "### Compare theoretical and ground state energy at unit filling"
   ]
  },
  {
   "cell_type": "code",
   "execution_count": 42,
   "metadata": {},
   "outputs": [
    {
     "data": {
      "text/plain": [
       "<module 'pimc' from '/Users/ecasiano/Desktop/LatticePIMC/src/pimc.py'>"
      ]
     },
     "execution_count": 42,
     "metadata": {},
     "output_type": "execute_result"
    }
   ],
   "source": [
    "import numpy as np\n",
    "import bisect\n",
    "import matplotlib.pyplot as plt\n",
    "import pimc # custom module\n",
    "from scipy.stats import truncexpon\n",
    "from scipy.integrate import quad, simps\n",
    "import importlib\n",
    "importlib.reload(pimc)"
   ]
  },
  {
   "cell_type": "markdown",
   "metadata": {},
   "source": [
    "### Simulation parameters"
   ]
  },
  {
   "cell_type": "code",
   "execution_count": 43,
   "metadata": {},
   "outputs": [],
   "source": [
    "importlib.reload(pimc)\n",
    "# Simulation parameters\n",
    "t = 0.8\n",
    "mu = 0.8\n",
    "U = 1000\n",
    "L = 4\n",
    "N = 4\n",
    "    \n",
    "# PIMC parameters\n",
    "beta = 1\n",
    "eta = 1      # worm end fugacity\n",
    "eta = 1/np.sqrt(L*beta)\n",
    "\n",
    "# Canonical or Grand Canonical?\n",
    "canonical = False # False means Grand Canonical\n",
    "\n",
    "# Create a random worldline configuration\n",
    "alpha = pimc.random_boson_config(L,N)\n",
    "alpha = [1]*L\n",
    "data_struct = pimc.create_data_struct(alpha)\n",
    "head_loc = []\n",
    "tail_loc = []\n",
    "#pimc.view_worldlines(data_struct,beta,figure_name=None)"
   ]
  },
  {
   "cell_type": "markdown",
   "metadata": {},
   "source": [
    "### Do many iterations of the set of PIMC-WA updates"
   ]
  },
  {
   "cell_type": "code",
   "execution_count": 44,
   "metadata": {},
   "outputs": [
    {
     "name": "stderr",
     "output_type": "stream",
     "text": [
      "/Users/ecasiano/Desktop/LatticePIMC/src/pimc.py:1236: RuntimeWarning: overflow encountered in double_scalars\n",
      "  W = t * n_wj * np.exp((dV_i-dV_j)*(tau_h-tau_kink))\n",
      "/Users/ecasiano/Desktop/LatticePIMC/src/pimc.py:1780: RuntimeWarning: overflow encountered in double_scalars\n",
      "  W = t * n_wj * np.exp((-dV_i+dV_j)*(tau_t-tau_kink))\n"
     ]
    },
    {
     "name": "stdout",
     "output_type": "stream",
     "text": [
      "CPU times: user 32 s, sys: 92 ms, total: 32.1 s\n",
      "Wall time: 32.1 s\n"
     ]
    }
   ],
   "source": [
    "%%time\n",
    "importlib.reload(pimc)\n",
    "\n",
    "# Create the data structure\n",
    "data_struct = pimc.create_data_struct(alpha)\n",
    "head_loc = []\n",
    "tail_loc = []\n",
    "\n",
    "# Store values of observables\n",
    "egs_list = []\n",
    "n_list = []\n",
    "occ_list = []\n",
    "\n",
    "# Set the number of times the set of updates will be attempted\n",
    "mc_steps = int(1E+06)\n",
    "\n",
    "# Counters for acceptance of each move\n",
    "insert_worm_data = [0,0] # [accepted,proposed]\n",
    "delete_worm_data = [0,0]\n",
    "\n",
    "insert_anti_data = [0,0]\n",
    "delete_anti_data = [0,0]\n",
    "\n",
    "acc_timeshift = 0\n",
    "prop_timeshift = 0\n",
    "\n",
    "insertZero_worm_data = [0,0]\n",
    "deleteZero_worm_data = [0,0]\n",
    "\n",
    "insertZero_anti_data = [0,0]\n",
    "deleteZero_anti_data = [0,0]\n",
    "\n",
    "insertBeta_worm_data = [0,0]\n",
    "deleteBeta_worm_data = [0,0]\n",
    "\n",
    "insertBeta_anti_data = [0,0]\n",
    "deleteBeta_anti_data = [0,0]\n",
    "\n",
    "ikbh_data = [0,0]\n",
    "dkbh_data = [0,0]\n",
    "\n",
    "ikah_data = [0,0]\n",
    "dkah_data = [0,0]\n",
    "\n",
    "ikbt_data = [0,0]\n",
    "dkbt_data = [0,0]\n",
    "\n",
    "ikat_data = [0,0]\n",
    "dkat_data = [0,0]\n",
    "\n",
    "# Count the times the configurations has no worm ends\n",
    "Z_ctr = 0\n",
    "for m in range(mc_steps):\n",
    "    \n",
    "    # Propose all moves sequentially\n",
    "    result = pimc.worm_insert(data_struct,beta,head_loc,tail_loc,U,mu,eta,canonical,N,insert_worm_data,insert_anti_data)\n",
    "\n",
    "    result = pimc.worm_delete(data_struct,beta,head_loc,tail_loc,U,mu,eta,canonical,N,delete_worm_data,delete_anti_data)\n",
    "    \n",
    "#     result = pimc.worm_timeshift(data_struct,beta,head_loc,tail_loc,U,mu,canonical,N)\n",
    "#     if result != None:\n",
    "#         prop_timeshift += 1\n",
    "#         acc_timeshift += result\n",
    "        \n",
    "    result = pimc.insertZero(data_struct,beta,head_loc,tail_loc,U,mu,eta,canonical,N,insertZero_worm_data,insertZero_anti_data)\n",
    "        \n",
    "    result = pimc.deleteZero(data_struct,beta,head_loc,tail_loc,U,mu,eta,canonical,N,deleteZero_worm_data,deleteZero_anti_data)\n",
    "        \n",
    "    result = pimc.insertBeta(data_struct,beta,head_loc,tail_loc,U,mu,eta,canonical,N,insertBeta_worm_data,insertBeta_anti_data)\n",
    "        \n",
    "    result = pimc.deleteBeta(data_struct,beta,head_loc,tail_loc,U,mu,eta,canonical,N,deleteBeta_worm_data,deleteBeta_anti_data)\n",
    "    \n",
    "    result = pimc.insert_kink_before_head(data_struct,beta,head_loc,tail_loc,t,U,mu,eta,canonical,N,ikbh_data)  \n",
    "        \n",
    "    result = pimc.delete_kink_before_head(data_struct,beta,head_loc,tail_loc,t,U,mu,eta,canonical,N,dkbh_data) \n",
    "        \n",
    "    result = pimc.insert_kink_after_head(data_struct,beta,head_loc,tail_loc,t,U,mu,eta,canonical,N,ikah_data)   \n",
    "        \n",
    "    result = pimc.delete_kink_after_head(data_struct,beta,head_loc,tail_loc,t,U,mu,eta,canonical,N,dkah_data)\n",
    "    \n",
    "    result = pimc.insert_kink_before_tail(data_struct,beta,head_loc,tail_loc,t,U,mu,eta,canonical,N,ikbt_data)  \n",
    "        \n",
    "    result = pimc.delete_kink_before_tail(data_struct,beta,head_loc,tail_loc,t,U,mu,eta,canonical,N,dkbt_data) \n",
    "        \n",
    "    # Calculate observables when there are no worms present\n",
    "    if m >= 0.25*mc_steps and m%L==0: # Ignore unequilibrated data\n",
    "        if not(pimc.check_worm(head_loc,tail_loc)):\n",
    "            egs_list.append(pimc.egs_pimc(data_struct,beta,U,mu)) # <E>\n",
    "            n_list.append(pimc.n_pimc(data_struct,beta)/L) # <n>\n",
    "            occ_list.append(pimc.n_i_pimc(data_struct,beta))\n",
    "            Z_ctr += 1"
   ]
  },
  {
   "cell_type": "code",
   "execution_count": 45,
   "metadata": {},
   "outputs": [
    {
     "name": "stdout",
     "output_type": "stream",
     "text": [
      "N_check:  2.0\n"
     ]
    },
    {
     "data": {
      "image/png": "[encoded data removed]",
      "text/plain": [
       "<Figure size 432x288 with 1 Axes>"
      ]
     },
     "metadata": {
      "needs_background": "light"
     },
     "output_type": "display_data"
    }
   ],
   "source": [
    "print(\"N_check: \",pimc.N_tracker(data_struct,beta)/L)\n",
    "pimc.view_worldlines(data_struct,beta,figure_name=None)"
   ]
  },
  {
   "cell_type": "code",
   "execution_count": 46,
   "metadata": {},
   "outputs": [
    {
     "data": {
      "text/plain": [
       "([], [])"
      ]
     },
     "execution_count": 46,
     "metadata": {},
     "output_type": "execute_result"
    }
   ],
   "source": [
    "head_loc,tail_loc"
   ]
  },
  {
   "cell_type": "code",
   "execution_count": 47,
   "metadata": {},
   "outputs": [
    {
     "name": "stdout",
     "output_type": "stream",
     "text": [
      "-------- Acceptance Ratios --------\n",
      "\n",
      "       Insert worm: 0.5879% (2908/494630)\n",
      "       Delete worm: 48.4226% (2901/5991)\n",
      "\n",
      "       Insert anti: 0.4839% (2388/493510)\n",
      "       Delete anti: 61.4352% (2380/3874)\n",
      "\n",
      "   InsertZero worm: 0.4947% (2464/498057)\n",
      "   DeleteZero worm: 53.5474% (2468/4609)\n",
      "\n",
      "   InsertZero anti: 0.4584% (2280/497332)\n",
      "   DeleteZero anti: 48.3619% (2288/4731)\n",
      "\n",
      "   InsertBeta worm: 0.9663% (4806/497380)\n",
      "   DeleteBeta worm: 50.0512% (4891/9772)\n",
      "\n",
      "   InsertBeta anti: 0.9799% (4880/498013)\n",
      "   DeleteBeta anti: 50.8612% (4813/9463)\n",
      "\n",
      "              IKBH: 0.3942% (31/7865)\n",
      "              DKBH: 3.0418% (32/1052)\n",
      "\n",
      "              IKAH: 0.4450% (35/7865)\n",
      "              DKAH: 3.9663% (33/832)\n",
      "\n",
      "              IKBT: 0.5005% (43/8591)\n",
      "              DKBT: 2.2234% (43/1934)\n",
      "\n"
     ]
    }
   ],
   "source": [
    "# Acceptance ratios\n",
    "print(\"-------- Acceptance Ratios --------\\n\")\n",
    "\n",
    "print(\"       Insert worm: %.4f%% (%d/%d)\"%(100*insert_worm_data[0]/insert_worm_data[1],insert_worm_data[0],insert_worm_data[1]))\n",
    "print(\"       Delete worm: %.4f%% (%d/%d)\\n\"%(100*delete_worm_data[0]/delete_worm_data[1],delete_worm_data[0],delete_worm_data[1]))\n",
    "\n",
    "print(\"       Insert anti: %.4f%% (%d/%d)\"%(100*insert_anti_data[0]/insert_anti_data[1],insert_anti_data[0],insert_anti_data[1]))\n",
    "print(\"       Delete anti: %.4f%% (%d/%d)\\n\"%(100*delete_anti_data[0]/delete_anti_data[1],delete_anti_data[0],delete_anti_data[1]))\n",
    "\n",
    "#print(\"         Timeshift: %.4f%% (%d)\\n\"%(100*acc_timeshift/prop_timeshift,prop_timeshift))\n",
    "\n",
    "print(\"   InsertZero worm: %.4f%% (%d/%d)\"%(100*insertZero_worm_data[0]/insertZero_worm_data[1],insertZero_worm_data[0],insertZero_worm_data[1]))\n",
    "print(\"   DeleteZero worm: %.4f%% (%d/%d)\\n\"%(100*deleteZero_worm_data[0]/deleteZero_worm_data[1],deleteZero_worm_data[0],deleteZero_worm_data[1]))\n",
    "\n",
    "print(\"   InsertZero anti: %.4f%% (%d/%d)\"%(100*insertZero_anti_data[0]/insertZero_anti_data[1],insertZero_anti_data[0],insertZero_anti_data[1]))\n",
    "print(\"   DeleteZero anti: %.4f%% (%d/%d)\\n\"%(100*deleteZero_anti_data[0]/deleteZero_anti_data[1],deleteZero_anti_data[0],deleteZero_anti_data[1]))\n",
    "\n",
    "print(\"   InsertBeta worm: %.4f%% (%d/%d)\"%(100*insertBeta_worm_data[0]/insertBeta_worm_data[1],insertBeta_worm_data[0],insertBeta_worm_data[1]))\n",
    "print(\"   DeleteBeta worm: %.4f%% (%d/%d)\\n\"%(100*deleteBeta_worm_data[0]/deleteBeta_worm_data[1],deleteBeta_worm_data[0],deleteBeta_worm_data[1]))\n",
    "\n",
    "print(\"   InsertBeta anti: %.4f%% (%d/%d)\"%(100*insertBeta_anti_data[0]/insertBeta_anti_data[1],insertBeta_anti_data[0],insertBeta_anti_data[1]))\n",
    "print(\"   DeleteBeta anti: %.4f%% (%d/%d)\\n\"%(100*deleteBeta_anti_data[0]/deleteBeta_anti_data[1],deleteBeta_anti_data[0],deleteBeta_anti_data[1]))\n",
    "\n",
    "print(\"              IKBH: %.4f%% (%d/%d)\"%(100*ikbh_data[0]/ikbh_data[1],ikbh_data[0],ikbh_data[1])) \n",
    "print(\"              DKBH: %.4f%% (%d/%d)\\n\"%(100*dkbh_data[0]/dkbh_data[1],dkbh_data[0],dkbh_data[1]))\n",
    "\n",
    "print(\"              IKAH: %.4f%% (%d/%d)\"%(100*ikah_data[0]/ikah_data[1],ikah_data[0],ikah_data[1])) \n",
    "print(\"              DKAH: %.4f%% (%d/%d)\\n\"%(100*dkah_data[0]/dkah_data[1],dkah_data[0],dkah_data[1])) \n",
    "\n",
    "print(\"              IKBT: %.4f%% (%d/%d)\"%(100*ikbt_data[0]/ikbt_data[1],ikbt_data[0],ikbt_data[1])) \n",
    "print(\"              DKBT: %.4f%% (%d/%d)\\n\"%(100*dkbt_data[0]/dkbt_data[1],dkbt_data[0],dkbt_data[1]))\n",
    "\n",
    "\n",
    "\n",
    "\n"
   ]
  },
  {
   "cell_type": "code",
   "execution_count": null,
   "metadata": {},
   "outputs": [],
   "source": []
  },
  {
   "cell_type": "code",
   "execution_count": 48,
   "metadata": {},
   "outputs": [
    {
     "name": "stdout",
     "output_type": "stream",
     "text": [
      "N_check:  8.0\n"
     ]
    },
    {
     "data": {
      "image/png": "[encoded data removed]",
      "text/plain": [
       "<Figure size 432x288 with 1 Axes>"
      ]
     },
     "metadata": {
      "needs_background": "light"
     },
     "output_type": "display_data"
    }
   ],
   "source": [
    "print(\"N_check: \",pimc.N_tracker(data_struct,beta))\n",
    "pimc.view_worldlines(data_struct,beta,figure_name=None)"
   ]
  },
  {
   "cell_type": "markdown",
   "metadata": {},
   "source": [
    "### Process data"
   ]
  },
  {
   "cell_type": "code",
   "execution_count": 17,
   "metadata": {},
   "outputs": [
    {
     "name": "stdout",
     "output_type": "stream",
     "text": [
      "0\n"
     ]
    },
    {
     "name": "stderr",
     "output_type": "stream",
     "text": [
      "/Users/ecasiano/anaconda3/lib/python3.7/site-packages/numpy/core/fromnumeric.py:3118: RuntimeWarning: Mean of empty slice.\n",
      "  out=out, **kwargs)\n",
      "/Users/ecasiano/anaconda3/lib/python3.7/site-packages/numpy/core/_methods.py:85: RuntimeWarning: invalid value encountered in double_scalars\n",
      "  ret = ret.dtype.type(ret / rcount)\n"
     ]
    }
   ],
   "source": [
    "egs = np.mean(egs_list)\n",
    "n = np.mean(n_list)\n",
    "occ = np.mean(occ_list,axis=0)\n",
    "samples = len(egs_list)\n",
    "print(samples)"
   ]
  },
  {
   "cell_type": "code",
   "execution_count": null,
   "metadata": {},
   "outputs": [],
   "source": [
    "importlib.reload(pimc)\n",
    "print(\"Samples: %d\"%samples)\n",
    "print(\"-------- Ground State Energy --------\")\n",
    "print(\"PIMC: %.8f\"%egs)\n",
    "#print(\"Exact: %.8f\"%pimc.egs_theory(L,U,mu))\n",
    "print(\"-------- Average particles per site --------\")\n",
    "print(\"PIMC: %.8f\"%n)\n",
    "print(\"-------- Average occupation --------\")\n",
    "print(\"PIMC:\",occ)\n",
    "print(\"-------- Z-configuration fraction --------\")\n",
    "print(\"Z-fraction: %.2f%%\"%(Z_ctr/mc_steps*100))"
   ]
  },
  {
   "cell_type": "markdown",
   "metadata": {},
   "source": [
    "### Save data"
   ]
  },
  {
   "cell_type": "code",
   "execution_count": null,
   "metadata": {},
   "outputs": [],
   "source": [
    "egs_list = np.array(egs_list)\n",
    "with open(\"egs_%i_%i_%.4f_%.4f_%.4f_%i.dat\"%(L,N,U,mu,eta,mc_steps),\"w+\") as data:\n",
    "    np.savetxt(data,egs_list,delimiter=\",\",fmt=\"%.16f\",header=\"MC_step <E> // BH Parameters: L=%d,N=%d,U=%.8f,mu=%.8f,eta=%.8f,MC_steps=%i\"%(L,N,U,mu,eta,mc_steps))\n",
    "    \n",
    "n_list = np.array(n_list)\n",
    "with open(\"n_%i_%i_%.4f_%.4f_%.4f_%i.dat\"%(L,N,U,mu,eta,mc_steps),\"w+\") as data:\n",
    "    np.savetxt(data,n_list,delimiter=\",\",fmt=\"%.16f\",header=\"MC_step <n> // BH Parameters: L=%d,N=%d,U=%.8f,mu=%.8f,eta=%.8f,MC_steps=%i\"%(L,N,U,mu,eta,mc_steps))\n",
    "    \n",
    "occ_list = np.array(occ_list)\n",
    "with open(\"occ_%i_%i_%.4f_%.4f_%.4f_%i.dat\"%(L,N,U,mu,eta,mc_steps),\"w+\") as data:\n",
    "    np.savetxt(data,occ_list,delimiter=\",\",fmt=\"%.16f\",header=\"MC_step <n_i> // BH Parameters: L=%d,N=%d,U=%.8f,mu=%.8f,eta=%.8f,MC_steps=%i\"%(L,N,U,mu,eta,mc_steps))    "
   ]
  },
  {
   "cell_type": "code",
   "execution_count": null,
   "metadata": {},
   "outputs": [],
   "source": []
  },
  {
   "cell_type": "code",
   "execution_count": null,
   "metadata": {},
   "outputs": [],
   "source": []
  },
  {
   "cell_type": "code",
   "execution_count": null,
   "metadata": {},
   "outputs": [],
   "source": []
  }
 ],
 "metadata": {
  "kernelspec": {
   "display_name": "Python 3",
   "language": "python",
   "name": "python3"
  },
  "language_info": {
   "codemirror_mode": {
    "name": "ipython",
    "version": 3
   },
   "file_extension": ".py",
   "mimetype": "text/x-python",
   "name": "python",
   "nbconvert_exporter": "python",
   "pygments_lexer": "ipython3",
   "version": "3.7.3"
  }
 },
 "nbformat": 4,
 "nbformat_minor": 4
}
