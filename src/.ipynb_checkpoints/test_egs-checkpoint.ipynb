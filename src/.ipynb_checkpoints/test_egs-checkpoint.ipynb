{
 "cells": [
  {
   "cell_type": "markdown",
   "metadata": {},
   "source": [
    "### Compare theoretical and ground state energy at unit filling"
   ]
  },
  {
   "cell_type": "code",
   "execution_count": 1,
   "metadata": {},
   "outputs": [
    {
     "data": {
      "text/plain": [
       "<module 'pimc' from '/Users/ecasiano/Desktop/LatticePIMC/src/pimc.py'>"
      ]
     },
     "execution_count": 1,
     "metadata": {},
     "output_type": "execute_result"
    }
   ],
   "source": [
    "import numpy as np\n",
    "import bisect\n",
    "import matplotlib.pyplot as plt\n",
    "import pimc # custom module\n",
    "from scipy.stats import truncexpon\n",
    "from scipy.integrate import quad, simps\n",
    "import importlib\n",
    "importlib.reload(pimc)"
   ]
  },
  {
   "cell_type": "markdown",
   "metadata": {},
   "source": [
    "### Simulation parameters"
   ]
  },
  {
   "cell_type": "code",
   "execution_count": 2,
   "metadata": {},
   "outputs": [
    {
     "data": {
      "image/png": "[encoded data removed]",
      "text/plain": [
       "<Figure size 432x288 with 1 Axes>"
      ]
     },
     "metadata": {
      "needs_background": "light"
     },
     "output_type": "display_data"
    }
   ],
   "source": [
    "importlib.reload(pimc)\n",
    "# Simulation parameters\n",
    "t = 0\n",
    "U = 1\n",
    "mu = 1\n",
    "L = 4\n",
    "N = 4\n",
    "    \n",
    "# PIMC parameters\n",
    "beta = 1\n",
    "eta = 1      # worm end fugacity\n",
    "#eta = 1/np.sqrt(L*beta)\n",
    "\n",
    "# Canonical or Grand Canonical?\n",
    "canonical = False # False means Grand Canonical\n",
    "\n",
    "# Create a random worldline configuration\n",
    "alpha = pimc.random_boson_config(L,N)\n",
    "#alpha = [1,1,1,1]\n",
    "data_struct = pimc.create_data_struct(alpha)\n",
    "head_loc = []\n",
    "tail_loc = []\n",
    "pimc.view_worldlines(data_struct,beta,figure_name=None)"
   ]
  },
  {
   "cell_type": "markdown",
   "metadata": {},
   "source": [
    "### Do many iterations of the set of PIMC-WA updates"
   ]
  },
  {
   "cell_type": "code",
   "execution_count": 3,
   "metadata": {},
   "outputs": [],
   "source": [
    "importlib.reload(pimc)\n",
    "# Do insert many times on the above configuration\n",
    "data_struct = pimc.create_data_struct(alpha)\n",
    "head_loc = []\n",
    "tail_loc = []\n",
    "mc_steps = int(1E+05)\n",
    "egs_list = []\n",
    "n_list = []\n",
    "occ_list = []\n",
    "\n",
    "# Counters for acceptance of each move\n",
    "acc_insert = 0\n",
    "acc_delete = 0\n",
    "acc_timeshift = 0\n",
    "acc_insert_zero = 0\n",
    "acc_delete_zero = 0\n",
    "acc_insert_beta = 0\n",
    "acc_delete_beta = 0\n",
    "# Counters for proposal of each move\n",
    "prop_insert = 0\n",
    "prop_delete = 0\n",
    "prop_timeshift = 0\n",
    "prop_insert_zero = 0\n",
    "prop_delete_zero = 0\n",
    "prop_insert_beta = 0\n",
    "prop_delete_beta = 0\n",
    "for m in range(mc_steps):\n",
    "    \n",
    "    # Propose all moves sequentially\n",
    "    result = pimc.worm_insert(data_struct,beta,head_loc,tail_loc,U,mu,eta,canonical,N)\n",
    "    if result != None:\n",
    "        prop_insert += 1\n",
    "        acc_insert += result\n",
    "        \n",
    "    result = pimc.worm_delete(data_struct,beta,head_loc,tail_loc,U,mu,eta,canonical,N)\n",
    "    if result != None:\n",
    "        prop_delete += 1\n",
    "        acc_delete += result\n",
    "    \n",
    "    result = pimc.worm_timeshift(data_struct,beta,head_loc,tail_loc,U,mu,canonical,N)\n",
    "    if result != None:\n",
    "        prop_timeshift += 1\n",
    "        acc_timeshift += result\n",
    "        \n",
    "    result = pimc.insert_gsworm_zero(data_struct,beta,head_loc,tail_loc,U,mu,eta,canonical,N)\n",
    "    if result != None:\n",
    "        prop_insert_zero += 1\n",
    "        acc_insert_zero += result\n",
    "        \n",
    "    result = pimc.delete_gsworm_zero(data_struct,beta,head_loc,tail_loc,U,mu,eta,canonical,N)\n",
    "    if result != None:\n",
    "        prop_delete_zero += 1\n",
    "        acc_delete_zero += result\n",
    "        \n",
    "    result = pimc.insert_gsworm_beta(data_struct,beta,head_loc,tail_loc,U,mu,eta,canonical,N)\n",
    "    if result != None:\n",
    "        prop_insert_beta += 1\n",
    "        acc_insert_beta += result\n",
    "        \n",
    "    result = pimc.delete_gsworm_beta(data_struct,beta,head_loc,tail_loc,U,mu,eta,canonical,N)\n",
    "    if result != None:\n",
    "        prop_delete_beta += 1\n",
    "        acc_delete_beta += result\n",
    "    \n",
    "    # Calculate observables when there are no worms present\n",
    "    if m >= 0.25*mc_steps and m%L==0: # Ignore unequilibrated data\n",
    "        if head_loc == [] and tail_loc == []:\n",
    "            egs_list.append(pimc.egs_pimc(data_struct,beta,U,mu)) # <E>\n",
    "            n_list.append(pimc.n_pimc(data_struct,beta)/L) # <n>\n",
    "            occ_list.append(pimc.n_i_pimc(data_struct,beta))"
   ]
  },
  {
   "cell_type": "code",
   "execution_count": 4,
   "metadata": {},
   "outputs": [
    {
     "data": {
      "image/png": "[encoded data removed]",
      "text/plain": [
       "<Figure size 432x288 with 1 Axes>"
      ]
     },
     "metadata": {
      "needs_background": "light"
     },
     "output_type": "display_data"
    },
    {
     "data": {
      "text/plain": [
       "([3, 1], [])"
      ]
     },
     "execution_count": 4,
     "metadata": {},
     "output_type": "execute_result"
    }
   ],
   "source": [
    "pimc.view_worldlines(data_struct,beta,figure_name=None)\n",
    "head_loc,tail_loc"
   ]
  },
  {
   "cell_type": "code",
   "execution_count": 5,
   "metadata": {},
   "outputs": [
    {
     "name": "stdout",
     "output_type": "stream",
     "text": [
      "-------- Acceptance Ratios --------\n",
      "          Insert: 82.6667% (975)\n",
      "          Delete: 5.4663% (21660)\n",
      "       Timeshift: 100.0000% (98647)\n",
      "Insert from zero: 58.8803% (29402)\n",
      "Delete from zero: 16.5630% (100000)\n",
      "Insert from beta: 64.4188% (28768)\n",
      "Delete from beta: 18.5240% (100000)\n"
     ]
    }
   ],
   "source": [
    "# Acceptance ratios\n",
    "print(\"-------- Acceptance Ratios --------\")\n",
    "print(\"          Insert: %.4f%% (%d)\"%(100*acc_insert/prop_insert,prop_insert))\n",
    "print(\"          Delete: %.4f%% (%d)\"%(100*acc_delete/prop_delete,prop_delete))\n",
    "print(\"       Timeshift: %.4f%% (%d)\"%(100*acc_timeshift/prop_timeshift,prop_timeshift))\n",
    "print(\"Insert from zero: %.4f%% (%d)\"%(100*acc_insert_zero/prop_insert_zero,prop_insert_zero))\n",
    "print(\"Delete from zero: %.4f%% (%d)\"%(100*acc_delete_zero/prop_delete_zero,prop_delete_zero))\n",
    "print(\"Insert from beta: %.4f%% (%d)\"%(100*acc_insert_beta/prop_insert_beta,prop_insert_beta))\n",
    "print(\"Delete from beta: %.4f%% (%d)\"%(100*acc_delete_beta/prop_delete_beta,prop_delete_beta))"
   ]
  },
  {
   "cell_type": "code",
   "execution_count": 7,
   "metadata": {},
   "outputs": [
    {
     "name": "stdout",
     "output_type": "stream",
     "text": [
      "N_check:  4.8701340967769315\n"
     ]
    },
    {
     "data": {
      "image/png": "[encoded data removed]",
      "text/plain": [
       "<Figure size 432x288 with 1 Axes>"
      ]
     },
     "metadata": {
      "needs_background": "light"
     },
     "output_type": "display_data"
    }
   ],
   "source": [
    "print(\"N_check: \",pimc.N_tracker(data_struct,beta))\n",
    "pimc.view_worldlines(data_struct,beta,figure_name=None)"
   ]
  },
  {
   "cell_type": "markdown",
   "metadata": {},
   "source": [
    "### Process data"
   ]
  },
  {
   "cell_type": "code",
   "execution_count": 303,
   "metadata": {},
   "outputs": [
    {
     "name": "stdout",
     "output_type": "stream",
     "text": [
      "376\n"
     ]
    }
   ],
   "source": [
    "egs = np.mean(egs_list)\n",
    "n = np.mean(n_list)\n",
    "occ = np.mean(occ_list,axis=0)\n",
    "samples = len(egs_list)\n",
    "print(samples)"
   ]
  },
  {
   "cell_type": "code",
   "execution_count": 304,
   "metadata": {},
   "outputs": [
    {
     "name": "stdout",
     "output_type": "stream",
     "text": [
      "Samples: 376\n",
      "-------- Ground State Energy --------\n",
      "PIMC: 0.16755319\n",
      "-------- Average particles per site --------\n",
      "PIMC: 1.00000000\n",
      "-------- Average occupation --------\n",
      "PIMC: [1.03457447 0.9893617  0.95212766 1.02393617]\n"
     ]
    }
   ],
   "source": [
    "importlib.reload(pimc)\n",
    "print(\"Samples: %d\"%samples)\n",
    "print(\"-------- Ground State Energy --------\")\n",
    "print(\"PIMC: %.8f\"%egs)\n",
    "#print(\"Exact: %.8f\"%pimc.egs_theory(L,U,mu))\n",
    "print(\"-------- Average particles per site --------\")\n",
    "print(\"PIMC: %.8f\"%n)\n",
    "print(\"-------- Average occupation --------\")\n",
    "print(\"PIMC:\",occ)"
   ]
  },
  {
   "cell_type": "code",
   "execution_count": null,
   "metadata": {},
   "outputs": [],
   "source": []
  },
  {
   "cell_type": "code",
   "execution_count": null,
   "metadata": {},
   "outputs": [],
   "source": []
  },
  {
   "cell_type": "code",
   "execution_count": null,
   "metadata": {},
   "outputs": [],
   "source": []
  },
  {
   "cell_type": "markdown",
   "metadata": {},
   "source": [
    "### Running average as a function of sample number"
   ]
  },
  {
   "cell_type": "code",
   "execution_count": 16,
   "metadata": {},
   "outputs": [],
   "source": [
    "egs_mean = np.zeros(samples)\n",
    "egs_total = 0\n",
    "for i in range(samples):\n",
    "    egs_total += egs_list[i]\n",
    "    egs_mean[i] = egs_total/(i+1)"
   ]
  },
  {
   "cell_type": "code",
   "execution_count": null,
   "metadata": {},
   "outputs": [],
   "source": [
    "sample_list = list(range(samples))\n",
    "plt.plot(range(samples),egs_mean)\n",
    "#plt.axhline()\n",
    "plt.ylabel(r'$\\langle E \\rangle$')\n",
    "plt.xlabel(r'$\\mathrm{sample}$')\n",
    "plt.savefig('egs_%i_%i_%.4f_%.4f_%.4f_%i.pdf'%(L,N,U,mu,eta,mc_steps))"
   ]
  },
  {
   "cell_type": "code",
   "execution_count": null,
   "metadata": {},
   "outputs": [],
   "source": []
  },
  {
   "cell_type": "code",
   "execution_count": null,
   "metadata": {},
   "outputs": [],
   "source": []
  },
  {
   "cell_type": "markdown",
   "metadata": {},
   "source": [
    "### Save data"
   ]
  },
  {
   "cell_type": "code",
   "execution_count": 10,
   "metadata": {},
   "outputs": [
    {
     "data": {
      "text/plain": [
       "0.4"
      ]
     },
     "execution_count": 10,
     "metadata": {},
     "output_type": "execute_result"
    }
   ],
   "source": [
    "egs_list = np.array(egs_list)\n",
    "with open(\"egs_%i_%i_%.4f_%.4f_%.4f_%i.dat\"%(L,N,U,mu,eta,mc_steps),\"w+\") as data:\n",
    "    np.savetxt(data,egs_list,delimiter=\",\",fmt=\"%.16f\",header=\"MC_step <E> // BH Parameters: L=%d,N=%d,U=%.8f,mu=%.8f,eta=%.8f,MC_steps=%i\"%(L,N,U,mu,eta,mc_steps))\n",
    "    \n",
    "n_list = np.array(n_list)\n",
    "with open(\"n_%i_%i_%.4f_%.4f_%.4f_%i.dat\"%(L,N,U,mu,eta,mc_steps),\"w+\") as data:\n",
    "    np.savetxt(data,n_list,delimiter=\",\",fmt=\"%.16f\",header=\"MC_step <n> // BH Parameters: L=%d,N=%d,U=%.8f,mu=%.8f,eta=%.8f,MC_steps=%i\"%(L,N,U,mu,eta,mc_steps))\n",
    "    \n",
    "occ_list = np.array(occ_list)\n",
    "with open(\"occ_%i_%i_%.4f_%.4f_%.4f_%i.dat\"%(L,N,U,mu,eta,mc_steps),\"w+\") as data:\n",
    "    np.savetxt(data,occ_list,delimiter=\",\",fmt=\"%.16f\",header=\"MC_step <n_i> // BH Parameters: L=%d,N=%d,U=%.8f,mu=%.8f,eta=%.8f,MC_steps=%i\"%(L,N,U,mu,eta,mc_steps))    \n",
    "    \n",
    "    \n",
    "    "
   ]
  },
  {
   "cell_type": "code",
   "execution_count": null,
   "metadata": {},
   "outputs": [],
   "source": []
  },
  {
   "cell_type": "code",
   "execution_count": null,
   "metadata": {},
   "outputs": [],
   "source": []
  },
  {
   "cell_type": "markdown",
   "metadata": {},
   "source": [
    "### Test the total particle number tracker"
   ]
  },
  {
   "cell_type": "code",
   "execution_count": 4,
   "metadata": {},
   "outputs": [
    {
     "data": {
      "image/png": "[encoded data removed]",
      "text/plain": [
       "<Figure size 432x288 with 1 Axes>"
      ]
     },
     "metadata": {
      "needs_background": "light"
     },
     "output_type": "display_data"
    }
   ],
   "source": [
    "importlib.reload(pimc)\n",
    "# Simulation parameters\n",
    "N = 4\n",
    "L = N   # unit-filling\n",
    "t = 0\n",
    "U = 1\n",
    "n_min = 1\n",
    "mu = U*(n_min-1/2)\n",
    "mu = 0\n",
    "\n",
    "canonical = True # False for Grand Canonical simulation\n",
    "    \n",
    "# PIMC parameters\n",
    "beta = 1\n",
    "eta = 1\n",
    "#eta = 1/np.sqrt(L*beta)      # worm end fugacity\n",
    "\n",
    "# Create unit filling initial configuration\n",
    "alpha = []\n",
    "for i in range(L):\n",
    "    alpha.append(1)\n",
    "alpha\n",
    "\n",
    "alpha = [0,2,2,0]\n",
    "\n",
    "data_struct = pimc.create_data_struct(alpha)\n",
    "#data_struct[0].append([beta/2,0,(0,0)])\n",
    "#data_struct[3].append([3*beta/4,0,(3,3)])\n",
    "\n",
    "head_loc = []\n",
    "tail_loc = []\n",
    "pimc.view_worldlines(data_struct,beta,figure_name=None)"
   ]
  },
  {
   "cell_type": "code",
   "execution_count": 6,
   "metadata": {},
   "outputs": [
    {
     "data": {
      "text/plain": [
       "4.0"
      ]
     },
     "execution_count": 6,
     "metadata": {},
     "output_type": "execute_result"
    }
   ],
   "source": [
    "N_check = pimc.N_tracker(data_struct,beta)\n",
    "egs = pimc.egs_pimc(data_struct,beta,U,mu)\n",
    "N_check"
   ]
  },
  {
   "cell_type": "code",
   "execution_count": null,
   "metadata": {},
   "outputs": [],
   "source": []
  },
  {
   "cell_type": "code",
   "execution_count": null,
   "metadata": {},
   "outputs": [],
   "source": [
    "# # Determine the menu of moves based on the worm ends present\n",
    "    \n",
    "#     # --- Restaurant 0: Configurations with no worm ends ---\n",
    "#     # Menu 0: No worm ends present\n",
    "#     if head_loc == [] and tail_loc == []:\n",
    "#         N_moves = 1\n",
    "#         p_move = 1/N_moves\n",
    "#         prop_insert += 1\n",
    "#         acc_insert += pimc.worm_insert(data_struct,beta,head_loc,tail_loc,U,mu,eta,canonical,N)\n",
    "    \n",
    "#     # --- Restaurant 1: Configurations with only one worm end ---\n",
    "#     elif (head_loc!=[] and tail_loc==[]) or (head_loc==[] and tail_loc!=[]):\n",
    "        \n",
    "#         if head_loc!=[]:\n",
    "#             x = head_loc[0]\n",
    "#             k = head_loc[1]\n",
    "#         else:\n",
    "#             x = tail_loc[0]\n",
    "#             k = tail_loc[1]\n",
    "#         flats = len(data_struct[x])\n",
    "        \n",
    "#         if k == 1 or k == flats-1:\n",
    "#             is_edge = True\n",
    "#         else:\n",
    "#             is_edge = False\n",
    "            \n",
    "#         if k == 1 and k == flats-1:\n",
    "#             is_firstlast = True\n",
    "#         else:\n",
    "#             is_firstlast = False\n",
    "        \n",
    "#         if not(is_firstlast):\n",
    "#             if k == 1:\n",
    "#                 is_first = True\n",
    "#             if k == flats - 1:\n",
    "#                 is_first = False\n",
    "        \n",
    "#         # Menu 1a: Worm end near zero\n",
    "#         if is_edge and not(is_firstlast) and is_first:\n",
    "#             N_moves = 3\n",
    "#             r = np.random.randint(N_moves)\n",
    "#             p_move = 1/N_moves\n",
    "#             if r==0:\n",
    "#                 prop_timeshift +=1\n",
    "#                 acc_timeshift += pimc.worm_timeshift(data_struct,beta,head_loc,tail_loc,U,mu,canonical,N)\n",
    "#             elif r==1:\n",
    "#                 prop_insert_zero += 1\n",
    "#                 acc_insert_zero += pimc.insert_gsworm_zero(data_struct,beta,head_loc,tail_loc,U,mu,eta,canonical,N)\n",
    "#             else: # r==2\n",
    "#                 prop_delete_zero += 1\n",
    "#                 acc_delete_zero += pimc.delete_gsworm_zero(data_struct,beta,head_loc,tail_loc,U,mu,eta,canonical,N)\n",
    "\n",
    "#         # Menu 1b: Worm end near beta\n",
    "#         elif is_edge and not(is_firstlast) and not(is_first):\n",
    "#             N_moves = 3\n",
    "#             r = np.random.randint(N_moves)\n",
    "#             p_move = 1/N_moves\n",
    "#             if r==0:\n",
    "#                 prop_timeshift +=1\n",
    "#                 acc_timeshift += pimc.worm_timeshift(data_struct,beta,head_loc,tail_loc,U,mu,canonical,N)\n",
    "#             elif r==1:\n",
    "#                 prop_insert_beta += 1\n",
    "#                 acc_insert_beta += pimc.insert_gsworm_beta(data_struct,beta,head_loc,tail_loc,U,mu,eta,canonical,N)\n",
    "#             else: # r==2\n",
    "#                 prop_delete_beta += 1\n",
    "#                 acc_delete_beta += pimc.delete_gsworm_beta(data_struct,beta,head_loc,tail_loc,U,mu,eta,canonical,N)\n",
    "                \n",
    "#         # Menu 1c: Worm end near zero and beta simultaneously\n",
    "#         elif is_edge and is_firstlast:\n",
    "#             N_moves = 5\n",
    "#             r = np.random.randint(N_moves)\n",
    "#             p_move = 1/N_moves\n",
    "#             if r==0:\n",
    "#                 prop_timeshift +=1\n",
    "#                 acc_timeshift += pimc.worm_timeshift(data_struct,beta,head_loc,tail_loc,U,mu,canonical,N)\n",
    "#             elif r==1:\n",
    "#                 prop_insert_zero += 1\n",
    "#                 acc_insert_zero += pimc.insert_gsworm_zero(data_struct,beta,head_loc,tail_loc,U,mu,eta,canonical,N)\n",
    "#             elif r==2:\n",
    "#                 prop_delete_zero += 1\n",
    "#                 acc_delete_zero += pimc.delete_gsworm_zero(data_struct,beta,head_loc,tail_loc,U,mu,eta,canonical,N)\n",
    "#             elif r==3:\n",
    "#                 prop_insert_beta += 1\n",
    "#                 acc_insert_beta += pimc.insert_gsworm_beta(data_struct,beta,head_loc,tail_loc,U,mu,eta,canonical,N)\n",
    "#             else: # r==4\n",
    "#                 prop_delete_beta += 1\n",
    "#                 acc_delete_beta += pimc.delete_gsworm_beta(data_struct,beta,head_loc,tail_loc,U,mu,eta,canonical,N)\n",
    "                \n",
    "#         # Menu 1d: Worm end far from either edge\n",
    "#         else:\n",
    "#             N_moves = 1\n",
    "#             p_move = 1/N_moves\n",
    "#             prop_timeshift +=1\n",
    "#             acc_timeshift += pimc.worm_timeshift(data_struct,beta,head_loc,tail_loc,U,mu,canonical,N)\n",
    "              \n",
    "#     # --- Restaurant 2: Configurations with TWO WORM ENDS on DIFFERENT FLATS ---\n",
    "#     elif (head_loc!=[] and tail_loc!=[]) and np.abs(head_loc[1]-tail_loc[1]!=1):\n",
    "        \n",
    "#         hx,hk = head_loc[0],head_loc[1]\n",
    "#         tx,tk = tail_loc[0],tail_loc[1]\n",
    "        \n",
    "#         h_flats = len(data_struct[hx])\n",
    "#         t_flats = len(data_struct[tx])\n",
    "        \n",
    "#         # Menu 3a: One worm end near zero, one near beta\n",
    "#         if (hk==1 and tk==t_flats-1) or (hk==h_flats-1 and tk==1):\n",
    "#             N_moves = 3\n",
    "#             r = np.random.randint(N_moves)\n",
    "#             p_move = 1/N_moves\n",
    "#             if r==0:\n",
    "#                 prop_timeshift +=1\n",
    "#                 acc_timeshift += pimc.worm_timeshift(data_struct,beta,head_loc,tail_loc,U,mu,canonical,N)\n",
    "#             elif r==1:\n",
    "#                 prop_delete_zero += 1\n",
    "#                 acc_delete_zero += pimc.delete_gsworm_zero(data_struct,beta,head_loc,tail_loc,U,mu,eta,canonical,N)\n",
    "#             else: # r==2\n",
    "#                 prop_delete_beta += 1\n",
    "#                 acc_delete_beta += pimc.delete_gsworm_zero(data_struct,beta,head_loc,tail_loc,U,mu,eta,canonical,N)\n",
    "                \n",
    "#         # Menu 3b: At least one worm end near zero, none near beta\n",
    "#         elif hk==1 or tk==1:\n",
    "#             N_moves = 2\n",
    "#             r = np.random.randint(N_moves)\n",
    "#             p_move = 1/N_moves\n",
    "#             if r==0:\n",
    "#                 prop_timeshift +=1\n",
    "#                 acc_timeshift += pimc.worm_timeshift(data_struct,beta,head_loc,tail_loc,U,mu,canonical,N)\n",
    "#             else: # r==1\n",
    "#                 prop_delete_zero += 1\n",
    "#                 acc_delete_zero += pimc.delete_gsworm_zero(data_struct,beta,head_loc,tail_loc,U,mu,eta,canonical,N)   \n",
    "\n",
    "#         # Menu 3c: At least one worm end near beta, none near zero\n",
    "#         elif hk==h_flats-1 or tk==t_flats-1:\n",
    "#             N_moves = 2\n",
    "#             r = np.random.randint(N_moves)\n",
    "#             p_move = 1/N_moves\n",
    "#             if r==0:\n",
    "#                 prop_timeshift +=1\n",
    "#                 acc_timeshift += pimc.worm_timeshift(data_struct,beta,head_loc,tail_loc,U,mu,canonical,N)\n",
    "#             else: # r==1\n",
    "#                 prop_delete_beta += 1\n",
    "#                 acc_delete_beta += pimc.delete_gsworm_beta(data_struct,beta,head_loc,tail_loc,U,mu,eta,canonical,N)\n",
    "            \n",
    "#         # Menu 3d: Neither worm end near edge\n",
    "#         else:\n",
    "#             N_moves = 1\n",
    "#             p_move = 1/N_moves\n",
    "#             prop_timeshift +=1\n",
    "#             acc_timeshift += pimc.worm_timeshift(data_struct,beta,head_loc,tail_loc,U,mu,canonical,N)\n",
    "                \n",
    "#     # --- Restaurant 3: Configurations with TWO WORM ENDS on SAME FLAT ---\n",
    "#     else:\n",
    "        \n",
    "#         hx,hk = head_loc[0],head_loc[1]\n",
    "#         tx,tk = tail_loc[0],tail_loc[1]\n",
    "        \n",
    "#         h_flats = len(data_struct[hx])\n",
    "#         t_flats = len(data_struct[tx])\n",
    "        \n",
    "#         # Menu 3a: One worm end near zero, one near beta\n",
    "#         if (hk==1 and tk==t_flats-1) or (hk==h_flats-1 and tk==1):\n",
    "#             N_moves = 4\n",
    "#             r = np.random.randint(N_moves)\n",
    "#             p_move = 1/N_moves\n",
    "#             if r==0:\n",
    "#                 prop_delete += 1\n",
    "#                 acc_delete += pimc.worm_delete(data_struct,beta,head_loc,tail_loc,U,mu,eta,canonical,N)\n",
    "#             elif r==1:\n",
    "#                 prop_timeshift +=1\n",
    "#                 acc_timeshift += pimc.worm_timeshift(data_struct,beta,head_loc,tail_loc,U,mu,canonical,N)\n",
    "#             elif r==2:\n",
    "#                 prop_delete_zero += 1\n",
    "#                 acc_delete_zero += pimc.delete_gsworm_zero(data_struct,beta,head_loc,tail_loc,U,mu,eta,canonical,N)\n",
    "#             else: # r==3\n",
    "#                 prop_delete_beta += 1\n",
    "#                 acc_delete_beta += pimc.delete_gsworm_zero(data_struct,beta,head_loc,tail_loc,U,mu,eta,canonical,N)\n",
    "                \n",
    "#         # Menu 3b: At least one worm end near zero, none near beta\n",
    "#         elif hk==1 or tk==1:\n",
    "#             N_moves = 3\n",
    "#             r = np.random.randint(N_moves)\n",
    "#             p_move = 1/N_moves\n",
    "#             if r==0:\n",
    "#                 prop_delete += 1\n",
    "#                 acc_delete += pimc.worm_delete(data_struct,beta,head_loc,tail_loc,U,mu,eta,canonical,N)\n",
    "#             elif r==1:\n",
    "#                 prop_timeshift +=1\n",
    "#                 acc_timeshift += pimc.worm_timeshift(data_struct,beta,head_loc,tail_loc,U,mu,canonical,N)\n",
    "#             else: # r==2\n",
    "#                 prop_delete_zero += 1\n",
    "#                 acc_delete_zero += pimc.delete_gsworm_zero(data_struct,beta,head_loc,tail_loc,U,mu,eta,canonical,N)   \n",
    "\n",
    "#         # Menu 3c: At least one worm end near beta, none near zero\n",
    "#         elif hk==h_flats-1 or tk==t_flats-1:\n",
    "#             N_moves = 3\n",
    "#             r = np.random.randint(N_moves)\n",
    "#             p_move = 1/N_moves\n",
    "#             if r==0:\n",
    "#                 prop_delete += 1\n",
    "#                 acc_delete += pimc.worm_delete(data_struct,beta,head_loc,tail_loc,U,mu,eta,canonical,N)\n",
    "#             elif r==1:\n",
    "#                 prop_timeshift +=1\n",
    "#                 acc_timeshift += pimc.worm_timeshift(data_struct,beta,head_loc,tail_loc,U,mu,canonical,N)\n",
    "#             else: # r==2\n",
    "#                 prop_delete_beta += 1\n",
    "#                 acc_delete_beta += pimc.delete_gsworm_beta(data_struct,beta,head_loc,tail_loc,U,mu,eta,canonical,N)\n",
    "        \n",
    "#         # Menu 3d: Neither worm end near edge\n",
    "#         else:\n",
    "#             N_moves = 3\n",
    "#             r = np.random.randint(N_moves)\n",
    "#             p_move = 1/N_moves\n",
    "#             if r==0:\n",
    "#                 prop_delete += 1\n",
    "#                 acc_delete += pimc.worm_delete(data_struct,beta,head_loc,tail_loc,U,mu,eta,canonical,N)\n",
    "#             else: # r==1\n",
    "#                 prop_timeshift +=1\n",
    "#                 acc_timeshift += pimc.worm_timeshift(data_struct,beta,head_loc,tail_loc,U,mu,canonical,N)"
   ]
  }
 ],
 "metadata": {
  "kernelspec": {
   "display_name": "Python 3",
   "language": "python",
   "name": "python3"
  },
  "language_info": {
   "codemirror_mode": {
    "name": "ipython",
    "version": 3
   },
   "file_extension": ".py",
   "mimetype": "text/x-python",
   "name": "python",
   "nbconvert_exporter": "python",
   "pygments_lexer": "ipython3",
   "version": "3.7.3"
  }
 },
 "nbformat": 4,
 "nbformat_minor": 4
}
