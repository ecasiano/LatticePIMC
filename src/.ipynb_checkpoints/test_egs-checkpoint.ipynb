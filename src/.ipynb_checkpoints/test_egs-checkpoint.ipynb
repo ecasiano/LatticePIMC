{
 "cells": [
  {
   "cell_type": "markdown",
   "metadata": {},
   "source": [
    "### Compare theoretical and ground state energy at unit filling"
   ]
  },
  {
   "cell_type": "code",
   "execution_count": 3,
   "metadata": {},
   "outputs": [
    {
     "data": {
      "text/plain": [
       "<module 'pimc' from '/home/ecasiano/LatticePIMC/src/pimc.py'>"
      ]
     },
     "execution_count": 3,
     "metadata": {},
     "output_type": "execute_result"
    }
   ],
   "source": [
    "import numpy as np\n",
    "import matplotlib.pyplot as plt\n",
    "import pimc\n",
    "import importlib"
   ]
  },
  {
   "cell_type": "markdown",
   "metadata": {},
   "source": [
    "### Theoretical ground state energy (no hopping)"
   ]
  },
  {
   "cell_type": "code",
   "execution_count": 4,
   "metadata": {},
   "outputs": [],
   "source": [
    "def egs_theory(L,U,mu):\n",
    "    '''Calculates BH model theoretical ground state energy with no hopping'''\n",
    "    \n",
    "    # NOTE: This works for unit filling (not sure if otherwise works)\n",
    "    n_min = 0.5 + mu/U\n",
    "    egs = L*U/2 * n_min * (n_min-1) - L*mu*n_min\n",
    "    \n",
    "    return egs"
   ]
  },
  {
   "cell_type": "markdown",
   "metadata": {},
   "source": [
    "### Experimental ground state energy"
   ]
  },
  {
   "cell_type": "code",
   "execution_count": 3,
   "metadata": {},
   "outputs": [],
   "source": [
    "def egs_pimc(data_struct,beta,head_loc,tail_loc,U,mu):\n",
    "    '''Calculates pimc ground state energy at time slice tau=beta/2'''\n",
    "    \n",
    "    # Can only count observables when no worm end is present\n",
    "    if head_loc != [] or tail_loc != [] : return None\n",
    "\n",
    "    # Number of lattice sites\n",
    "    L = len(data_struct)\n",
    "    \n",
    "    # BoseHubbard Energy (for no hopping)\n",
    "    egs = 0\n",
    "    for i in range(L):\n",
    "        N_flats = len(data_struct[i]) # Number of flats on site i\n",
    "        for k in range(N_flats):\n",
    "            if data_struct[i][k][0] > beta/2: break\n",
    "            else:\n",
    "                tau = data_struct[i][k][0]\n",
    "                n_i = data_struct[i][k][1]\n",
    "        \n",
    "        # add energy contribution at \n",
    "        egs += (U/2)*n_i*(n_i-1)-mu*n_i\n",
    "\n",
    "    return egs"
   ]
  },
  {
   "cell_type": "markdown",
   "metadata": {},
   "source": [
    "### Simulation parameters"
   ]
  },
  {
   "cell_type": "code",
   "execution_count": 99,
   "metadata": {},
   "outputs": [],
   "source": [
    "# Simulation parameters\n",
    "N = 4\n",
    "L = N   # unit-filling\n",
    "t = 0\n",
    "U = 1\n",
    "mu = -0.1\n",
    "    \n",
    "# PIMC parameters\n",
    "beta = 1\n",
    "eta = 1/np.sqrt(L*beta)      # worm end fugacity"
   ]
  },
  {
   "cell_type": "markdown",
   "metadata": {},
   "source": [
    "### Create worldline configuration"
   ]
  },
  {
   "cell_type": "code",
   "execution_count": 100,
   "metadata": {},
   "outputs": [
    {
     "data": {
      "text/plain": [
       "[1, 1, 1, 1]"
      ]
     },
     "execution_count": 100,
     "metadata": {},
     "output_type": "execute_result"
    }
   ],
   "source": [
    "alpha = []\n",
    "for i in range(L):\n",
    "    alpha.append(1)\n",
    "alpha"
   ]
  },
  {
   "cell_type": "code",
   "execution_count": 135,
   "metadata": {},
   "outputs": [
    {
     "data": {
      "image/png": "[encoded data removed]",
      "text/plain": [
       "<Figure size 432x288 with 1 Axes>"
      ]
     },
     "metadata": {
      "needs_background": "light"
     },
     "output_type": "display_data"
    }
   ],
   "source": [
    "data_struct = pimc.create_data_struct(alpha)\n",
    "head_loc = []\n",
    "tail_loc = []\n",
    "pimc.view_worldlines(data_struct,beta,figure_name=None)"
   ]
  },
  {
   "cell_type": "markdown",
   "metadata": {},
   "source": [
    "### Do many iterations of the set of PIMC-WA updates"
   ]
  },
  {
   "cell_type": "code",
   "execution_count": 148,
   "metadata": {},
   "outputs": [],
   "source": [
    "importlib.reload(pimc)\n",
    "# Do insert many times on the above configuration\n",
    "data_struct = pimc.create_data_struct(alpha)\n",
    "head_loc = []\n",
    "tail_loc = []\n",
    "mc_steps = int(0.15E+02)\n",
    "for m in range(mc_steps):\n",
    "    a = 1\n",
    "    #pimc.worm_insert(data_struct,beta,head_loc,tail_loc,U,mu,eta)\n",
    "    #pimc.worm_delete(data_struct,beta,head_loc,tail_loc,U,mu,eta)\n",
    "    #pimc.worm_timeshift(data_struct,beta,head_loc,tail_loc, U, mu)\n",
    "    pimc.insert_gsworm_zero(data_struct,beta,head_loc,tail_loc,U,mu,eta)\n",
    "    #print(\"Before\")\n",
    "    #pimc.view_worldlines(data_struct,beta,figure_name=None)\n",
    "    #pimc.delete_gsworm_zero(data_struct, beta, head_loc, tail_loc, U, mu, eta)\n",
    "    #print(\"After\")\n",
    "    #pimc.view_worldlines(data_struct,beta,figure_name=None)\n",
    "    #pimc.insert_gsworm_beta(data_struct,beta,head_loc,tail_loc,U,mu,eta)\n",
    "    #pimc.delete_gsworm_beta(data_struct, beta, head_loc, tail_loc, U, mu, eta)"
   ]
  },
  {
   "cell_type": "code",
   "execution_count": 149,
   "metadata": {},
   "outputs": [
    {
     "data": {
      "image/png": "[encoded data removed]",
      "text/plain": [
       "<Figure size 432x288 with 1 Axes>"
      ]
     },
     "metadata": {
      "needs_background": "light"
     },
     "output_type": "display_data"
    }
   ],
   "source": [
    "pimc.view_worldlines(data_struct,beta,figure_name=None)"
   ]
  },
  {
   "cell_type": "code",
   "execution_count": null,
   "metadata": {},
   "outputs": [],
   "source": [
    "# NOTE: There is ambiguity when trying to delete single worm ends on\n",
    "# a flat region. This is causing violation of total particle number."
   ]
  },
  {
   "cell_type": "markdown",
   "metadata": {},
   "source": [
    "### For now: Let's test on a configuration with kinks..."
   ]
  }
 ],
 "metadata": {
  "kernelspec": {
   "display_name": "Python 3",
   "language": "python",
   "name": "python3"
  },
  "language_info": {
   "codemirror_mode": {
    "name": "ipython",
    "version": 3
   },
   "file_extension": ".py",
   "mimetype": "text/x-python",
   "name": "python",
   "nbconvert_exporter": "python",
   "pygments_lexer": "ipython3",
   "version": "3.6.8"
  }
 },
 "nbformat": 4,
 "nbformat_minor": 4
}
