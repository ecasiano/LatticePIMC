{
 "cells": [
  {
   "cell_type": "markdown",
   "metadata": {},
   "source": [
    "### Compare theoretical and ground state energy at unit filling"
   ]
  },
  {
   "cell_type": "code",
   "execution_count": null,
   "metadata": {},
   "outputs": [],
   "source": [
    "import numpy as np\n",
    "import matplotlib.pyplot as plt\n",
    "import pimc\n",
    "import importlib"
   ]
  },
  {
   "cell_type": "markdown",
   "metadata": {},
   "source": [
    "### Simulation parameters"
   ]
  },
  {
   "cell_type": "code",
   "execution_count": null,
   "metadata": {},
   "outputs": [],
   "source": [
    "# Simulation parameters\n",
    "N = 4\n",
    "L = N   # unit-filling\n",
    "t = 0\n",
    "U = 1\n",
    "mu = -0.1\n",
    "canonical = True # False for Grand Canonical simulation\n",
    "    \n",
    "# PIMC parameters\n",
    "beta = 1\n",
    "eta = 1/np.sqrt(L*beta)      # worm end fugacity\n",
    "\n",
    "# Create unit filling initial configuration\n",
    "alpha = []\n",
    "for i in range(L):\n",
    "    alpha.append(1)\n",
    "alpha\n",
    "\n",
    "data_struct = pimc.create_data_struct(alpha)\n",
    "head_loc = []\n",
    "tail_loc = []\n",
    "pimc.view_worldlines(data_struct,beta,figure_name=None)"
   ]
  },
  {
   "cell_type": "markdown",
   "metadata": {},
   "source": [
    "### Do many iterations of the set of PIMC-WA updates"
   ]
  },
  {
   "cell_type": "code",
   "execution_count": null,
   "metadata": {},
   "outputs": [],
   "source": [
    "importlib.reload(pimc)\n",
    "# Do insert many times on the above configuration\n",
    "data_struct = pimc.create_data_struct(alpha)\n",
    "head_loc = []\n",
    "tail_loc = []\n",
    "mc_steps = int(1E+05)\n",
    "egs = 0\n",
    "N_egs = 0 # number of times egs was measured\n",
    "for m in range(mc_steps):\n",
    "    \n",
    "    ctr = 1\n",
    "    pimc.worm_insert(data_struct,beta,head_loc,tail_loc,U,mu,eta)\n",
    "    N_check = pimc.N_tracker(data_struct,beta)\n",
    "    if N_check < N-1 or N_check > N+1:\n",
    "        print(\"N bad! at mc_step # %.d after update # %.d\"%(m,ctr))\n",
    "        break\n",
    "        \n",
    "    ctr = 2\n",
    "    pimc.worm_delete(data_struct,beta,head_loc,tail_loc,U,mu,eta)\n",
    "    N_check = pimc.N_tracker(data_struct,beta)\n",
    "    if N_check < N-1 or N_check > N+1:\n",
    "        print(\"N bad! at mc_step # %.d after update # %.d\"%(m,ctr))\n",
    "        break\n",
    "    \n",
    "    ctr = 3\n",
    "    pimc.worm_timeshift(data_struct,beta,head_loc,tail_loc, U, mu)\n",
    "    N_check = pimc.N_tracker(data_struct,beta)\n",
    "    if N_check < N-1 or N_check > N+1:\n",
    "        print(\"N bad! at mc_step # %.d after update # %.d\"%(m,ctr))\n",
    "        break\n",
    "        \n",
    "    ctr = 4\n",
    "    pimc.insert_gsworm_zero(data_struct,beta,head_loc,tail_loc,U,mu,eta,canonical,N)\n",
    "    N_check = pimc.N_tracker(data_struct,beta)\n",
    "    if N_check < N-1 or N_check > N+1:\n",
    "        print(\"N bad! at mc_step # %.d after update # %.d\"%(m,ctr))\n",
    "        break\n",
    "        \n",
    "    ctr = 5\n",
    "    pimc.delete_gsworm_zero(data_struct, beta, head_loc, tail_loc,U,mu,eta,canonical,N)\n",
    "    N_check = pimc.N_tracker(data_struct,beta)\n",
    "    if N_check < N-1 or N_check > N+1:\n",
    "        print(\"N bad! at mc_step # %.d after update # %.d\"%(m,ctr))\n",
    "        break\n",
    "\n",
    "    ctr = 6\n",
    "    pimc.insert_gsworm_beta(data_struct,beta,head_loc,tail_loc,U,mu,eta,canonical,N)\n",
    "    N_check = pimc.N_tracker(data_struct,beta)\n",
    "    if N_check < N-1 or N_check > N+1:\n",
    "        print(\"N bad! at mc_step # %.d after update # %.d\"%(m,ctr))\n",
    "        break\n",
    "        \n",
    "    ctr = 7\n",
    "    pimc.delete_gsworm_beta(data_struct, beta, head_loc, tail_loc,U,mu,eta,canonical,N)\n",
    "    N_check = pimc.N_tracker(data_struct,beta)\n",
    "    if N_check < N-1 or N_check > N+1:\n",
    "        print(\"N bad! at mc_step # %.d after update # %.d\"%(m,ctr))\n",
    "        break"
   ]
  },
  {
   "cell_type": "code",
   "execution_count": null,
   "metadata": {},
   "outputs": [],
   "source": [
    "# importlib.reload(pimc)\n",
    "# pimc.view_worldlines(data_struct,beta,figure_name=None)\n",
    "# for m in range(10):\n",
    "#     if pimc.N_tracker(data_struct,beta) < N+1 or pimc.N_tracker(data_struct,beta) > N-1:\n",
    "#         print(\"N good\")\n",
    "#     pimc.delete_gsworm_zero(data_struct, beta, head_loc, tail_loc,U,mu,eta,canonical,N)\n",
    "#     pimc.view_worldlines(data_struct,beta,figure_name=None)"
   ]
  },
  {
   "cell_type": "code",
   "execution_count": null,
   "metadata": {},
   "outputs": [],
   "source": [
    "print(\"-------- Ground State Energy --------\")\n",
    "#print(\"PIMC: %.8f\"%(egs/N_egs))\n",
    "print(\"Exact: %.8f\"%egs_theory(L,U,mu))\n",
    "print(\"Samples: %d\"%N_egs)\n",
    "head_loc,tail_loc"
   ]
  },
  {
   "cell_type": "code",
   "execution_count": 345,
   "metadata": {},
   "outputs": [
    {
     "data": {
      "image/png": "[encoded data removed]",
      "text/plain": [
       "<Figure size 432x288 with 1 Axes>"
      ]
     },
     "metadata": {
      "needs_background": "light"
     },
     "output_type": "display_data"
    }
   ],
   "source": [
    "pimc.view_worldlines(data_struct,beta,figure_name=None)"
   ]
  },
  {
   "cell_type": "code",
   "execution_count": null,
   "metadata": {},
   "outputs": [],
   "source": []
  }
 ],
 "metadata": {
  "kernelspec": {
   "display_name": "Python 3",
   "language": "python",
   "name": "python3"
  },
  "language_info": {
   "codemirror_mode": {
    "name": "ipython",
    "version": 3
   },
   "file_extension": ".py",
   "mimetype": "text/x-python",
   "name": "python",
   "nbconvert_exporter": "python",
   "pygments_lexer": "ipython3",
   "version": "3.6.8"
  }
 },
 "nbformat": 4,
 "nbformat_minor": 4
}
