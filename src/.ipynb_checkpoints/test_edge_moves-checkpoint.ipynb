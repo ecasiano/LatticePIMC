{
 "cells": [
  {
   "cell_type": "markdown",
   "metadata": {},
   "source": [
    "# Ground state (edge) moves"
   ]
  },
  {
   "cell_type": "code",
   "execution_count": 1,
   "metadata": {},
   "outputs": [],
   "source": [
    "import numpy as np\n",
    "import bisect\n",
    "import matplotlib.pyplot as plt\n",
    "import pimc # custom module\n",
    "from scipy.stats import truncexpon"
   ]
  },
  {
   "cell_type": "markdown",
   "metadata": {},
   "source": [
    "### Simulation parameters"
   ]
  },
  {
   "cell_type": "code",
   "execution_count": 2,
   "metadata": {},
   "outputs": [],
   "source": [
    "# Simulation parameters\n",
    "N = 2\n",
    "L = N*2   # half-filling\n",
    "t = 0\n",
    "U = 0.5\n",
    "mu = -0.1\n",
    "    \n",
    "# PIMC parameters\n",
    "beta = 1\n",
    "eta = 1/np.sqrt(L*beta)      # worm end fugacity"
   ]
  },
  {
   "cell_type": "markdown",
   "metadata": {},
   "source": [
    "### Create a worldline configuration "
   ]
  },
  {
   "cell_type": "code",
   "execution_count": 92,
   "metadata": {},
   "outputs": [
    {
     "data": {
      "image/png": "[encoded data removed]",
      "text/plain": [
       "<Figure size 432x288 with 1 Axes>"
      ]
     },
     "metadata": {
      "needs_background": "light"
     },
     "output_type": "display_data"
    }
   ],
   "source": [
    "# Create a worldline configuration\n",
    "alpha = [1,1,1,1]\n",
    "data_struct = pimc.create_data_struct(alpha)\n",
    "head_loc = []\n",
    "tail_loc = []\n",
    "pimc.view_worldlines(data_struct,beta,figure_name=None)"
   ]
  },
  {
   "cell_type": "markdown",
   "metadata": {},
   "source": [
    "### Insert a worm or antiworm from $\\tau=0$"
   ]
  },
  {
   "cell_type": "code",
   "execution_count": 119,
   "metadata": {},
   "outputs": [
    {
     "name": "stdout",
     "output_type": "stream",
     "text": [
      "tau_next: 1.0000\n",
      "tau_prev: 0.0000\n",
      "Insert tail\n",
      "tau_next: 1.0000\n",
      "tau_prev: 0.0000\n",
      "Hey\n"
     ]
    },
    {
     "data": {
      "image/png": "[encoded data removed]",
      "text/plain": [
       "<Figure size 432x288 with 1 Axes>"
      ]
     },
     "metadata": {
      "needs_background": "light"
     },
     "output_type": "display_data"
    },
    {
     "name": "stdout",
     "output_type": "stream",
     "text": [
      "head_loc:  [2, 1]\n",
      "tail_loc:  [3, 1]\n"
     ]
    }
   ],
   "source": [
    "# Create a worldline configuration\n",
    "alpha = [1,1,1,1]\n",
    "data_struct = pimc.create_data_struct(alpha)\n",
    "head_loc = []\n",
    "tail_loc = []\n",
    "\n",
    "pimc.insert_gsworm_zero(data_struct,beta,head_loc,tail_loc,U,mu,eta)\n",
    "pimc.insert_gsworm_zero(data_struct,beta,head_loc,tail_loc,U,mu,eta)\n",
    "\n",
    "pimc.view_worldlines(data_struct,beta,figure_name=None)\n",
    "print(\"head_loc: \",head_loc)\n",
    "print(\"tail_loc: \",tail_loc)"
   ]
  },
  {
   "cell_type": "markdown",
   "metadata": {},
   "source": [
    "### Just a (slightly) more complex configuration"
   ]
  },
  {
   "cell_type": "code",
   "execution_count": 127,
   "metadata": {},
   "outputs": [
    {
     "data": {
      "image/png": "[encoded data removed]",
      "text/plain": [
       "<Figure size 432x288 with 1 Axes>"
      ]
     },
     "metadata": {
      "needs_background": "light"
     },
     "output_type": "display_data"
    }
   ],
   "source": [
    "data_struct = []\n",
    "x1 = [[0,1,(0,0)],[0.2,0,(0,1)],[0.8,1,(1,0)]]\n",
    "x2 = [[0,1,(1,1)],[0.2,2,(0,1)],[0.8,1,(1,0)]]\n",
    "x3 = [[0,1,(2,2)],[0.6,2,(3,2)]]\n",
    "x4 = [[0,1,(3,3)],[0.6,0,(3,2)]]\n",
    "data_struct.append(x1)\n",
    "data_struct.append(x2)\n",
    "data_struct.append(x3)\n",
    "data_struct.append(x4)\n",
    "pimc.view_worldlines(data_struct,beta,figure_name=None)\n",
    "\n",
    "head_loc = []\n",
    "tail_loc = []\n",
    "\n",
    "pimc.insert_gsworm_zero(data_struct,beta,head_loc,tail_loc,U,mu,eta)\n",
    "pimc.insert_gsworm_zero(data_struct,beta,head_loc,tail_loc,U,mu,eta)\n",
    "\n",
    "pimc.view_worldlines(data_struct,beta,figure_name=None)\n",
    "print(\"head_loc: \",head_loc)\n",
    "print(\"tail_loc: \",tail_loc)"
   ]
  },
  {
   "cell_type": "code",
   "execution_count": 133,
   "metadata": {},
   "outputs": [
    {
     "name": "stdout",
     "output_type": "stream",
     "text": [
      "tau_next: 0.5502\n",
      "tau_prev: 0.0000\n",
      "Insert tail\n",
      "tau_next: 0.1065\n",
      "tau_prev: 0.0000\n",
      "Hey\n"
     ]
    },
    {
     "data": {
      "image/png": "[encoded data removed]",
      "text/plain": [
       "<Figure size 432x288 with 1 Axes>"
      ]
     },
     "metadata": {
      "needs_background": "light"
     },
     "output_type": "display_data"
    },
    {
     "name": "stdout",
     "output_type": "stream",
     "text": [
      "head_loc:  [2, 1]\n",
      "tail_loc:  [3, 1]\n"
     ]
    }
   ],
   "source": []
  },
  {
   "cell_type": "code",
   "execution_count": null,
   "metadata": {},
   "outputs": [],
   "source": []
  }
 ],
 "metadata": {
  "kernelspec": {
   "display_name": "Python 3",
   "language": "python",
   "name": "python3"
  },
  "language_info": {
   "codemirror_mode": {
    "name": "ipython",
    "version": 3
   },
   "file_extension": ".py",
   "mimetype": "text/x-python",
   "name": "python",
   "nbconvert_exporter": "python",
   "pygments_lexer": "ipython3",
   "version": "3.6.8"
  }
 },
 "nbformat": 4,
 "nbformat_minor": 4
}
