{
 "cells": [
  {
   "cell_type": "markdown",
   "metadata": {},
   "source": [
    "# Lattice Path Integral Monte Carlo (PIMC)"
   ]
  },
  {
   "cell_type": "code",
   "execution_count": 1,
   "metadata": {},
   "outputs": [],
   "source": [
    "import numpy as np\n",
    "import bisect\n",
    "import matplotlib.pyplot as plt\n",
    "import pimc # custom module\n",
    "from scipy.stats import truncexpon"
   ]
  },
  {
   "cell_type": "markdown",
   "metadata": {},
   "source": [
    "## Creating a random initial configuration of bosons"
   ]
  },
  {
   "cell_type": "code",
   "execution_count": 2,
   "metadata": {},
   "outputs": [
    {
     "data": {
      "text/plain": [
       "array([0, 1, 0, 1])"
      ]
     },
     "execution_count": 2,
     "metadata": {},
     "output_type": "execute_result"
    }
   ],
   "source": [
    "# Simulation parameters\n",
    "N = 2\n",
    "L = N*2   # half-filling\n",
    "t = 0\n",
    "U = 2\n",
    "mu = -1\n",
    "    \n",
    "# PIMC parameters\n",
    "beta = 1\n",
    "eta = 1/np.sqrt(L*beta)      # worm end fugacity\n",
    "\n",
    "alpha = pimc.random_boson_config(L,N)\n",
    "alpha"
   ]
  },
  {
   "cell_type": "markdown",
   "metadata": {},
   "source": [
    "## Data Structure\n",
    "To store the worldline configurations, it will only be necessary to know for each site: i) the imaginary times at which kinks happened ii) the number of particles after the kink and iii) the direction of the kink. Python lists can be used to keep track of these."
   ]
  },
  {
   "cell_type": "code",
   "execution_count": 3,
   "metadata": {},
   "outputs": [
    {
     "name": "stdout",
     "output_type": "stream",
     "text": [
      "\n",
      " | alpha > =  [1 0 1 0]\n",
      "\n",
      " Data Structure:  [[[0, 1, (0, 0)]], [[0, 0, (1, 1)]], [[0, 1, (2, 2)]], [[0, 0, (3, 3)]]]\n"
     ]
    }
   ],
   "source": [
    "alpha = pimc.random_boson_config(L,N)\n",
    "print(\"\\n | alpha > = \", alpha)\n",
    "\n",
    "data_struct = pimc.create_data_struct(alpha)\n",
    "print(\"\\n Data Structure: \", data_struct)"
   ]
  },
  {
   "cell_type": "markdown",
   "metadata": {},
   "source": [
    "### Visualizing the data structure\n",
    "The file 'view_worldlines.py' in this directory, contains a function of the same name that will generate a visualization of the worldline configurations. The view_worldlines function will take as an argument, the data structure and $\\beta$. Optionally, the figure can be saved by giving including the desired filename, with the desired extensios, as a parameter."
   ]
  },
  {
   "cell_type": "code",
   "execution_count": 4,
   "metadata": {},
   "outputs": [
    {
     "name": "stdout",
     "output_type": "stream",
     "text": [
      "\n",
      "| alpha > =  [1 0 1 0]\n"
     ]
    },
    {
     "data": {
      "image/png": "[encoded data removed]",
      "text/plain": [
       "<Figure size 432x288 with 1 Axes>"
      ]
     },
     "metadata": {
      "needs_background": "light"
     },
     "output_type": "display_data"
    }
   ],
   "source": [
    "print(\"\\n| alpha > = \", alpha)\n",
    "\n",
    "beta = 1.0\n",
    "pimc.view_worldlines(data_struct,beta,figure_name=None)"
   ]
  },
  {
   "cell_type": "markdown",
   "metadata": {},
   "source": [
    "## Updates\n",
    "\n",
    "Here we will illustrate the set of ergodic updates that will modify the data structure to generate new worldline configurations."
   ]
  },
  {
   "cell_type": "markdown",
   "metadata": {},
   "source": [
    "### Insert Worm"
   ]
  },
  {
   "cell_type": "code",
   "execution_count": 5,
   "metadata": {},
   "outputs": [
    {
     "data": {
      "image/png": "[encoded data removed]",
      "text/plain": [
       "<Figure size 432x288 with 1 Axes>"
      ]
     },
     "metadata": {
      "needs_background": "light"
     },
     "output_type": "display_data"
    }
   ],
   "source": [
    "alpha = [1,1,1,1]\n",
    "#alpha = [0,0,0,0]\n",
    "data_struct = pimc.create_data_struct(alpha)\n",
    "head_loc = []\n",
    "tail_loc = []\n",
    "pimc.worm_insert(data_struct, beta, head_loc, tail_loc, U, mu, eta)\n",
    "pimc.view_worldlines(data_struct,beta,figure_name=None)"
   ]
  },
  {
   "cell_type": "markdown",
   "metadata": {},
   "source": [
    "### Timeshift"
   ]
  },
  {
   "cell_type": "code",
   "execution_count": 4,
   "metadata": {},
   "outputs": [
    {
     "data": {
      "image/png": "[encoded data removed]",
      "text/plain": [
       "<Figure size 432x288 with 1 Axes>"
      ]
     },
     "metadata": {
      "needs_background": "light"
     },
     "output_type": "display_data"
    },
    {
     "name": "stdout",
     "output_type": "stream",
     "text": [
      "tau_head = 0.86351334\n",
      "tau_tail = 0.08792388\n",
      "worm_length = 0.77558946\n"
     ]
    }
   ],
   "source": [
    "# Do a single timeshift\n",
    "pimc.worm_timeshift(data_struct,beta,head_loc,tail_loc, U, mu)\n",
    "pimc.view_worldlines(data_struct,beta,figure_name=None)\n",
    "tau_1 = data_struct[head_loc[0]][head_loc[1]][0]\n",
    "tau_2 = data_struct[tail_loc[0]][tail_loc[1]][0]\n",
    "print(\"tau_head = %.8f\"%(tau_1))\n",
    "print(\"tau_tail = %.8f\"%(tau_2))\n",
    "print(\"worm_length = %.8f\"%(abs(tau_1-tau_2)))"
   ]
  },
  {
   "cell_type": "code",
   "execution_count": 6,
   "metadata": {},
   "outputs": [
    {
     "name": "stdout",
     "output_type": "stream",
     "text": [
      "Accepted: 100.0000 %\n",
      "Rejected: 0.0000 %\n"
     ]
    },
    {
     "data": {
      "image/png": "[encoded data removed]",
      "text/plain": [
       "<Figure size 432x288 with 1 Axes>"
      ]
     },
     "metadata": {
      "needs_background": "light"
     },
     "output_type": "display_data"
    }
   ],
   "source": [
    "# Do timeshift many times on the above configuration\n",
    "mc_steps = int(5E+04)\n",
    "worm_lengths = np.zeros(mc_steps)  # create array to save worm lengths\n",
    "accepted = 0\n",
    "rejected = 0\n",
    "for m in range(mc_steps):\n",
    "    tau_1 = data_struct[head_loc[0]][head_loc[1]][0]\n",
    "    tau_2 = data_struct[tail_loc[0]][tail_loc[1]][0]\n",
    "    worm_length = abs(tau_1-tau_2)\n",
    "    worm_lengths[m] = worm_length\n",
    "        \n",
    "    pimc.worm_timeshift(data_struct,beta,head_loc,tail_loc, U, mu)\n",
    "    \n",
    "    # Count accepted updates  \n",
    "    if tau_1 != data_struct[head_loc[0]][head_loc[1]][0] or (\n",
    "       tau_2 != data_struct[tail_loc[0]][tail_loc[1]][0] ):\n",
    "        accepted += 1\n",
    "\n",
    "    # Count rejected updates  \n",
    "    if tau_1 == data_struct[head_loc[0]][head_loc[1]][0] and (\n",
    "       tau_2 == data_struct[tail_loc[0]][tail_loc[1]][0] ):\n",
    "        rejected += 1\n",
    "\n",
    "# Print the number of accepted time shifts\n",
    "print(\"Accepted: %.4f %%\"%(accepted/mc_steps*100))\n",
    "print(\"Rejected: %.4f %%\"%(rejected/mc_steps*100))\n",
    "\n",
    "# Get the largest and smallest worm length\n",
    "min_length = np.min(worm_lengths)\n",
    "max_length = np.max(worm_lengths)\n",
    "\n",
    "# Histogram of wormlengths\n",
    "bins = np.linspace(min_length,max_length,int(5E+02))\n",
    "loc = min_length\n",
    "b = max_length - min_length\n",
    "scale = 1 # abs(dV)\n",
    "\n",
    "x = np.linspace(loc-0.6,loc+b+0.6,1000)\n",
    "pdf = truncexpon.pdf(x,b=b/scale,loc=loc,scale=scale)\n",
    "\n",
    "fig, ax = plt.subplots(1, 1)\n",
    "ax.plot(x,pdf)\n",
    "ax.hist(worm_lengths,bins=bins,density=True,histtype='stepfilled',alpha=0.2) \n",
    "ax.set_xlabel(r\"$\\vert \\tau_1 - \\tau_2 \\vert $\") ;\n",
    "ax.set_yscale(\"log\");\n",
    "plt.savefig(\"%d_%d_%.4f_%.4f_%.4f_%d.pdf\"%(L,N,U,mu,t,mc_steps))"
   ]
  },
  {
   "cell_type": "markdown",
   "metadata": {},
   "source": [
    "### Delete Worm"
   ]
  },
  {
   "cell_type": "code",
   "execution_count": 8,
   "metadata": {},
   "outputs": [
    {
     "name": "stdout",
     "output_type": "stream",
     "text": [
      "(3, 2) (3, 1)\n"
     ]
    },
    {
     "data": {
      "image/png": "[encoded data removed]",
      "text/plain": [
       "<Figure size 432x288 with 1 Axes>"
      ]
     },
     "metadata": {
      "needs_background": "light"
     },
     "output_type": "display_data"
    }
   ],
   "source": [
    "pimc.worm_delete(data_struct, beta, head_loc, tail_loc, U, mu, eta)\n",
    "pimc.view_worldlines(data_struct,beta,figure_name=None)"
   ]
  },
  {
   "cell_type": "code",
   "execution_count": null,
   "metadata": {},
   "outputs": [],
   "source": []
  },
  {
   "cell_type": "code",
   "execution_count": null,
   "metadata": {},
   "outputs": [],
   "source": []
  }
 ],
 "metadata": {
  "kernelspec": {
   "display_name": "Python 3",
   "language": "python",
   "name": "python3"
  },
  "language_info": {
   "codemirror_mode": {
    "name": "ipython",
    "version": 3
   },
   "file_extension": ".py",
   "mimetype": "text/x-python",
   "name": "python",
   "nbconvert_exporter": "python",
   "pygments_lexer": "ipython3",
   "version": "3.6.8"
  }
 },
 "nbformat": 4,
 "nbformat_minor": 4
}
