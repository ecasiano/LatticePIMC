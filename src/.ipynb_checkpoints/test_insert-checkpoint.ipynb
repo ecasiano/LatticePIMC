{
 "cells": [
  {
   "cell_type": "markdown",
   "metadata": {},
   "source": [
    "### Insert worm"
   ]
  },
  {
   "cell_type": "code",
   "execution_count": null,
   "metadata": {},
   "outputs": [],
   "source": [
    "import numpy as np\n",
    "import bisect\n",
    "import matplotlib.pyplot as plt\n",
    "import pimc # custom module\n",
    "from scipy.stats import truncexpon\n",
    "from scipy.integrate import quad, simps\n",
    "import importlib\n",
    "importlib.reload(pimc)"
   ]
  },
  {
   "cell_type": "markdown",
   "metadata": {},
   "source": [
    "### Simulation parameters"
   ]
  },
  {
   "cell_type": "code",
   "execution_count": 2,
   "metadata": {},
   "outputs": [
    {
     "data": {
      "image/png": "[encoded data removed]",
      "text/plain": [
       "<Figure size 432x288 with 1 Axes>"
      ]
     },
     "metadata": {
      "needs_background": "light"
     },
     "output_type": "display_data"
    }
   ],
   "source": [
    "importlib.reload(pimc)\n",
    "# Simulation parameters\n",
    "t = 0\n",
    "U = 1\n",
    "mu = 1\n",
    "    \n",
    "# PIMC parameters\n",
    "beta = 1\n",
    "eta = 1      # worm end fugacity\n",
    "\n",
    "# Canonical or Grand Canonical?\n",
    "canonical = False\n",
    "\n",
    "# Create a worldline configuration\n",
    "L = 1\n",
    "N = 1\n",
    "alpha = []\n",
    "for i in range(L):\n",
    "    alpha.append(N)\n",
    "data_struct = pimc.create_data_struct(alpha)\n",
    "head_loc = []\n",
    "tail_loc = []\n",
    "pimc.view_worldlines(data_struct,beta,figure_name=None)"
   ]
  },
  {
   "cell_type": "markdown",
   "metadata": {},
   "source": [
    "### Do many inserts"
   ]
  },
  {
   "cell_type": "code",
   "execution_count": 6,
   "metadata": {},
   "outputs": [
    {
     "data": {
      "image/png": "[encoded data removed]",
      "text/plain": [
       "<Figure size 432x288 with 1 Axes>"
      ]
     },
     "metadata": {
      "needs_background": "light"
     },
     "output_type": "display_data"
    }
   ],
   "source": [
    "importlib.reload(pimc)\n",
    "\n",
    "# Do insert many times on the above configuration\n",
    "mc_steps = int(1E+04)\n",
    "worm_lengths = np.zeros(mc_steps)  # create array to save worm lengths\n",
    "need_dV = True # Flag to see if dV has been calculated alrady or not \n",
    "insert = 0 # Count accepted inserts\n",
    "proposals = 0\n",
    "for m in range(mc_steps):\n",
    "\n",
    "    # Attempt to delete the worm\n",
    "    pimc.worm_delete(data_struct,beta,head_loc,tail_loc,U,mu,eta,canonical,N)\n",
    "    if head_loc == [] and tail_loc == []:\n",
    "        proposals += 1\n",
    "        insert += pimc.worm_insert(data_struct, beta, head_loc, tail_loc, U, mu, eta,canonical, N)\n",
    " \n",
    "    # Don't collect wormlength data if no insertion was done\n",
    "    # if head_loc == [] or tail_loc == []: continue\n",
    "    \n",
    "    # Calculate change in diagonal energy after/before worm end (need this for scale)\n",
    "#     if need_dV:\n",
    "#         n_f = data_struct[tail_loc[0]][tail_loc[1]][1]   \n",
    "#         n_o = data_struct[head_loc[0]][head_loc[1]][1] \n",
    "#         dV = (U/2)*(n_f*(n_f-1)-n_o*(n_o-1)) - mu*(n_f-n_o)\n",
    "#         need_dV = False\n",
    "        \n",
    "    # Times of head and tail\n",
    "#     tau_h = data_struct[head_loc[0]][head_loc[1]][0]\n",
    "#     tau_t = data_struct[tail_loc[0]][tail_loc[1]][0]\n",
    "    \n",
    "#     worm_lengths[m] = tau_h-tau_t\n",
    "#     is_worm = True\n",
    "#     if worm_lengths[m] < 0: # antiworm correction\n",
    "#         worm_lengths[m] += beta\n",
    "#         is_worm = False\n",
    "    \n",
    "    #if m == mc_steps - 1: break\n",
    "        \n",
    "   \n",
    "pimc.view_worldlines(data_struct,beta,figure_name=None);"
   ]
  },
  {
   "cell_type": "code",
   "execution_count": 7,
   "metadata": {},
   "outputs": [
    {
     "name": "stdout",
     "output_type": "stream",
     "text": [
      "Acceptance: 78.7415%\n"
     ]
    }
   ],
   "source": [
    "# Acceptance ratio\n",
    "print(\"Acceptance: %.4f%%\"%(100*insert/proposals))"
   ]
  },
  {
   "cell_type": "code",
   "execution_count": 8,
   "metadata": {},
   "outputs": [
    {
     "data": {
      "text/plain": [
       "3655"
      ]
     },
     "execution_count": 8,
     "metadata": {},
     "output_type": "execute_result"
    }
   ],
   "source": [
    "proposals"
   ]
  },
  {
   "cell_type": "code",
   "execution_count": null,
   "metadata": {},
   "outputs": [],
   "source": []
  },
  {
   "cell_type": "code",
   "execution_count": null,
   "metadata": {},
   "outputs": [],
   "source": []
  },
  {
   "cell_type": "code",
   "execution_count": 71,
   "metadata": {},
   "outputs": [],
   "source": [
    "# Histogram of worm lengths\n",
    "b = beta\n",
    "loc = 0\n",
    "\n",
    "if dV == 0:\n",
    "    dV = np.finfo(float).eps # machine epsilon\n",
    "scale = 1/abs(dV)\n",
    "\n",
    "# Generate truncated exponential distribution of worm lengths\n",
    "tau_w = np.linspace(0,beta,int(1E+02+1))                    # worm lengths\n",
    "tau_w = (tau_w[1:]+tau_w[0:-1])/2    \n",
    "#[time,N,(src,dest)]\n",
    "\n",
    "# Theoretical distribution of lenghths (worm and antiworm)\n",
    "pdf = truncexpon.pdf(tau_w,b=b/scale,loc=loc,scale=scale)\n",
    "if (dV < 0):\n",
    "    pdf = truncexpon.pdf(-tau_w+b,b=b/scale,loc=loc,scale=scale)\n",
    "\n",
    "pdf /= simps(pdf,tau_w)\n",
    "\n",
    "# Sampled worm lengths\n",
    "n, bins = np.histogram(worm_lengths, bins=tau_w, density=1) # for histogram"
   ]
  },
  {
   "cell_type": "code",
   "execution_count": 539,
   "metadata": {},
   "outputs": [
    {
     "name": "stdout",
     "output_type": "stream",
     "text": [
      "dV:  1.9\n"
     ]
    },
    {
     "data": {
      "image/png": "[encoded data removed]",
      "text/plain": [
       "<Figure size 432x288 with 1 Axes>"
      ]
     },
     "metadata": {
      "needs_background": "light"
     },
     "output_type": "display_data"
    }
   ],
   "source": [
    "# Plot\n",
    "fig, ax = plt.subplots(1, 1)\n",
    "ax.plot(tau_w,pdf,label='pdf',linestyle='None',marker='o')\n",
    "ax.hist(worm_lengths,bins=bins,density=True,histtype='stepfilled',alpha=1,label=r'$hist(\\tau_w)$')\n",
    "ax.set_xlabel(r\"$\\tau_w$\") ;\n",
    "#ax.set_yscale(\"log\");\n",
    "plt.legend() ;\n",
    "print(\"dV: \",dV)\n",
    "plt.savefig(\"insert_%d_%d_%.4f_%.4f_%.4f_%.4f_%d_worm.pdf\"%(L,N,U,mu,t,eta,mc_steps))"
   ]
  },
  {
   "cell_type": "code",
   "execution_count": 540,
   "metadata": {},
   "outputs": [],
   "source": [
    "# Histogram of tau_w (WORM LENGTH, not antiworm)\n",
    "\n",
    "# Move: Insert\n",
    "\n",
    "# Insert worm\n",
    "    # dV < 0: increasing truncexpon\n",
    "    # dV == 0: flat distribution\n",
    "    # dV > 0: decreasing truncexpon\n",
    "    \n",
    "# Insert antiworm\n",
    "#     dV < 0: increasing truncexpon\n",
    "#     dV == 0: flat distribution\n",
    "#     dV > 0: decreasing truncexpon\n",
    "\n",
    "# NOTE: THE PLOTS WERE DONE AT FIXED R=1"
   ]
  },
  {
   "cell_type": "code",
   "execution_count": null,
   "metadata": {},
   "outputs": [],
   "source": []
  },
  {
   "cell_type": "code",
   "execution_count": null,
   "metadata": {},
   "outputs": [],
   "source": []
  },
  {
   "cell_type": "code",
   "execution_count": null,
   "metadata": {},
   "outputs": [],
   "source": []
  }
 ],
 "metadata": {
  "kernelspec": {
   "display_name": "Python 3",
   "language": "python",
   "name": "python3"
  },
  "language_info": {
   "codemirror_mode": {
    "name": "ipython",
    "version": 3
   },
   "file_extension": ".py",
   "mimetype": "text/x-python",
   "name": "python",
   "nbconvert_exporter": "python",
   "pygments_lexer": "ipython3",
   "version": "3.7.3"
  }
 },
 "nbformat": 4,
 "nbformat_minor": 4
}
