{
 "cells": [
  {
   "cell_type": "markdown",
   "metadata": {},
   "source": [
    "# Insert worm"
   ]
  },
  {
   "cell_type": "code",
   "execution_count": 293,
   "metadata": {},
   "outputs": [
    {
     "data": {
      "text/plain": [
       "<module 'pimc' from '/Users/ecasiano/Desktop/LatticePIMC/src/pimc.py'>"
      ]
     },
     "execution_count": 293,
     "metadata": {},
     "output_type": "execute_result"
    }
   ],
   "source": [
    "import numpy as np\n",
    "import bisect\n",
    "import matplotlib.pyplot as plt\n",
    "import pimc # custom module\n",
    "from scipy.stats import truncexpon\n",
    "from scipy.integrate import quad, simps\n",
    "import importlib\n",
    "importlib.reload(pimc)"
   ]
  },
  {
   "cell_type": "markdown",
   "metadata": {},
   "source": [
    "### Simulation parameters"
   ]
  },
  {
   "cell_type": "code",
   "execution_count": 287,
   "metadata": {},
   "outputs": [
    {
     "data": {
      "image/png": "[encoded data removed]",
      "text/plain": [
       "<Figure size 432x288 with 1 Axes>"
      ]
     },
     "metadata": {
      "needs_background": "light"
     },
     "output_type": "display_data"
    }
   ],
   "source": [
    "importlib.reload(pimc)\n",
    "# Simulation parameters\n",
    "t = 0\n",
    "U = 1\n",
    "mu = 10\n",
    "    \n",
    "# PIMC parameters\n",
    "beta = 1\n",
    "eta = 1      # worm end fugacity\n",
    "\n",
    "# Canonical or Grand Canonical?\n",
    "canonical = False\n",
    "\n",
    "# Create a worldline configuration\n",
    "L = 1\n",
    "N = 1\n",
    "alpha = []\n",
    "for i in range(L):\n",
    "    alpha.append(N)\n",
    "data_struct = pimc.create_data_struct(alpha)\n",
    "head_loc = []\n",
    "tail_loc = []\n",
    "pimc.view_worldlines(data_struct,beta,figure_name=None)"
   ]
  },
  {
   "cell_type": "markdown",
   "metadata": {},
   "source": [
    "### Do many inserts"
   ]
  },
  {
   "cell_type": "code",
   "execution_count": 288,
   "metadata": {},
   "outputs": [],
   "source": [
    "importlib.reload(pimc)\n",
    "# Do insert many times on the above configuration\n",
    "mc_steps = int(1E+04)\n",
    "worm_lengths = np.zeros(mc_steps)  # create array to save worm lengths\n",
    " \n",
    "for m in range(mc_steps):\n",
    "\n",
    "    pimc.worm_insert(data_struct, beta, head_loc, tail_loc, U, mu, eta,\n",
    "                   canonical, N)\n",
    " \n",
    "    # Don't collect wormlength data if no insertion was done\n",
    "    if head_loc == [] or tail_loc == []: continue\n",
    "    \n",
    "    # Times of head and tail\n",
    "    tau_h = data_struct[head_loc[0]][head_loc[1]][0]\n",
    "    tau_t = data_struct[tail_loc[0]][tail_loc[1]][0]\n",
    "    \n",
    "    worm_lengths[m] = tau_h-tau_t\n",
    "    if worm_lengths[m] < 0: # antiworm correction\n",
    "        worm_lengths[m] = beta-np.abs(worm_lengths[m])\n",
    "    \n",
    "    if m == mc_steps - 1: break\n",
    "        \n",
    "    # Create a worldline configuration\n",
    "    alpha = []\n",
    "    for i in range(L):\n",
    "        alpha.append(N)\n",
    "    data_struct = pimc.create_data_struct(alpha)\n",
    "    head_loc = []\n",
    "    tail_loc = []"
   ]
  },
  {
   "cell_type": "code",
   "execution_count": 289,
   "metadata": {},
   "outputs": [
    {
     "data": {
      "image/png": "[encoded data removed]",
      "text/plain": [
       "<Figure size 432x288 with 1 Axes>"
      ]
     },
     "metadata": {
      "needs_background": "light"
     },
     "output_type": "display_data"
    }
   ],
   "source": [
    "pimc.view_worldlines(data_struct,beta,figure_name=None)"
   ]
  },
  {
   "cell_type": "code",
   "execution_count": 290,
   "metadata": {},
   "outputs": [
    {
     "ename": "IndexError",
     "evalue": "list index out of range",
     "output_type": "error",
     "traceback": [
      "\u001b[0;31m---------------------------------------------------------------------------\u001b[0m",
      "\u001b[0;31mIndexError\u001b[0m                                Traceback (most recent call last)",
      "\u001b[0;32m<ipython-input-290-6b76d91afe99>\u001b[0m in \u001b[0;36m<module>\u001b[0;34m\u001b[0m\n\u001b[1;32m      4\u001b[0m \u001b[0;34m\u001b[0m\u001b[0m\n\u001b[1;32m      5\u001b[0m \u001b[0;31m# Calculate change in diagonal energy after/before worm end (need this for scale)\u001b[0m\u001b[0;34m\u001b[0m\u001b[0;34m\u001b[0m\u001b[0;34m\u001b[0m\u001b[0m\n\u001b[0;32m----> 6\u001b[0;31m \u001b[0mn_f\u001b[0m \u001b[0;34m=\u001b[0m \u001b[0mdata_struct\u001b[0m\u001b[0;34m[\u001b[0m\u001b[0mtail_loc\u001b[0m\u001b[0;34m[\u001b[0m\u001b[0;36m0\u001b[0m\u001b[0;34m]\u001b[0m\u001b[0;34m]\u001b[0m\u001b[0;34m[\u001b[0m\u001b[0mtail_loc\u001b[0m\u001b[0;34m[\u001b[0m\u001b[0;36m1\u001b[0m\u001b[0;34m]\u001b[0m\u001b[0;34m]\u001b[0m\u001b[0;34m[\u001b[0m\u001b[0;36m1\u001b[0m\u001b[0;34m]\u001b[0m       \u001b[0;31m# particles after tail\u001b[0m\u001b[0;34m\u001b[0m\u001b[0;34m\u001b[0m\u001b[0m\n\u001b[0m\u001b[1;32m      7\u001b[0m \u001b[0mn_o\u001b[0m \u001b[0;34m=\u001b[0m \u001b[0mdata_struct\u001b[0m\u001b[0;34m[\u001b[0m\u001b[0mhead_loc\u001b[0m\u001b[0;34m[\u001b[0m\u001b[0;36m0\u001b[0m\u001b[0;34m]\u001b[0m\u001b[0;34m]\u001b[0m\u001b[0;34m[\u001b[0m\u001b[0mhead_loc\u001b[0m\u001b[0;34m[\u001b[0m\u001b[0;36m1\u001b[0m\u001b[0;34m]\u001b[0m\u001b[0;34m]\u001b[0m\u001b[0;34m[\u001b[0m\u001b[0;36m1\u001b[0m\u001b[0;34m]\u001b[0m       \u001b[0;31m# particles after head\u001b[0m\u001b[0;34m\u001b[0m\u001b[0;34m\u001b[0m\u001b[0m\n\u001b[1;32m      8\u001b[0m \u001b[0mdV\u001b[0m \u001b[0;34m=\u001b[0m \u001b[0;34m(\u001b[0m\u001b[0mU\u001b[0m\u001b[0;34m/\u001b[0m\u001b[0;36m2\u001b[0m\u001b[0;34m)\u001b[0m\u001b[0;34m*\u001b[0m\u001b[0;34m(\u001b[0m\u001b[0mn_f\u001b[0m\u001b[0;34m*\u001b[0m\u001b[0;34m(\u001b[0m\u001b[0mn_f\u001b[0m\u001b[0;34m-\u001b[0m\u001b[0;36m1\u001b[0m\u001b[0;34m)\u001b[0m\u001b[0;34m-\u001b[0m\u001b[0mn_o\u001b[0m\u001b[0;34m*\u001b[0m\u001b[0;34m(\u001b[0m\u001b[0mn_o\u001b[0m\u001b[0;34m-\u001b[0m\u001b[0;36m1\u001b[0m\u001b[0;34m)\u001b[0m\u001b[0;34m)\u001b[0m \u001b[0;34m-\u001b[0m \u001b[0mmu\u001b[0m\u001b[0;34m*\u001b[0m\u001b[0;34m(\u001b[0m\u001b[0mn_f\u001b[0m\u001b[0;34m-\u001b[0m\u001b[0mn_o\u001b[0m\u001b[0;34m)\u001b[0m\u001b[0;34m\u001b[0m\u001b[0;34m\u001b[0m\u001b[0m\n",
      "\u001b[0;31mIndexError\u001b[0m: list index out of range"
     ]
    }
   ],
   "source": [
    "# Histogram of worm lengths\n",
    "b = beta\n",
    "loc = 0\n",
    "\n",
    "# Calculate change in diagonal energy after/before worm end (need this for scale)\n",
    "n_f = data_struct[tail_loc[0]][tail_loc[1]][1]       # particles after tail\n",
    "n_o = data_struct[head_loc[0]][head_loc[1]][1]       # particles after head\n",
    "dV = (U/2)*(n_f*(n_f-1)-n_o*(n_o-1)) - mu*(n_f-n_o)\n",
    "\n",
    "if dV == 0:\n",
    "    dV = np.finfo(float).eps # machine epsilon\n",
    "scale = 1/abs(dV)\n",
    "\n",
    "print(\"scale: \",scale)\n",
    "# Generate truncated exponential distribution of worm lengths\n",
    "tau_w = np.linspace(0,beta,int(1E+02+1))                    # worm lengths\n",
    "tau_w = (tau_w[1:]+tau_w[0:-1])/2    \n",
    "#[time,N,(src,dest)]\n",
    "\n",
    "# Theoretical distribution of lenghths (worm and antiworm)\n",
    "pdf = truncexpon.pdf(tau_w,b=b/scale,loc=loc,scale=scale)\n",
    "# Rescale & normalize the truncated exponential pdf\n",
    "# if tau_t < tau_h:\n",
    "#     pdf *= (beta-tau_w)     # worm\n",
    "# else:\n",
    "#     pdf *= (tau_w)           # antiworm?\n",
    "pdf /= simps(pdf,tau_w)\n",
    "\n",
    "# Sampled worm lengths\n",
    "n, bins = np.histogram(worm_lengths, bins=tau_w, density=1) # for histogram"
   ]
  },
  {
   "cell_type": "code",
   "execution_count": 292,
   "metadata": {},
   "outputs": [
    {
     "name": "stdout",
     "output_type": "stream",
     "text": [
      "[] []\n"
     ]
    }
   ],
   "source": []
  },
  {
   "cell_type": "code",
   "execution_count": null,
   "metadata": {},
   "outputs": [],
   "source": [
    "# Plot\n",
    "fig, ax = plt.subplots(1, 1)\n",
    "ax.plot(tau_w,pdf,label='pdf',linestyle='None',marker='o')\n",
    "ax.hist(worm_lengths,bins=bins,density=True,histtype='stepfilled',alpha=1,label=r'$hist(\\tau_h-\\tau_t)$')\n",
    "ax.set_xlabel(r\"$\\tau_h - \\tau_w$\") ;\n",
    "#ax.set_yscale(\"log\");\n",
    "plt.legend() ;\n",
    "plt.savefig(\"insert_%d_%d_%.4f_%.4f_%.4f_%.4f_%d_worm.pdf\"%(L,N,U,mu,t,eta,mc_steps))"
   ]
  },
  {
   "cell_type": "code",
   "execution_count": null,
   "metadata": {},
   "outputs": [],
   "source": [
    "pimc.view_worldlines(data_struct,beta,figure_name=None)"
   ]
  },
  {
   "cell_type": "code",
   "execution_count": null,
   "metadata": {},
   "outputs": [],
   "source": []
  },
  {
   "cell_type": "code",
   "execution_count": null,
   "metadata": {},
   "outputs": [],
   "source": []
  },
  {
   "cell_type": "code",
   "execution_count": null,
   "metadata": {},
   "outputs": [],
   "source": []
  }
 ],
 "metadata": {
  "kernelspec": {
   "display_name": "Python 3",
   "language": "python",
   "name": "python3"
  },
  "language_info": {
   "codemirror_mode": {
    "name": "ipython",
    "version": 3
   },
   "file_extension": ".py",
   "mimetype": "text/x-python",
   "name": "python",
   "nbconvert_exporter": "python",
   "pygments_lexer": "ipython3",
   "version": "3.7.3"
  }
 },
 "nbformat": 4,
 "nbformat_minor": 4
}
