{
 "cells": [
  {
   "cell_type": "markdown",
   "metadata": {},
   "source": [
    "### Compare theoretical and ground state energy at unit filling"
   ]
  },
  {
   "cell_type": "code",
   "execution_count": 229,
   "metadata": {},
   "outputs": [
    {
     "data": {
      "text/plain": [
       "<module 'pimc' from '/Users/ecasiano/Desktop/LatticePIMC/src/pimc.py'>"
      ]
     },
     "execution_count": 229,
     "metadata": {},
     "output_type": "execute_result"
    }
   ],
   "source": [
    "import numpy as np\n",
    "import bisect\n",
    "import matplotlib.pyplot as plt\n",
    "import pimc # custom module\n",
    "from scipy.stats import truncexpon\n",
    "from scipy.integrate import quad, simps\n",
    "import importlib\n",
    "importlib.reload(pimc)"
   ]
  },
  {
   "cell_type": "markdown",
   "metadata": {},
   "source": [
    "### Simulation parameters"
   ]
  },
  {
   "cell_type": "code",
   "execution_count": 230,
   "metadata": {},
   "outputs": [],
   "source": [
    "importlib.reload(pimc)\n",
    "# Simulation parameters\n",
    "t = 1.0E+02\n",
    "mu = 0.99E+02\n",
    "U = 1.0E+02 # Leave this fixed\n",
    "L = 4\n",
    "N = 4\n",
    "    \n",
    "# PIMC parameters\n",
    "beta = 1\n",
    "eta = 1      # worm end fugacity\n",
    "eta = 1/np.sqrt(L*beta)\n",
    "dtau = 0.1*beta # Set neighborhood of beta/2 where <K> will be measured\n",
    "\n",
    "# Canonical or Grand Canonical?\n",
    "canonical = False # False means Grand Canonical\n",
    "\n",
    "# Create a random worldline configuration\n",
    "alpha = pimc.random_boson_config(L,N)\n",
    "alpha = [1]*L\n",
    "data_struct = pimc.create_data_struct(alpha)\n",
    "head_loc = []\n",
    "tail_loc = []\n",
    "#pimc.view_worldlines(data_struct,beta,figure_name=None)"
   ]
  },
  {
   "cell_type": "markdown",
   "metadata": {},
   "source": [
    "### Do many iterations of the set of PIMC-WA updates"
   ]
  },
  {
   "cell_type": "code",
   "execution_count": 231,
   "metadata": {},
   "outputs": [
    {
     "name": "stdout",
     "output_type": "stream",
     "text": [
      "CPU times: user 17 s, sys: 226 ms, total: 17.2 s\n",
      "Wall time: 18.8 s\n"
     ]
    }
   ],
   "source": [
    "%%time\n",
    "importlib.reload(pimc)\n",
    "\n",
    "# Create the data structure\n",
    "data_struct = pimc.create_data_struct(alpha)\n",
    "head_loc = []\n",
    "tail_loc = []\n",
    "\n",
    "# Store values of observables\n",
    "diagonal_list = []\n",
    "kinetic_list = []\n",
    "n_list = []\n",
    "occ_list = []\n",
    "\n",
    "# Set the number of times the set of updates will be attempted\n",
    "mc_steps = int(1E+05)\n",
    "# Counters for acceptance of each move\n",
    "insert_worm_data = [0,0] # [accepted,proposed]\n",
    "delete_worm_data = [0,0]\n",
    "\n",
    "insert_anti_data = [0,0]\n",
    "delete_anti_data = [0,0]\n",
    "\n",
    "acc_timeshift = 0\n",
    "prop_timeshift = 0\n",
    "\n",
    "insertZero_worm_data = [0,0]\n",
    "deleteZero_worm_data = [0,0]\n",
    "\n",
    "insertZero_anti_data = [0,0]\n",
    "deleteZero_anti_data = [0,0]\n",
    "\n",
    "insertBeta_worm_data = [0,0]\n",
    "deleteBeta_worm_data = [0,0]\n",
    "\n",
    "insertBeta_anti_data = [0,0]\n",
    "deleteBeta_anti_data = [0,0]\n",
    "\n",
    "ikbh_data = [0,0]\n",
    "dkbh_data = [0,0]\n",
    "\n",
    "ikah_data = [0,0]\n",
    "dkah_data = [0,0]\n",
    "\n",
    "ikbt_data = [0,0]\n",
    "dkbt_data = [0,0]\n",
    "\n",
    "ikat_data = [0,0]\n",
    "dkat_data = [0,0]\n",
    "\n",
    "# Count the times the configurations has no worm ends\n",
    "Z_ctr = 0\n",
    "for m in range(mc_steps):\n",
    "    \n",
    "    # Propose all moves sequentially\n",
    "    result = pimc.worm_insert(data_struct,beta,head_loc,tail_loc,U,mu,eta,canonical,N,insert_worm_data,insert_anti_data)\n",
    "\n",
    "    result = pimc.worm_delete(data_struct,beta,head_loc,tail_loc,U,mu,eta,canonical,N,delete_worm_data,delete_anti_data)\n",
    "    \n",
    "    result = pimc.worm_timeshift(data_struct,beta,head_loc,tail_loc,U,mu,canonical,N)\n",
    "    if result != None:\n",
    "        prop_timeshift += 1\n",
    "        acc_timeshift += result\n",
    "        \n",
    "    result = pimc.insertZero(data_struct,beta,head_loc,tail_loc,U,mu,eta,canonical,N,insertZero_worm_data,insertZero_anti_data)\n",
    "        \n",
    "    result = pimc.deleteZero(data_struct,beta,head_loc,tail_loc,U,mu,eta,canonical,N,deleteZero_worm_data,deleteZero_anti_data)\n",
    "    \n",
    "    \n",
    "    result = pimc.insertBeta(data_struct,beta,head_loc,tail_loc,U,mu,eta,canonical,N,insertBeta_worm_data,insertBeta_anti_data)\n",
    "        \n",
    "    result = pimc.deleteBeta(data_struct,beta,head_loc,tail_loc,U,mu,eta,canonical,N,deleteBeta_worm_data,deleteBeta_anti_data)\n",
    "  \n",
    "\n",
    "    result = pimc.insert_kink_before_head(data_struct,beta,head_loc,tail_loc,t,U,mu,eta,canonical,N,ikbh_data)  \n",
    "        \n",
    "    result = pimc.delete_kink_before_head(data_struct,beta,head_loc,tail_loc,t,U,mu,eta,canonical,N,dkbh_data) \n",
    "     \n",
    "        \n",
    "    result = pimc.insert_kink_after_head(data_struct,beta,head_loc,tail_loc,t,U,mu,eta,canonical,N,ikah_data)   \n",
    "        \n",
    "    result = pimc.delete_kink_after_head(data_struct,beta,head_loc,tail_loc,t,U,mu,eta,canonical,N,dkah_data)\n",
    "    \n",
    "    \n",
    "    result = pimc.insert_kink_before_tail(data_struct,beta,head_loc,tail_loc,t,U,mu,eta,canonical,N,ikbt_data)  \n",
    "        \n",
    "    result = pimc.delete_kink_before_tail(data_struct,beta,head_loc,tail_loc,t,U,mu,eta,canonical,N,dkbt_data) \n",
    "    \n",
    "    \n",
    "    result = pimc.insert_kink_after_tail(data_struct,beta,head_loc,tail_loc,t,U,mu,eta,canonical,N,ikat_data)   \n",
    "        \n",
    "    result = pimc.delete_kink_after_tail(data_struct,beta,head_loc,tail_loc,t,U,mu,eta,canonical,N,dkat_data)\n",
    "        \n",
    "    # Calculate observables when there are no worms present\n",
    "    if m >= 0.25*mc_steps and m%L==0: # Ignore unequilibrated data\n",
    "        if not(pimc.check_worm(head_loc,tail_loc)):\n",
    "            Z_ctr += 1\n",
    "            kinetic,diagonal = pimc.bh_egs(data_struct,beta,dtau,U,mu,t)\n",
    "            diagonal_list.append(diagonal)\n",
    "            kinetic_list.append(kinetic)\n",
    "            n_list.append(pimc.n_pimc(data_struct,beta)/L) # <n>\n",
    "            occ_list.append(pimc.n_i_pimc(data_struct,beta))\n"
   ]
  },
  {
   "cell_type": "code",
   "execution_count": 232,
   "metadata": {},
   "outputs": [
    {
     "name": "stdout",
     "output_type": "stream",
     "text": [
      "-------- Acceptance Ratios --------\n",
      "\n",
      "       Insert worm: 1.3896% (612/44040)\n",
      "       Delete worm: 99.8369% (612/613)\n",
      "\n",
      "       Insert anti: 1.2859% (560/43549)\n",
      "       Delete anti: 98.5765% (554/562)\n",
      "\n",
      "   InsertZero worm: 4.2062% (1863/44292)\n",
      "   DeleteZero worm: 99.9464% (1866/1867)\n",
      "\n",
      "   InsertZero anti: 11.0786% (5420/48923)\n",
      "   DeleteZero anti: 99.7977% (5427/5438)\n",
      "\n",
      "   InsertBeta worm: 1.2332% (605/49059)\n",
      "   DeleteBeta worm: 98.8612% (1389/1405)\n",
      "\n",
      "   InsertBeta anti: 3.1384% (1386/44163)\n",
      "   DeleteBeta anti: 99.8347% (604/605)\n",
      "\n",
      "              IKBH: 62.5203% (7308/11689)\n",
      "              DKBH: 74.9222% (6985/9323)\n",
      "\n",
      "              IKAH: 47.9853% (5609/11689)\n",
      "              DKAH: 74.8050% (5659/7565)\n",
      "\n",
      "              IKBT: 52.4730% (3936/7501)\n",
      "              DKBT: 76.6432% (3918/5112)\n",
      "\n",
      "              IKAT: 68.1243% (5110/7501)\n",
      "              DKAT: 70.1256% (4859/6929)\n",
      "\n"
     ]
    }
   ],
   "source": [
    "# Acceptance ratios\n",
    "print(\"-------- Acceptance Ratios --------\\n\")\n",
    "\n",
    "print(\"       Insert worm: %.4f%% (%d/%d)\"%(100*insert_worm_data[0]/insert_worm_data[1],insert_worm_data[0],insert_worm_data[1]))\n",
    "print(\"       Delete worm: %.4f%% (%d/%d)\\n\"%(100*delete_worm_data[0]/delete_worm_data[1],delete_worm_data[0],delete_worm_data[1]))\n",
    "\n",
    "print(\"       Insert anti: %.4f%% (%d/%d)\"%(100*insert_anti_data[0]/insert_anti_data[1],insert_anti_data[0],insert_anti_data[1]))\n",
    "print(\"       Delete anti: %.4f%% (%d/%d)\\n\"%(100*delete_anti_data[0]/delete_anti_data[1],delete_anti_data[0],delete_anti_data[1]))\n",
    "\n",
    "#print(\"         Timeshift: %.4f%% (%d)\\n\"%(100*acc_timeshift/prop_timeshift,prop_timeshift))\n",
    "\n",
    "print(\"   InsertZero worm: %.4f%% (%d/%d)\"%(100*insertZero_worm_data[0]/insertZero_worm_data[1],insertZero_worm_data[0],insertZero_worm_data[1]))\n",
    "print(\"   DeleteZero worm: %.4f%% (%d/%d)\\n\"%(100*deleteZero_worm_data[0]/deleteZero_worm_data[1],deleteZero_worm_data[0],deleteZero_worm_data[1]))\n",
    "\n",
    "print(\"   InsertZero anti: %.4f%% (%d/%d)\"%(100*insertZero_anti_data[0]/insertZero_anti_data[1],insertZero_anti_data[0],insertZero_anti_data[1]))\n",
    "print(\"   DeleteZero anti: %.4f%% (%d/%d)\\n\"%(100*deleteZero_anti_data[0]/deleteZero_anti_data[1],deleteZero_anti_data[0],deleteZero_anti_data[1]))\n",
    "\n",
    "print(\"   InsertBeta worm: %.4f%% (%d/%d)\"%(100*insertBeta_worm_data[0]/insertBeta_worm_data[1],insertBeta_worm_data[0],insertBeta_worm_data[1]))\n",
    "print(\"   DeleteBeta worm: %.4f%% (%d/%d)\\n\"%(100*deleteBeta_worm_data[0]/deleteBeta_worm_data[1],deleteBeta_worm_data[0],deleteBeta_worm_data[1]))\n",
    "\n",
    "print(\"   InsertBeta anti: %.4f%% (%d/%d)\"%(100*insertBeta_anti_data[0]/insertBeta_anti_data[1],insertBeta_anti_data[0],insertBeta_anti_data[1]))\n",
    "print(\"   DeleteBeta anti: %.4f%% (%d/%d)\\n\"%(100*deleteBeta_anti_data[0]/deleteBeta_anti_data[1],deleteBeta_anti_data[0],deleteBeta_anti_data[1]))\n",
    "\n",
    "print(\"              IKBH: %.4f%% (%d/%d)\"%(100*ikbh_data[0]/ikbh_data[1],ikbh_data[0],ikbh_data[1])) \n",
    "print(\"              DKBH: %.4f%% (%d/%d)\\n\"%(100*dkbh_data[0]/dkbh_data[1],dkbh_data[0],dkbh_data[1]))\n",
    "\n",
    "print(\"              IKAH: %.4f%% (%d/%d)\"%(100*ikah_data[0]/ikah_data[1],ikah_data[0],ikah_data[1])) \n",
    "print(\"              DKAH: %.4f%% (%d/%d)\\n\"%(100*dkah_data[0]/dkah_data[1],dkah_data[0],dkah_data[1])) \n",
    "\n",
    "print(\"              IKBT: %.4f%% (%d/%d)\"%(100*ikbt_data[0]/ikbt_data[1],ikbt_data[0],ikbt_data[1])) \n",
    "print(\"              DKBT: %.4f%% (%d/%d)\\n\"%(100*dkbt_data[0]/dkbt_data[1],dkbt_data[0],dkbt_data[1]))\n",
    "\n",
    "print(\"              IKAT: %.4f%% (%d/%d)\"%(100*ikat_data[0]/ikat_data[1],ikat_data[0],ikat_data[1])) \n",
    "print(\"              DKAT: %.4f%% (%d/%d)\\n\"%(100*dkat_data[0]/dkat_data[1],dkat_data[0],dkat_data[1])) "
   ]
  },
  {
   "cell_type": "markdown",
   "metadata": {},
   "source": [
    "### Process data"
   ]
  },
  {
   "cell_type": "code",
   "execution_count": 233,
   "metadata": {},
   "outputs": [
    {
     "name": "stdout",
     "output_type": "stream",
     "text": [
      "N_check:  2.000000000000001\n"
     ]
    }
   ],
   "source": [
    "print(\"N_check: \",pimc.N_tracker(data_struct,beta)/L)\n",
    "#pimc.view_worldlines(data_struct,beta,figure_name=None)"
   ]
  },
  {
   "cell_type": "code",
   "execution_count": 234,
   "metadata": {},
   "outputs": [
    {
     "name": "stdout",
     "output_type": "stream",
     "text": [
      "18674\n"
     ]
    }
   ],
   "source": [
    "diagonal = np.mean(diagonal_list)\n",
    "kinetic = np.mean(kinetic_list)\n",
    "n = np.mean(n_list)\n",
    "occ = np.mean(occ_list,axis=0)\n",
    "print(Z_ctr)"
   ]
  },
  {
   "cell_type": "code",
   "execution_count": 235,
   "metadata": {},
   "outputs": [
    {
     "name": "stdout",
     "output_type": "stream",
     "text": [
      "Samples: 18674\n",
      "-------- Ground State Energy (E/t) --------\n",
      "PIMC: -3.40000000\n",
      "-------- Average particles per site --------\n",
      "PIMC: 2.00000000\n",
      "-------- Average occupation --------\n",
      "PIMC: [2. 2. 3. 1.]\n",
      "-------- Z-configuration fraction --------\n",
      "Z-fraction: 18.67%\n"
     ]
    }
   ],
   "source": [
    "importlib.reload(pimc)\n",
    "print(\"Samples: %d\"%Z_ctr)\n",
    "print(\"-------- Ground State Energy (E/t) --------\")\n",
    "print(\"PIMC: %.8f\"%((diagonal+kinetic)/t))\n",
    "print(\"-------- Average particles per site --------\")\n",
    "print(\"PIMC: %.8f\"%n)\n",
    "print(\"-------- Average occupation --------\")\n",
    "print(\"PIMC:\",occ)\n",
    "print(\"-------- Z-configuration fraction --------\")\n",
    "print(\"Z-fraction: %.2f%%\"%(Z_ctr/mc_steps*100))"
   ]
  },
  {
   "cell_type": "code",
   "execution_count": 214,
   "metadata": {},
   "outputs": [],
   "source": [
    "# Some results obtained\n",
    "\n",
    "# Simulation parameters\n",
    "# t = 1.0E+02\n",
    "# mu = 0.99E+02\n",
    "# U = 1.0E+02 # Leave this fixed\n",
    "# L = 4\n",
    "# N = 4\n",
    "\n",
    "# 10,000 iterations\n",
    "# Samples: 1710\n",
    "# -------- Ground State Energy (E/t) --------\n",
    "# PIMC: -3.96000000\n",
    "# -------- Average particles per site --------\n",
    "# PIMC: 1.75000000\n",
    "# -------- Average occupation --------\n",
    "# PIMC: [1. 1. 3. 2.]\n",
    "# -------- Z-configuration fraction --------\n",
    "# Z-fraction: 17.10%\n",
    "\n",
    "# 50,000\n",
    "# Samples: 9363\n",
    "# -------- Ground State Energy (E/t) --------\n",
    "# PIMC: -3.96000000\n",
    "# -------- Average particles per site --------\n",
    "# PIMC: 1.75000000\n",
    "# -------- Average occupation --------\n",
    "# PIMC: [2. 1. 3. 1.]\n",
    "# -------- Z-configuration fraction --------\n",
    "# Z-fraction: 18.73%\n",
    "    \n",
    "# 100,000 iterations\n",
    "# Samples: 18746\n",
    "# -------- Ground State Energy (E/t) --------\n",
    "# PIMC: -3.96000000\n",
    "# -------- Average particles per site --------\n",
    "# PIMC: 1.75000000\n",
    "# -------- Average occupation --------\n",
    "# PIMC: [1. 2. 3. 1.]\n",
    "# -------- Z-configuration fraction --------\n",
    "# Z-fraction: 18.75%"
   ]
  },
  {
   "cell_type": "code",
   "execution_count": 215,
   "metadata": {},
   "outputs": [],
   "source": [
    "# Exact Diagonalization code results (with default mu)\n",
    "# M=4, N=4, PBC\n",
    "# U/t E0/t S2(n=2) S2(l=2) Eop(l=2)\n",
    "# 1.0 -6.681733497641254 + 0.0im 0.04253957822375201 1.1353685196649936 0.0027226685264284205"
   ]
  },
  {
   "cell_type": "markdown",
   "metadata": {},
   "source": [
    "### Save data"
   ]
  },
  {
   "cell_type": "code",
   "execution_count": 164,
   "metadata": {},
   "outputs": [],
   "source": [
    "egs_list = np.array(egs_list)\n",
    "with open(\"egs_%i_%i_%.4f_%.4f_%.4f_%i.dat\"%(L,N,U,mu,eta,mc_steps),\"w+\") as data:\n",
    "    np.savetxt(data,egs_list,delimiter=\",\",fmt=\"%.16f\",header=\"MC_step <E> // BH Parameters: L=%d,N=%d,U=%.8f,mu=%.8f,eta=%.8f,MC_steps=%i\"%(L,N,U,mu,eta,mc_steps))\n",
    "    \n",
    "n_list = np.array(n_list)\n",
    "with open(\"n_%i_%i_%.4f_%.4f_%.4f_%i.dat\"%(L,N,U,mu,eta,mc_steps),\"w+\") as data:\n",
    "    np.savetxt(data,n_list,delimiter=\",\",fmt=\"%.16f\",header=\"MC_step <n> // BH Parameters: L=%d,N=%d,U=%.8f,mu=%.8f,eta=%.8f,MC_steps=%i\"%(L,N,U,mu,eta,mc_steps))\n",
    "    \n",
    "occ_list = np.array(occ_list)\n",
    "with open(\"occ_%i_%i_%.4f_%.4f_%.4f_%i.dat\"%(L,N,U,mu,eta,mc_steps),\"w+\") as data:\n",
    "    np.savetxt(data,occ_list,delimiter=\",\",fmt=\"%.16f\",header=\"MC_step <n_i> // BH Parameters: L=%d,N=%d,U=%.8f,mu=%.8f,eta=%.8f,MC_steps=%i\"%(L,N,U,mu,eta,mc_steps))    "
   ]
  },
  {
   "cell_type": "code",
   "execution_count": null,
   "metadata": {},
   "outputs": [],
   "source": []
  },
  {
   "cell_type": "code",
   "execution_count": null,
   "metadata": {},
   "outputs": [],
   "source": []
  },
  {
   "cell_type": "code",
   "execution_count": null,
   "metadata": {},
   "outputs": [],
   "source": []
  }
 ],
 "metadata": {
  "kernelspec": {
   "display_name": "Python 3",
   "language": "python",
   "name": "python3"
  },
  "language_info": {
   "codemirror_mode": {
    "name": "ipython",
    "version": 3
   },
   "file_extension": ".py",
   "mimetype": "text/x-python",
   "name": "python",
   "nbconvert_exporter": "python",
   "pygments_lexer": "ipython3",
   "version": "3.7.3"
  }
 },
 "nbformat": 4,
 "nbformat_minor": 4
}
