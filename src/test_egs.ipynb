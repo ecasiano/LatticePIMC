{
 "cells": [
  {
   "cell_type": "markdown",
   "metadata": {},
   "source": [
    "### Compare theoretical and ground state energy at unit filling"
   ]
  },
  {
   "cell_type": "code",
   "execution_count": 453,
   "metadata": {},
   "outputs": [
    {
     "data": {
      "text/plain": [
       "<module 'pimc' from '/Users/ecasiano/Desktop/LatticePIMC/src/pimc.py'>"
      ]
     },
     "execution_count": 453,
     "metadata": {},
     "output_type": "execute_result"
    }
   ],
   "source": [
    "import numpy as np\n",
    "import bisect\n",
    "import matplotlib.pyplot as plt\n",
    "import pimc # custom module\n",
    "from scipy.stats import truncexpon\n",
    "from scipy.integrate import quad, simps\n",
    "import importlib\n",
    "from random import shuffle\n",
    "importlib.reload(pimc)"
   ]
  },
  {
   "cell_type": "markdown",
   "metadata": {},
   "source": [
    "### Simulation parameters"
   ]
  },
  {
   "cell_type": "code",
   "execution_count": 454,
   "metadata": {},
   "outputs": [],
   "source": [
    "importlib.reload(pimc)\n",
    "# Simulation parameters\n",
    "t = 1.0\n",
    "U = 7 # Leave this fixed\n",
    "mu = 0.5\n",
    "L = 4\n",
    "N = 4\n",
    "\n",
    "# PIMC parameters\n",
    "beta = 4\n",
    "eta = 1/np.sqrt(L*beta) # Z_frac = 17.50%\n",
    "eta = 0.25\n",
    "dtau = 0.4999*beta # Set neighborhood of beta/2 where <K> will be measured\n",
    "\n",
    "# Canonical or Grand Canonical?\n",
    "canonical = True # False means Grand Canonical\n",
    "\n",
    "# Create a random worldline configuration\n",
    "alpha = pimc.random_boson_config(L,N)\n",
    "alpha = [1]*L\n",
    "data_struct = pimc.create_data_struct(alpha,L)\n",
    "head_loc = []\n",
    "tail_loc = []\n",
    "#pimc.view_worldlines(data_struct,beta,figure_name=None)"
   ]
  },
  {
   "cell_type": "markdown",
   "metadata": {},
   "source": [
    "### Do many iterations of the set of PIMC-WA updates"
   ]
  },
  {
   "cell_type": "code",
   "execution_count": 455,
   "metadata": {},
   "outputs": [],
   "source": [
    "importlib.reload(pimc)\n",
    "\n",
    "# Create the data structure\n",
    "data_struct = pimc.create_data_struct(alpha,L)\n",
    "head_loc = []\n",
    "tail_loc = []\n",
    "\n",
    "# Store values of observables\n",
    "Z_ctr = 0 # Count configurations with no worm ends\n",
    "diagonal_list = []\n",
    "kinetic_list = []\n",
    "N_list = [] # average total particles \n",
    "occ_list = [] # average particle occupation\n",
    "E_N_list = [] # Fixed total particle energies\n",
    "E_canonical_list = [] # To save energies only for N space configurations\n",
    "\n",
    "# Counters for acceptance of each move\n",
    "insert_worm_data = [0,0] # [accepted,proposed]\n",
    "delete_worm_data = [0,0]\n",
    "\n",
    "insert_anti_data = [0,0]\n",
    "delete_anti_data = [0,0]\n",
    "\n",
    "advance_head_data = [0,0]\n",
    "recede_head_data = [0,0]\n",
    "\n",
    "advance_tail_data = [0,0]\n",
    "recede_tail_data = [0,0]\n",
    "\n",
    "insertZero_worm_data = [0,0]\n",
    "deleteZero_worm_data = [0,0]\n",
    "\n",
    "insertZero_anti_data = [0,0]\n",
    "deleteZero_anti_data = [0,0]\n",
    "\n",
    "insertBeta_worm_data = [0,0]\n",
    "deleteBeta_worm_data = [0,0]\n",
    "\n",
    "insertBeta_anti_data = [0,0]\n",
    "deleteBeta_anti_data = [0,0]\n",
    "\n",
    "ikbh_data = [0,0]\n",
    "dkbh_data = [0,0]\n",
    "\n",
    "ikah_data = [0,0]\n",
    "dkah_data = [0,0]\n",
    "\n",
    "ikbt_data = [0,0]\n",
    "dkbt_data = [0,0]\n",
    "\n",
    "ikat_data = [0,0]\n",
    "dkat_data = [0,0]"
   ]
  },
  {
   "cell_type": "code",
   "execution_count": 456,
   "metadata": {},
   "outputs": [
    {
     "name": "stdout",
     "output_type": "stream",
     "text": [
      "CPU times: user 1min 22s, sys: 803 ms, total: 1min 22s\n",
      "Wall time: 1min 22s\n"
     ]
    }
   ],
   "source": [
    "%%time\n",
    "\n",
    "# Set the number of times the set of updates will be attempted\n",
    "mc_steps = int(1E+05)\n",
    "for m in range(mc_steps):\n",
    "    \n",
    "    # assign a label to each update\n",
    "    labels = list(range(1,16)) # There 15 functions\n",
    "    shuffle(labels)\n",
    "    \n",
    "    # At every mc step, try EVERY update in random order\n",
    "    for label in labels:   \n",
    "        \n",
    "        # Non-Spaceshift moves\n",
    "        if label == 1:\n",
    "            result = pimc.worm_insert(data_struct,beta,head_loc,tail_loc,U,mu,eta,L,N,canonical,insert_worm_data,insert_anti_data)\n",
    "\n",
    "        elif label == 2:\n",
    "            result = pimc.worm_delete(data_struct,beta,head_loc,tail_loc,U,mu,eta,L,N,canonical,delete_worm_data,delete_anti_data)\n",
    "\n",
    "        elif label == 3:\n",
    "            result = pimc.worm_timeshift(data_struct,beta,head_loc,tail_loc,U,mu,L,N,canonical,advance_head_data,recede_head_data,advance_tail_data,recede_tail_data)\n",
    "\n",
    "        elif label == 4:\n",
    "            result = pimc.insertZero(data_struct,beta,head_loc,tail_loc,U,mu,eta,L,N,canonical,insertZero_worm_data,insertZero_anti_data)\n",
    "\n",
    "        elif label == 5:\n",
    "            result = pimc.deleteZero(data_struct,beta,head_loc,tail_loc,U,mu,eta,L,N,canonical,deleteZero_worm_data,deleteZero_anti_data)\n",
    "\n",
    "        elif label == 6:\n",
    "            result = pimc.insertBeta(data_struct,beta,head_loc,tail_loc,U,mu,eta,L,N,canonical,insertBeta_worm_data,insertBeta_anti_data)\n",
    "\n",
    "        elif label == 7:\n",
    "            result = pimc.deleteBeta(data_struct,beta,head_loc,tail_loc,U,mu,eta,L,N,canonical,deleteBeta_worm_data,deleteBeta_anti_data)\n",
    "\n",
    "        # Spaceshift moves   \n",
    "        elif label == 8:\n",
    "            result = pimc.insert_kink_before_head(data_struct,beta,head_loc,tail_loc,t,U,mu,eta,L,N,canonical,ikbh_data)  \n",
    "\n",
    "        elif label == 9:\n",
    "            result = pimc.delete_kink_before_head(data_struct,beta,head_loc,tail_loc,t,U,mu,eta,L,N,canonical,dkbh_data) \n",
    "\n",
    "        elif label == 10:\n",
    "            result = pimc.insert_kink_after_head(data_struct,beta,head_loc,tail_loc,t,U,mu,eta,L,N,canonical,ikah_data)   \n",
    "\n",
    "        elif label == 11:\n",
    "            result = pimc.delete_kink_after_head(data_struct,beta,head_loc,tail_loc,t,U,mu,eta,L,N,canonical,dkah_data)\n",
    "\n",
    "        elif label == 12:\n",
    "            result = pimc.insert_kink_before_tail(data_struct,beta,head_loc,tail_loc,t,U,mu,eta,L,N,canonical,ikbt_data)  \n",
    "\n",
    "        elif label == 13:\n",
    "            result = pimc.delete_kink_before_tail(data_struct,beta,head_loc,tail_loc,t,U,mu,eta,L,N,canonical,dkbt_data) \n",
    "\n",
    "        elif label == 14:\n",
    "            result = pimc.insert_kink_after_tail(data_struct,beta,head_loc,tail_loc,t,U,mu,eta,L,N,canonical,ikat_data)   \n",
    "\n",
    "        else:\n",
    "            result = pimc.delete_kink_after_tail(data_struct,beta,head_loc,tail_loc,t,U,mu,eta,L,N,canonical,dkat_data)\n",
    "        \n",
    "    # Calculate observables when there are no worms present\n",
    "    if m >= 0.05*mc_steps and m%L==0: # Ignore unequilibrated data\n",
    "        \n",
    "        if not(pimc.check_worm(head_loc,tail_loc)):\n",
    "            \n",
    "            # Count diagonal configurations\n",
    "            Z_ctr += 1\n",
    "            \n",
    "            # Calculate kinetic, diagonal, and total energy\n",
    "            kinetic,diagonal = pimc.bh_egs(data_struct,beta,dtau,U,mu,t,L)\n",
    "            diagonal_list.append(diagonal)\n",
    "            kinetic_list.append(kinetic)\n",
    "            \n",
    "            # Calculate the average total number of particles\n",
    "            N_list.append(pimc.n_pimc(data_struct,beta,L)) # <n>\n",
    "            \n",
    "            # Calculate the average particle occupation\n",
    "            occ_list.append(pimc.n_i_pimc(data_struct,beta,L))\n",
    "           \n",
    "            # Build histogram of fixed total particle energies E_N\n",
    "            N_current = int(round(pimc.N_tracker(data_struct,beta,L)))\n",
    "            E_current = kinetic+diagonal # total energy at this iteration\n",
    "            E_N_list.append((E_current,N_current))\n",
    "            if N_current == N:\n",
    "                E_canonical_list.append(E_current)"
   ]
  },
  {
   "cell_type": "code",
   "execution_count": 457,
   "metadata": {},
   "outputs": [
    {
     "name": "stdout",
     "output_type": "stream",
     "text": [
      "\n",
      "-------- Acceptance Ratios --------\n",
      "\n",
      "       Insert worm: (446/1374)\n",
      "       Delete worm: (380/2724)\n",
      "\n",
      "       Insert anti: (44/1456)\n",
      "       Delete anti: (44/129)\n",
      "\n",
      "       Advance head: (11179/11179)\n",
      "        Recede head: (12060/12060)\n",
      "\n",
      "       Advance tail: (12452/12452)\n",
      "        Recede tail: (11620/11620)\n",
      "\n",
      "   InsertZero worm: (3226/12985)\n",
      "   DeleteZero worm: (3271/3851)\n",
      "\n",
      "   InsertZero anti: (2672/10812)\n",
      "   DeleteZero anti: (2716/4256)\n",
      "\n",
      "   InsertBeta worm: (3153/12015)\n",
      "   DeleteBeta worm: (3174/3705)\n",
      "\n",
      "   InsertBeta anti: (2919/11916)\n",
      "   DeleteBeta anti: (2939/4621)\n",
      "\n",
      "              IKBH: (14287/36854)\n",
      "              DKBH: (14265/19507)\n",
      "\n",
      "              IKAH: (14359/36971)\n",
      "              DKAH: (14334/19346)\n",
      "\n",
      "              IKBT: (14321/37879)\n",
      "              DKBT: (14457/19481)\n",
      "\n",
      "              IKAT: (14997/37871)\n",
      "              DKAT: (14894/20201)\n",
      "\n"
     ]
    }
   ],
   "source": [
    "# Acceptance ratios\n",
    "print(\"\\n-------- Acceptance Ratios --------\\n\")\n",
    "\n",
    "print(\"       Insert worm: (%d/%d)\"%(insert_worm_data[0],insert_worm_data[1]))\n",
    "print(\"       Delete worm: (%d/%d)\\n\"%(delete_worm_data[0],delete_worm_data[1]))\n",
    "\n",
    "print(\"       Insert anti: (%d/%d)\"%(insert_anti_data[0],insert_anti_data[1]))\n",
    "print(\"       Delete anti: (%d/%d)\\n\"%(delete_anti_data[0],delete_anti_data[1]))\n",
    "\n",
    "print(\"       Advance head: (%d/%d)\"%(advance_head_data[0],advance_head_data[1]))\n",
    "print(\"        Recede head: (%d/%d)\\n\"%(recede_head_data[0],recede_head_data[1]))\n",
    "\n",
    "print(\"       Advance tail: (%d/%d)\"%(advance_tail_data[0],advance_tail_data[1]))\n",
    "print(\"        Recede tail: (%d/%d)\\n\"%(recede_tail_data[0],recede_tail_data[1]))\n",
    "\n",
    "print(\"   InsertZero worm: (%d/%d)\"%(insertZero_worm_data[0],insertZero_worm_data[1]))\n",
    "print(\"   DeleteZero worm: (%d/%d)\\n\"%(deleteZero_worm_data[0],deleteZero_worm_data[1]))\n",
    "\n",
    "print(\"   InsertZero anti: (%d/%d)\"%(insertZero_anti_data[0],insertZero_anti_data[1]))\n",
    "print(\"   DeleteZero anti: (%d/%d)\\n\"%(deleteZero_anti_data[0],deleteZero_anti_data[1]))\n",
    "\n",
    "print(\"   InsertBeta worm: (%d/%d)\"%(insertBeta_worm_data[0],insertBeta_worm_data[1]))\n",
    "print(\"   DeleteBeta worm: (%d/%d)\\n\"%(deleteBeta_worm_data[0],deleteBeta_worm_data[1]))\n",
    "\n",
    "print(\"   InsertBeta anti: (%d/%d)\"%(insertBeta_anti_data[0],insertBeta_anti_data[1]))\n",
    "print(\"   DeleteBeta anti: (%d/%d)\\n\"%(deleteBeta_anti_data[0],deleteBeta_anti_data[1]))\n",
    "\n",
    "print(\"              IKBH: (%d/%d)\"%(ikbh_data[0],ikbh_data[1])) \n",
    "print(\"              DKBH: (%d/%d)\\n\"%(dkbh_data[0],dkbh_data[1]))\n",
    "\n",
    "print(\"              IKAH: (%d/%d)\"%(ikah_data[0],ikah_data[1])) \n",
    "print(\"              DKAH: (%d/%d)\\n\"%(dkah_data[0],dkah_data[1])) \n",
    "\n",
    "print(\"              IKBT: (%d/%d)\"%(ikbt_data[0],ikbt_data[1])) \n",
    "print(\"              DKBT: (%d/%d)\\n\"%(dkbt_data[0],dkbt_data[1]))\n",
    "\n",
    "print(\"              IKAT: (%d/%d)\"%(ikat_data[0],ikat_data[1])) \n",
    "print(\"              DKAT: (%d/%d)\\n\"%(dkat_data[0],dkat_data[1])) "
   ]
  },
  {
   "cell_type": "markdown",
   "metadata": {},
   "source": [
    "### Process data"
   ]
  },
  {
   "cell_type": "code",
   "execution_count": 458,
   "metadata": {},
   "outputs": [
    {
     "name": "stdout",
     "output_type": "stream",
     "text": [
      "N_check:  3.1534057135143114\n"
     ]
    },
    {
     "data": {
      "image/png": "[encoded data removed]",
      "text/plain": [
       "<Figure size 432x288 with 1 Axes>"
      ]
     },
     "metadata": {
      "needs_background": "light"
     },
     "output_type": "display_data"
    }
   ],
   "source": [
    "print(\"N_check: \",pimc.N_tracker(data_struct,beta,L))\n",
    "pimc.view_worldlines(data_struct,beta,figure_name=None)"
   ]
  },
  {
   "cell_type": "code",
   "execution_count": 459,
   "metadata": {},
   "outputs": [
    {
     "name": "stdout",
     "output_type": "stream",
     "text": [
      "676\n"
     ]
    }
   ],
   "source": [
    "diagonal = np.mean(diagonal_list)\n",
    "kinetic = np.mean(kinetic_list)\n",
    "N_mean = np.mean(N_list)\n",
    "E_canonical = np.mean(E_canonical_list)\n",
    "occ = np.mean(occ_list,axis=0)\n",
    "print(Z_ctr)"
   ]
  },
  {
   "cell_type": "code",
   "execution_count": 460,
   "metadata": {},
   "outputs": [
    {
     "name": "stdout",
     "output_type": "stream",
     "text": [
      "Samples: 676\n",
      "-------- Ground State Energy (E/t) --------\n",
      "PIMC: -4.18708446\n",
      "-------- (canonical) Ground State Energy (E/t) --------\n",
      "PIMC: -3.06838868\n",
      "-------- Average particles per site --------\n",
      "PIMC: 0.76775148\n",
      "-------- Average occupation --------\n",
      "PIMC: [0.69230769 0.77810651 0.78106509 0.81952663]\n",
      "-------- Z-configuration fraction --------\n",
      "Z-fraction: 1.35%\n"
     ]
    }
   ],
   "source": [
    "importlib.reload(pimc)\n",
    "print(\"Samples: %d\"%Z_ctr)\n",
    "print(\"-------- Ground State Energy (E/t) --------\")\n",
    "print(\"PIMC: %.8f\"%((diagonal+kinetic)/t))\n",
    "print(\"-------- (canonical) Ground State Energy (E/t) --------\")\n",
    "print(\"PIMC: %.8f\"%((E_canonical)/t))\n",
    "print(\"-------- Average particles per site --------\")\n",
    "print(\"PIMC: %.8f\"%(N_mean/L))\n",
    "print(\"-------- Average occupation --------\")\n",
    "print(\"PIMC:\",occ)\n",
    "print(\"-------- Z-configuration fraction --------\")\n",
    "print(\"Z-fraction: %.2f%%\"%(Z_ctr/mc_steps*100))"
   ]
  },
  {
   "cell_type": "markdown",
   "metadata": {},
   "source": [
    "### Fixed total particle (E_N) energy histogram"
   ]
  },
  {
   "cell_type": "code",
   "execution_count": 461,
   "metadata": {},
   "outputs": [],
   "source": [
    "from collections import OrderedDict\n",
    "# reference: https://stackoverflow.com/a/51491688\n",
    "\n",
    "d = OrderedDict()\n",
    "for en,n in E_N_list: # en: energy, n: total particle number\n",
    "    d.setdefault(n, []).append(en)\n",
    "    \n",
    "d = [(sum(v) / len(v), k) for k, v in d.items()]\n",
    "\n",
    "d = sorted(d,key=lambda x: x[1])"
   ]
  },
  {
   "cell_type": "code",
   "execution_count": 462,
   "metadata": {},
   "outputs": [
    {
     "name": "stdout",
     "output_type": "stream",
     "text": [
      "\n",
      "-------- Average energy of fixed N sectors (E_N/t) --------\n",
      "E_3/t: -4.2726\n",
      "E_4/t: -3.0684\n"
     ]
    }
   ],
   "source": [
    "print(\"\\n-------- Average energy of fixed N sectors (E_N/t) --------\")\n",
    "for i in range(len(d)):\n",
    "        print(\"E_%i/t: %.4f\"%(d[i][1],d[i][0]/t))"
   ]
  },
  {
   "cell_type": "code",
   "execution_count": 463,
   "metadata": {},
   "outputs": [
    {
     "data": {
      "text/plain": [
       "48"
      ]
     },
     "execution_count": 463,
     "metadata": {},
     "output_type": "execute_result"
    }
   ],
   "source": [
    "len(E_canonical_list)"
   ]
  },
  {
   "cell_type": "code",
   "execution_count": 464,
   "metadata": {},
   "outputs": [
    {
     "data": {
      "text/plain": [
       "676"
      ]
     },
     "execution_count": 464,
     "metadata": {},
     "output_type": "execute_result"
    }
   ],
   "source": [
    "Z_ctr"
   ]
  },
  {
   "cell_type": "code",
   "execution_count": null,
   "metadata": {},
   "outputs": [],
   "source": []
  },
  {
   "cell_type": "markdown",
   "metadata": {},
   "source": [
    "### Save data"
   ]
  },
  {
   "cell_type": "code",
   "execution_count": 465,
   "metadata": {},
   "outputs": [
    {
     "ename": "NameError",
     "evalue": "name 'egs_list' is not defined",
     "output_type": "error",
     "traceback": [
      "\u001b[0;31m---------------------------------------------------------------------------\u001b[0m",
      "\u001b[0;31mNameError\u001b[0m                                 Traceback (most recent call last)",
      "\u001b[0;32m<ipython-input-465-0e6fac39b972>\u001b[0m in \u001b[0;36m<module>\u001b[0;34m\u001b[0m\n\u001b[1;32m      3\u001b[0m     \u001b[0mnp\u001b[0m\u001b[0;34m.\u001b[0m\u001b[0msavetxt\u001b[0m\u001b[0;34m(\u001b[0m\u001b[0mdata\u001b[0m\u001b[0;34m,\u001b[0m\u001b[0mE_canonical_list\u001b[0m\u001b[0;34m,\u001b[0m\u001b[0mdelimiter\u001b[0m\u001b[0;34m=\u001b[0m\u001b[0;34m\",\"\u001b[0m\u001b[0;34m,\u001b[0m\u001b[0mfmt\u001b[0m\u001b[0;34m=\u001b[0m\u001b[0;34m\"%.16f\"\u001b[0m\u001b[0;34m,\u001b[0m\u001b[0mheader\u001b[0m\u001b[0;34m=\u001b[0m\u001b[0;34m\"MC_step <E_canonical> // BH Parameters: L=%d,N=%d,U=%.4f,mu=%.4f,t=%.4f,eta=%.4f,MC_steps=%i\"\u001b[0m\u001b[0;34m%\u001b[0m\u001b[0;34m(\u001b[0m\u001b[0mL\u001b[0m\u001b[0;34m,\u001b[0m\u001b[0mN\u001b[0m\u001b[0;34m,\u001b[0m\u001b[0mU\u001b[0m\u001b[0;34m,\u001b[0m\u001b[0mmu\u001b[0m\u001b[0;34m,\u001b[0m\u001b[0mt\u001b[0m\u001b[0;34m,\u001b[0m\u001b[0meta\u001b[0m\u001b[0;34m,\u001b[0m\u001b[0mmc_steps\u001b[0m\u001b[0;34m)\u001b[0m\u001b[0;34m)\u001b[0m\u001b[0;34m\u001b[0m\u001b[0;34m\u001b[0m\u001b[0m\n\u001b[1;32m      4\u001b[0m \u001b[0;34m\u001b[0m\u001b[0m\n\u001b[0;32m----> 5\u001b[0;31m \u001b[0megs_list\u001b[0m \u001b[0;34m=\u001b[0m \u001b[0mnp\u001b[0m\u001b[0;34m.\u001b[0m\u001b[0marray\u001b[0m\u001b[0;34m(\u001b[0m\u001b[0megs_list\u001b[0m\u001b[0;34m)\u001b[0m\u001b[0;34m\u001b[0m\u001b[0;34m\u001b[0m\u001b[0m\n\u001b[0m\u001b[1;32m      6\u001b[0m \u001b[0;32mwith\u001b[0m \u001b[0mopen\u001b[0m\u001b[0;34m(\u001b[0m\u001b[0;34m\"egs_%i_%i_%.4f_%.4f_%.4f_%i.dat\"\u001b[0m\u001b[0;34m%\u001b[0m\u001b[0;34m(\u001b[0m\u001b[0mL\u001b[0m\u001b[0;34m,\u001b[0m\u001b[0mN\u001b[0m\u001b[0;34m,\u001b[0m\u001b[0mU\u001b[0m\u001b[0;34m,\u001b[0m\u001b[0mmu\u001b[0m\u001b[0;34m,\u001b[0m\u001b[0meta\u001b[0m\u001b[0;34m,\u001b[0m\u001b[0mmc_steps\u001b[0m\u001b[0;34m)\u001b[0m\u001b[0;34m,\u001b[0m\u001b[0;34m\"w+\"\u001b[0m\u001b[0;34m)\u001b[0m \u001b[0;32mas\u001b[0m \u001b[0mdata\u001b[0m\u001b[0;34m:\u001b[0m\u001b[0;34m\u001b[0m\u001b[0;34m\u001b[0m\u001b[0m\n\u001b[1;32m      7\u001b[0m     \u001b[0mnp\u001b[0m\u001b[0;34m.\u001b[0m\u001b[0msavetxt\u001b[0m\u001b[0;34m(\u001b[0m\u001b[0mdata\u001b[0m\u001b[0;34m,\u001b[0m\u001b[0megs_list\u001b[0m\u001b[0;34m,\u001b[0m\u001b[0mdelimiter\u001b[0m\u001b[0;34m=\u001b[0m\u001b[0;34m\",\"\u001b[0m\u001b[0;34m,\u001b[0m\u001b[0mfmt\u001b[0m\u001b[0;34m=\u001b[0m\u001b[0;34m\"%.16f\"\u001b[0m\u001b[0;34m,\u001b[0m\u001b[0mheader\u001b[0m\u001b[0;34m=\u001b[0m\u001b[0;34m\"MC_step <E> // BH Parameters: L=%d,N=%d,U=%.8f,mu=%.8f,eta=%.8f,MC_steps=%i\"\u001b[0m\u001b[0;34m%\u001b[0m\u001b[0;34m(\u001b[0m\u001b[0mL\u001b[0m\u001b[0;34m,\u001b[0m\u001b[0mN\u001b[0m\u001b[0;34m,\u001b[0m\u001b[0mU\u001b[0m\u001b[0;34m,\u001b[0m\u001b[0mmu\u001b[0m\u001b[0;34m,\u001b[0m\u001b[0meta\u001b[0m\u001b[0;34m,\u001b[0m\u001b[0mmc_steps\u001b[0m\u001b[0;34m)\u001b[0m\u001b[0;34m)\u001b[0m\u001b[0;34m\u001b[0m\u001b[0;34m\u001b[0m\u001b[0m\n",
      "\u001b[0;31mNameError\u001b[0m: name 'egs_list' is not defined"
     ]
    }
   ],
   "source": [
    "E_canonical_list = np.array(E_canonical_list)\n",
    "with open(\"egsCAN_%i_%i_%.4f_%.4f__%.4f_%.4f_%i.dat\"%(L,N,U,mu,t,eta,mc_steps),\"w+\") as data:\n",
    "    np.savetxt(data,E_canonical_list,delimiter=\",\",fmt=\"%.16f\",header=\"MC_step <E_canonical> // BH Parameters: L=%d,N=%d,U=%.4f,mu=%.4f,t=%.4f,eta=%.4f,MC_steps=%i\"%(L,N,U,mu,t,eta,mc_steps))\n",
    "\n",
    "egs_list = np.array(egs_list)\n",
    "with open(\"egs_%i_%i_%.4f_%.4f_%.4f_%i.dat\"%(L,N,U,mu,eta,mc_steps),\"w+\") as data:\n",
    "    np.savetxt(data,egs_list,delimiter=\",\",fmt=\"%.16f\",header=\"MC_step <E> // BH Parameters: L=%d,N=%d,U=%.8f,mu=%.8f,eta=%.8f,MC_steps=%i\"%(L,N,U,mu,eta,mc_steps))\n",
    "    \n",
    "n_list = np.array(n_list)\n",
    "with open(\"n_%i_%i_%.4f_%.4f_%.4f_%i.dat\"%(L,N,U,mu,eta,mc_steps),\"w+\") as data:\n",
    "    np.savetxt(data,n_list,delimiter=\",\",fmt=\"%.16f\",header=\"MC_step <n> // BH Parameters: L=%d,N=%d,U=%.8f,mu=%.8f,eta=%.8f,MC_steps=%i\"%(L,N,U,mu,eta,mc_steps))\n",
    "    \n",
    "occ_list = np.array(occ_list)\n",
    "with open(\"occ_%i_%i_%.4f_%.4f_%.4f_%i.dat\"%(L,N,U,mu,eta,mc_steps),\"w+\") as data:\n",
    "    np.savetxt(data,occ_list,delimiter=\",\",fmt=\"%.16f\",header=\"MC_step <n_i> // BH Parameters: L=%d,N=%d,U=%.8f,mu=%.8f,eta=%.8f,MC_steps=%i\"%(L,N,U,mu,eta,mc_steps))    "
   ]
  },
  {
   "cell_type": "code",
   "execution_count": null,
   "metadata": {},
   "outputs": [],
   "source": []
  },
  {
   "cell_type": "code",
   "execution_count": null,
   "metadata": {},
   "outputs": [],
   "source": []
  },
  {
   "cell_type": "code",
   "execution_count": null,
   "metadata": {},
   "outputs": [],
   "source": []
  },
  {
   "cell_type": "code",
   "execution_count": null,
   "metadata": {},
   "outputs": [],
   "source": []
  },
  {
   "cell_type": "code",
   "execution_count": null,
   "metadata": {},
   "outputs": [],
   "source": []
  },
  {
   "cell_type": "code",
   "execution_count": null,
   "metadata": {},
   "outputs": [],
   "source": []
  },
  {
   "cell_type": "code",
   "execution_count": null,
   "metadata": {},
   "outputs": [],
   "source": []
  },
  {
   "cell_type": "code",
   "execution_count": null,
   "metadata": {},
   "outputs": [],
   "source": []
  },
  {
   "cell_type": "code",
   "execution_count": null,
   "metadata": {},
   "outputs": [],
   "source": []
  },
  {
   "cell_type": "code",
   "execution_count": 627,
   "metadata": {},
   "outputs": [],
   "source": [
    "# Acceptance ratios\n",
    "# print(\"\\n-------- Acceptance Ratios --------\\n\")\n",
    "\n",
    "# print(\"       Insert worm: %.4f%% (%d/%d)\"%(100*insert_worm_data[0]/insert_worm_data[1],insert_worm_data[0],insert_worm_data[1]))\n",
    "# print(\"       Delete worm: %.4f%% (%d/%d)\\n\"%(100*delete_worm_data[0]/delete_worm_data[1],delete_worm_data[0],delete_worm_data[1]))\n",
    "\n",
    "# print(\"       Insert anti: %.4f%% (%d/%d)\"%(100*insert_anti_data[0]/insert_anti_data[1],insert_anti_data[0],insert_anti_data[1]))\n",
    "# print(\"       Delete anti: %.4f%% (%d/%d)\\n\"%(100*delete_anti_data[0]/delete_anti_data[1],delete_anti_data[0],delete_anti_data[1]))\n",
    "\n",
    "# print(\"       Advance head: %.4f%% (%d/%d)\"%(100*advance_head_data[0]/advance_head_data[1],advance_head_data[0],advance_head_data[1]))\n",
    "# print(\"        Recede head: %.4f%% (%d/%d)\\n\"%(100*recede_head_data[0]/recede_head_data[1],recede_head_data[0],recede_head_data[1]))\n",
    "\n",
    "# print(\"       Advance tail: %.4f%% (%d/%d)\"%(100*advance_tail_data[0]/advance_tail_data[1],advance_tail_data[0],advance_tail_data[1]))\n",
    "# print(\"        Recede tail: %.4f%% (%d/%d)\\n\"%(100*recede_tail_data[0]/recede_tail_data[1],recede_tail_data[0],recede_tail_data[1]))\n",
    "\n",
    "# print(\"   InsertZero worm: %.4f%% (%d/%d)\"%(100*insertZero_worm_data[0]/insertZero_worm_data[1],insertZero_worm_data[0],insertZero_worm_data[1]))\n",
    "# print(\"   DeleteZero worm: %.4f%% (%d/%d)\\n\"%(100*deleteZero_worm_data[0]/deleteZero_worm_data[1],deleteZero_worm_data[0],deleteZero_worm_data[1]))\n",
    "\n",
    "# print(\"   InsertZero anti: %.4f%% (%d/%d)\"%(100*insertZero_anti_data[0]/insertZero_anti_data[1],insertZero_anti_data[0],insertZero_anti_data[1]))\n",
    "# print(\"   DeleteZero anti: %.4f%% (%d/%d)\\n\"%(100*deleteZero_anti_data[0]/deleteZero_anti_data[1],deleteZero_anti_data[0],deleteZero_anti_data[1]))\n",
    "\n",
    "# print(\"   InsertBeta worm: %.4f%% (%d/%d)\"%(100*insertBeta_worm_data[0]/insertBeta_worm_data[1],insertBeta_worm_data[0],insertBeta_worm_data[1]))\n",
    "# print(\"   DeleteBeta worm: %.4f%% (%d/%d)\\n\"%(100*deleteBeta_worm_data[0]/deleteBeta_worm_data[1],deleteBeta_worm_data[0],deleteBeta_worm_data[1]))\n",
    "\n",
    "# print(\"   InsertBeta anti: %.4f%% (%d/%d)\"%(100*insertBeta_anti_data[0]/insertBeta_anti_data[1],insertBeta_anti_data[0],insertBeta_anti_data[1]))\n",
    "# print(\"   DeleteBeta anti: %.4f%% (%d/%d)\\n\"%(100*deleteBeta_anti_data[0]/deleteBeta_anti_data[1],deleteBeta_anti_data[0],deleteBeta_anti_data[1]))\n",
    "\n",
    "# print(\"              IKBH: %.4f%% (%d/%d)\"%(100*ikbh_data[0]/ikbh_data[1],ikbh_data[0],ikbh_data[1])) \n",
    "# print(\"              DKBH: %.4f%% (%d/%d)\\n\"%(100*dkbh_data[0]/dkbh_data[1],dkbh_data[0],dkbh_data[1]))\n",
    "\n",
    "# print(\"              IKAH: %.4f%% (%d/%d)\"%(100*ikah_data[0]/ikah_data[1],ikah_data[0],ikah_data[1])) \n",
    "# print(\"              DKAH: %.4f%% (%d/%d)\\n\"%(100*dkah_data[0]/dkah_data[1],dkah_data[0],dkah_data[1])) \n",
    "\n",
    "# print(\"              IKBT: %.4f%% (%d/%d)\"%(100*ikbt_data[0]/ikbt_data[1],ikbt_data[0],ikbt_data[1])) \n",
    "# print(\"              DKBT: %.4f%% (%d/%d)\\n\"%(100*dkbt_data[0]/dkbt_data[1],dkbt_data[0],dkbt_data[1]))\n",
    "\n",
    "# print(\"              IKAT: %.4f%% (%d/%d)\"%(100*ikat_data[0]/ikat_data[1],ikat_data[0],ikat_data[1])) \n",
    "# print(\"              DKAT: %.4f%% (%d/%d)\\n\"%(100*dkat_data[0]/dkat_data[1],dkat_data[0],dkat_data[1])) "
   ]
  }
 ],
 "metadata": {
  "kernelspec": {
   "display_name": "Python 3",
   "language": "python",
   "name": "python3"
  },
  "language_info": {
   "codemirror_mode": {
    "name": "ipython",
    "version": 3
   },
   "file_extension": ".py",
   "mimetype": "text/x-python",
   "name": "python",
   "nbconvert_exporter": "python",
   "pygments_lexer": "ipython3",
   "version": "3.7.3"
  }
 },
 "nbformat": 4,
 "nbformat_minor": 4
}
