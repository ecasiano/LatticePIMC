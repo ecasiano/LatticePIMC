{
 "cells": [
  {
   "cell_type": "markdown",
   "metadata": {},
   "source": [
    "### Test edge moves"
   ]
  },
  {
   "cell_type": "code",
   "execution_count": 48,
   "metadata": {},
   "outputs": [
    {
     "data": {
      "text/plain": [
       "<module 'pimc' from '/Users/ecasiano/Desktop/LatticePIMC/src/pimc.py'>"
      ]
     },
     "execution_count": 48,
     "metadata": {},
     "output_type": "execute_result"
    }
   ],
   "source": [
    "import numpy as np\n",
    "import bisect\n",
    "import matplotlib.pyplot as plt\n",
    "import pimc # custom module\n",
    "from scipy.stats import truncexpon\n",
    "from scipy.integrate import quad, simps\n",
    "import importlib\n",
    "importlib.reload(pimc)"
   ]
  },
  {
   "cell_type": "markdown",
   "metadata": {},
   "source": [
    "### Simulation parameters"
   ]
  },
  {
   "cell_type": "code",
   "execution_count": 57,
   "metadata": {},
   "outputs": [
    {
     "data": {
      "image/png": "[encoded data removed]",
      "text/plain": [
       "<Figure size 432x288 with 1 Axes>"
      ]
     },
     "metadata": {
      "needs_background": "light"
     },
     "output_type": "display_data"
    }
   ],
   "source": [
    "importlib.reload(pimc)\n",
    "# Simulation parameters\n",
    "t = 0\n",
    "U = 1\n",
    "mu = 1\n",
    "    \n",
    "# PIMC parameters\n",
    "beta = 1\n",
    "eta = 1      # worm end fugacity\n",
    "\n",
    "# Canonical or Grand Canonical?\n",
    "canonical = False\n",
    "\n",
    "# Create a worldline configuration\n",
    "L = 1\n",
    "N = 2\n",
    "alpha = []\n",
    "for i in range(L):\n",
    "    alpha.append(N)\n",
    "data_struct = pimc.create_data_struct(alpha)\n",
    "head_loc = []\n",
    "tail_loc = []\n",
    "pimc.view_worldlines(data_struct,beta,figure_name=None)"
   ]
  },
  {
   "cell_type": "markdown",
   "metadata": {},
   "source": [
    "### Apply the same type of edge insert move many times"
   ]
  },
  {
   "cell_type": "code",
   "execution_count": 58,
   "metadata": {},
   "outputs": [
    {
     "data": {
      "image/png": "[encoded data removed]",
      "text/plain": [
       "<Figure size 432x288 with 1 Axes>"
      ]
     },
     "metadata": {
      "needs_background": "light"
     },
     "output_type": "display_data"
    }
   ],
   "source": [
    "importlib.reload(pimc)\n",
    "# Do insert many times on the above configuration\n",
    "mc_steps = int(1E+04)\n",
    "worm_lengths = np.zeros(mc_steps)  # create array to save worm lengths\n",
    "proposals = 0\n",
    "insert_zero = 0\n",
    "    \n",
    "for m in range(mc_steps):\n",
    "\n",
    "    # Attempt to delete the zero worm\n",
    "    pimc.delete_gsworm_zero(data_struct,beta,head_loc,tail_loc,U,mu,eta,canonical,N)\n",
    "    if head_loc == [] or tail_loc == []:\n",
    "        proposals += 1\n",
    "        insert_zero += pimc.insert_gsworm_zero(data_struct,beta,head_loc,tail_loc,U,mu,eta,canonical,N)\n",
    " \n",
    "#     if head_loc != [] and tail_loc == []:  Only head present\n",
    "#         tau = data_struct[head_loc[0]][head_loc[1]][0]\n",
    "        \n",
    "#     elif head_loc == [] and tail_loc != []: # Only tail present\n",
    "#         tau = data_struct[tail_loc[0]][tail_loc[1]][0]\n",
    "\n",
    "#     else: # No worm ends\n",
    "#         continue\n",
    "    \n",
    "#     worm_lengths[m] = tau - 0\n",
    "    \n",
    "#     if m == mc_steps - 1: break\n",
    "        \n",
    "#     # Create a worldline configuration\n",
    "#     alpha = []\n",
    "#     for i in range(L):\n",
    "#         alpha.append(N)\n",
    "#     data_struct = pimc.create_data_struct(alpha)\n",
    "#     head_loc = []\n",
    "#     tail_loc = []\n",
    "\n",
    "pimc.view_worldlines(data_struct,beta,figure_name=None)"
   ]
  },
  {
   "cell_type": "code",
   "execution_count": 59,
   "metadata": {},
   "outputs": [
    {
     "name": "stdout",
     "output_type": "stream",
     "text": [
      "Acceptance: 49.1426%\n"
     ]
    }
   ],
   "source": [
    "# Acceptance ratio\n",
    "print(\"Acceptance: %.4f%%\"%(100*insert_zero/proposals))"
   ]
  },
  {
   "cell_type": "code",
   "execution_count": 60,
   "metadata": {},
   "outputs": [
    {
     "data": {
      "text/plain": [
       "6473"
      ]
     },
     "execution_count": 60,
     "metadata": {},
     "output_type": "execute_result"
    }
   ],
   "source": [
    "proposals"
   ]
  },
  {
   "cell_type": "code",
   "execution_count": null,
   "metadata": {},
   "outputs": [],
   "source": []
  },
  {
   "cell_type": "code",
   "execution_count": 8,
   "metadata": {},
   "outputs": [
    {
     "ename": "NameError",
     "evalue": "name 'n_f' is not defined",
     "output_type": "error",
     "traceback": [
      "\u001b[0;31m---------------------------------------------------------------------------\u001b[0m",
      "\u001b[0;31mNameError\u001b[0m                                 Traceback (most recent call last)",
      "\u001b[0;32m<ipython-input-8-79c994261c66>\u001b[0m in \u001b[0;36m<module>\u001b[0;34m\u001b[0m\n\u001b[1;32m     17\u001b[0m \u001b[0;34m\u001b[0m\u001b[0m\n\u001b[1;32m     18\u001b[0m \u001b[0;31m# Calculate change in diagonal energy after/before worm end (need this for scale)\u001b[0m\u001b[0;34m\u001b[0m\u001b[0;34m\u001b[0m\u001b[0;34m\u001b[0m\u001b[0m\n\u001b[0;32m---> 19\u001b[0;31m \u001b[0mdV\u001b[0m \u001b[0;34m=\u001b[0m \u001b[0;34m(\u001b[0m\u001b[0mU\u001b[0m\u001b[0;34m/\u001b[0m\u001b[0;36m2\u001b[0m\u001b[0;34m)\u001b[0m\u001b[0;34m*\u001b[0m\u001b[0;34m(\u001b[0m\u001b[0mn_f\u001b[0m\u001b[0;34m*\u001b[0m\u001b[0;34m(\u001b[0m\u001b[0mn_f\u001b[0m\u001b[0;34m-\u001b[0m\u001b[0;36m1\u001b[0m\u001b[0;34m)\u001b[0m\u001b[0;34m-\u001b[0m\u001b[0mn_o\u001b[0m\u001b[0;34m*\u001b[0m\u001b[0;34m(\u001b[0m\u001b[0mn_o\u001b[0m\u001b[0;34m-\u001b[0m\u001b[0;36m1\u001b[0m\u001b[0;34m)\u001b[0m\u001b[0;34m)\u001b[0m \u001b[0;34m-\u001b[0m \u001b[0mmu\u001b[0m\u001b[0;34m*\u001b[0m\u001b[0;34m(\u001b[0m\u001b[0mn_f\u001b[0m\u001b[0;34m-\u001b[0m\u001b[0mn_o\u001b[0m\u001b[0;34m)\u001b[0m\u001b[0;34m\u001b[0m\u001b[0;34m\u001b[0m\u001b[0m\n\u001b[0m\u001b[1;32m     20\u001b[0m \u001b[0mprint\u001b[0m\u001b[0;34m(\u001b[0m\u001b[0;34m\"dV: \"\u001b[0m\u001b[0;34m,\u001b[0m\u001b[0mdV\u001b[0m\u001b[0;34m)\u001b[0m\u001b[0;34m\u001b[0m\u001b[0;34m\u001b[0m\u001b[0m\n\u001b[1;32m     21\u001b[0m \u001b[0;32mif\u001b[0m \u001b[0mdV\u001b[0m \u001b[0;34m==\u001b[0m \u001b[0;36m0\u001b[0m\u001b[0;34m:\u001b[0m\u001b[0;34m\u001b[0m\u001b[0;34m\u001b[0m\u001b[0m\n",
      "\u001b[0;31mNameError\u001b[0m: name 'n_f' is not defined"
     ]
    }
   ],
   "source": [
    "# Histogram of worm lengths\n",
    "b = beta\n",
    "loc = 0\n",
    "\n",
    "# Calculate change in diagonal energy\n",
    "if head_loc != [] and tail_loc == []: # Only head present\n",
    "    tau = data_struct[head_loc[0]][head_loc[1]][0]\n",
    "    n_o = data_struct[head_loc[0]][head_loc[1]][1]\n",
    "    n_f = n_o + 1\n",
    "    is_worm = True\n",
    "\n",
    "elif head_loc == [] and tail_loc != []: # Only tail present\n",
    "    tau = data_struct[tail_loc[0]][tail_loc[1]][0]\n",
    "    n_f = data_struct[tail_loc[0]][tail_loc[1]][1]\n",
    "    n_o = n_f - 1\n",
    "    is_worm = False\n",
    "    \n",
    "# Calculate change in diagonal energy after/before worm end (need this for scale)\n",
    "dV = (U/2)*(n_f*(n_f-1)-n_o*(n_o-1)) - mu*(n_f-n_o)\n",
    "print(\"dV: \",dV)\n",
    "if dV == 0:\n",
    "    dV = np.finfo(float).eps # machine epsilon\n",
    "scale = 1/abs(dV)\n",
    "\n",
    "# Generate truncated exponential distribution of worm lengths\n",
    "tau_w = np.linspace(0,beta,int(1E+02+1))                    # worm lengths\n",
    "tau_w = (tau_w[1:]+tau_w[0:-1])/2    \n",
    "#[time,N,(src,dest)]\n",
    "\n",
    "# Theoretical distribution of lenghths (worm and antiworm)\n",
    "pdf = truncexpon.pdf(tau_w,b=b/scale,loc=loc,scale=scale)\n",
    "if (dV < 0 and is_worm) or (dV > 0 and not(is_worm)):\n",
    "    pdf = truncexpon.pdf(-tau_w+b,b=b/scale,loc=loc,scale=scale)\n",
    "\n",
    "# Rescale & normalize the truncated exponential pdf\n",
    "# if tau_t < tau_h:\n",
    "#     pdf *= (beta-tau_w)     # worm\n",
    "# else:\n",
    "#     pdf *= (tau_w)           # antiworm?\n",
    "pdf /= simps(pdf,tau_w)\n",
    "\n",
    "# Sampled worm lengths\n",
    "n, bins = np.histogram(worm_lengths, bins=tau_w, density=1) # for histogram"
   ]
  },
  {
   "cell_type": "code",
   "execution_count": null,
   "metadata": {},
   "outputs": [],
   "source": [
    "# Plot\n",
    "fig, ax = plt.subplots(1, 1)\n",
    "ax.plot(tau_w,pdf,label='pdf',linestyle='None',marker='o')\n",
    "ax.hist(worm_lengths,bins=bins,density=True,histtype='stepfilled',alpha=1,label=r'$hist(\\tau_h)$')\n",
    "ax.set_xlabel(r\"$\\tau_h$\") ;\n",
    "#ax.set_yscale(\"log\");\n",
    "plt.legend() ;\n",
    "plt.savefig(\"insertZero_%d_%d_%.4f_%.4f_%.4f_%.4f_%d_worm.pdf\"%(L,N,U,mu,t,eta,mc_steps))"
   ]
  },
  {
   "cell_type": "code",
   "execution_count": 318,
   "metadata": {},
   "outputs": [],
   "source": [
    "# Histogram behavior predictions \n",
    "\n",
    "# Move: Insert from zero\n",
    "\n",
    "# Insert worm\n",
    "    # dV < 0: increasing truncexpon ok!\n",
    "    # dV == 0: flat distribution ok!\n",
    "    # dV > 0: decreasing truncexpon ok!\n",
    "    \n",
    "# Insert antiworm\n",
    "    # dV < 0: decreasing truncexpon ok!\n",
    "    # dV == 0: flat distribution ok!\n",
    "    # dV > 0: increasing truncexpon ok!"
   ]
  },
  {
   "cell_type": "code",
   "execution_count": null,
   "metadata": {},
   "outputs": [],
   "source": []
  },
  {
   "cell_type": "code",
   "execution_count": null,
   "metadata": {},
   "outputs": [],
   "source": []
  },
  {
   "cell_type": "code",
   "execution_count": null,
   "metadata": {},
   "outputs": [],
   "source": []
  }
 ],
 "metadata": {
  "kernelspec": {
   "display_name": "Python 3",
   "language": "python",
   "name": "python3"
  },
  "language_info": {
   "codemirror_mode": {
    "name": "ipython",
    "version": 3
   },
   "file_extension": ".py",
   "mimetype": "text/x-python",
   "name": "python",
   "nbconvert_exporter": "python",
   "pygments_lexer": "ipython3",
   "version": "3.7.3"
  }
 },
 "nbformat": 4,
 "nbformat_minor": 4
}
