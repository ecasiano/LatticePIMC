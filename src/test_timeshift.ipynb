{
 "cells": [
  {
   "cell_type": "markdown",
   "metadata": {},
   "source": [
    "# Timeshift"
   ]
  },
  {
   "cell_type": "code",
   "execution_count": 92,
   "metadata": {},
   "outputs": [],
   "source": [
    "import numpy as np\n",
    "import bisect\n",
    "import matplotlib.pyplot as plt\n",
    "import pimc # custom module\n",
    "from scipy.stats import truncexpon\n",
    "from scipy.integrate import quad, simps"
   ]
  },
  {
   "cell_type": "markdown",
   "metadata": {},
   "source": [
    "### Simulation parameters"
   ]
  },
  {
   "cell_type": "code",
   "execution_count": 138,
   "metadata": {},
   "outputs": [],
   "source": [
    "# Simulation parameters\n",
    "N = 2\n",
    "L = N*2   # half-filling\n",
    "t = 0\n",
    "U = 3\n",
    "mu = -0.1\n",
    "    \n",
    "# PIMC parameters\n",
    "beta = 1\n",
    "eta = 1/np.sqrt(L*beta)      # worm end fugacity"
   ]
  },
  {
   "cell_type": "markdown",
   "metadata": {},
   "source": [
    "### Create a worldline configuration (with a worm)"
   ]
  },
  {
   "cell_type": "code",
   "execution_count": 139,
   "metadata": {},
   "outputs": [
    {
     "data": {
      "image/png": "[encoded data removed]",
      "text/plain": [
       "<Figure size 432x288 with 1 Axes>"
      ]
     },
     "metadata": {
      "needs_background": "light"
     },
     "output_type": "display_data"
    }
   ],
   "source": [
    "# Create a worldline configuration\n",
    "alpha = [1,1,1,1]\n",
    "data_struct = pimc.create_data_struct(alpha)\n",
    "head_loc = []\n",
    "tail_loc = []\n",
    "\n",
    "# Insert a worm or antiworm\n",
    "i = 2\n",
    "n_i = alpha[i]\n",
    "tau_t = 0.1\n",
    "tau_h = 0.5\n",
    "if tau_t < tau_h:\n",
    "    data_struct[i].append([tau_t,n_i+1,(i,i)])\n",
    "    data_struct[i].append([tau_h,n_i,(i,i)])\n",
    "    tail_loc = [i,1]\n",
    "    head_loc = [i,2]\n",
    "else: # antiworm\n",
    "    data_struct[i].append([tau_h,n_i-1,(i,i)])\n",
    "    data_struct[i].append([tau_t,n_i,(i,i)]) \n",
    "    head_loc = [i,1]\n",
    "    head_loc = [i,2]\n",
    "\n",
    "pimc.view_worldlines(data_struct,beta,figure_name=None)"
   ]
  },
  {
   "cell_type": "markdown",
   "metadata": {},
   "source": [
    "### Do many timeshifts"
   ]
  },
  {
   "cell_type": "code",
   "execution_count": 140,
   "metadata": {},
   "outputs": [
    {
     "name": "stdout",
     "output_type": "stream",
     "text": [
      "Accepted: 100.0000 %\n",
      "Rejected: 0.0000 %\n"
     ]
    }
   ],
   "source": [
    "# Do timeshift many times on the above configuration\n",
    "mc_steps = int(1E+05)\n",
    "worm_lengths = np.zeros(mc_steps)  # create array to save worm lengths\n",
    "accepted = 0\n",
    "rejected = 0\n",
    "for m in range(mc_steps):\n",
    "    tau_1 = data_struct[head_loc[0]][head_loc[1]][0]\n",
    "    tau_2 = data_struct[tail_loc[0]][tail_loc[1]][0]\n",
    "    worm_length = abs(tau_1-tau_2)\n",
    "    worm_lengths[m] = worm_length\n",
    "        \n",
    "    pimc.worm_timeshift(data_struct,beta,head_loc,tail_loc, U, mu)\n",
    "    \n",
    "    # Count accepted updates  \n",
    "    if tau_1 != data_struct[head_loc[0]][head_loc[1]][0] or (\n",
    "       tau_2 != data_struct[tail_loc[0]][tail_loc[1]][0] ):\n",
    "        accepted += 1\n",
    "\n",
    "    # Count rejected updates  \n",
    "    if tau_1 == data_struct[head_loc[0]][head_loc[1]][0] and (\n",
    "       tau_2 == data_struct[tail_loc[0]][tail_loc[1]][0] ):\n",
    "        rejected += 1\n",
    "\n",
    "# Print the number of accepted time shifts\n",
    "print(\"Accepted: %.4f %%\"%(accepted/mc_steps*100))\n",
    "print(\"Rejected: %.4f %%\"%(rejected/mc_steps*100))"
   ]
  },
  {
   "cell_type": "markdown",
   "metadata": {},
   "source": [
    "### Histogram of worm lengths"
   ]
  },
  {
   "cell_type": "code",
   "execution_count": 164,
   "metadata": {},
   "outputs": [
    {
     "name": "stdout",
     "output_type": "stream",
     "text": [
      "pdf[0] 2.7801296745901496\n"
     ]
    },
    {
     "data": {
      "text/plain": [
       "<matplotlib.legend.Legend at 0x7f90424e2a90>"
      ]
     },
     "execution_count": 164,
     "metadata": {},
     "output_type": "execute_result"
    },
    {
     "data": {
      "image/png": "[encoded data removed]",
      "text/plain": [
       "<Figure size 432x288 with 1 Axes>"
      ]
     },
     "metadata": {
      "needs_background": "light"
     },
     "output_type": "display_data"
    }
   ],
   "source": [
    "# Histogram of worm lengths\n",
    "loc = 0\n",
    "b = 1\n",
    "scale = 1/abs(U-mu)\n",
    "\n",
    "# Truncated exponential\n",
    "x = np.linspace(-0.6+loc,loc+b+0.6,1000)\n",
    "\n",
    "# Histogram\n",
    "#print(\"Bins: \",bins[:5])\n",
    "a = np.arange(0,1,0.1)\n",
    "a = np.linspace(0,1,int(1E+01+1))\n",
    "n, bins = np.histogram(worm_lengths, bins=a, density=1) # x = bins\n",
    "a = (a[1:]+a[0:-1])/2\n",
    "#print(\"bins: \",bins)\n",
    "x = a\n",
    "#print(\"a: \",a)\n",
    "pdf = truncexpon.pdf(x,b=b/scale,loc=loc,scale=scale)\n",
    "dtau = x[1]-x[0] # bin_width\n",
    "pdf *= (1-(x-dtau/2))\n",
    "print(\"pdf[0]\",pdf[0])\n",
    "pdf /= simps(pdf,x)\n",
    "#print(\"pdf: \", pdf)\n",
    "\n",
    "#pdf *= (1/x-1)\n",
    "#pdf *= (1-x)/(x+bins[0])\n",
    "#dtau = 0.5*(bins[:-1]+bins[1:])\n",
    "#bins = np.linspace(0,1,100)\n",
    "\n",
    "# Integrate the pdf\n",
    "#norm = sum(pdf)*dtau\n",
    "#pdf /= norm\n",
    "#print(\"Normalization of x: \", sum(pdf)*dtau)\n",
    "\n",
    "#norm = simps(pdf,x)\n",
    "#print(\"Norm: %.8f\"%norm)\n",
    "#pdf/=norm\n",
    "#norm = simps(pdf,x)\n",
    "#print(\"Norm: %.8f\"%norm)\n",
    "\n",
    "fig, ax = plt.subplots(1, 1)\n",
    "ax.plot(x,pdf,label='pdf',linestyle='None',marker='o')\n",
    "ax.hist(worm_lengths,bins=bins,density=True,histtype='stepfilled',alpha=1,label=r'$hist(\\vert\\tau_h-\\tau_t\\vert)$')\n",
    "ax.set_xlabel(r\"$\\vert \\tau_h - \\tau_t \\vert $\") ;\n",
    "ax.set_yscale(\"log\");\n",
    "plt.legend(loc='best')\n",
    "#plt.savefig(\"%d_%d_%.4f_%.4f_%.4f_%d.pdf\"%(L,N,U,mu,t,mc_steps))"
   ]
  },
  {
   "cell_type": "markdown",
   "metadata": {},
   "source": [
    "### Create a worldline configuration (with an antiworm)"
   ]
  },
  {
   "cell_type": "code",
   "execution_count": 79,
   "metadata": {},
   "outputs": [
    {
     "data": {
      "image/png": "[encoded data removed]",
      "text/plain": [
       "<Figure size 432x288 with 1 Axes>"
      ]
     },
     "metadata": {
      "needs_background": "light"
     },
     "output_type": "display_data"
    }
   ],
   "source": [
    "# Create a worldline configuration\n",
    "alpha = [1,1,1,1]\n",
    "data_struct = pimc.create_data_struct(alpha)\n",
    "head_loc = []\n",
    "tail_loc = []\n",
    "\n",
    "# Insert a worm or antiworm\n",
    "i = 2\n",
    "n_i = alpha[i]\n",
    "tau_t = 0.5\n",
    "tau_h = 0.1\n",
    "if tau_t < tau_h:\n",
    "    data_struct[i].append([tau_t,n_i+1,(i,i)])\n",
    "    data_struct[i].append([tau_h,n_i,(i,i)])\n",
    "    tail_loc = [i,1]\n",
    "    head_loc = [i,2]\n",
    "else: # antiworm\n",
    "    data_struct[i].append([tau_h,n_i-1,(i,i)])\n",
    "    data_struct[i].append([tau_t,n_i,(i,i)]) \n",
    "    head_loc = [i,1]\n",
    "    tail_loc = [i,2]\n",
    "\n",
    "pimc.view_worldlines(data_struct,beta,figure_name=None)"
   ]
  },
  {
   "cell_type": "markdown",
   "metadata": {},
   "source": [
    "### Do many timeshifts"
   ]
  },
  {
   "cell_type": "code",
   "execution_count": 80,
   "metadata": {},
   "outputs": [
    {
     "name": "stdout",
     "output_type": "stream",
     "text": [
      "Accepted: 100.0000 %\n",
      "Rejected: 0.0000 %\n"
     ]
    }
   ],
   "source": [
    "# Do timeshift many times on the above configuration\n",
    "mc_steps = int(1E+05)\n",
    "antiworm_lengths = np.zeros(mc_steps)  # create array to save worm lengths\n",
    "accepted = 0\n",
    "rejected = 0\n",
    "for m in range(mc_steps):\n",
    "    tau_1 = data_struct[head_loc[0]][head_loc[1]][0]\n",
    "    tau_2 = data_struct[tail_loc[0]][tail_loc[1]][0]\n",
    "    worm_length = abs(tau_1-tau_2)\n",
    "    antiworm_lengths[m] = worm_length\n",
    "        \n",
    "    pimc.worm_timeshift(data_struct,beta,head_loc,tail_loc, U, mu)\n",
    "    \n",
    "    # Count accepted updates  \n",
    "    if tau_1 != data_struct[head_loc[0]][head_loc[1]][0] or (\n",
    "       tau_2 != data_struct[tail_loc[0]][tail_loc[1]][0] ):\n",
    "        accepted += 1\n",
    "\n",
    "    # Count rejected updates  \n",
    "    if tau_1 == data_struct[head_loc[0]][head_loc[1]][0] and (\n",
    "       tau_2 == data_struct[tail_loc[0]][tail_loc[1]][0] ):\n",
    "        rejected += 1\n",
    "\n",
    "# Print the number of accepted time shifts\n",
    "print(\"Accepted: %.4f %%\"%(accepted/mc_steps*100))\n",
    "print(\"Rejected: %.4f %%\"%(rejected/mc_steps*100))"
   ]
  },
  {
   "cell_type": "markdown",
   "metadata": {},
   "source": [
    "### Histogram of antiworm lengths"
   ]
  },
  {
   "cell_type": "code",
   "execution_count": 143,
   "metadata": {},
   "outputs": [
    {
     "name": "stdout",
     "output_type": "stream",
     "text": [
      "Bins:  [2.85349716e-06 9.96707750e-03 1.99313015e-02 2.98955255e-02\n",
      " 3.98597495e-02]\n"
     ]
    },
    {
     "data": {
      "text/plain": [
       "<matplotlib.legend.Legend at 0x7f9044d7b2b0>"
      ]
     },
     "execution_count": 143,
     "metadata": {},
     "output_type": "execute_result"
    },
    {
     "data": {
      "image/png": "[encoded data removed]",
      "text/plain": [
       "<Figure size 432x288 with 1 Axes>"
      ]
     },
     "metadata": {
      "needs_background": "light"
     },
     "output_type": "display_data"
    }
   ],
   "source": [
    "# Histogram of worm lengths\n",
    "loc = 0\n",
    "b = 1\n",
    "scale = 1/abs(U-mu)\n",
    "\n",
    "# Truncated exponential\n",
    "x = np.linspace(-0.6+loc,loc+b+0.6,1000)\n",
    "\n",
    "# Histogram\n",
    "print(\"Bins: \",bins[:5])\n",
    "n, bins = np.histogram(antiworm_lengths, bins=100, density=1) # x = bins\n",
    "pdf = truncexpon.pdf(x,b=b/scale,loc=loc,scale=scale)\n",
    "dtau = x[1]-x[0] # bin_width\n",
    "pdf *= (1-x-dtau)\n",
    "pdf /= simps(pdf,x)\n",
    "\n",
    "#pdf *= (1/x-1)\n",
    "#pdf *= (1-x)/(x+bins[0])\n",
    "#dtau = 0.5*(bins[:-1]+bins[1:])\n",
    "#bins = np.linspace(0,1,100)\n",
    "\n",
    "# Integrate the pdf\n",
    "#norm = sum(pdf)*dtau\n",
    "#pdf /= norm\n",
    "#print(\"Normalization of x: \", sum(pdf)*dtau)\n",
    "\n",
    "#norm = simps(pdf,x)\n",
    "#print(\"Norm: %.8f\"%norm)\n",
    "#pdf/=norm\n",
    "#norm = simps(pdf,x)\n",
    "#print(\"Norm: %.8f\"%norm)\n",
    "\n",
    "\n",
    "fig, ax = plt.subplots(1, 1)\n",
    "ax.plot(x,pdf,label='pdf')\n",
    "ax.hist(antiworm_lengths,bins=100,density=True,histtype='stepfilled',alpha=0.2,label=r'$hist(\\vert\\tau_h-\\tau_t\\vert)$')\n",
    "ax.set_xlabel(r\"$\\vert \\tau_h - \\tau_t \\vert $\") ;\n",
    "ax.set_yscale(\"log\");\n",
    "plt.legend(loc='best')\n",
    "#plt.savefig(\"%d_%d_%.4f_%.4f_%.4f_%d.pdf\"%(L,N,U,mu,t,mc_steps))"
   ]
  },
  {
   "cell_type": "markdown",
   "metadata": {},
   "source": [
    "### Maybe we'll need this. Keep for now"
   ]
  },
  {
   "cell_type": "code",
   "execution_count": 100,
   "metadata": {},
   "outputs": [
    {
     "name": "stdout",
     "output_type": "stream",
     "text": [
      "Normalizatio of bins??:  0.9999999999999999\n",
      "n_loc: [1.19497938e+02 3.91795010e+01 2.31093238e+01 1.62214426e+01\n",
      " 1.23946701e+01 9.95938732e+00 8.27339324e+00 7.03698244e+00\n",
      " 6.09148318e+00 5.34503111e+00 4.74075696e+00 4.24157167e+00\n",
      " 3.82225441e+00 3.46505706e+00 3.15712745e+00 2.88893005e+00\n",
      " 2.65324093e+00 2.44448731e+00 2.25830135e+00 2.09121114e+00\n",
      " 1.94042221e+00 1.80365999e+00 1.67905428e+00 1.56505319e+00\n",
      " 1.46035822e+00 1.36387454e+00 1.27467258e+00 1.19195797e+00\n",
      " 1.11504785e+00 1.04335193e+00 9.76357335e-01 9.13616336e-01\n",
      " 8.54736291e-01 7.99371445e-01 7.47216133e-01 6.97999127e-01\n",
      " 6.51478925e-01 6.07439784e-01 5.65688375e-01 5.26050948e-01\n",
      " 4.88370913e-01 4.52506771e-01 4.18330345e-01 3.85725239e-01\n",
      " 3.54585522e-01 3.24814577e-01 2.96324096e-01 2.69033207e-01\n",
      " 2.42867710e-01 2.17759400e-01 1.93645473e-01 1.70468005e-01\n",
      " 1.48173483e-01 1.26712398e-01 1.06038872e-01 8.61103341e-02\n",
      " 6.68872282e-02 4.83327492e-02 3.04126086e-02 1.30948232e-02]\n",
      "n_prime_area:  2.030286531754686\n",
      "pdf_area:  60.074804470946276\n"
     ]
    },
    {
     "data": {
      "text/plain": [
       "<matplotlib.legend.Legend at 0x7f90460f1080>"
      ]
     },
     "execution_count": 100,
     "metadata": {},
     "output_type": "execute_result"
    },
    {
     "data": {
      "image/png": "[encoded data removed]",
      "text/plain": [
       "<Figure size 432x288 with 1 Axes>"
      ]
     },
     "metadata": {
      "needs_background": "light"
     },
     "output_type": "display_data"
    }
   ],
   "source": [
    "# Get the largest and smallest worm length\n",
    "min_length = np.min(worm_lengths)\n",
    "max_length = np.max(worm_lengths)\n",
    "\n",
    "# Histogram of wormlengths\n",
    "loc = 0\n",
    "b = 1\n",
    "scale = 1/abs(U-mu)\n",
    "\n",
    "x = np.linspace(-0.6+loc,loc+b+0.6,1000)\n",
    "\n",
    "n, bins = np.histogram(worm_lengths, bins=60, density=1)\n",
    "print(\"Normalizatio of bins??: \", sum(n*(bins[1]-bins[0])))\n",
    "dtau = 0.5*(bins[:-1]+bins[1:])\n",
    "pdf = truncexpon.pdf(dtau,b=b/scale,loc=loc,scale=scale)\n",
    "n_loc = (1-dtau)/dtau\n",
    "n_prime = n/n_loc\n",
    "n_prime /= (np.sum(n_prime)*dtau)\n",
    "\n",
    "print(\"n_loc:\", n_loc)\n",
    "\n",
    "#pdf_area = quad(n_prime,0,1)\n",
    "#print(\"pdf area: \", pdf)\n",
    "print(\"n_prime_area: \", np.sum(n_prime))\n",
    "print(\"pdf_area: \", np.sum(pdf))\n",
    "\n",
    "fig, ax = plt.subplots(1, 1)\n",
    "ax.plot(dtau,n_prime,\"o\",label=\"n_prime\")\n",
    "ax.plot(dtau,pdf,label='pdf')\n",
    "#ax.plot(dtau,n_loc,label='n_loc')\n",
    "#ax.plot(dtau,n_loc/pdf/n,label='n_loc/pdf/n')\n",
    "#ax.hist(worm_lengths,bins=bins,density=True,histtype='stepfilled',alpha=0.2) \n",
    "ax.set_xlabel(r\"$\\vert \\tau_h - \\tau_t \\vert $\") ;\n",
    "#ax.set_yscale(\"log\");\n",
    "plt.legend()\n",
    "#plt.savefig(\"%d_%d_%.4f_%.4f_%.4f_%d.pdf\"%(L,N,U,mu,t,mc_steps))"
   ]
  },
  {
   "cell_type": "code",
   "execution_count": null,
   "metadata": {},
   "outputs": [],
   "source": []
  }
 ],
 "metadata": {
  "kernelspec": {
   "display_name": "Python 3",
   "language": "python",
   "name": "python3"
  },
  "language_info": {
   "codemirror_mode": {
    "name": "ipython",
    "version": 3
   },
   "file_extension": ".py",
   "mimetype": "text/x-python",
   "name": "python",
   "nbconvert_exporter": "python",
   "pygments_lexer": "ipython3",
   "version": "3.6.8"
  }
 },
 "nbformat": 4,
 "nbformat_minor": 4
}
