{
 "cells": [
  {
   "cell_type": "markdown",
   "metadata": {},
   "source": [
    "# Timeshift"
   ]
  },
  {
   "cell_type": "code",
   "execution_count": 1,
   "metadata": {},
   "outputs": [],
   "source": [
    "import numpy as np\n",
    "import bisect\n",
    "import matplotlib.pyplot as plt\n",
    "import pimc # custom module\n",
    "from scipy.stats import truncexpon"
   ]
  },
  {
   "cell_type": "markdown",
   "metadata": {},
   "source": [
    "### Simulation parameters"
   ]
  },
  {
   "cell_type": "code",
   "execution_count": 2,
   "metadata": {},
   "outputs": [],
   "source": [
    "# Simulation parameters\n",
    "N = 2\n",
    "L = N*2   # half-filling\n",
    "t = 0\n",
    "U = 0.5\n",
    "mu = -0.1\n",
    "    \n",
    "# PIMC parameters\n",
    "beta = 1\n",
    "eta = 1/np.sqrt(L*beta)      # worm end fugacity"
   ]
  },
  {
   "cell_type": "markdown",
   "metadata": {},
   "source": [
    "### Create a worldline configuration "
   ]
  },
  {
   "cell_type": "code",
   "execution_count": 3,
   "metadata": {},
   "outputs": [],
   "source": [
    "# Create a worldline configuration\n",
    "alpha = [1,1,1,1]\n",
    "data_struct = pimc.create_data_struct(alpha)\n",
    "head_loc = []\n",
    "tail_loc = []"
   ]
  },
  {
   "cell_type": "markdown",
   "metadata": {},
   "source": [
    "### Insert a worm or antiworm"
   ]
  },
  {
   "cell_type": "code",
   "execution_count": 4,
   "metadata": {},
   "outputs": [
    {
     "data": {
      "image/png": "[encoded data removed]",
      "text/plain": [
       "<Figure size 432x288 with 1 Axes>"
      ]
     },
     "metadata": {
      "needs_background": "light"
     },
     "output_type": "display_data"
    }
   ],
   "source": [
    "# Insert a worm or antiworm\n",
    "i = 2\n",
    "n_i = alpha[i]\n",
    "tau_t = 0.1\n",
    "tau_h = 0.5\n",
    "if tau_t < tau_h:\n",
    "    data_struct[i].append([tau_t,n_i+1,(i,i)])\n",
    "    data_struct[i].append([tau_h,n_i,(i,i)])\n",
    "    tail_loc = [i,1]\n",
    "    head_loc = [i,2]\n",
    "else: # antiworm\n",
    "    data_struct[i].append([tau_h,n_i-1,(i,i)])\n",
    "    data_struct[i].append([tau_t,n_i,(i,i)]) \n",
    "    head_loc = [i,1]\n",
    "    head_loc = [i,2]\n",
    "\n",
    "pimc.view_worldlines(data_struct,beta,figure_name=None)"
   ]
  },
  {
   "cell_type": "markdown",
   "metadata": {},
   "source": [
    "### Do many timeshifts"
   ]
  },
  {
   "cell_type": "code",
   "execution_count": 5,
   "metadata": {},
   "outputs": [
    {
     "name": "stdout",
     "output_type": "stream",
     "text": [
      "Accepted: 100.0000 %\n",
      "Rejected: 0.0000 %\n"
     ]
    }
   ],
   "source": [
    "# Do timeshift many times on the above configuration\n",
    "mc_steps = int(1E+05)\n",
    "worm_lengths = np.zeros(mc_steps)  # create array to save worm lengths\n",
    "accepted = 0\n",
    "rejected = 0\n",
    "for m in range(mc_steps):\n",
    "    tau_1 = data_struct[head_loc[0]][head_loc[1]][0]\n",
    "    tau_2 = data_struct[tail_loc[0]][tail_loc[1]][0]\n",
    "    worm_length = abs(tau_1-tau_2)\n",
    "    worm_lengths[m] = worm_length\n",
    "        \n",
    "    pimc.worm_timeshift(data_struct,beta,head_loc,tail_loc, U, mu)\n",
    "    \n",
    "    # Count accepted updates  \n",
    "    if tau_1 != data_struct[head_loc[0]][head_loc[1]][0] or (\n",
    "       tau_2 != data_struct[tail_loc[0]][tail_loc[1]][0] ):\n",
    "        accepted += 1\n",
    "\n",
    "    # Count rejected updates  \n",
    "    if tau_1 == data_struct[head_loc[0]][head_loc[1]][0] and (\n",
    "       tau_2 == data_struct[tail_loc[0]][tail_loc[1]][0] ):\n",
    "        rejected += 1\n",
    "\n",
    "# Print the number of accepted time shifts\n",
    "print(\"Accepted: %.4f %%\"%(accepted/mc_steps*100))\n",
    "print(\"Rejected: %.4f %%\"%(rejected/mc_steps*100))"
   ]
  },
  {
   "cell_type": "markdown",
   "metadata": {},
   "source": [
    "### Histogram of wormlengths"
   ]
  },
  {
   "cell_type": "code",
   "execution_count": 6,
   "metadata": {},
   "outputs": [
    {
     "name": "stdout",
     "output_type": "stream",
     "text": [
      "n_loc: [1.19413089e+02 3.91418621e+01 2.30856172e+01 1.62041653e+01\n",
      " 1.23810836e+01 9.94819376e+00 8.26387643e+00 7.02870572e+00\n",
      " 6.08416076e+00 5.33846574e+00 4.73480681e+00 4.23613133e+00\n",
      " 3.81724343e+00 3.46041264e+00 3.15279963e+00 2.88487842e+00\n",
      " 2.64943235e+00 2.44089429e+00 2.25490079e+00 2.08798346e+00\n",
      " 1.93735070e+00 1.80073023e+00 1.67625376e+00 1.56237100e+00\n",
      " 1.45778476e+00 1.36140134e+00 1.27229211e+00 1.18966354e+00\n",
      " 1.11283345e+00 1.04121217e+00 9.74287352e-01 9.11611718e-01\n",
      " 8.52793037e-01 7.97485910e-01 7.45384987e-01 6.96219321e-01\n",
      " 6.49747658e-01 6.05754478e-01 5.64046654e-01 5.24450614e-01\n",
      " 4.86809930e-01 4.50983252e-01 4.16842532e-01 3.84271498e-01\n",
      " 3.53164328e-01 3.23424503e-01 2.94963809e-01 2.67701458e-01\n",
      " 2.41563325e-01 2.16481277e-01 1.92392576e-01 1.69239357e-01\n",
      " 1.46968165e-01 1.25529538e-01 1.04877650e-01 8.49699723e-02\n",
      " 6.57669904e-02 4.72319374e-02 2.93305606e-02 1.20309100e-02]\n",
      "n_prime_area:  2.017216110992598\n",
      "pdf_area:  60.057871705134275\n"
     ]
    },
    {
     "data": {
      "text/plain": [
       "<matplotlib.legend.Legend at 0x1a2006c6a0>"
      ]
     },
     "execution_count": 6,
     "metadata": {},
     "output_type": "execute_result"
    },
    {
     "data": {
      "image/png": "[encoded data removed]",
      "text/plain": [
       "<Figure size 432x288 with 1 Axes>"
      ]
     },
     "metadata": {
      "needs_background": "light"
     },
     "output_type": "display_data"
    }
   ],
   "source": [
    "# Get the largest and smallest worm length\n",
    "min_length = np.min(worm_lengths)\n",
    "max_length = np.max(worm_lengths)\n",
    "\n",
    "# Generating the bin edges\n",
    "#bins = np.histogram_bin_edges(worm_lengths,bins=50)\n",
    "\n",
    "# Histogram of wormlengths\n",
    "loc = 0\n",
    "b = 1\n",
    "scale = 1/abs(U-mu)\n",
    "\n",
    "x = np.linspace(-0.6+loc,loc+b+0.6,1000)\n",
    "\n",
    "n, bins = np.histogram(worm_lengths, bins=60, density=1)\n",
    "dtau = 0.5*(bins[:-1]+bins[1:])\n",
    "pdf = truncexpon.pdf(dtau,b=b/scale,loc=loc,scale=scale)\n",
    "n_loc = (1-dtau)/dtau\n",
    "n_prime = n/n_loc\n",
    "n_prime /= (np.sum(n_prime)*dtau)\n",
    "\n",
    "print(\"n_loc:\", n_loc)\n",
    "\n",
    "#pdf_area = quad(n_prime,0,1)\n",
    "#print(\"pdf area: \", pdf)\n",
    "print(\"n_prime_area: \", np.sum(n_prime))\n",
    "print(\"pdf_area: \", np.sum(pdf))\n",
    "\n",
    "fig, ax = plt.subplots(1, 1)\n",
    "ax.plot(dtau,n_prime,\"o\",label=\"n_prime\")\n",
    "ax.plot(dtau,pdf,label='pdf')\n",
    "#ax.plot(dtau,n_loc,label='n_loc')\n",
    "#ax.plot(dtau,n_loc/pdf/n,label='n_loc/pdf/n')\n",
    "#ax.hist(worm_lengths,bins=bins,density=True,histtype='stepfilled',alpha=0.2) \n",
    "ax.set_xlabel(r\"$\\vert \\tau_h - \\tau_t \\vert $\") ;\n",
    "#ax.set_yscale(\"log\");\n",
    "plt.legend()\n",
    "#plt.savefig(\"%d_%d_%.4f_%.4f_%.4f_%d.pdf\"%(L,N,U,mu,t,mc_steps))"
   ]
  },
  {
   "cell_type": "code",
   "execution_count": null,
   "metadata": {},
   "outputs": [],
   "source": []
  }
 ],
 "metadata": {
  "kernelspec": {
   "display_name": "Python 3",
   "language": "python",
   "name": "python3"
  },
  "language_info": {
   "codemirror_mode": {
    "name": "ipython",
    "version": 3
   },
   "file_extension": ".py",
   "mimetype": "text/x-python",
   "name": "python",
   "nbconvert_exporter": "python",
   "pygments_lexer": "ipython3",
   "version": "3.7.3"
  }
 },
 "nbformat": 4,
 "nbformat_minor": 4
}
