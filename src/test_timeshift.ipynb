{
 "cells": [
  {
   "cell_type": "markdown",
   "metadata": {},
   "source": [
    "# Timeshift"
   ]
  },
  {
   "cell_type": "code",
   "execution_count": 2,
   "metadata": {},
   "outputs": [],
   "source": [
    "import numpy as np\n",
    "import bisect\n",
    "import matplotlib.pyplot as plt\n",
    "import pimc # custom module\n",
    "from scipy.stats import truncexpon"
   ]
  },
  {
   "cell_type": "markdown",
   "metadata": {},
   "source": [
    "### Simulation parameters"
   ]
  },
  {
   "cell_type": "code",
   "execution_count": 3,
   "metadata": {},
   "outputs": [],
   "source": [
    "# Simulation parameters\n",
    "N = 2\n",
    "L = N*2   # half-filling\n",
    "t = 0\n",
    "U = 2\n",
    "mu = -1\n",
    "    \n",
    "# PIMC parameters\n",
    "beta = 1\n",
    "eta = 1/np.sqrt(L*beta)      # worm end fugacity"
   ]
  },
  {
   "cell_type": "markdown",
   "metadata": {},
   "source": [
    "### Insert a worm or antiworm"
   ]
  },
  {
   "cell_type": "code",
   "execution_count": 4,
   "metadata": {},
   "outputs": [
    {
     "data": {
      "image/png": "[encoded data removed]",
      "text/plain": [
       "<Figure size 432x288 with 1 Axes>"
      ]
     },
     "metadata": {
      "needs_background": "light"
     },
     "output_type": "display_data"
    }
   ],
   "source": [
    "# Create a worldline configuration\n",
    "alpha = [1,1,1,1]\n",
    "data_struct = pimc.create_data_struct(alpha)\n",
    "head_loc = []\n",
    "tail_loc = []\n",
    "\n",
    "# Manually insert a worm or antiworm\n",
    "i = 2\n",
    "n_i = alpha[i]\n",
    "tau_t = 0.6      # choose tau_h < tau_t for antiworm insertion\n",
    "tau_h = 0.2\n",
    "if tau_t < tau_h:\n",
    "    data_struct[i].append([tau_t,n_i+1,(i,i)])\n",
    "    data_struct[i].append([tau_h,n_i,(i,i)])\n",
    "    tail_loc = [i,1]\n",
    "    head_loc = [i,2]\n",
    "else: # antiworm\n",
    "    data_struct[i].append([tau_h,n_i-1,(i,i)])\n",
    "    data_struct[i].append([tau_t,n_i,(i,i)]) \n",
    "    head_loc = [i,1]\n",
    "    tail_loc = [i,2]\n",
    "\n",
    "pimc.view_worldlines(data_struct,beta,figure_name=None);"
   ]
  },
  {
   "cell_type": "markdown",
   "metadata": {},
   "source": [
    "### Do many timeshifts"
   ]
  },
  {
   "cell_type": "code",
   "execution_count": 6,
   "metadata": {},
   "outputs": [
    {
     "name": "stdout",
     "output_type": "stream",
     "text": [
      "Accepted: 100.0000 %\n",
      "Rejected: 0.0000 %\n"
     ]
    }
   ],
   "source": [
    "# Do timeshift many times on the above configuration\n",
    "mc_steps = int(1E+05)\n",
    "worm_lengths = np.zeros(mc_steps)  # create array to save worm lengths\n",
    "accepted = 0\n",
    "rejected = 0\n",
    "for m in range(mc_steps):\n",
    "    tau_h = data_struct[head_loc[0]][head_loc[1]][0]\n",
    "    tau_t = data_struct[tail_loc[0]][tail_loc[1]][0]\n",
    "    worm_length = tau_h-tau_t\n",
    "    if worm_length < 0: # antiworm\n",
    "        worm_length *= -1\n",
    "    worm_lengths[m] = worm_length\n",
    "        \n",
    "    pimc.worm_timeshift(data_struct,beta,head_loc,tail_loc, U, mu)\n",
    "    \n",
    "    # Count accepted updates  \n",
    "    if tau_h != data_struct[head_loc[0]][head_loc[1]][0] or (\n",
    "       tau_t != data_struct[tail_loc[0]][tail_loc[1]][0] ):\n",
    "        accepted += 1\n",
    "\n",
    "    # Count rejected updates  \n",
    "    if tau_h == data_struct[head_loc[0]][head_loc[1]][0] and (\n",
    "       tau_t == data_struct[tail_loc[0]][tail_loc[1]][0] ):\n",
    "        rejected += 1\n",
    "\n",
    "# Print the number of accepted time shifts\n",
    "print(\"Accepted: %.4f %%\"%(accepted/mc_steps*100))\n",
    "print(\"Rejected: %.4f %%\"%(rejected/mc_steps*100))"
   ]
  },
  {
   "cell_type": "markdown",
   "metadata": {},
   "source": [
    "### Histogram of wormlengths"
   ]
  },
  {
   "cell_type": "code",
   "execution_count": 7,
   "metadata": {},
   "outputs": [
    {
     "name": "stderr",
     "output_type": "stream",
     "text": [
      "No handles with labels found to put in legend.\n"
     ]
    },
    {
     "data": {
      "text/plain": [
       "<matplotlib.legend.Legend at 0x1a1aad6710>"
      ]
     },
     "execution_count": 7,
     "metadata": {},
     "output_type": "execute_result"
    },
    {
     "data": {
      "image/png": "[encoded data removed]",
      "text/plain": [
       "<Figure size 432x288 with 1 Axes>"
      ]
     },
     "metadata": {
      "needs_background": "light"
     },
     "output_type": "display_data"
    }
   ],
   "source": [
    "# Generating the bin edges\n",
    "#bins = np.histogram_bin_edges(worm_lengths,bins=50)\n",
    "\n",
    "# Histogram of wormlengths\n",
    "loc = 0\n",
    "b = 1\n",
    "scale = 1/abs(U-mu)\n",
    "\n",
    "x = np.linspace(-0.6+loc,loc+b+0.6,1000)\n",
    "\n",
    "n, bins = np.histogram(worm_lengths, bins=60, density=1)\n",
    "#dtau = 0.5*(bins[:-1]+bins[1:])\n",
    "bins = np.linspace(0,1,100)\n",
    "pdf = truncexpon.pdf(x,b=b/scale,loc=loc,scale=scale)\n",
    "#n_loc = (1-dtau)/dtau\n",
    "#n_prime = n/n_loc\n",
    "#n_prime /= (np.sum(n_prime)*dtau)\n",
    "\n",
    "#print(\"n_loc:\", n_loc)\n",
    "\n",
    "#pdf_area = quad(n_prime,0,1)\n",
    "#print(\"pdf area: \", pdf)\n",
    "#print(\"n_prime_area: \", np.sum(n_prime))\n",
    "#print(\"pdf_area: \", np.sum(pdf))\n",
    "\n",
    "fig, ax = plt.subplots(1, 1)\n",
    "ax.plot(x,pdf)\n",
    "#ax.plot(dtau,n_prime,\"o\",label=\"n_prime\")\n",
    "#ax.plot(dtau,pdf,label='pdf')\n",
    "#ax.plot(dtau,n_loc,label='n_loc')\n",
    "#ax.plot(dtau,n_loc/pdf/n,label='n_loc/pdf/n')\n",
    "ax.hist(worm_lengths,bins=bins,density=True,histtype='stepfilled',alpha=0.2) \n",
    "ax.set_xlabel(r\"$\\vert \\tau_h - \\tau_t \\vert $\") ;\n",
    "#ax.set_yscale(\"log\");\n",
    "plt.legend()\n",
    "#plt.savefig(\"%d_%d_%.4f_%.4f_%.4f_%d.pdf\"%(L,N,U,mu,t,mc_steps))"
   ]
  },
  {
   "cell_type": "code",
   "execution_count": 8,
   "metadata": {},
   "outputs": [],
   "source": [
    "wormlengths_worm = worm_lengths"
   ]
  },
  {
   "cell_type": "code",
   "execution_count": 9,
   "metadata": {},
   "outputs": [],
   "source": [
    "wormlengths_aworm = worm_lengths"
   ]
  },
  {
   "cell_type": "code",
   "execution_count": 10,
   "metadata": {},
   "outputs": [],
   "source": [
    "wormlengths_total = np.copy(wormlengths_worm)"
   ]
  },
  {
   "cell_type": "code",
   "execution_count": 11,
   "metadata": {},
   "outputs": [],
   "source": [
    "wormlengths_total = np.append(wormlengths_total,wormlengths_aworm )"
   ]
  },
  {
   "cell_type": "code",
   "execution_count": 12,
   "metadata": {},
   "outputs": [
    {
     "data": {
      "image/png": "[encoded data removed]",
      "text/plain": [
       "<Figure size 432x288 with 1 Axes>"
      ]
     },
     "metadata": {
      "needs_background": "light"
     },
     "output_type": "display_data"
    }
   ],
   "source": [
    "plt.hist(wormlengths_total,bins=bins,density=True,histtype='stepfilled',alpha=0.2);\n",
    "plt.plot(x,pdf)\n",
    "plt.yscale(\"log\")"
   ]
  }
 ],
 "metadata": {
  "kernelspec": {
   "display_name": "Python 3",
   "language": "python",
   "name": "python3"
  },
  "language_info": {
   "codemirror_mode": {
    "name": "ipython",
    "version": 3
   },
   "file_extension": ".py",
   "mimetype": "text/x-python",
   "name": "python",
   "nbconvert_exporter": "python",
   "pygments_lexer": "ipython3",
   "version": "3.7.3"
  }
 },
 "nbformat": 4,
 "nbformat_minor": 4
}
