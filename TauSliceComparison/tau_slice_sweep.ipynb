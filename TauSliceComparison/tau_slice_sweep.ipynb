{
 "cells": [
  {
   "cell_type": "markdown",
   "metadata": {},
   "source": [
    "### Measuring energy at various \"time slices\""
   ]
  },
  {
   "cell_type": "code",
   "execution_count": 94,
   "metadata": {},
   "outputs": [],
   "source": [
    "import numpy as np\n",
    "import matplotlib.pyplot as plt\n",
    "import os\n",
    "from scipy.stats import sem #standard error"
   ]
  },
  {
   "cell_type": "code",
   "execution_count": 95,
   "metadata": {},
   "outputs": [],
   "source": [
    "# Store average of observables as measured wrt various tau slices\n",
    "V_slices = []\n",
    "K_slices = []\n",
    "E_slices = []\n",
    "N_slices = []\n",
    "tau_slices = []\n",
    "\n",
    "# Specify the target number of particles and chemical potential\n",
    "N_target = 2\n",
    "mu = -2.4\n",
    "correction = mu*N_target"
   ]
  },
  {
   "cell_type": "code",
   "execution_count": 90,
   "metadata": {},
   "outputs": [
    {
     "name": "stderr",
     "output_type": "stream",
     "text": [
      "/Users/ecasiano/anaconda3/lib/python3.7/site-packages/numpy/core/fromnumeric.py:3118: RuntimeWarning: Mean of empty slice.\n",
      "  out=out, **kwargs)\n",
      "/Users/ecasiano/anaconda3/lib/python3.7/site-packages/numpy/core/_methods.py:85: RuntimeWarning: invalid value encountered in double_scalars\n",
      "  ret = ret.dtype.type(ret / rcount)\n",
      "/Users/ecasiano/anaconda3/lib/python3.7/site-packages/numpy/core/_methods.py:140: RuntimeWarning: Degrees of freedom <= 0 for slice\n",
      "  keepdims=keepdims)\n",
      "/Users/ecasiano/anaconda3/lib/python3.7/site-packages/numpy/core/_methods.py:110: RuntimeWarning: invalid value encountered in true_divide\n",
      "  arrmean, rcount, out=arrmean, casting='unsafe', subok=False)\n",
      "/Users/ecasiano/anaconda3/lib/python3.7/site-packages/numpy/core/_methods.py:132: RuntimeWarning: invalid value encountered in double_scalars\n",
      "  ret = ret.dtype.type(ret / rcount)\n"
     ]
    }
   ],
   "source": [
    "# Iterate over .dat files in the TauSliceData directory\n",
    "directory = r'resolved'\n",
    "for filename in os.listdir(directory):\n",
    "        \n",
    "    if filename.endswith(\".dat\"):\n",
    "        \n",
    "        # Load V,K,E,N data at each tau_slice\n",
    "        data = np.loadtxt(os.path.join(directory, filename))\n",
    "        \n",
    "        # Save canonical data\n",
    "        V_canonical = []\n",
    "        K_canonical = []\n",
    "        E_canonical = []\n",
    "        for i,N in enumerate(data[:,3]):\n",
    "            if round(N,8) == N_target: # Canonical\n",
    "            #if 1: # Grand Canonical\n",
    "\n",
    "#                 V_canonical.append(data[:,0][i]+correction)\n",
    "#                 K_canonical.append(data[:,1][i])\n",
    "#                 E_canonical.append(data[:,2][i]+correction)\n",
    "                \n",
    "                V_canonical.append(data[:,0][i])\n",
    "                K_canonical.append(data[:,1][i])\n",
    "                E_canonical.append(data[:,2][i])\n",
    "\n",
    "        V_canonical = np.array(V_canonical[:])\n",
    "        K_canonical = np.array(K_canonical[:])\n",
    "        E_canonical = np.array(E_canonical[:])\n",
    "\n",
    "        # Take the average of all the energies for that tau_slice measure\n",
    "        V_mean = np.mean(V_canonical)\n",
    "        K_mean = np.mean(K_canonical[:])\n",
    "        E_mean = np.mean(E_canonical)\n",
    "        \n",
    "        # Calculate standard error\n",
    "        V_std = sem(V_canonical)\n",
    "        K_std = sem(K_canonical)\n",
    "        E_std = sem(E_canonical)\n",
    "\n",
    "        # Extract the tau_slice at which measurement was done\n",
    "        L,N,U,mu,t,eta,beta,tau_slice,mc_steps,ensemble = os.path.join(directory, filename).split(\"_\")\n",
    "        tau_slices.append(float(tau_slice))\n",
    "        \n",
    "        # Append to list for plotting later\n",
    "        tau_slice = float(tau_slice)\n",
    "        V_slices.append((tau_slice,V_mean,V_std))\n",
    "        K_slices.append((tau_slice,K_mean,K_std))\n",
    "        E_slices.append((tau_slice,E_mean,E_std))\n",
    "       \n",
    "V_slices = sorted(V_slices)\n",
    "K_slices = sorted(K_slices)\n",
    "E_slices = sorted(E_slices)\n",
    "\n",
    "# V_slices = np.array(sorted(V_slices))\n",
    "# K_slices = np.array(sorted(K_slices))\n",
    "# E_slices = np.array(sorted(E_slices))"
   ]
  },
  {
   "cell_type": "code",
   "execution_count": 91,
   "metadata": {},
   "outputs": [
    {
     "data": {
      "text/plain": [
       "[0.5, 0.5]"
      ]
     },
     "execution_count": 91,
     "metadata": {},
     "output_type": "execute_result"
    }
   ],
   "source": [
    "V_slices = np.array(V_slices)\n",
    "K_slices = np.array(K_slices)\n",
    "E_slices = np.array(E_slices)\n",
    "sorted(V_slices[:,0])"
   ]
  },
  {
   "cell_type": "code",
   "execution_count": 92,
   "metadata": {},
   "outputs": [
    {
     "name": "stdout",
     "output_type": "stream",
     "text": [
      "2_2_1.0000_1.0000_1.0000_0.2266_1.0000_0.5000_1000_canV.dat\n"
     ]
    },
    {
     "data": {
      "text/plain": [
       "array([2., 2., 2., 2., 2., 2., 2., 2., 2., 2., 2.])"
      ]
     },
     "execution_count": 92,
     "metadata": {},
     "output_type": "execute_result"
    }
   ],
   "source": [
    "print(filename)\n",
    "L,N,U,mu,t,eta,beta,tau_slice,mc_steps,ensemble\n",
    "V_std\n",
    "K_mean\n",
    "V_canonical[:10]\n",
    "K_canonical"
   ]
  },
  {
   "cell_type": "code",
   "execution_count": 93,
   "metadata": {},
   "outputs": [
    {
     "data": {
      "image/png": "[encoded data removed]",
      "text/plain": [
       "<Figure size 432x288 with 1 Axes>"
      ]
     },
     "metadata": {
      "needs_background": "light"
     },
     "output_type": "display_data"
    },
    {
     "data": {
      "image/png": "[encoded data removed]",
      "text/plain": [
       "<Figure size 432x288 with 1 Axes>"
      ]
     },
     "metadata": {
      "needs_background": "light"
     },
     "output_type": "display_data"
    }
   ],
   "source": [
    "# Plot <V>/t,<K>/t,<E>/t as a function of tau_slice\n",
    "\n",
    "fig, ax1 = plt.subplots()\n",
    "ax1.plot(V_slices[:,0],V_slices[:,1],'-',color='lightcoral',label=r'$\\beta=1.0$')\n",
    "ax1.errorbar(V_slices[:,0], V_slices[:,1],marker='o',mec='dodgerblue',\n",
    "                            mfc='lightskyblue',mew=0.5,alpha=1,\n",
    "                            yerr=V_slices[:,2],fmt='o',\n",
    "                            ecolor='dodgerblue',zorder=1,capsize=2,\n",
    "                            ms=0,elinewidth=0.5)\n",
    "ax1.set_ylabel(r\"$\\langle V \\rangle / t$\")\n",
    "ax1.set_xlabel(r\"$\\tau$\")\n",
    "ax1.tick_params(axis='both',which='both',right=False,top=False,labelright=False,direction='in')\n",
    "plt.legend()\n",
    "plt.savefig(\"V_slices.pdf\")\n",
    "\n",
    "fig, ax2 = plt.subplots()\n",
    "ax2.plot(K_slices[:,0],K_slices[:,1],'-',color='mediumseagreen',label=r'$\\beta=1.0$')\n",
    "ax2.errorbar(K_slices[:,0], K_slices[:,1],marker='o',mec='dodgerblue',\n",
    "                            mfc='lightskyblue',mew=0.5,alpha=1,\n",
    "                            yerr=K_slices[:,2],fmt='o',\n",
    "                            ecolor='dodgerblue',zorder=1,capsize=2,\n",
    "                            ms=0,elinewidth=0.5)\n",
    "ax2.set_ylabel(r\"$\\langle K \\rangle / t$\")\n",
    "ax2.set_xlabel(r\"$\\tau$\")\n",
    "#ax2.axhline(y=-8.000000000000002,linewidth=1,color=\"#555555\",zorder=2) # Exact <E>/t\n",
    "ax2.tick_params(axis='both',which='both',right=False,top=False,labelright=False,direction='in')\n",
    "plt.legend()\n",
    "plt.savefig(\"K_slices.pdf\")\n",
    "\n",
    "# fig, ax3 = plt.subplots()\n",
    "# ax3.plot(E_slices[:,0],E_slices[:,1],'-',color='lightskyblue',label=r'$\\beta=1$')\n",
    "# ax3.set_ylabel(r\"$\\langle E \\rangle / t$\")\n",
    "# ax3.set_xlabel(r\"$\\tau$\")\n",
    "# ax3.tick_params(axis='both',which='both',right=False,top=False,labelright=False,direction='in')\n",
    "# plt.legend()\n",
    "# plt.savefig(\"E_slices.pdf\")\n",
    "\n",
    "\n",
    "# ax1.axhline(y=-8.000000000000002,linewidth=1,color=\"#555555\",zorder=2) # Exact <E>/t\n",
    "#plt.savefig(\"4_4_0_-2.8844_CONST_egs.pdf\")\n",
    "#plt.close();"
   ]
  },
  {
   "cell_type": "code",
   "execution_count": 72,
   "metadata": {},
   "outputs": [
    {
     "data": {
      "text/plain": [
       "[0.1, 0.2, 0.3, 0.4, 0.5, 0.5, 0.6, 0.7, 0.8, 0.9, 1.0]"
      ]
     },
     "execution_count": 72,
     "metadata": {},
     "output_type": "execute_result"
    }
   ],
   "source": [
    "sorted(V_slices[:,0])"
   ]
  },
  {
   "cell_type": "markdown",
   "metadata": {},
   "source": [
    "### $\\tau$ resolved results"
   ]
  },
  {
   "cell_type": "code",
   "execution_count": 333,
   "metadata": {},
   "outputs": [],
   "source": [
    "K = {}\n",
    "V = {}\n",
    "E = {}"
   ]
  },
  {
   "cell_type": "code",
   "execution_count": 334,
   "metadata": {},
   "outputs": [],
   "source": [
    "K['beta=1'] = np.loadtxt(\"resolved/2_2_1.0000_1.0000_1.0000_0.2239_1.0000_0.5000_500000_canK.dat\")\n",
    "V['beta=1'] = np.loadtxt(\"resolved/2_2_1.0000_1.0000_1.0000_0.2239_1.0000_0.5000_500000_canV.dat\")\n",
    "K['beta=2'] = np.loadtxt(\"resolved/2_2_1.0000_1.0000_1.0000_0.1634_2.0000_1.0000_500000_canK.dat\")\n",
    "V['beta=2'] = np.loadtxt(\"resolved/2_2_1.0000_1.0000_1.0000_0.1634_2.0000_1.0000_500000_canV.dat\")\n",
    "K['beta=5'] = np.loadtxt(\"resolved/2_2_1.0000_1.0000_1.0000_0.1090_5.0000_2.5000_3000000_canK.dat\")\n",
    "V['beta=5'] = np.loadtxt(\"resolved/2_2_1.0000_1.0000_1.0000_0.1090_5.0000_2.5000_3000000_canV.dat\")"
   ]
  },
  {
   "cell_type": "code",
   "execution_count": 335,
   "metadata": {},
   "outputs": [],
   "source": [
    "# Throw away data because of equilibration\n",
    "beta_list = [1,2,5]\n",
    "for i in beta_list:\n",
    "    \n",
    "    label = f'beta={i}'\n",
    "    \n",
    "    samples = len(K[label])\n",
    "    correction = 1*2\n",
    "\n",
    "    K[label] = K[label][int(samples*0.25):]\n",
    "    V[label] = V[label][int(samples*0.25):]+correction\n",
    "    E[label] = K[label]+V[label]"
   ]
  },
  {
   "cell_type": "code",
   "execution_count": 336,
   "metadata": {},
   "outputs": [],
   "source": [
    "K_mean = {}\n",
    "V_mean = {}\n",
    "E_mean = {}\n",
    "\n",
    "K_err = {}\n",
    "V_err = {}\n",
    "E_err = {}\n",
    "\n",
    "for i in beta_list:\n",
    "    \n",
    "    label = f'beta={i}'\n",
    "\n",
    "    K_mean[label] = np.mean(K[label],axis=0)\n",
    "    V_mean[label] = np.mean(V[label],axis=0)\n",
    "    E_mean[label]= np.mean(E[label],axis=0)\n",
    "    \n",
    "    K_err[label] = sem(K[label],axis=0)\n",
    "    V_err[label] = sem(V[label],axis=0)\n",
    "    E_err[label]= sem(E[label],axis=0)"
   ]
  },
  {
   "cell_type": "code",
   "execution_count": 337,
   "metadata": {},
   "outputs": [],
   "source": [
    "dtau=0.1\n",
    "start = dtau\n",
    "beta=1\n",
    "tau_slices = []\n",
    "#print(int(beta/(2*dtau)),beta,dtau)\n",
    "for i in range(int(beta/(2*dtau))):\n",
    "    tau_slices.append(start)\n",
    "    start += 2*dtau"
   ]
  },
  {
   "cell_type": "code",
   "execution_count": 338,
   "metadata": {},
   "outputs": [
    {
     "data": {
      "text/plain": [
       "<matplotlib.legend.Legend at 0x1a23e74550>"
      ]
     },
     "execution_count": 338,
     "metadata": {},
     "output_type": "execute_result"
    },
    {
     "data": {
      "image/png": "[encoded data removed]",
      "text/plain": [
       "<Figure size 432x288 with 1 Axes>"
      ]
     },
     "metadata": {
      "needs_background": "light"
     },
     "output_type": "display_data"
    }
   ],
   "source": [
    "fig, ax1 = plt.subplots()\n",
    "\n",
    "for i in beta_list:\n",
    "    label = f'beta={i}'\n",
    "    ax1.plot(tau_slices,K_mean[label],'-',label=label)\n",
    "    ax1.errorbar(tau_slices,K_mean[label],marker='o',mec='dodgerblue',\n",
    "                                mfc='lightskyblue',mew=0.5,alpha=1,\n",
    "                                yerr=K_err[label],fmt='o',\n",
    "                                ecolor='dodgerblue',zorder=1,capsize=2,\n",
    "                                ms=0,elinewidth=0.5)\n",
    "ax1.axhline(-3.5311-0.438)\n",
    "ax1.set_ylabel(r'$\\langle K \\rangle /t$')\n",
    "plt.legend()"
   ]
  },
  {
   "cell_type": "code",
   "execution_count": 339,
   "metadata": {},
   "outputs": [
    {
     "data": {
      "text/plain": [
       "<matplotlib.legend.Legend at 0x1a244c3668>"
      ]
     },
     "execution_count": 339,
     "metadata": {},
     "output_type": "execute_result"
    },
    {
     "data": {
      "image/png": "[encoded data removed]",
      "text/plain": [
       "<Figure size 432x288 with 1 Axes>"
      ]
     },
     "metadata": {
      "needs_background": "light"
     },
     "output_type": "display_data"
    }
   ],
   "source": [
    "fig, ax1 = plt.subplots()\n",
    "\n",
    "for i in beta_list:\n",
    "    label = f'beta={i}'\n",
    "    ax1.plot(tau_slices,V_mean[label],'-',label=label)\n",
    "    ax1.errorbar(tau_slices,V_mean[label],marker='o',mec='dodgerblue',\n",
    "                                mfc='lightskyblue',mew=0.5,alpha=1,\n",
    "                                yerr=V_err[label],fmt='o',\n",
    "                                ecolor='dodgerblue',zorder=1,capsize=2,\n",
    "                                ms=0,elinewidth=0.5)\n",
    "ax1.axhline(0.438)\n",
    "ax1.set_ylabel(r'$\\langle V \\rangle /t$')\n",
    "plt.legend()"
   ]
  },
  {
   "cell_type": "code",
   "execution_count": 340,
   "metadata": {},
   "outputs": [
    {
     "data": {
      "text/plain": [
       "<matplotlib.legend.Legend at 0x1a23cb2780>"
      ]
     },
     "execution_count": 340,
     "metadata": {},
     "output_type": "execute_result"
    },
    {
     "data": {
      "image/png": "[encoded data removed]",
      "text/plain": [
       "<Figure size 432x288 with 1 Axes>"
      ]
     },
     "metadata": {
      "needs_background": "light"
     },
     "output_type": "display_data"
    }
   ],
   "source": [
    "fig, ax1 = plt.subplots()\n",
    "\n",
    "for i in beta_list:\n",
    "    label = f'beta={i}'\n",
    "    ax1.plot(tau_slices,E_mean[label],'-',label=label)\n",
    "    ax1.errorbar(tau_slices,E_mean[label],marker='o',mec='dodgerblue',\n",
    "                                mfc='lightskyblue',mew=0.5,alpha=1,\n",
    "                                yerr=E_err[label],fmt='o',\n",
    "                                ecolor='dodgerblue',zorder=1,capsize=2,\n",
    "                                ms=0,elinewidth=0.5)\n",
    "ax1.axhline(-3.531128874149274)\n",
    "ax1.set_ylabel(r'$\\langle E \\rangle /t$')\n",
    "plt.legend()"
   ]
  },
  {
   "cell_type": "code",
   "execution_count": null,
   "metadata": {},
   "outputs": [],
   "source": []
  },
  {
   "cell_type": "code",
   "execution_count": 341,
   "metadata": {},
   "outputs": [],
   "source": [
    "### Running averages"
   ]
  },
  {
   "cell_type": "code",
   "execution_count": 342,
   "metadata": {},
   "outputs": [
    {
     "ename": "TypeError",
     "evalue": "unhashable type: 'slice'",
     "output_type": "error",
     "traceback": [
      "\u001b[0;31m---------------------------------------------------------------------------\u001b[0m",
      "\u001b[0;31mTypeError\u001b[0m                                 Traceback (most recent call last)",
      "\u001b[0;32m<ipython-input-342-b315dc9d8d70>\u001b[0m in \u001b[0;36m<module>\u001b[0;34m\u001b[0m\n\u001b[0;32m----> 1\u001b[0;31m \u001b[0mK_halfBeta\u001b[0m \u001b[0;34m=\u001b[0m \u001b[0mK\u001b[0m\u001b[0;34m[\u001b[0m\u001b[0;34m:\u001b[0m\u001b[0;34m,\u001b[0m\u001b[0;36m2\u001b[0m\u001b[0;34m]\u001b[0m\u001b[0;34m\u001b[0m\u001b[0;34m\u001b[0m\u001b[0m\n\u001b[0m\u001b[1;32m      2\u001b[0m \u001b[0mK_halfBeta_cumsum\u001b[0m \u001b[0;34m=\u001b[0m \u001b[0mnp\u001b[0m\u001b[0;34m.\u001b[0m\u001b[0mcumsum\u001b[0m\u001b[0;34m(\u001b[0m\u001b[0mK_halfBeta\u001b[0m\u001b[0;34m)\u001b[0m\u001b[0;34m\u001b[0m\u001b[0;34m\u001b[0m\u001b[0m\n\u001b[1;32m      3\u001b[0m \u001b[0;32mfor\u001b[0m \u001b[0mi\u001b[0m \u001b[0;32min\u001b[0m \u001b[0mrange\u001b[0m\u001b[0;34m(\u001b[0m\u001b[0mlen\u001b[0m\u001b[0;34m(\u001b[0m\u001b[0mK_halfBeta\u001b[0m\u001b[0;34m)\u001b[0m\u001b[0;34m)\u001b[0m\u001b[0;34m:\u001b[0m\u001b[0;34m\u001b[0m\u001b[0;34m\u001b[0m\u001b[0m\n\u001b[1;32m      4\u001b[0m     \u001b[0mK_halfBeta_cumsum\u001b[0m\u001b[0;34m[\u001b[0m\u001b[0mi\u001b[0m\u001b[0;34m]\u001b[0m \u001b[0;34m/=\u001b[0m \u001b[0;34m(\u001b[0m\u001b[0mi\u001b[0m\u001b[0;34m+\u001b[0m\u001b[0;36m1\u001b[0m\u001b[0;34m)\u001b[0m\u001b[0;34m\u001b[0m\u001b[0;34m\u001b[0m\u001b[0m\n",
      "\u001b[0;31mTypeError\u001b[0m: unhashable type: 'slice'"
     ]
    }
   ],
   "source": [
    "K_halfBeta = K[:,2]\n",
    "K_halfBeta_cumsum = np.cumsum(K_halfBeta)\n",
    "for i in range(len(K_halfBeta)):\n",
    "    K_halfBeta_cumsum[i] /= (i+1)"
   ]
  },
  {
   "cell_type": "code",
   "execution_count": 343,
   "metadata": {},
   "outputs": [
    {
     "data": {
      "text/plain": [
       "[<matplotlib.lines.Line2D at 0x1a2485fd68>]"
      ]
     },
     "execution_count": 343,
     "metadata": {},
     "output_type": "execute_result"
    },
    {
     "data": {
      "image/png": "[encoded data removed]",
      "text/plain": [
       "<Figure size 432x288 with 1 Axes>"
      ]
     },
     "metadata": {
      "needs_background": "light"
     },
     "output_type": "display_data"
    }
   ],
   "source": [
    "fig, ax4 = plt.subplots()\n",
    "ax4.plot(K_halfBeta_cumsum,'-',color='mediumseagreen',label=r'$\\beta=1.0$')"
   ]
  },
  {
   "cell_type": "code",
   "execution_count": 277,
   "metadata": {},
   "outputs": [],
   "source": [
    "V_halfBeta = V[:,2]\n",
    "V_halfBeta_cumsum = np.cumsum(V_halfBeta)\n",
    "for i in range(len(V_halfBeta)):\n",
    "    V_halfBeta_cumsum[i] /= (i+1)"
   ]
  },
  {
   "cell_type": "code",
   "execution_count": 278,
   "metadata": {},
   "outputs": [
    {
     "data": {
      "text/plain": [
       "[<matplotlib.lines.Line2D at 0x1a21ec5828>]"
      ]
     },
     "execution_count": 278,
     "metadata": {},
     "output_type": "execute_result"
    },
    {
     "data": {
      "image/png": "[encoded data removed]",
      "text/plain": [
       "<Figure size 432x288 with 1 Axes>"
      ]
     },
     "metadata": {
      "needs_background": "light"
     },
     "output_type": "display_data"
    }
   ],
   "source": [
    "fig, ax5 = plt.subplots()\n",
    "ax5.plot(V_halfBeta_cumsum,'-',color='pink',label=r'$\\beta=1.0$')"
   ]
  },
  {
   "cell_type": "code",
   "execution_count": 265,
   "metadata": {},
   "outputs": [],
   "source": [
    "E_halfBeta = E[:,2]\n",
    "E_halfBeta_cumsum = np.cumsum(E_halfBeta)\n",
    "for i in range(len(E_halfBeta)):\n",
    "    E_halfBeta_cumsum[i] /= (i+1)"
   ]
  },
  {
   "cell_type": "code",
   "execution_count": 266,
   "metadata": {},
   "outputs": [
    {
     "data": {
      "text/plain": [
       "[<matplotlib.lines.Line2D at 0x1a1fb93198>]"
      ]
     },
     "execution_count": 266,
     "metadata": {},
     "output_type": "execute_result"
    },
    {
     "data": {
      "image/png": "[encoded data removed]",
      "text/plain": [
       "<Figure size 432x288 with 1 Axes>"
      ]
     },
     "metadata": {
      "needs_background": "light"
     },
     "output_type": "display_data"
    }
   ],
   "source": [
    "fig, ax5 = plt.subplots()\n",
    "ax5.plot(E_halfBeta_cumsum,'-',color='lightskyblue',label=r'$\\beta=1.0$')"
   ]
  },
  {
   "cell_type": "code",
   "execution_count": 332,
   "metadata": {},
   "outputs": [
    {
     "data": {
      "text/plain": [
       "6287"
      ]
     },
     "execution_count": 332,
     "metadata": {},
     "output_type": "execute_result"
    }
   ],
   "source": [
    "len(V['beta=5'])"
   ]
  },
  {
   "cell_type": "code",
   "execution_count": 331,
   "metadata": {},
   "outputs": [
    {
     "data": {
      "text/plain": [
       "37765"
      ]
     },
     "execution_count": 331,
     "metadata": {},
     "output_type": "execute_result"
    }
   ],
   "source": [
    "len(V['beta=1'])"
   ]
  },
  {
   "cell_type": "code",
   "execution_count": null,
   "metadata": {},
   "outputs": [],
   "source": []
  }
 ],
 "metadata": {
  "kernelspec": {
   "display_name": "Python 3",
   "language": "python",
   "name": "python3"
  },
  "language_info": {
   "codemirror_mode": {
    "name": "ipython",
    "version": 3
   },
   "file_extension": ".py",
   "mimetype": "text/x-python",
   "name": "python",
   "nbconvert_exporter": "python",
   "pygments_lexer": "ipython3",
   "version": "3.7.3"
  }
 },
 "nbformat": 4,
 "nbformat_minor": 4
}
