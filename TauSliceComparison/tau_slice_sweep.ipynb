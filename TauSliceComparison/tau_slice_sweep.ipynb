{
 "cells": [
  {
   "cell_type": "markdown",
   "metadata": {},
   "source": [
    "### Measuring energy at various \"time slices\""
   ]
  },
  {
   "cell_type": "code",
   "execution_count": 4,
   "metadata": {},
   "outputs": [],
   "source": [
    "import numpy as np\n",
    "import matplotlib.pyplot as plt\n",
    "import os"
   ]
  },
  {
   "cell_type": "code",
   "execution_count": 5,
   "metadata": {},
   "outputs": [],
   "source": [
    "# Store average of observables as measured wrt various tau slices\n",
    "V_slices = []\n",
    "K_slices = []\n",
    "E_slices = []\n",
    "N_slices = []\n",
    "tau_slices = []\n",
    "\n",
    "# Specify the target number of particles and chemical potential\n",
    "N_target = 4\n",
    "mu = -2.4\n",
    "correction = mu*N_target"
   ]
  },
  {
   "cell_type": "code",
   "execution_count": 6,
   "metadata": {},
   "outputs": [],
   "source": [
    "# Iterate over .dat files in the TauSliceData directory\n",
    "directory = r'TauSliceData0.25WindowCanonicalConstraint'\n",
    "for filename in os.listdir(directory):\n",
    "        \n",
    "    if filename.endswith(\".dat\"):\n",
    "        \n",
    "        # Load V,K,E,N data at each tau_slice\n",
    "        data = np.loadtxt(os.path.join(directory, filename))\n",
    "        \n",
    "        # Save canonical data\n",
    "        V_canonical = []\n",
    "        K_canonical = []\n",
    "        E_canonical = []\n",
    "        for i,N in enumerate(data[:,3]):\n",
    "            if round(N,8) == N_target: # Canonical\n",
    "            #if 1: # Grand Canonical\n",
    "\n",
    "#                 V_canonical.append(data[:,0][i]+correction)\n",
    "#                 K_canonical.append(data[:,1][i])\n",
    "#                 E_canonical.append(data[:,2][i]+correction)\n",
    "                \n",
    "                V_canonical.append(data[:,0][i])\n",
    "                K_canonical.append(data[:,1][i])\n",
    "                E_canonical.append(data[:,2][i])\n",
    "\n",
    "        V_canonical = np.array(V_canonical[:])\n",
    "        K_canonical = np.array(K_canonical[:])\n",
    "        E_canonical = np.array(E_canonical[:])\n",
    "\n",
    "        # Take the average of all the energies for that tau_slice measure\n",
    "        V_mean = np.mean(V_canonical)\n",
    "        K_mean = np.mean(K_canonical[:])\n",
    "        E_mean = np.mean(E_canonical)\n",
    "\n",
    "        # Extract the tau_slice at which measurement was done\n",
    "        L,N,U,mu,t,eta,beta,tau_slice,mc_steps,ensemble = os.path.join(directory, filename).split(\"_\")\n",
    "        tau_slices.append(float(tau_slice))\n",
    "        \n",
    "        # Append to list for plotting later\n",
    "        tau_slice = float(tau_slice)\n",
    "        V_slices.append((tau_slice,V_mean))\n",
    "        K_slices.append((tau_slice,K_mean))\n",
    "        E_slices.append((tau_slice,E_mean))\n",
    "       \n",
    "V_slices = sorted(V_slices)\n",
    "K_slices = sorted(K_slices)\n",
    "E_slices = sorted(E_slices)\n",
    "\n",
    "# V_slices = np.array(sorted(V_slices))\n",
    "# K_slices = np.array(sorted(K_slices))\n",
    "# E_slices = np.array(sorted(E_slices))"
   ]
  },
  {
   "cell_type": "code",
   "execution_count": 7,
   "metadata": {},
   "outputs": [],
   "source": [
    "V_slices = np.array(V_slices)\n",
    "K_slices = np.array(K_slices)\n",
    "E_slices = np.array(E_slices)"
   ]
  },
  {
   "cell_type": "code",
   "execution_count": null,
   "metadata": {},
   "outputs": [],
   "source": []
  },
  {
   "cell_type": "code",
   "execution_count": 9,
   "metadata": {},
   "outputs": [
    {
     "data": {
      "image/png": "[encoded data removed]",
      "text/plain": [
       "<Figure size 432x288 with 1 Axes>"
      ]
     },
     "metadata": {
      "needs_background": "light"
     },
     "output_type": "display_data"
    },
    {
     "data": {
      "image/png": "[encoded data removed]",
      "text/plain": [
       "<Figure size 432x288 with 1 Axes>"
      ]
     },
     "metadata": {
      "needs_background": "light"
     },
     "output_type": "display_data"
    }
   ],
   "source": [
    "# Plot <V>/t,<K>/t,<E>/t as a function of tau_slice\n",
    "\n",
    "fig, ax1 = plt.subplots()\n",
    "ax1.plot(V_slices[:,0],V_slices[:,1],'-',color='lightcoral',label=r'$\\beta=1.0$')\n",
    "ax1.set_ylabel(r\"$\\langle V \\rangle / t$\")\n",
    "ax1.set_xlabel(r\"$\\tau$\")\n",
    "ax1.tick_params(axis='both',which='both',right=False,top=False,labelright=False,direction='in')\n",
    "plt.legend()\n",
    "plt.savefig(\"V_slices.pdf\")\n",
    "\n",
    "fig, ax2 = plt.subplots()\n",
    "ax2.plot(K_slices[:,0],K_slices[:,1],'o',color='mediumseagreen',label=r'$\\beta=1.0$')\n",
    "ax2.set_ylabel(r\"$\\langle K \\rangle / t$\")\n",
    "ax2.set_xlabel(r\"$\\tau$\")\n",
    "ax2.axhline(y=-8.000000000000002,linewidth=1,color=\"#555555\",zorder=2) # Exact <E>/t\n",
    "ax2.tick_params(axis='both',which='both',right=False,top=False,labelright=False,direction='in')\n",
    "plt.legend()\n",
    "plt.savefig(\"K_slices.pdf\")\n",
    "\n",
    "# fig, ax3 = plt.subplots()\n",
    "# ax3.plot(E_slices[:,0],E_slices[:,1],'-',color='lightskyblue',label=r'$\\beta=1$')\n",
    "# ax3.set_ylabel(r\"$\\langle E \\rangle / t$\")\n",
    "# ax3.set_xlabel(r\"$\\tau$\")\n",
    "# ax3.tick_params(axis='both',which='both',right=False,top=False,labelright=False,direction='in')\n",
    "# plt.legend()\n",
    "# plt.savefig(\"E_slices.pdf\")\n",
    "\n",
    "\n",
    "# ax1.axhline(y=-8.000000000000002,linewidth=1,color=\"#555555\",zorder=2) # Exact <E>/t\n",
    "#plt.savefig(\"4_4_0_-2.8844_CONST_egs.pdf\")\n",
    "#plt.close();"
   ]
  },
  {
   "cell_type": "code",
   "execution_count": null,
   "metadata": {},
   "outputs": [],
   "source": []
  },
  {
   "cell_type": "code",
   "execution_count": null,
   "metadata": {},
   "outputs": [],
   "source": []
  },
  {
   "cell_type": "code",
   "execution_count": null,
   "metadata": {},
   "outputs": [],
   "source": []
  },
  {
   "cell_type": "code",
   "execution_count": null,
   "metadata": {},
   "outputs": [],
   "source": []
  }
 ],
 "metadata": {
  "kernelspec": {
   "display_name": "Python 3",
   "language": "python",
   "name": "python3"
  },
  "language_info": {
   "codemirror_mode": {
    "name": "ipython",
    "version": 3
   },
   "file_extension": ".py",
   "mimetype": "text/x-python",
   "name": "python",
   "nbconvert_exporter": "python",
   "pygments_lexer": "ipython3",
   "version": "3.7.3"
  }
 },
 "nbformat": 4,
 "nbformat_minor": 4
}
