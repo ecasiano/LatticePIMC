{
 "cells": [
  {
   "cell_type": "code",
   "execution_count": 323,
   "metadata": {},
   "outputs": [],
   "source": [
    "import numpy as np\n",
    "import bisect"
   ]
  },
  {
   "cell_type": "code",
   "execution_count": 324,
   "metadata": {
    "collapsed": false,
    "jupyter": {
     "outputs_hidden": false
    }
   },
   "outputs": [],
   "source": [
    "# Load basis and ground state wave function from file\n",
    "basis = np.loadtxt(\"basis_N2.dat\",dtype=int)\n",
    "psi0 = np.loadtxt(\"psi0_N2_L2_U1_PBC.dat\")"
   ]
  },
  {
   "cell_type": "code",
   "execution_count": 325,
   "metadata": {
    "collapsed": false,
    "jupyter": {
     "outputs_hidden": false
    }
   },
   "outputs": [],
   "source": [
    "# Normalize psi and compute cumulant\n",
    "psi0 = psi0/np.sum(psi0)\n",
    "cumu_psi = np.cumsum(psi0)"
   ]
  },
  {
   "cell_type": "code",
   "execution_count": 326,
   "metadata": {
    "collapsed": false,
    "jupyter": {
     "outputs_hidden": false
    }
   },
   "outputs": [],
   "source": [
    "# Generate 4 batches of fake MC data and write to disk\n",
    "Nsamples=10000\n",
    "for batch in range(4):\n",
    "    states = []\n",
    "    for sample in range(Nsamples):\n",
    "        r = np.random.rand()\n",
    "        index = bisect.bisect_right(cumu_psi, r)\n",
    "        states.append(basis[index])\n",
    "    states = np.array(states)\n",
    "    np.savetxt(\"sample_{}.dat\".format(batch),states, fmt='%d')"
   ]
  },
  {
   "cell_type": "code",
   "execution_count": 327,
   "metadata": {
    "collapsed": false,
    "jupyter": {
     "outputs_hidden": false
    }
   },
   "outputs": [
    {
     "name": "stdout",
     "output_type": "stream",
     "text": [
      "134949\n",
      "60883\n",
      "93521\n",
      "93521\n"
     ]
    }
   ],
   "source": [
    "# Load MC data from disk\n",
    "alpha_L = np.loadtxt(\"Data_EE/2_2_1.0000_-3.1000_1.0000_1.0000_500000000_3821899246_fock.dat\",dtype=int)\n",
    "alpha_R = np.loadtxt(\"Data_EE/2_2_1.0000_-2.7000_1.0000_1.0000_500000000_3830973259_fock.dat\",dtype=int)\n",
    "alphaP_L = np.loadtxt(\"Data_EE/2_2_1.0000_-0.5000_1.0000_1.0000_500000000_3828459659_fock.dat\",dtype=int)\n",
    "alphaP_R = np.loadtxt(\"Data_EE/2_2_1.0000_-0.4000_1.0000_1.0000_500000000_3826105458_fock.dat\",dtype=int)\n",
    "print(len(alpha_L))\n",
    "print(len(alpha_R))\n",
    "print(len(alphaP_L))\n",
    "print(len(alphaP_L))"
   ]
  },
  {
   "cell_type": "code",
   "execution_count": 328,
   "metadata": {},
   "outputs": [
    {
     "data": {
      "text/plain": [
       "array([[0, 2],\n",
       "       [0, 2],\n",
       "       [0, 2],\n",
       "       [2, 0],\n",
       "       [0, 2]])"
      ]
     },
     "execution_count": 328,
     "metadata": {},
     "output_type": "execute_result"
    }
   ],
   "source": [
    "# Truncate data so they have same sample size\n",
    "alpha_L = alpha_L[-10000:]\n",
    "alpha_R = alpha_R[-10000:]\n",
    "alphaP_L = alphaP_L[-10000:]\n",
    "alphaP_R = alphaP_R[-10000:]\n",
    "\n",
    "# alpha_L = alpha_L[-20000:]\n",
    "# alpha_R = alpha_R[-20000:]\n",
    "# alphaP_L = alphaP_L[-20000:]\n",
    "# alphaP_R = alphaP_R[-20000:]\n",
    "\n",
    "# alpha_L = alpha_L[-60000:]\n",
    "# alpha_R = alpha_R[-60000:]\n",
    "# alphaP_L = alphaP_L[-60000:]\n",
    "# alphaP_R = alphaP_R[-60000:]\n",
    "\n",
    "alpha_L[:5]"
   ]
  },
  {
   "cell_type": "code",
   "execution_count": 329,
   "metadata": {},
   "outputs": [],
   "source": [
    "# Vector of SWAP values\n",
    "def SWAP_vec(lA,alphaL,alphaR,alphaP_L,alphaP_R):\n",
    "    SWAP = np.zeros(len(alpha_L))\n",
    "    for state in range(len(alpha_L)):\n",
    "        SWAP[state] = (np.array_equal(alpha_L[state][lA:], alpha_R[state][lA:]) \\\n",
    "                        and np.array_equal(alphaP_L[state][lA:], alphaP_R[state][lA:]) \\\n",
    "                        and np.array_equal(alpha_L[state][:lA], alphaP_R[state][:lA]) \\\n",
    "                        and np.array_equal(alphaP_L[state][:lA], alpha_R[state][:lA]) ) \n",
    "    return(SWAP)\n",
    "\n",
    "# Vector of un-swapped values\n",
    "def Z_vec(lA,alphaL,alphaR,alphaP_L,alphaP_R):\n",
    "    Z = np.zeros(len(alpha_L))\n",
    "    for state in range(len(alpha_L)):\n",
    "        Z[state] = np.array_equal(alpha_L[state], alpha_R[state]) \\\n",
    "                    and np.array_equal(alphaP_L[state], alphaP_R[state])\n",
    "    return(Z)"
   ]
  },
  {
   "cell_type": "code",
   "execution_count": 330,
   "metadata": {
    "collapsed": false,
    "jupyter": {
     "outputs_hidden": false
    }
   },
   "outputs": [
    {
     "name": "stdout",
     "output_type": "stream",
     "text": [
      "S2 = 0.9093975484988411 +/- 0.013979617731355228\n"
     ]
    }
   ],
   "source": [
    "lA = 1 # Bipartition size\n",
    "SWAPv = SWAP_vec(lA,alpha_L,alpha_R,alphaP_L,alphaP_R)\n",
    "Zv = Z_vec(lA,alpha_L,alpha_R,alphaP_L,alphaP_R)\n",
    "\n",
    "# Compute average values\n",
    "SWAP = np.sum(SWAPv)\n",
    "Z = np.sum(Zv)\n",
    "S2 = -np.log(SWAP/Z)\n",
    "\n",
    "# Compute error bars using \"Jacknife\" averages\n",
    "SWAPi = SWAP*np.ones(len(SWAPv)) - SWAPv\n",
    "Zi = Z*np.ones(len(Zv)) - Zv\n",
    "S2i = -np.log(SWAPi/Zi)\n",
    "dS2 = np.sqrt(len(S2i))*np.std(S2i)\n",
    "\n",
    "print(\"S2 = {} +/- {}\".format(S2,dS2))"
   ]
  },
  {
   "cell_type": "code",
   "execution_count": null,
   "metadata": {},
   "outputs": [],
   "source": []
  },
  {
   "cell_type": "code",
   "execution_count": null,
   "metadata": {},
   "outputs": [],
   "source": []
  },
  {
   "cell_type": "code",
   "execution_count": null,
   "metadata": {},
   "outputs": [],
   "source": []
  }
 ],
 "metadata": {
  "kernelspec": {
   "display_name": "Python 3",
   "language": "python",
   "name": "python3"
  },
  "language_info": {
   "codemirror_mode": {
    "name": "ipython",
    "version": 3
   },
   "file_extension": ".py",
   "mimetype": "text/x-python",
   "name": "python",
   "nbconvert_exporter": "python",
   "pygments_lexer": "ipython3",
   "version": "3.6.8"
  }
 },
 "nbformat": 4,
 "nbformat_minor": 4
}
