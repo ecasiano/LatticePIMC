{
 "cells": [
  {
   "cell_type": "code",
   "execution_count": 20,
   "metadata": {},
   "outputs": [],
   "source": [
    "from sympy.utilities.iterables import multiset_permutations,ordered_partitions\n",
    "import numpy as np\n",
    "import argparse"
   ]
  },
  {
   "cell_type": "code",
   "execution_count": 21,
   "metadata": {},
   "outputs": [],
   "source": [
    "def bosonicConfigurations(L,N):\n",
    "    '''Input: 1D Lattice Size and Number of Bosons\n",
    "    Output: All possible configurations of bosons'''\n",
    "    \n",
    "    #List that will store all configurations\n",
    "    configurations = []\n",
    "      \n",
    "    #Store ordered partitions of N as a list\n",
    "    partitions = list(ordered_partitions(N))\n",
    "    \n",
    "    for p in partitions:\n",
    "        #BH Lattice containing a partition of N followed by zeros\n",
    "        auxConfig = [0]*L\n",
    "        auxConfig[0:len(p)] = p\n",
    "\n",
    "        #Generate permutations based on current partition of N\n",
    "        partitionConfigs = list(multiset_permutations(auxConfig))\n",
    "\n",
    "        #Append permutations of current partition to list containing all configurations\n",
    "        configurations += partitionConfigs\n",
    "    \n",
    "    #Promote configurations list to numpy array\n",
    "    configurations = np.array(configurations,dtype=int)\n",
    "      \n",
    "    return configurations"
   ]
  },
  {
   "cell_type": "code",
   "execution_count": 22,
   "metadata": {},
   "outputs": [],
   "source": [
    "# Generate all bosonic configurations\n",
    "L=4\n",
    "N=4\n",
    "hilbert_space = bosonicConfigurations(L,N)"
   ]
  },
  {
   "cell_type": "code",
   "execution_count": 26,
   "metadata": {},
   "outputs": [],
   "source": [
    "# Write basis states to disk\n",
    "basis_file = open(\"basis_L%iN%i.dat\"%(L,N),\"w+\")\n",
    "np.savetxt(basis_file,hilbert_space,fmt=\"%i\")\n",
    "basis_file.close()"
   ]
  },
  {
   "cell_type": "code",
   "execution_count": null,
   "metadata": {},
   "outputs": [],
   "source": []
  },
  {
   "cell_type": "code",
   "execution_count": null,
   "metadata": {},
   "outputs": [],
   "source": []
  }
 ],
 "metadata": {
  "kernelspec": {
   "display_name": "Python 3",
   "language": "python",
   "name": "python3"
  },
  "language_info": {
   "codemirror_mode": {
    "name": "ipython",
    "version": 3
   },
   "file_extension": ".py",
   "mimetype": "text/x-python",
   "name": "python",
   "nbconvert_exporter": "python",
   "pygments_lexer": "ipython3",
   "version": "3.6.8"
  }
 },
 "nbformat": 4,
 "nbformat_minor": 4
}
