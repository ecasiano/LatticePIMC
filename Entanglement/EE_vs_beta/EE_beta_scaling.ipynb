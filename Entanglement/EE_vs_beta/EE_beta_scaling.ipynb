{
 "cells": [
  {
   "cell_type": "code",
   "execution_count": 34,
   "metadata": {},
   "outputs": [],
   "source": [
    "import numpy as np\n",
    "import matplotlib.pyplot as plt"
   ]
  },
  {
   "cell_type": "code",
   "execution_count": 35,
   "metadata": {},
   "outputs": [],
   "source": [
    "beta_list = [1,2,3,4,5]\n",
    "EE_list = [0.9076646771543877,0.8193820529283308,0.8608829749775101,0.870505948011771,0.8749869257329194]\n",
    "EE_error_list = [0.03496293638541671,0.031187958870879443,0.03201940294614533,0.03396018609344998,0.033552024513205984]"
   ]
  },
  {
   "cell_type": "code",
   "execution_count": 39,
   "metadata": {},
   "outputs": [
    {
     "data": {
      "image/png": "[encoded data removed]",
      "text/plain": [
       "<Figure size 432x288 with 1 Axes>"
      ]
     },
     "metadata": {
      "needs_background": "light"
     },
     "output_type": "display_data"
    }
   ],
   "source": [
    "# Plot diagonal energy as function of tau slices\n",
    "fig, ax2 = plt.subplots()\n",
    "ax2.axhline(0.8872711176466638,color='#666666',zorder=100)\n",
    "ax2.plot(beta_list,EE_list,'o',label='beta=4',color='indianred',mfc='pink',zorder=11)\n",
    "ax2.plot(beta_list,EE_list,'-',label='beta=4',color='indianred',zorder=10)\n",
    "\n",
    "ax2.errorbar(beta_list,EE_list,marker='o',mec='red',\n",
    "                            mfc='red',mew=0.5,alpha=1,\n",
    "                            yerr=EE_error_list,fmt='o',\n",
    "                            ecolor='brown',zorder=10,capsize=2,\n",
    "                            ms=0,elinewidth=0.5)\n",
    "ax2.set_xticks(beta_list)\n",
    "#ax2.axhline(1.10557280900009,color='#666666')\n",
    "#ax2.axhline(1.94686077478136,color='#666666')\n",
    "ax2.set_ylabel(r'$S_2$')\n",
    "ax2.set_xlabel(r'$\\beta$')\n",
    "ax2.tick_params(axis='both',which='both',right=False,top=False,labelright=False,direction='in')\n",
    "plt.savefig('EE_beta_scaling.pdf')"
   ]
  },
  {
   "cell_type": "code",
   "execution_count": null,
   "metadata": {},
   "outputs": [],
   "source": []
  },
  {
   "cell_type": "code",
   "execution_count": null,
   "metadata": {},
   "outputs": [],
   "source": []
  }
 ],
 "metadata": {
  "kernelspec": {
   "display_name": "Python 3",
   "language": "python",
   "name": "python3"
  },
  "language_info": {
   "codemirror_mode": {
    "name": "ipython",
    "version": 3
   },
   "file_extension": ".py",
   "mimetype": "text/x-python",
   "name": "python",
   "nbconvert_exporter": "python",
   "pygments_lexer": "ipython3",
   "version": "3.6.8"
  }
 },
 "nbformat": 4,
 "nbformat_minor": 4
}
