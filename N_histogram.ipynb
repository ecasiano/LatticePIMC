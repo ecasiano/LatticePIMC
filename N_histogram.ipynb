{
 "cells": [
  {
   "cell_type": "code",
   "execution_count": 107,
   "metadata": {},
   "outputs": [],
   "source": [
    "import numpy as np\n",
    "import matplotlib.pyplot as plt"
   ]
  },
  {
   "cell_type": "code",
   "execution_count": 108,
   "metadata": {},
   "outputs": [
    {
     "name": "stdout",
     "output_type": "stream",
     "text": [
      "3_9_1.0000_-3.4000_1.0000_2.0000_10000000_17_2D_gc_K.dat\n",
      "3_9_1.0000_-3.4000_1.0000_2.0000_10000000_17_2D_gc_N.dat\n",
      "3_9_1.0000_-3.4000_1.0000_2.0000_10000000_17_2D_gc_V.dat\n",
      "4_1.0000_-1.4000_2.0000_10000000_Nhist.pdf\n",
      "4_4_1.0000_-1.4000_1.0000_2.0000_10000000_17_1D_gc_K.dat\n",
      "4_4_1.0000_-1.4000_1.0000_2.0000_10000000_17_1D_gc_N.dat\n",
      "4_4_1.0000_-1.4000_1.0000_2.0000_10000000_17_1D_gc_V.dat\n",
      "\u001b[1m\u001b[36mData\u001b[m\u001b[m\n",
      "E.pdf\n",
      "E_bin_plot.pdf\n",
      "\u001b[1m\u001b[36mEnergyAtFixedInteraction\u001b[m\u001b[m\n",
      "\u001b[1m\u001b[36mEntanglement\u001b[m\u001b[m\n",
      "\u001b[1m\u001b[36mFigures\u001b[m\u001b[m\n",
      "\u001b[1m\u001b[36mHigherDimensionTestData\u001b[m\u001b[m\n",
      "\u001b[1m\u001b[36mNTargetDependenceMu\u001b[m\u001b[m\n",
      "N_histogram.ipynb\n",
      "N_histogram.pdf\n",
      "\u001b[1m\u001b[36mNotebooks\u001b[m\u001b[m\n",
      "\u001b[1m\u001b[36mNotes\u001b[m\u001b[m\n",
      "\u001b[1m\u001b[36mTauSliceComparison\u001b[m\u001b[m\n",
      "U_tau_frac_C1_COEFF.pdf\n",
      "\u001b[1m\u001b[36m__pycache__\u001b[m\u001b[m\n",
      "main.py\n",
      "output.prof\n",
      "output_no_prealloc_insertion_sites_no_round.prof\n",
      "output_no_prealloc_insertion_sites_with_round.prof\n",
      "output_prealloc_insertion_sites.prof\n",
      "output_prealloc_insertion_sites_no_round.prof\n",
      "pimc.py\n",
      "quick_beta_scaling.ipynb\n",
      "tau_slice_sweep.ipynb\n",
      "tau_slice_sweep.py\n",
      "\u001b[1m\u001b[36mtruncexpon_old_way\u001b[m\u001b[m\n",
      "worldline.pdf\n"
     ]
    }
   ],
   "source": [
    "!ls"
   ]
  },
  {
   "cell_type": "code",
   "execution_count": 109,
   "metadata": {},
   "outputs": [],
   "source": [
    "N_file = \"4_4_1.0000_-1.4000_1.0000_2.0000_10000000_17_1D_gc_N.dat\"\n",
    "N_data = np.loadtxt(N_file)\n",
    "N_data = np.round(N_data,2).astype(int) # Round the entries because of numerical precision error\n",
    "\n",
    "# Extract parameters\n",
    "N = float(N_file.split(\"_\")[1]) # \n",
    "U = float(N_file.split(\"_\")[2]) # \n",
    "mu_gc = N_file.split(\"_\")[3] # Grand canonical chemical potential\n",
    "mu_gc = float(mu_gc.replace('\\U00002013', '-')) # Convert string with negative to floar\n",
    "beta = float(N_file.split(\"_\")[5]) # \n",
    "sweeps = float(N_file.split(\"_\")[6]) # "
   ]
  },
  {
   "cell_type": "code",
   "execution_count": 110,
   "metadata": {},
   "outputs": [],
   "source": [
    "bins = np.linspace(N_data.min(),N_data.max()+1,len(np.unique(N_data))+1)\n",
    "N_histogram = np.histogram(N_data,bins=bins)"
   ]
  },
  {
   "cell_type": "code",
   "execution_count": 111,
   "metadata": {},
   "outputs": [
    {
     "data": {
      "image/png": "[encoded data removed]",
      "text/plain": [
       "<Figure size 432x288 with 1 Axes>"
      ]
     },
     "metadata": {
      "needs_background": "light"
     },
     "output_type": "display_data"
    }
   ],
   "source": [
    "fig, ax = plt.subplots(1, 1)\n",
    "ax.plot(N_histogram[1][:-1],N_histogram[0]/sum(N_histogram[0]),marker='o',alpha=0.9)\n",
    "ax.hist(N_data,bins=bins,density=True,histtype='stepfilled',alpha=0.45,align='left') ;\n",
    "#ax.axvline(2)\n",
    "# xticks = np.linspace(N_data.min(),N_data.max(),dtype=int)\n",
    "# ax.set_xticks(xticks);\n",
    "ax.set_xlabel(r'$N$')\n",
    "ax.set_ylabel(r'$P(N)$')\n",
    "ax.annotate(r'$N=%d$'%(N),xy=(0.13,0.80),xycoords='figure fraction')\n",
    "ax.annotate(r'$U=%.4f$'%(U),xy=(0.13,0.75),xycoords='figure fraction')\n",
    "ax.annotate(r'$\\mu=%.4f$'%(mu_gc),xy=(0.13,0.70),xycoords='figure fraction')\n",
    "ax.annotate(r'$\\beta=%.4f$'%(beta),xy=(0.13,0.65),xycoords='figure fraction')\n",
    "ax.annotate(r'$\\rm{sweeps}=%.1e$'%(sweeps),xy=(0.13,0.60),xycoords='figure fraction')\n",
    "plt.savefig('%d_%.4f_%.4f_%.4f_%d_Nhist.pdf'%(N,U,mu_gc,beta,sweeps))"
   ]
  },
  {
   "cell_type": "code",
   "execution_count": 96,
   "metadata": {},
   "outputs": [
    {
     "data": {
      "text/plain": [
       "0.02627801297667858"
      ]
     },
     "execution_count": 96,
     "metadata": {},
     "output_type": "execute_result"
    }
   ],
   "source": [
    "eta = 1/(4**1*beta)**1.75\n",
    "eta"
   ]
  },
  {
   "cell_type": "markdown",
   "metadata": {},
   "source": [
    "### Determining chemical potential"
   ]
  },
  {
   "cell_type": "markdown",
   "metadata": {},
   "source": [
    "# $\\mu(N) = \\mu_{\\rm{gc}} - \\frac{1}{\\beta} \\log \\frac{P(N+1)}{P(N)}$\n",
    "\n",
    "We'll try to find the chemical potential $\\mu(N)$ for which number of particles is equal to $N=9$."
   ]
  },
  {
   "cell_type": "code",
   "execution_count": 56,
   "metadata": {},
   "outputs": [
    {
     "name": "stdout",
     "output_type": "stream",
     "text": [
      "P(N) is Normalized!\n"
     ]
    }
   ],
   "source": [
    "P_N = (N_histogram[0]/sum(N_histogram[0]))\n",
    "N = bins.astype(int)\n",
    "if np.sum(P_N) == 1: print(\"P(N) is Normalized!\")"
   ]
  },
  {
   "cell_type": "code",
   "execution_count": 57,
   "metadata": {},
   "outputs": [],
   "source": [
    "def mu(P_N,N,N_target,mu_gc):\n",
    "    \n",
    "    N_idx = np.where(N==N_target)[0][0]\n",
    "    \n",
    "    return P_N[N_idx+1]/P_N[N_idx]\n",
    "           \n",
    "    return mu_gc - np.log(P_N[N_idx+1]/P_N[N_idx])\n",
    "\n",
    "    #return np.log(P_N[N_idx+1]/P_N[N_idx])"
   ]
  },
  {
   "cell_type": "code",
   "execution_count": 61,
   "metadata": {},
   "outputs": [
    {
     "data": {
      "text/plain": [
       "1.0194805194805197"
      ]
     },
     "execution_count": 61,
     "metadata": {},
     "output_type": "execute_result"
    }
   ],
   "source": [
    "mu(P_N,N,9,mu_gc)"
   ]
  },
  {
   "cell_type": "code",
   "execution_count": 59,
   "metadata": {},
   "outputs": [
    {
     "data": {
      "text/plain": [
       "0.13318534961154274"
      ]
     },
     "execution_count": 59,
     "metadata": {},
     "output_type": "execute_result"
    }
   ],
   "source": [
    "P_N[5]"
   ]
  },
  {
   "cell_type": "code",
   "execution_count": 60,
   "metadata": {},
   "outputs": [
    {
     "data": {
      "text/plain": [
       "-3.419293202934679"
      ]
     },
     "execution_count": 60,
     "metadata": {},
     "output_type": "execute_result"
    }
   ],
   "source": [
    "mu_gc - np.log(P_N[7]/P_N[6])"
   ]
  },
  {
   "cell_type": "code",
   "execution_count": null,
   "metadata": {},
   "outputs": [],
   "source": []
  },
  {
   "cell_type": "code",
   "execution_count": null,
   "metadata": {},
   "outputs": [],
   "source": []
  }
 ],
 "metadata": {
  "kernelspec": {
   "display_name": "Python 3",
   "language": "python",
   "name": "python3"
  },
  "language_info": {
   "codemirror_mode": {
    "name": "ipython",
    "version": 3
   },
   "file_extension": ".py",
   "mimetype": "text/x-python",
   "name": "python",
   "nbconvert_exporter": "python",
   "pygments_lexer": "ipython3",
   "version": "3.7.3"
  }
 },
 "nbformat": 4,
 "nbformat_minor": 4
}
