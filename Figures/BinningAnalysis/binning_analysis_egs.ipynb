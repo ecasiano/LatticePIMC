{
 "cells": [
  {
   "cell_type": "markdown",
   "metadata": {},
   "source": [
    "### Binning analysis (Ground state energy)"
   ]
  },
  {
   "cell_type": "code",
   "execution_count": 169,
   "metadata": {},
   "outputs": [],
   "source": [
    "#Perform binning analysis of observables obtained\n",
    "#via boseHubbardVMC.py\n",
    "\n",
    "import numpy as np\n",
    "import matplotlib.pyplot as plt\n",
    "\n",
    "def get_std_error(mc_data):\n",
    "    '''Input array and calculate standard error'''\n",
    "    N_bins = np.shape(mc_data)[0]\n",
    "    std_error = np.std(mc_data)/np.sqrt(N_bins)\n",
    "    \n",
    "    return std_error\n",
    "\n",
    "def get_binned_data(mc_data):\n",
    "    '''Return neighbor averaged data.'''\n",
    "    N_bins = np.shape(mc_data)[0]\n",
    "    start_bin = N_bins % 2\n",
    "    binned_mc_data = 0.5*(mc_data[start_bin::2]+mc_data[start_bin+1::2]) #Averages (A0,A1), (A2,A3), + ... A0 ignored if odd data\n",
    "\n",
    "    return binned_mc_data\n",
    "\n",
    "def get_autocorrelation_time(error_data):\n",
    "    '''Given an array of standard errors, calculates autocorrelation time'''\n",
    "    print(error_data[0],error_data[-2])\n",
    "    autocorr_time = 0.5*((error_data[-2]/error_data[0])**2 - 1)\n",
    "    return autocorr_time"
   ]
  },
  {
   "cell_type": "code",
   "execution_count": 217,
   "metadata": {},
   "outputs": [
    {
     "name": "stdout",
     "output_type": "stream",
     "text": [
      "4351\n",
      "2175\n",
      "1087\n",
      "543\n",
      "271\n",
      "135\n",
      "67\n"
     ]
    }
   ],
   "source": [
    "#Load data\n",
    "\n",
    "# Decide which U,mu files to evaluate\n",
    "U_str = \"0.0000\"\n",
    "mu_str = \"0.0000\"\n",
    "\n",
    "kinetic_file_name = \"../../Data/kinetic_4_4_\"+U_str+\"_\"+mu_str+\"_1.0000_0.0900_1.0000_500000.dat\"\n",
    "diagonal_file_name = \"../../Data/diagonal_4_4_\"+U_str+\"_\"+mu_str+\"_1.0000_0.0900_1.0000_500000.dat\"\n",
    "kinetic_data = np.loadtxt(kinetic_file_name)\n",
    "diagonal_data = np.loadtxt(diagonal_file_name)\n",
    "\n",
    "# Calculate total ground state energy at each U/t\n",
    "total_data = kinetic_data + diagonal_data\n",
    "\n",
    "#Set from where to start the data depending on equilibration time\n",
    "equil_time = 0.5 #Set the percentage of unequilibrated data to throw away\n",
    "begin_data = int(np.shape(total_data)[0]*equil_time)\n",
    "total_data = total_data[begin_data:]\n",
    "\n",
    "#Extract BH and simulation parameters from file name\n",
    "L,N,U,mu,t,eta,beta,mc_steps = kinetic_file_name.split(\"_\")[1:]\n",
    "mc_steps = mc_steps.split(\".\")[0] # get rid of extension\n",
    "L,N,U,mu,t,eta,beta,mc_steps = int(L),int(N),float(U),float(mu),float(t),float(eta),float(beta),int(mc_steps)\n",
    "\n",
    "#Determine max bin level\n",
    "max_bin_level = int(np.log2(np.shape(total_data)[0]))\n",
    "min_bin = 40\n",
    "\n",
    "#Initialize list to save standard error\n",
    "std_errors = []\n",
    "\n",
    "#Binning loop\n",
    "binned_data = np.copy(total_data)\n",
    "for i in range(max_bin_level):\n",
    "    print(np.shape(binned_data)[0])\n",
    "    std_errors.append(get_std_error(binned_data))   \n",
    "    if np.shape(binned_data)[0]/2 <= min_bin: break\n",
    "    binned_data = get_binned_data(binned_data)\n",
    "\n",
    "#print(\"<E_gs>: (Raw) %.12f (Binned) %.12f\"%(np.mean(original_data),np.mean(binned_data)))\n",
    "\n",
    "#Format the data file\n",
    "std_errors = np.array(std_errors)\n",
    "with open(\"egserr_%i_%i_%.4f_%.4f_%.4f_%.4f_%.4f_%i.dat\"%(L,N,U,mu,t,eta,beta,mc_steps),\"w+\") as data:\n",
    "    np.savetxt(data,std_errors,delimiter=\" \",fmt=\"%.16f\",header=\"MC_step <E> // BH Parameters: L=%d,N=%d,U=%.8f,mu=%.8f,t=%.4f,eta=%.8f,beta=%.4f,MC_steps=%i\"%(L,N,U,mu,t,eta,beta,mc_steps))\n",
    "    \n",
    "    "
   ]
  },
  {
   "cell_type": "markdown",
   "metadata": {},
   "source": [
    "### Generate bin plot of ground state energy"
   ]
  },
  {
   "cell_type": "code",
   "execution_count": 218,
   "metadata": {},
   "outputs": [
    {
     "data": {
      "image/png": "[encoded data removed]",
      "text/plain": [
       "<Figure size 432x288 with 1 Axes>"
      ]
     },
     "metadata": {
      "needs_background": "light"
     },
     "output_type": "display_data"
    }
   ],
   "source": [
    "# Load egs vs bin level data\n",
    "data = np.loadtxt(\"egserr_4_4_\"+U_str+\"_\"+mu_str+\"_1.0000_0.0900_1.0000_500000.dat\")\n",
    "\n",
    "#Determine the number of bin levels\n",
    "bin_levels = [float(i) for i in range(np.size(data))]\n",
    "\n",
    "#Plot\n",
    "fig, ax1 = plt.subplots()\n",
    "ax1.plot(bin_levels,data,'-',color='lightskyblue',label='9.9763')\n",
    "ax1.plot(bin_levels,data,'o',color='steelblue',label='9.9763')\n",
    "#ax1.axhline(y=-1.71173196633913,linewidth=1,color=\"#cccccc\",zorder=0)\n",
    "#ax1.text(1.5,-0.4,r'Exact Egs: $-1.71173196633913$')\n",
    "ax1.set_ylabel(r\"$Std. Error$\")\n",
    "ax1.set_xlabel(r\"$Bin Level$\")\n",
    "#ax1.set_xlim(data00[:,0][0],data00[:,0][325])\n",
    "#ax1.set_xlim(data16b[:,0][0],data16b[:,0][-1])\n",
    "#ax1.set_ylim(-2,6)\n",
    "#plt.legend(ncol=2,title=r\"$U$\")\n",
    "\n",
    "plt.savefig(\"egserr_%i_%i_%.4f_%.4f_%.4f_%.4f_%.4f_%i.pdf\"%(L,N,U,mu,t,eta,beta,mc_steps))"
   ]
  },
  {
   "cell_type": "code",
   "execution_count": 219,
   "metadata": {},
   "outputs": [
    {
     "name": "stdout",
     "output_type": "stream",
     "text": [
      "The std. error is 0.1144004301690445\n"
     ]
    }
   ],
   "source": [
    "# Print the standard error\n",
    "print(\"The std. error is\",max(data))"
   ]
  },
  {
   "cell_type": "code",
   "execution_count": null,
   "metadata": {},
   "outputs": [],
   "source": []
  },
  {
   "cell_type": "code",
   "execution_count": null,
   "metadata": {},
   "outputs": [],
   "source": []
  },
  {
   "cell_type": "code",
   "execution_count": null,
   "metadata": {},
   "outputs": [],
   "source": []
  }
 ],
 "metadata": {
  "kernelspec": {
   "display_name": "Python 3",
   "language": "python",
   "name": "python3"
  },
  "language_info": {
   "codemirror_mode": {
    "name": "ipython",
    "version": 3
   },
   "file_extension": ".py",
   "mimetype": "text/x-python",
   "name": "python",
   "nbconvert_exporter": "python",
   "pygments_lexer": "ipython3",
   "version": "3.7.3"
  }
 },
 "nbformat": 4,
 "nbformat_minor": 4
}
