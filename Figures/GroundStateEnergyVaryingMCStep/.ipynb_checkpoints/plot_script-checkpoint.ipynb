{
 "cells": [
  {
   "cell_type": "markdown",
   "metadata": {},
   "source": [
    "### Ground state energy as a function of Monte Carlo step"
   ]
  },
  {
   "cell_type": "code",
   "execution_count": 136,
   "metadata": {},
   "outputs": [],
   "source": [
    "import numpy as np\n",
    "import matplotlib.pyplot as plt"
   ]
  },
  {
   "cell_type": "markdown",
   "metadata": {},
   "source": [
    "### U/t = 0"
   ]
  },
  {
   "cell_type": "code",
   "execution_count": 137,
   "metadata": {},
   "outputs": [],
   "source": [
    "#Load data\n",
    "kinetic_file_name = \"../../Data/kinetic_4_4_0.0000_0.0000_1.0000_0.0900_1.0000_500000.dat\"\n",
    "diagonal_file_name = \"../../Data/diagonal_4_4_0.0000_0.0000_1.0000_0.0900_1.0000_500000.dat\"\n",
    "kinetic_data = np.loadtxt(kinetic_file_name)\n",
    "diagonal_data = np.loadtxt(diagonal_file_name)\n",
    "\n",
    "# Calculate total ground state energy at each sample\n",
    "total_data = kinetic_data + diagonal_data\n",
    "\n",
    "#Extract BH and simulation parameters from file name\n",
    "L,N,U,mu,t,eta,beta,mc_steps = kinetic_file_name.split(\"_\")[1:]\n",
    "mc_steps = mc_steps.split(\".\")[0] # get rid of extension\n",
    "L,N,U,mu,t,eta,beta,mc_steps = int(L),int(N),float(U),float(mu),float(t),float(eta),float(beta),int(mc_steps) #Promote from str to int OR float\n",
    "\n",
    "# Calculate ground state energy running average\n",
    "egs_running = np.cumsum(total_data)\n",
    "for i in range(len(egs_running)):\n",
    "    egs_running[i] /= (i+1) \n",
    "    \n",
    "# Set from what values to start plotting due to equilibration\n",
    "samples = len(total_data)\n",
    "mc_fraction = 0.05\n",
    "start = int(round(mc_fraction*samples)) # start-of-data idx\n",
    "\n",
    "# Plot every other dx value\n",
    "percent = 0.001\n",
    "dx = int(1/percent)\n",
    "\n",
    "# Set exact value obtained from Exact Diagonalization\n",
    "exact = -8.000000000000002"
   ]
  },
  {
   "cell_type": "code",
   "execution_count": 138,
   "metadata": {},
   "outputs": [
    {
     "data": {
      "image/png": "[encoded data removed]",
      "text/plain": [
       "<Figure size 432x288 with 1 Axes>"
      ]
     },
     "metadata": {
      "needs_background": "light"
     },
     "output_type": "display_data"
    }
   ],
   "source": [
    "#Plot\n",
    "fig, ax1 = plt.subplots()\n",
    "ax1.plot(egs_running[start:][::dx],'o',color='lightskyblue')\n",
    "ax1.axhline(y=exact,linewidth=1,color=\"#555555\",zorder=2)\n",
    "ax1.set_ylabel(r\"$<E>$\")\n",
    "ax1.set_xlabel(r\"$U/t$\")\n",
    "ax1.tick_params(axis='both',which='both',right=False,top=False,labelright=False,direction='in')\n",
    "plt.savefig(\"egsMCStep_%i_%i_%.4f_%.4f_%.4f_%.4f_%.4f_%i.pdf\"%(L,N,U,mu,t,eta,beta,mc_steps))"
   ]
  },
  {
   "cell_type": "markdown",
   "metadata": {},
   "source": [
    "### U/t = 0.5"
   ]
  },
  {
   "cell_type": "code",
   "execution_count": 139,
   "metadata": {},
   "outputs": [],
   "source": [
    "#Load data\n",
    "kinetic_file_name = \"../../Data/kinetic_4_4_0.5000_0.0000_1.0000_0.0900_1.0000_500000.dat\"\n",
    "diagonal_file_name = \"../../Data/diagonal_4_4_0.5000_0.0000_1.0000_0.0900_1.0000_500000.dat\"\n",
    "kinetic_data = np.loadtxt(kinetic_file_name)\n",
    "diagonal_data = np.loadtxt(diagonal_file_name)\n",
    "\n",
    "# Calculate total ground state energy at each sample\n",
    "total_data = kinetic_data + diagonal_data\n",
    "\n",
    "#Extract BH and simulation parameters from file name\n",
    "L,N,U,mu,t,eta,beta,mc_steps = kinetic_file_name.split(\"_\")[1:]\n",
    "mc_steps = mc_steps.split(\".\")[0] # get rid of extension\n",
    "L,N,U,mu,t,eta,beta,mc_steps = int(L),int(N),float(U),float(mu),float(t),float(eta),float(beta),int(mc_steps) #Promote from str to int OR float\n",
    "\n",
    "# Calculate ground state energy running average\n",
    "egs_running = np.cumsum(total_data)\n",
    "for i in range(len(egs_running)):\n",
    "    egs_running[i] /= (i+1) \n",
    "    \n",
    "# Set from what values to start plotting due to equilibration\n",
    "samples = len(total_data)\n",
    "mc_fraction = 0.05\n",
    "start = int(round(mc_fraction*samples)) # start-of-data idx\n",
    "\n",
    "# Plot every other dx value\n",
    "percent = 0.001\n",
    "dx = int(1/percent)\n",
    "\n",
    "# Set exact value obtained from Exact Diagonalization\n",
    "exact = -7.300824118219229"
   ]
  },
  {
   "cell_type": "code",
   "execution_count": 140,
   "metadata": {},
   "outputs": [
    {
     "data": {
      "image/png": "[encoded data removed]",
      "text/plain": [
       "<Figure size 432x288 with 1 Axes>"
      ]
     },
     "metadata": {
      "needs_background": "light"
     },
     "output_type": "display_data"
    }
   ],
   "source": [
    "#Plot\n",
    "fig, ax1 = plt.subplots()\n",
    "ax1.plot(egs_running[start:][::dx],'o',color='lightskyblue')\n",
    "ax1.axhline(y=exact,linewidth=1,color=\"#555555\",zorder=2)\n",
    "ax1.set_ylabel(r\"$<E>$\")\n",
    "ax1.set_xlabel(r\"$U/t$\")\n",
    "ax1.tick_params(axis='both',which='both',right=False,top=False,labelright=False,direction='in')\n",
    "plt.savefig(\"egsMCStep_%i_%i_%.4f_%.4f_%.4f_%.4f_%.4f_%i.pdf\"%(L,N,U,mu,t,eta,beta,mc_steps))"
   ]
  },
  {
   "cell_type": "markdown",
   "metadata": {},
   "source": [
    "### U/t = 1.0"
   ]
  },
  {
   "cell_type": "code",
   "execution_count": 141,
   "metadata": {},
   "outputs": [],
   "source": [
    "#Load data\n",
    "kinetic_file_name = \"../../Data/kinetic_4_4_1.0000_0.0000_1.0000_0.0900_1.0000_500000.dat\"\n",
    "diagonal_file_name = \"../../Data/diagonal_4_4_1.0000_0.0000_1.0000_0.0900_1.0000_500000.dat\"\n",
    "kinetic_data = np.loadtxt(kinetic_file_name)\n",
    "diagonal_data = np.loadtxt(diagonal_file_name)\n",
    "\n",
    "# Calculate total ground state energy at each sample\n",
    "total_data = kinetic_data + diagonal_data\n",
    "\n",
    "#Extract BH and simulation parameters from file name\n",
    "L,N,U,mu,t,eta,beta,mc_steps = kinetic_file_name.split(\"_\")[1:]\n",
    "mc_steps = mc_steps.split(\".\")[0] # get rid of extension\n",
    "L,N,U,mu,t,eta,beta,mc_steps = int(L),int(N),float(U),float(mu),float(t),float(eta),float(beta),int(mc_steps) #Promote from str to int OR float\n",
    "\n",
    "# Calculate ground state energy running average\n",
    "egs_running = np.cumsum(total_data)\n",
    "for i in range(len(egs_running)):\n",
    "    egs_running[i] /= (i+1) \n",
    "    \n",
    "# Set from what values to start plotting due to equilibration\n",
    "samples = len(total_data)\n",
    "mc_fraction = 0.05\n",
    "start = int(round(mc_fraction*samples)) # start-of-data idx\n",
    "\n",
    "# Plot every other dx value\n",
    "percent = 0.001\n",
    "dx = int(1/percent)\n",
    "\n",
    "# Set exact value obtained from Exact Diagonalization\n",
    "exact = -6.681733497641256"
   ]
  },
  {
   "cell_type": "code",
   "execution_count": 142,
   "metadata": {},
   "outputs": [
    {
     "data": {
      "image/png": "[encoded data removed]",
      "text/plain": [
       "<Figure size 432x288 with 1 Axes>"
      ]
     },
     "metadata": {
      "needs_background": "light"
     },
     "output_type": "display_data"
    }
   ],
   "source": [
    "#Plot\n",
    "fig, ax1 = plt.subplots()\n",
    "ax1.plot(egs_running[start:][::dx],'o',color='lightskyblue')\n",
    "ax1.axhline(y=exact,linewidth=1,color=\"#555555\",zorder=2)\n",
    "ax1.set_ylabel(r\"$<E>$\")\n",
    "ax1.set_xlabel(r\"$U/t$\")\n",
    "ax1.tick_params(axis='both',which='both',right=False,top=False,labelright=False,direction='in')\n",
    "plt.savefig(\"egsMCStep_%i_%i_%.4f_%.4f_%.4f_%.4f_%.4f_%i.pdf\"%(L,N,U,mu,t,eta,beta,mc_steps))"
   ]
  },
  {
   "cell_type": "markdown",
   "metadata": {},
   "source": [
    "### U/t = 2.0"
   ]
  },
  {
   "cell_type": "code",
   "execution_count": 143,
   "metadata": {},
   "outputs": [],
   "source": [
    "#Load data\n",
    "kinetic_file_name = \"../../Data/kinetic_4_4_2.0000_0.0000_1.0000_0.0900_1.0000_500000.dat\"\n",
    "diagonal_file_name = \"../../Data/diagonal_4_4_2.0000_0.0000_1.0000_0.0900_1.0000_500000.dat\"\n",
    "kinetic_data = np.loadtxt(kinetic_file_name)\n",
    "diagonal_data = np.loadtxt(diagonal_file_name)\n",
    "\n",
    "# Calculate total ground state energy at each sample\n",
    "total_data = kinetic_data + diagonal_data\n",
    "\n",
    "#Extract BH and simulation parameters from file name\n",
    "L,N,U,mu,t,eta,beta,mc_steps = kinetic_file_name.split(\"_\")[1:]\n",
    "mc_steps = mc_steps.split(\".\")[0] # get rid of extension\n",
    "L,N,U,mu,t,eta,beta,mc_steps = int(L),int(N),float(U),float(mu),float(t),float(eta),float(beta),int(mc_steps) #Promote from str to int OR float\n",
    "\n",
    "# Calculate ground state energy running average\n",
    "egs_running = np.cumsum(total_data)\n",
    "for i in range(len(egs_running)):\n",
    "    egs_running[i] /= (i+1) \n",
    "    \n",
    "# Set from what values to start plotting due to equilibration\n",
    "samples = len(total_data)\n",
    "mc_fraction = 0.05\n",
    "start = int(round(mc_fraction*samples)) # start-of-data idx\n",
    "\n",
    "# Plot every other dx value\n",
    "percent = 0.001\n",
    "dx = int(1/percent)\n",
    "\n",
    "# Set exact value obtained from Exact Diagonalization\n",
    "exact = -5.613864939117682"
   ]
  },
  {
   "cell_type": "code",
   "execution_count": 144,
   "metadata": {},
   "outputs": [
    {
     "data": {
      "image/png": "[encoded data removed]",
      "text/plain": [
       "<Figure size 432x288 with 1 Axes>"
      ]
     },
     "metadata": {
      "needs_background": "light"
     },
     "output_type": "display_data"
    }
   ],
   "source": [
    "#Plot\n",
    "fig, ax1 = plt.subplots()\n",
    "ax1.plot(egs_running[start:][::dx],'o',color='lightskyblue')\n",
    "ax1.axhline(y=exact,linewidth=1,color=\"#555555\",zorder=2)\n",
    "ax1.set_ylabel(r\"$<E>$\")\n",
    "ax1.set_xlabel(r\"$U/t$\")\n",
    "ax1.tick_params(axis='both',which='both',right=False,top=False,labelright=False,direction='in')\n",
    "plt.savefig(\"egsMCStep_%i_%i_%.4f_%.4f_%.4f_%.4f_%.4f_%i.pdf\"%(L,N,U,mu,t,eta,beta,mc_steps))"
   ]
  },
  {
   "cell_type": "markdown",
   "metadata": {},
   "source": [
    "### U/t = 5.0"
   ]
  },
  {
   "cell_type": "code",
   "execution_count": 145,
   "metadata": {},
   "outputs": [],
   "source": [
    "#Load data\n",
    "kinetic_file_name = \"../../Data/kinetic_4_4_5.0000_0.0000_1.0000_0.0900_1.0000_500000.dat\"\n",
    "diagonal_file_name = \"../../Data/diagonal_4_4_5.0000_0.0000_1.0000_0.0900_1.0000_500000.dat\"\n",
    "kinetic_data = np.loadtxt(kinetic_file_name)\n",
    "diagonal_data = np.loadtxt(diagonal_file_name)\n",
    "\n",
    "# Calculate total ground state energy at each sample\n",
    "total_data = kinetic_data + diagonal_data\n",
    "\n",
    "#Extract BH and simulation parameters from file name\n",
    "L,N,U,mu,t,eta,beta,mc_steps = kinetic_file_name.split(\"_\")[1:]\n",
    "mc_steps = mc_steps.split(\".\")[0] # get rid of extension\n",
    "L,N,U,mu,t,eta,beta,mc_steps = int(L),int(N),float(U),float(mu),float(t),float(eta),float(beta),int(mc_steps) #Promote from str to int OR float\n",
    "\n",
    "# Calculate ground state energy running average\n",
    "egs_running = np.cumsum(total_data)\n",
    "for i in range(len(egs_running)):\n",
    "    egs_running[i] /= (i+1) \n",
    "    \n",
    "# Set from what values to start plotting due to equilibration\n",
    "samples = len(total_data)\n",
    "mc_fraction = 0.05\n",
    "start = int(round(mc_fraction*samples)) # start-of-data idx\n",
    "\n",
    "# Plot every other dx value\n",
    "percent = 0.001\n",
    "dx = int(1/percent)\n",
    "\n",
    "# Set exact value obtained from Exact Diagonalization\n",
    "exact = -3.3642622295673523"
   ]
  },
  {
   "cell_type": "code",
   "execution_count": 146,
   "metadata": {},
   "outputs": [
    {
     "data": {
      "image/png": "[encoded data removed]",
      "text/plain": [
       "<Figure size 432x288 with 1 Axes>"
      ]
     },
     "metadata": {
      "needs_background": "light"
     },
     "output_type": "display_data"
    }
   ],
   "source": [
    "#Plot\n",
    "fig, ax1 = plt.subplots()\n",
    "ax1.plot(egs_running[start:][::dx],'o',color='lightskyblue')\n",
    "ax1.axhline(y=exact,linewidth=1,color=\"#555555\",zorder=2)\n",
    "ax1.set_ylabel(r\"$<E>$\")\n",
    "ax1.set_xlabel(r\"$U/t$\")\n",
    "ax1.tick_params(axis='both',which='both',right=False,top=False,labelright=False,direction='in')\n",
    "plt.savefig(\"egsMCStep_%i_%i_%.4f_%.4f_%.4f_%.4f_%.4f_%i.pdf\"%(L,N,U,mu,t,eta,beta,mc_steps))"
   ]
  },
  {
   "cell_type": "markdown",
   "metadata": {},
   "source": [
    "### U/t = 6.0"
   ]
  },
  {
   "cell_type": "code",
   "execution_count": 147,
   "metadata": {},
   "outputs": [],
   "source": [
    "#Load data\n",
    "kinetic_file_name = \"../../Data/kinetic_4_4_7.0000_0.0000_1.0000_0.0900_1.0000_500000.dat\"\n",
    "diagonal_file_name = \"../../Data/diagonal_4_4_7.0000_0.0000_1.0000_0.0900_1.0000_500000.dat\"\n",
    "kinetic_data = np.loadtxt(kinetic_file_name)\n",
    "diagonal_data = np.loadtxt(diagonal_file_name)\n",
    "\n",
    "# Calculate total ground state energy at each sample\n",
    "total_data = kinetic_data + diagonal_data\n",
    "\n",
    "#Extract BH and simulation parameters from file name\n",
    "L,N,U,mu,t,eta,beta,mc_steps = kinetic_file_name.split(\"_\")[1:]\n",
    "mc_steps = mc_steps.split(\".\")[0] # get rid of extension\n",
    "L,N,U,mu,t,eta,beta,mc_steps = int(L),int(N),float(U),float(mu),float(t),float(eta),float(beta),int(mc_steps) #Promote from str to int OR float\n",
    "\n",
    "# Calculate ground state energy running average\n",
    "egs_running = np.cumsum(total_data)\n",
    "for i in range(len(egs_running)):\n",
    "    egs_running[i] /= (i+1) \n",
    "    \n",
    "# Set from what values to start plotting due to equilibration\n",
    "samples = len(total_data)\n",
    "mc_fraction = 0.05\n",
    "start = int(round(mc_fraction*samples)) # start-of-data idx\n",
    "\n",
    "# Plot every other dx value\n",
    "percent = 0.001\n",
    "dx = int(1/percent)\n",
    "\n",
    "# Set exact value obtained from Exact Diagonalization\n",
    "exact = -2.47505670500198"
   ]
  },
  {
   "cell_type": "code",
   "execution_count": 148,
   "metadata": {},
   "outputs": [
    {
     "data": {
      "image/png": "[encoded data removed]",
      "text/plain": [
       "<Figure size 432x288 with 1 Axes>"
      ]
     },
     "metadata": {
      "needs_background": "light"
     },
     "output_type": "display_data"
    }
   ],
   "source": [
    "#Plot\n",
    "fig, ax1 = plt.subplots()\n",
    "ax1.plot(egs_running[start:][::dx],'o',color='lightskyblue')\n",
    "ax1.axhline(y=exact,linewidth=1,color=\"#555555\",zorder=2)\n",
    "ax1.set_ylabel(r\"$<E>$\")\n",
    "ax1.set_xlabel(r\"$U/t$\")\n",
    "ax1.tick_params(axis='both',which='both',right=False,top=False,labelright=False,direction='in')\n",
    "plt.savefig(\"egsMCStep_%i_%i_%.4f_%.4f_%.4f_%.4f_%.4f_%i.pdf\"%(L,N,U,mu,t,eta,beta,mc_steps))"
   ]
  },
  {
   "cell_type": "markdown",
   "metadata": {},
   "source": [
    "### U/t = 7.5"
   ]
  },
  {
   "cell_type": "code",
   "execution_count": 149,
   "metadata": {},
   "outputs": [],
   "source": [
    "#Load data\n",
    "kinetic_file_name = \"../../Data/kinetic_4_4_7.5000_0.0000_1.0000_0.0900_1.0000_500000.dat\"\n",
    "diagonal_file_name = \"../../Data/diagonal_4_4_7.5000_0.0000_1.0000_0.0900_1.0000_500000.dat\"\n",
    "kinetic_data = np.loadtxt(kinetic_file_name)\n",
    "diagonal_data = np.loadtxt(diagonal_file_name)\n",
    "\n",
    "# Calculate total ground state energy at each sample\n",
    "total_data = kinetic_data + diagonal_data\n",
    "\n",
    "#Extract BH and simulation parameters from file name\n",
    "L,N,U,mu,t,eta,beta,mc_steps = kinetic_file_name.split(\"_\")[1:]\n",
    "mc_steps = mc_steps.split(\".\")[0] # get rid of extension\n",
    "L,N,U,mu,t,eta,beta,mc_steps = int(L),int(N),float(U),float(mu),float(t),float(eta),float(beta),int(mc_steps) #Promote from str to int OR float\n",
    "\n",
    "# Calculate ground state energy running average\n",
    "egs_running = np.cumsum(total_data)\n",
    "for i in range(len(egs_running)):\n",
    "    egs_running[i] /= (i+1) \n",
    "    \n",
    "# Set from what values to start plotting due to equilibration\n",
    "samples = len(total_data)\n",
    "mc_fraction = 0.05\n",
    "start = int(round(mc_fraction*samples)) # start-of-data idx\n",
    "\n",
    "# Plot every other dx value\n",
    "percent = 0.001\n",
    "dx = int(1/percent)\n",
    "\n",
    "# Set exact value obtained from Exact Diagonalization\n",
    "exact = -2.3091370855053066"
   ]
  },
  {
   "cell_type": "code",
   "execution_count": 150,
   "metadata": {},
   "outputs": [
    {
     "data": {
      "image/png": "[encoded data removed]",
      "text/plain": [
       "<Figure size 432x288 with 1 Axes>"
      ]
     },
     "metadata": {
      "needs_background": "light"
     },
     "output_type": "display_data"
    }
   ],
   "source": [
    "#Plot\n",
    "fig, ax1 = plt.subplots()\n",
    "ax1.plot(egs_running[start:][::dx],'o',color='lightskyblue')\n",
    "ax1.axhline(y=exact,linewidth=1,color=\"#555555\",zorder=2)\n",
    "ax1.set_ylabel(r\"$<E>$\")\n",
    "ax1.set_xlabel(r\"$U/t$\")\n",
    "ax1.tick_params(axis='both',which='both',right=False,top=False,labelright=False,direction='in')\n",
    "plt.savefig(\"egsMCStep_%i_%i_%.4f_%.4f_%.4f_%.4f_%.4f_%i.pdf\"%(L,N,U,mu,t,eta,beta,mc_steps))"
   ]
  },
  {
   "cell_type": "markdown",
   "metadata": {},
   "source": [
    "### U/t = 10.0"
   ]
  },
  {
   "cell_type": "code",
   "execution_count": 154,
   "metadata": {},
   "outputs": [],
   "source": [
    "#Load data\n",
    "kinetic_file_name = \"../../Data/kinetic_4_4_10.0000_0.0000_1.0000_0.0900_1.0000_500000.dat\"\n",
    "diagonal_file_name = \"../../Data/diagonal_4_4_10.0000_0.0000_1.0000_0.0900_1.0000_500000.dat\"\n",
    "kinetic_data = np.loadtxt(kinetic_file_name)\n",
    "diagonal_data = np.loadtxt(diagonal_file_name)\n",
    "\n",
    "# Calculate total ground state energy at each sample\n",
    "total_data = kinetic_data + diagonal_data\n",
    "\n",
    "#Extract BH and simulation parameters from file name\n",
    "L,N,U,mu,t,eta,beta,mc_steps = kinetic_file_name.split(\"_\")[1:]\n",
    "mc_steps = mc_steps.split(\".\")[0] # get rid of extension\n",
    "L,N,U,mu,t,eta,beta,mc_steps = int(L),int(N),float(U),float(mu),float(t),float(eta),float(beta),int(mc_steps) #Promote from str to int OR float\n",
    "\n",
    "# Calculate ground state energy running average\n",
    "egs_running = np.cumsum(total_data)\n",
    "for i in range(len(egs_running)):\n",
    "    egs_running[i] /= (i+1) \n",
    "    \n",
    "# Set from what values to start plotting due to equilibration\n",
    "samples = len(total_data)\n",
    "mc_fraction = 0.05\n",
    "start = int(round(mc_fraction*samples)) # start-of-data idx\n",
    "\n",
    "# Plot every other dx value\n",
    "percent = 0.001\n",
    "dx = int(1/percent)\n",
    "\n",
    "# Set exact value obtained from Exact Diagonalization\n",
    "exact = -1.7073975372483998\n",
    "#exact = -3.103926559594601 # For 3 particles\n",
    "#"
   ]
  },
  {
   "cell_type": "code",
   "execution_count": 155,
   "metadata": {},
   "outputs": [
    {
     "data": {
      "image/png": "[encoded data removed]",
      "text/plain": [
       "<Figure size 432x288 with 1 Axes>"
      ]
     },
     "metadata": {
      "needs_background": "light"
     },
     "output_type": "display_data"
    }
   ],
   "source": [
    "#Plot\n",
    "fig, ax1 = plt.subplots()\n",
    "ax1.plot(egs_running[start:][::dx],'o',color='lightskyblue')\n",
    "ax1.axhline(y=exact,linewidth=1,color=\"#555555\",zorder=2)\n",
    "ax1.set_ylabel(r\"$<E>$\")\n",
    "ax1.set_xlabel(r\"$U/t$\")\n",
    "ax1.tick_params(axis='both',which='both',right=False,top=False,labelright=False,direction='in')\n",
    "plt.savefig(\"egsMCStep_%i_%i_%.4f_%.4f_%.4f_%.4f_%.4f_%i.pdf\"%(L,N,U,mu,t,eta,beta,mc_steps))"
   ]
  },
  {
   "cell_type": "code",
   "execution_count": 153,
   "metadata": {},
   "outputs": [
    {
     "data": {
      "text/plain": [
       "array([ 1,  3,  6, 10, 15])"
      ]
     },
     "execution_count": 153,
     "metadata": {},
     "output_type": "execute_result"
    }
   ],
   "source": [
    "a = np.array([1,2,3,4,5])\n",
    "np.cumsum(a)"
   ]
  },
  {
   "cell_type": "code",
   "execution_count": null,
   "metadata": {},
   "outputs": [],
   "source": []
  },
  {
   "cell_type": "code",
   "execution_count": null,
   "metadata": {},
   "outputs": [],
   "source": []
  }
 ],
 "metadata": {
  "kernelspec": {
   "display_name": "Python 3",
   "language": "python",
   "name": "python3"
  },
  "language_info": {
   "codemirror_mode": {
    "name": "ipython",
    "version": 3
   },
   "file_extension": ".py",
   "mimetype": "text/x-python",
   "name": "python",
   "nbconvert_exporter": "python",
   "pygments_lexer": "ipython3",
   "version": "3.7.3"
  }
 },
 "nbformat": 4,
 "nbformat_minor": 4
}
