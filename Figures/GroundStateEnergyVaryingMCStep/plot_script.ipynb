{
 "cells": [
  {
   "cell_type": "markdown",
   "metadata": {},
   "source": [
    "### Ground state energy as a function of Monte Carlo step"
   ]
  },
  {
   "cell_type": "code",
   "execution_count": 12,
   "metadata": {},
   "outputs": [],
   "source": [
    "import numpy as np\n",
    "import matplotlib.pyplot as plt"
   ]
  },
  {
   "cell_type": "markdown",
   "metadata": {},
   "source": [
    "### U/t=16.0, $\\mu=8.0$"
   ]
  },
  {
   "cell_type": "code",
   "execution_count": 13,
   "metadata": {},
   "outputs": [],
   "source": [
    "#Load data\n",
    "kinetic_file_name = \"../../Data/kinetic_4_4_5.0000_2.5000_1.0000_0.0900_10.0000_250000.dat\"\n",
    "diagonal_file_name = \"../../Data/diagonal_4_4_5.0000_2.5000_1.0000_0.0900_10.0000_250000.dat\"\n",
    "kinetic_data = np.loadtxt(kinetic_file_name)\n",
    "diagonal_data = np.loadtxt(diagonal_file_name)\n",
    "\n",
    "# Calculate total ground state energy at each U/t\n",
    "total_data = kinetic_data + diagonal_data\n",
    "\n",
    "#Extract BH and simulation parameters from file name\n",
    "L,N,U,mu,t,eta,beta,mc_steps = kinetic_file_name.split(\"_\")[1:]\n",
    "mc_steps = mc_steps.split(\".\")[0] # get rid of extension\n",
    "L,N,U,mu,t,eta,beta,mc_steps = int(L),int(N),float(U),float(mu),float(t),float(eta),float(beta),int(mc_steps) #Promote from str to int OR float\n",
    "\n",
    "# Calculate ground state energy running average\n",
    "egs_running = np.cumsum(total_data)\n",
    "for i in range(len(egs_running)):\n",
    "    egs_running[i] /= (i+1) \n",
    "    \n",
    "# Set from what values to start plotting due to equilibration\n",
    "samples = len(total_data)\n",
    "mc_fraction = 0.00\n",
    "start = int(round(mc_fraction*samples)) # start-of-data idx\n",
    "\n",
    "# Plot every other dx value\n",
    "percent = 1\n",
    "dx = int(1/percent)\n",
    "\n",
    "# Set exact value obtained from Exact Diagonalization\n",
    "exact = -3.364262229567352\n",
    "\n",
    "#print(\"<E>/t: \",np.mean(total_data[start:]))"
   ]
  },
  {
   "cell_type": "code",
   "execution_count": 14,
   "metadata": {},
   "outputs": [
    {
     "data": {
      "image/png": "[encoded data removed]",
      "text/plain": [
       "<Figure size 432x288 with 1 Axes>"
      ]
     },
     "metadata": {
      "needs_background": "light"
     },
     "output_type": "display_data"
    }
   ],
   "source": [
    "#Plot\n",
    "fig, ax1 = plt.subplots()\n",
    "ax1.plot(egs_running[start:][::dx],'o',color='lightskyblue')\n",
    "ax1.axhline(y=exact,linewidth=1,color=\"#555555\",zorder=2)\n",
    "ax1.set_ylabel(r\"$<E>/t$\")\n",
    "ax1.set_xlabel(r\"$MC_{step}$\")\n",
    "ax1.tick_params(axis='both',which='both',right=False,top=False,labelright=False,direction='in')\n",
    "plt.savefig(\"egsMCStep_%i_%i_%.4f_%.4f_%.4f_%.4f_%.4f_%i.pdf\"%(L,N,U,mu,t,eta,beta,mc_steps))"
   ]
  },
  {
   "cell_type": "markdown",
   "metadata": {},
   "source": [
    "### U/t=15.0, $\\mu=7.5$"
   ]
  },
  {
   "cell_type": "code",
   "execution_count": 506,
   "metadata": {},
   "outputs": [
    {
     "name": "stdout",
     "output_type": "stream",
     "text": [
      "<E>/t:  -1.322689337567424\n"
     ]
    }
   ],
   "source": [
    "#Load data\n",
    "kinetic_file_name = \"../../Data/kinetic_4_4_15.0000_7.5000_1.0000_0.0900_1.0000_500000.dat\"\n",
    "diagonal_file_name = \"../../Data/diagonal_4_4_15.0000_7.5000_1.0000_0.0900_1.0000_500000.dat\"\n",
    "kinetic_data = np.loadtxt(kinetic_file_name)\n",
    "diagonal_data = np.loadtxt(diagonal_file_name)\n",
    "\n",
    "# Calculate total ground state energy at each U/t\n",
    "total_data = kinetic_data + diagonal_data\n",
    "\n",
    "#Extract BH and simulation parameters from file name\n",
    "L,N,U,mu,t,eta,beta,mc_steps = kinetic_file_name.split(\"_\")[1:]\n",
    "mc_steps = mc_steps.split(\".\")[0] # get rid of extension\n",
    "L,N,U,mu,t,eta,beta,mc_steps = int(L),int(N),float(U),float(mu),float(t),float(eta),float(beta),int(mc_steps) #Promote from str to int OR float\n",
    "\n",
    "# Calculate ground state energy running average\n",
    "egs_running = np.cumsum(total_data)\n",
    "for i in range(len(egs_running)):\n",
    "    egs_running[i] /= (i+1) \n",
    "    \n",
    "# Set from what values to start plotting due to equilibration\n",
    "samples = len(total_data)\n",
    "mc_fraction = 0\n",
    "start = int(round(mc_fraction*samples)) # start-of-data idx\n",
    "\n",
    "# Plot every other dx value\n",
    "percent = 0.002\n",
    "dx = int(1/percent)\n",
    "\n",
    "# Set exact value obtained from Exact Diagonalization\n",
    "exact = -1.7073975372483998\n",
    "\n",
    "print(\"<E>/t: \",np.mean(total_data[start:]))"
   ]
  },
  {
   "cell_type": "code",
   "execution_count": 507,
   "metadata": {},
   "outputs": [
    {
     "data": {
      "image/png": "[encoded data removed]",
      "text/plain": [
       "<Figure size 432x288 with 1 Axes>"
      ]
     },
     "metadata": {
      "needs_background": "light"
     },
     "output_type": "display_data"
    }
   ],
   "source": [
    "#Plot\n",
    "fig, ax1 = plt.subplots()\n",
    "ax1.plot(egs_running[start:][::dx],'o',color='lightskyblue')\n",
    "ax1.axhline(y=exact,linewidth=1,color=\"#555555\",zorder=2)\n",
    "ax1.set_ylabel(r\"$<E>/t$\")\n",
    "ax1.set_xlabel(r\"$MC_{step}$\")\n",
    "ax1.tick_params(axis='both',which='both',right=False,top=False,labelright=False,direction='in')\n",
    "plt.savefig(\"egsMCStep_%i_%i_%.4f_%.4f_%.4f_%.4f_%.4f_%i.pdf\"%(L,N,U,mu,t,eta,beta,mc_steps))"
   ]
  },
  {
   "cell_type": "markdown",
   "metadata": {},
   "source": [
    "### U/t=14.0, $\\mu=7.0$"
   ]
  },
  {
   "cell_type": "code",
   "execution_count": 508,
   "metadata": {},
   "outputs": [
    {
     "name": "stdout",
     "output_type": "stream",
     "text": [
      "<E>/t:  -1.574106044968033\n"
     ]
    }
   ],
   "source": [
    "#Load data\n",
    "kinetic_file_name = \"../../Data/kinetic_4_4_14.0000_7.0000_1.0000_0.0900_1.0000_500000.dat\"\n",
    "diagonal_file_name = \"../../Data/diagonal_4_4_14.0000_7.0000_1.0000_0.0900_1.0000_500000.dat\"\n",
    "kinetic_data = np.loadtxt(kinetic_file_name)\n",
    "diagonal_data = np.loadtxt(diagonal_file_name)\n",
    "\n",
    "# Calculate total ground state energy at each U/t\n",
    "total_data = kinetic_data + diagonal_data\n",
    "\n",
    "#Extract BH and simulation parameters from file name\n",
    "L,N,U,mu,t,eta,beta,mc_steps = kinetic_file_name.split(\"_\")[1:]\n",
    "mc_steps = mc_steps.split(\".\")[0] # get rid of extension\n",
    "L,N,U,mu,t,eta,beta,mc_steps = int(L),int(N),float(U),float(mu),float(t),float(eta),float(beta),int(mc_steps) #Promote from str to int OR float\n",
    "\n",
    "# Calculate ground state energy running average\n",
    "egs_running = np.cumsum(total_data)\n",
    "for i in range(len(egs_running)):\n",
    "    egs_running[i] /= (i+1) \n",
    "    \n",
    "# Set from what values to start plotting due to equilibration\n",
    "samples = len(total_data)\n",
    "mc_fraction = 0\n",
    "start = int(round(mc_fraction*samples)) # start-of-data idx\n",
    "\n",
    "# Plot every other dx value\n",
    "percent = 0.002\n",
    "dx = int(1/percent)\n",
    "\n",
    "# Set exact value obtained from Exact Diagonalization\n",
    "exact = -1.7073975372483998\n",
    "\n",
    "print(\"<E>/t: \",np.mean(total_data[start:]))"
   ]
  },
  {
   "cell_type": "code",
   "execution_count": 509,
   "metadata": {},
   "outputs": [
    {
     "data": {
      "image/png": "[encoded data removed]",
      "text/plain": [
       "<Figure size 432x288 with 1 Axes>"
      ]
     },
     "metadata": {
      "needs_background": "light"
     },
     "output_type": "display_data"
    }
   ],
   "source": [
    "#Plot\n",
    "fig, ax1 = plt.subplots()\n",
    "ax1.plot(egs_running[start:][::dx],'o',color='lightskyblue')\n",
    "ax1.axhline(y=exact,linewidth=1,color=\"#555555\",zorder=2)\n",
    "ax1.set_ylabel(r\"$<E>/t$\")\n",
    "ax1.set_xlabel(r\"$MC_{step}$\")\n",
    "ax1.tick_params(axis='both',which='both',right=False,top=False,labelright=False,direction='in')\n",
    "plt.savefig(\"egsMCStep_%i_%i_%.4f_%.4f_%.4f_%.4f_%.4f_%i.pdf\"%(L,N,U,mu,t,eta,beta,mc_steps))"
   ]
  },
  {
   "cell_type": "markdown",
   "metadata": {},
   "source": [
    "### U/t=13.0, $\\mu=6.5$"
   ]
  },
  {
   "cell_type": "code",
   "execution_count": 510,
   "metadata": {},
   "outputs": [
    {
     "name": "stdout",
     "output_type": "stream",
     "text": [
      "<E>/t:  -1.663957292496421\n"
     ]
    }
   ],
   "source": [
    "#Load data\n",
    "kinetic_file_name = \"../../Data/kinetic_4_4_13.0000_6.5000_1.0000_0.0900_1.0000_500000.dat\"\n",
    "diagonal_file_name = \"../../Data/diagonal_4_4_13.0000_6.5000_1.0000_0.0900_1.0000_500000.dat\"\n",
    "kinetic_data = np.loadtxt(kinetic_file_name)\n",
    "diagonal_data = np.loadtxt(diagonal_file_name)\n",
    "\n",
    "# Calculate total ground state energy at each U/t\n",
    "total_data = kinetic_data + diagonal_data\n",
    "\n",
    "#Extract BH and simulation parameters from file name\n",
    "L,N,U,mu,t,eta,beta,mc_steps = kinetic_file_name.split(\"_\")[1:]\n",
    "mc_steps = mc_steps.split(\".\")[0] # get rid of extension\n",
    "L,N,U,mu,t,eta,beta,mc_steps = int(L),int(N),float(U),float(mu),float(t),float(eta),float(beta),int(mc_steps) #Promote from str to int OR float\n",
    "\n",
    "# Calculate ground state energy running average\n",
    "egs_running = np.cumsum(total_data)\n",
    "for i in range(len(egs_running)):\n",
    "    egs_running[i] /= (i+1) \n",
    "    \n",
    "# Set from what values to start plotting due to equilibration\n",
    "samples = len(total_data)\n",
    "mc_fraction = 0\n",
    "start = int(round(mc_fraction*samples)) # start-of-data idx\n",
    "\n",
    "# Plot every other dx value\n",
    "percent = 0.002\n",
    "dx = int(1/percent)\n",
    "\n",
    "# Set exact value obtained from Exact Diagonalization\n",
    "exact = -1.7073975372483998\n",
    "\n",
    "print(\"<E>/t: \",np.mean(total_data[start:]))"
   ]
  },
  {
   "cell_type": "code",
   "execution_count": 511,
   "metadata": {},
   "outputs": [
    {
     "data": {
      "image/png": "[encoded data removed]",
      "text/plain": [
       "<Figure size 432x288 with 1 Axes>"
      ]
     },
     "metadata": {
      "needs_background": "light"
     },
     "output_type": "display_data"
    }
   ],
   "source": [
    "#Plot\n",
    "fig, ax1 = plt.subplots()\n",
    "ax1.plot(egs_running[start:][::dx],'o',color='lightskyblue')\n",
    "ax1.axhline(y=exact,linewidth=1,color=\"#555555\",zorder=2)\n",
    "ax1.set_ylabel(r\"$<E>/t$\")\n",
    "ax1.set_xlabel(r\"$MC_{step}$\")\n",
    "ax1.tick_params(axis='both',which='both',right=False,top=False,labelright=False,direction='in')\n",
    "plt.savefig(\"egsMCStep_%i_%i_%.4f_%.4f_%.4f_%.4f_%.4f_%i.pdf\"%(L,N,U,mu,t,eta,beta,mc_steps))"
   ]
  },
  {
   "cell_type": "markdown",
   "metadata": {},
   "source": [
    "### U/t=12.0, $\\mu=6.0$"
   ]
  },
  {
   "cell_type": "code",
   "execution_count": 512,
   "metadata": {},
   "outputs": [
    {
     "name": "stdout",
     "output_type": "stream",
     "text": [
      "<E>/t:  -1.8174109247983272\n"
     ]
    }
   ],
   "source": [
    "#Load data\n",
    "kinetic_file_name = \"../../Data/kinetic_4_4_12.0000_6.0000_1.0000_0.0900_1.0000_500000.dat\"\n",
    "diagonal_file_name = \"../../Data/diagonal_4_4_12.0000_6.0000_1.0000_0.0900_1.0000_500000.dat\"\n",
    "kinetic_data = np.loadtxt(kinetic_file_name)\n",
    "diagonal_data = np.loadtxt(diagonal_file_name)\n",
    "\n",
    "# Calculate total ground state energy at each U/t\n",
    "total_data = kinetic_data + diagonal_data\n",
    "\n",
    "#Extract BH and simulation parameters from file name\n",
    "L,N,U,mu,t,eta,beta,mc_steps = kinetic_file_name.split(\"_\")[1:]\n",
    "mc_steps = mc_steps.split(\".\")[0] # get rid of extension\n",
    "L,N,U,mu,t,eta,beta,mc_steps = int(L),int(N),float(U),float(mu),float(t),float(eta),float(beta),int(mc_steps) #Promote from str to int OR float\n",
    "\n",
    "# Calculate ground state energy running average\n",
    "egs_running = np.cumsum(total_data)\n",
    "for i in range(len(egs_running)):\n",
    "    egs_running[i] /= (i+1) \n",
    "    \n",
    "# Set from what values to start plotting due to equilibration\n",
    "samples = len(total_data)\n",
    "mc_fraction = 0\n",
    "start = int(round(mc_fraction*samples)) # start-of-data idx\n",
    "\n",
    "# Plot every other dx value\n",
    "percent = 0.002\n",
    "dx = int(1/percent)\n",
    "\n",
    "# Set exact value obtained from Exact Diagonalization\n",
    "exact = -1.7073975372483998\n",
    "\n",
    "print(\"<E>/t: \",np.mean(total_data[start:]))"
   ]
  },
  {
   "cell_type": "code",
   "execution_count": 513,
   "metadata": {},
   "outputs": [
    {
     "data": {
      "image/png": "[encoded data removed]",
      "text/plain": [
       "<Figure size 432x288 with 1 Axes>"
      ]
     },
     "metadata": {
      "needs_background": "light"
     },
     "output_type": "display_data"
    }
   ],
   "source": [
    "#Plot\n",
    "fig, ax1 = plt.subplots()\n",
    "ax1.plot(egs_running[start:][::dx],'o',color='lightskyblue')\n",
    "ax1.axhline(y=exact,linewidth=1,color=\"#555555\",zorder=2)\n",
    "ax1.set_ylabel(r\"$<E>/t$\")\n",
    "ax1.set_xlabel(r\"$MC_{step}$\")\n",
    "ax1.tick_params(axis='both',which='both',right=False,top=False,labelright=False,direction='in')\n",
    "plt.savefig(\"egsMCStep_%i_%i_%.4f_%.4f_%.4f_%.4f_%.4f_%i.pdf\"%(L,N,U,mu,t,eta,beta,mc_steps))"
   ]
  },
  {
   "cell_type": "markdown",
   "metadata": {},
   "source": [
    "### U/t=11.0, $\\mu=5.5$"
   ]
  },
  {
   "cell_type": "code",
   "execution_count": 514,
   "metadata": {},
   "outputs": [
    {
     "name": "stdout",
     "output_type": "stream",
     "text": [
      "<E>/t:  -1.8952445018834356\n"
     ]
    }
   ],
   "source": [
    "#Load data\n",
    "kinetic_file_name = \"../../Data/kinetic_4_4_11.0000_5.5000_1.0000_0.0900_1.0000_500000.dat\"\n",
    "diagonal_file_name = \"../../Data/diagonal_4_4_11.0000_5.5000_1.0000_0.0900_1.0000_500000.dat\"\n",
    "kinetic_data = np.loadtxt(kinetic_file_name)\n",
    "diagonal_data = np.loadtxt(diagonal_file_name)\n",
    "\n",
    "# Calculate total ground state energy at each U/t\n",
    "total_data = kinetic_data + diagonal_data\n",
    "\n",
    "#Extract BH and simulation parameters from file name\n",
    "L,N,U,mu,t,eta,beta,mc_steps = kinetic_file_name.split(\"_\")[1:]\n",
    "mc_steps = mc_steps.split(\".\")[0] # get rid of extension\n",
    "L,N,U,mu,t,eta,beta,mc_steps = int(L),int(N),float(U),float(mu),float(t),float(eta),float(beta),int(mc_steps) #Promote from str to int OR float\n",
    "\n",
    "# Calculate ground state energy running average\n",
    "egs_running = np.cumsum(total_data)\n",
    "for i in range(len(egs_running)):\n",
    "    egs_running[i] /= (i+1) \n",
    "    \n",
    "# Set from what values to start plotting due to equilibration\n",
    "samples = len(total_data)\n",
    "mc_fraction = 0\n",
    "start = int(round(mc_fraction*samples)) # start-of-data idx\n",
    "\n",
    "# Plot every other dx value\n",
    "percent = 0.002\n",
    "dx = int(1/percent)\n",
    "\n",
    "# Set exact value obtained from Exact Diagonalization\n",
    "exact = -1.7073975372483998\n",
    "\n",
    "print(\"<E>/t: \",np.mean(total_data[start:]))"
   ]
  },
  {
   "cell_type": "code",
   "execution_count": 479,
   "metadata": {},
   "outputs": [
    {
     "data": {
      "image/png": "[encoded data removed]",
      "text/plain": [
       "<Figure size 432x288 with 1 Axes>"
      ]
     },
     "metadata": {
      "needs_background": "light"
     },
     "output_type": "display_data"
    }
   ],
   "source": [
    "#Plot\n",
    "fig, ax1 = plt.subplots()\n",
    "ax1.plot(egs_running[start:][::dx],'o',color='lightskyblue')\n",
    "ax1.axhline(y=exact,linewidth=1,color=\"#555555\",zorder=2)\n",
    "ax1.set_ylabel(r\"$<E>/t$\")\n",
    "ax1.set_xlabel(r\"$MC_{step}$\")\n",
    "ax1.tick_params(axis='both',which='both',right=False,top=False,labelright=False,direction='in')\n",
    "plt.savefig(\"egsMCStep_%i_%i_%.4f_%.4f_%.4f_%.4f_%.4f_%i.pdf\"%(L,N,U,mu,t,eta,beta,mc_steps))"
   ]
  },
  {
   "cell_type": "markdown",
   "metadata": {},
   "source": [
    "### U/t=10.0, $\\mu=5.0$"
   ]
  },
  {
   "cell_type": "code",
   "execution_count": 126,
   "metadata": {},
   "outputs": [
    {
     "name": "stdout",
     "output_type": "stream",
     "text": [
      "<E>/t:  -1.8140828074678286\n"
     ]
    }
   ],
   "source": [
    "#Load data\n",
    "kinetic_file_name = \"../../Data/kinetic_4_4_10.0000_5.0000_1.0000_0.0900_1.0000_500000.dat\"\n",
    "diagonal_file_name = \"../../Data/diagonal_4_4_10.0000_5.0000_1.0000_0.0900_1.0000_500000.dat\"\n",
    "kinetic_data = np.loadtxt(kinetic_file_name)\n",
    "diagonal_data = np.loadtxt(diagonal_file_name)\n",
    "\n",
    "# Calculate total ground state energy at each U/t\n",
    "total_data = kinetic_data + diagonal_data\n",
    "total_data = total_data[50500:]\n",
    "\n",
    "\n",
    "#Extract BH and simulation parameters from file name\n",
    "L,N,U,mu,t,eta,beta,mc_steps = kinetic_file_name.split(\"_\")[1:]\n",
    "mc_steps = mc_steps.split(\".\")[0] # get rid of extension\n",
    "L,N,U,mu,t,eta,beta,mc_steps = int(L),int(N),float(U),float(mu),float(t),float(eta),float(beta),int(mc_steps) #Promote from str to int OR float\n",
    "\n",
    "# Calculate ground state energy running average\n",
    "egs_running = np.cumsum(total_data)\n",
    "for i in range(len(egs_running)):\n",
    "    egs_running[i] /= (i+1) \n",
    "    \n",
    "# Set from what values to start plotting due to equilibration\n",
    "samples = len(total_data)\n",
    "mc_fraction = 0.00\n",
    "start = int(round(mc_fraction*samples)) # start-of-data idx\n",
    "\n",
    "# Plot every other dx value\n",
    "percent = 1\n",
    "dx = int(1/percent)\n",
    "\n",
    "# Set exact value obtained from Exact Diagonalization\n",
    "exact = -1.7073975372483998\n",
    "\n",
    "print(\"<E>/t: \",np.mean(total_data[start:]))"
   ]
  },
  {
   "cell_type": "code",
   "execution_count": 127,
   "metadata": {},
   "outputs": [
    {
     "data": {
      "image/png": "[encoded data removed]",
      "text/plain": [
       "<Figure size 432x288 with 1 Axes>"
      ]
     },
     "metadata": {
      "needs_background": "light"
     },
     "output_type": "display_data"
    }
   ],
   "source": [
    "#Plot\n",
    "fig, ax1 = plt.subplots()\n",
    "ax1.plot(egs_running[start:][::dx],'-',color='lightskyblue')\n",
    "ax1.axhline(y=exact,linewidth=1,color=\"#555555\",zorder=2)\n",
    "ax1.set_ylabel(r\"$<E>/t$\")\n",
    "ax1.set_xlabel(r\"$MC_{step}$\")\n",
    "ax1.tick_params(axis='both',which='both',right=False,top=False,labelright=False,direction='in')\n",
    "plt.savefig(\"egsMCStep_%i_%i_%.4f_%.4f_%.4f_%.4f_%.4f_%i.pdf\"%(L,N,U,mu,t,eta,beta,mc_steps))"
   ]
  },
  {
   "cell_type": "markdown",
   "metadata": {},
   "source": [
    "### U/t=9.0, $\\mu=4.5$"
   ]
  },
  {
   "cell_type": "code",
   "execution_count": 108,
   "metadata": {},
   "outputs": [
    {
     "name": "stdout",
     "output_type": "stream",
     "text": [
      "<E>/t:  -2.087840727424223\n"
     ]
    }
   ],
   "source": [
    "#Load data\n",
    "kinetic_file_name = \"../../Data/kinetic_4_4_9.0000_4.5000_1.0000_0.0900_1.0000_500000.dat\"\n",
    "diagonal_file_name = \"../../Data/diagonal_4_4_9.0000_4.5000_1.0000_0.0900_1.0000_500000.dat\"\n",
    "kinetic_data = np.loadtxt(kinetic_file_name)\n",
    "diagonal_data = np.loadtxt(diagonal_file_name)\n",
    "\n",
    "# Calculate total ground state energy at each U/t\n",
    "total_data = kinetic_data + diagonal_data\n",
    "total_data = total_data[50000:]\n",
    "\n",
    "#Extract BH and simulation parameters from file name\n",
    "L,N,U,mu,t,eta,beta,mc_steps = kinetic_file_name.split(\"_\")[1:]\n",
    "mc_steps = mc_steps.split(\".\")[0] # get rid of extension\n",
    "L,N,U,mu,t,eta,beta,mc_steps = int(L),int(N),float(U),float(mu),float(t),float(eta),float(beta),int(mc_steps) #Promote from str to int OR float\n",
    "\n",
    "# Calculate ground state energy running average\n",
    "egs_running = np.cumsum(total_data)\n",
    "for i in range(len(egs_running)):\n",
    "    egs_running[i] /= (i+1) \n",
    "    \n",
    "# Set from what values to start plotting due to equilibration\n",
    "samples = len(total_data)\n",
    "mc_fraction = 0.05\n",
    "start = int(round(mc_fraction*samples)) # start-of-data idx\n",
    "\n",
    "# Plot every other dx value\n",
    "percent = 1\n",
    "dx = int(1/percent)\n",
    "\n",
    "# Set exact value obtained from Exact Diagonalization\n",
    "exact = -1.910056955160866\n",
    "\n",
    "print(\"<E>/t: \",np.mean(total_data[start:]))"
   ]
  },
  {
   "cell_type": "code",
   "execution_count": 109,
   "metadata": {},
   "outputs": [
    {
     "data": {
      "image/png": "[encoded data removed]",
      "text/plain": [
       "<Figure size 432x288 with 1 Axes>"
      ]
     },
     "metadata": {
      "needs_background": "light"
     },
     "output_type": "display_data"
    }
   ],
   "source": [
    "#Plot\n",
    "fig, ax1 = plt.subplots()\n",
    "ax1.plot(egs_running[start:][::dx],'-',color='lightskyblue')\n",
    "ax1.axhline(y=exact,linewidth=1,color=\"#555555\",zorder=2)\n",
    "ax1.set_ylabel(r\"$<E>/t$\")\n",
    "ax1.set_xlabel(r\"$MC_{step}$\")\n",
    "ax1.tick_params(axis='both',which='both',right=False,top=False,labelright=False,direction='in')\n",
    "plt.savefig(\"egsMCStep_%i_%i_%.4f_%.4f_%.4f_%.4f_%.4f_%i.pdf\"%(L,N,U,mu,t,eta,beta,mc_steps))"
   ]
  },
  {
   "cell_type": "markdown",
   "metadata": {},
   "source": [
    "### U/t=8.0, $\\mu=4.0$"
   ]
  },
  {
   "cell_type": "code",
   "execution_count": 69,
   "metadata": {},
   "outputs": [
    {
     "name": "stdout",
     "output_type": "stream",
     "text": [
      "<E>/t:  -2.1621250899024425\n"
     ]
    }
   ],
   "source": [
    "#Load data\n",
    "kinetic_file_name = \"../../Data/kinetic_4_4_8.0000_4.0000_1.0000_0.0900_1.0000_500000.dat\"\n",
    "diagonal_file_name = \"../../Data/diagonal_4_4_8.0000_4.0000_1.0000_0.0900_1.0000_500000.dat\"\n",
    "kinetic_data = np.loadtxt(kinetic_file_name)\n",
    "diagonal_data = np.loadtxt(diagonal_file_name)\n",
    "\n",
    "# Calculate total ground state energy at each U/t\n",
    "total_data = kinetic_data + diagonal_data\n",
    "\n",
    "#Extract BH and simulation parameters from file name\n",
    "L,N,U,mu,t,eta,beta,mc_steps = kinetic_file_name.split(\"_\")[1:]\n",
    "mc_steps = mc_steps.split(\".\")[0] # get rid of extension\n",
    "L,N,U,mu,t,eta,beta,mc_steps = int(L),int(N),float(U),float(mu),float(t),float(eta),float(beta),int(mc_steps) #Promote from str to int OR float\n",
    "\n",
    "# Calculate ground state energy running average\n",
    "egs_running = np.cumsum(total_data)\n",
    "for i in range(len(egs_running)):\n",
    "    egs_running[i] /= (i+1) \n",
    "    \n",
    "# Set from what values to start plotting due to equilibration\n",
    "samples = len(total_data)\n",
    "mc_fraction = 0.05\n",
    "start = int(round(mc_fraction*samples)) # start-of-data idx\n",
    "\n",
    "# Plot every other dx value\n",
    "percent = 1\n",
    "dx = int(1/percent)\n",
    "\n",
    "# Set exact value obtained from Exact Diagonalization\n",
    "exact = -2.1610571997712014\n",
    "\n",
    "print(\"<E>/t: \",np.mean(total_data[start:]))"
   ]
  },
  {
   "cell_type": "code",
   "execution_count": 33,
   "metadata": {},
   "outputs": [
    {
     "data": {
      "image/png": "[encoded data removed]",
      "text/plain": [
       "<Figure size 432x288 with 1 Axes>"
      ]
     },
     "metadata": {
      "needs_background": "light"
     },
     "output_type": "display_data"
    }
   ],
   "source": [
    "#Plot\n",
    "fig, ax1 = plt.subplots()\n",
    "ax1.plot(egs_running[start:][::dx],'-',color='lightskyblue')\n",
    "ax1.axhline(y=exact,linewidth=1,color=\"#555555\",zorder=2)\n",
    "ax1.set_ylabel(r\"$<E>/t$\")\n",
    "ax1.set_xlabel(r\"$MC_{step}$\")\n",
    "ax1.tick_params(axis='both',which='both',right=False,top=False,labelright=False,direction='in')\n",
    "plt.savefig(\"egsMCStep_%i_%i_%.4f_%.4f_%.4f_%.4f_%.4f_%i.pdf\"%(L,N,U,mu,t,eta,beta,mc_steps))"
   ]
  },
  {
   "cell_type": "markdown",
   "metadata": {},
   "source": [
    "### U/t=7.0, $\\mu=3.5$"
   ]
  },
  {
   "cell_type": "code",
   "execution_count": 21,
   "metadata": {},
   "outputs": [
    {
     "name": "stdout",
     "output_type": "stream",
     "text": [
      "<E>/t:  -2.254789785890829\n"
     ]
    }
   ],
   "source": [
    "#Load data\n",
    "kinetic_file_name = \"../../Data/kinetic_4_4_7.0000_3.5000_1.0000_0.0900_1.0000_500000.dat\"\n",
    "diagonal_file_name = \"../../Data/diagonal_4_4_7.0000_3.5000_1.0000_0.0900_1.0000_500000.dat\"\n",
    "kinetic_data = np.loadtxt(kinetic_file_name)\n",
    "diagonal_data = np.loadtxt(diagonal_file_name)\n",
    "\n",
    "# Calculate total ground state energy at each U/t\n",
    "total_data = kinetic_data + diagonal_data\n",
    "\n",
    "#Extract BH and simulation parameters from file name\n",
    "L,N,U,mu,t,eta,beta,mc_steps = kinetic_file_name.split(\"_\")[1:]\n",
    "mc_steps = mc_steps.split(\".\")[0] # get rid of extension\n",
    "L,N,U,mu,t,eta,beta,mc_steps = int(L),int(N),float(U),float(mu),float(t),float(eta),float(beta),int(mc_steps) #Promote from str to int OR float\n",
    "\n",
    "# Calculate ground state energy running average\n",
    "egs_running = np.cumsum(total_data)\n",
    "for i in range(len(egs_running)):\n",
    "    egs_running[i] /= (i+1) \n",
    "    \n",
    "# Set from what values to start plotting due to equilibration\n",
    "samples = len(total_data)\n",
    "mc_fraction = 0.05\n",
    "start = int(round(mc_fraction*samples)) # start-of-data idx\n",
    "\n",
    "# Plot every other dx value\n",
    "percent = 0.002\n",
    "dx = int(1/percent)\n",
    "\n",
    "# Set exact value obtained from Exact Diagonalization\n",
    "exact = -2.47505670500198\n",
    "\n",
    "print(\"<E>/t: \",np.mean(total_data[start:]))"
   ]
  },
  {
   "cell_type": "code",
   "execution_count": 22,
   "metadata": {},
   "outputs": [
    {
     "data": {
      "image/png": "[encoded data removed]",
      "text/plain": [
       "<Figure size 432x288 with 1 Axes>"
      ]
     },
     "metadata": {
      "needs_background": "light"
     },
     "output_type": "display_data"
    }
   ],
   "source": [
    "#Plot\n",
    "fig, ax1 = plt.subplots()\n",
    "ax1.plot(egs_running[start:][::dx],'o',color='lightskyblue')\n",
    "ax1.axhline(y=exact,linewidth=1,color=\"#555555\",zorder=2)\n",
    "ax1.set_ylabel(r\"$<E>/t$\")\n",
    "ax1.set_xlabel(r\"$MC_{step}$\")\n",
    "ax1.tick_params(axis='both',which='both',right=False,top=False,labelright=False,direction='in')\n",
    "plt.savefig(\"egsMCStep_%i_%i_%.4f_%.4f_%.4f_%.4f_%.4f_%i.pdf\"%(L,N,U,mu,t,eta,beta,mc_steps))"
   ]
  },
  {
   "cell_type": "markdown",
   "metadata": {},
   "source": [
    "### U/t=6.0, $\\mu=3.0$"
   ]
  },
  {
   "cell_type": "code",
   "execution_count": 23,
   "metadata": {},
   "outputs": [
    {
     "name": "stdout",
     "output_type": "stream",
     "text": [
      "<E>/t:  -2.322869755268308\n"
     ]
    }
   ],
   "source": [
    "#Load data\n",
    "kinetic_file_name = \"../../Data/kinetic_4_4_6.0000_3.0000_1.0000_0.0900_1.0000_500000.dat\"\n",
    "diagonal_file_name = \"../../Data/diagonal_4_4_6.0000_3.0000_1.0000_0.0900_1.0000_500000.dat\"\n",
    "kinetic_data = np.loadtxt(kinetic_file_name)\n",
    "diagonal_data = np.loadtxt(diagonal_file_name)\n",
    "\n",
    "# Calculate total ground state energy at each U/t\n",
    "total_data = kinetic_data + diagonal_data\n",
    "\n",
    "#Extract BH and simulation parameters from file name\n",
    "L,N,U,mu,t,eta,beta,mc_steps = kinetic_file_name.split(\"_\")[1:]\n",
    "mc_steps = mc_steps.split(\".\")[0] # get rid of extension\n",
    "L,N,U,mu,t,eta,beta,mc_steps = int(L),int(N),float(U),float(mu),float(t),float(eta),float(beta),int(mc_steps) #Promote from str to int OR float\n",
    "\n",
    "# Calculate ground state energy running average\n",
    "egs_running = np.cumsum(total_data)\n",
    "for i in range(len(egs_running)):\n",
    "    egs_running[i] /= (i+1) \n",
    "    \n",
    "# Set from what values to start plotting due to equilibration\n",
    "samples = len(total_data)\n",
    "mc_fraction = 0.06\n",
    "start = int(round(mc_fraction*samples)) # start-of-data idx\n",
    "\n",
    "# Plot every other dx value\n",
    "percent = 0.002\n",
    "dx = int(1/percent)\n",
    "\n",
    "# Set exact value obtained from Exact Diagonalization\n",
    "exact = -2.8697399783374693\n",
    "\n",
    "print(\"<E>/t: \",np.mean(total_data[start:]))"
   ]
  },
  {
   "cell_type": "code",
   "execution_count": 24,
   "metadata": {},
   "outputs": [
    {
     "data": {
      "image/png": "[encoded data removed]",
      "text/plain": [
       "<Figure size 432x288 with 1 Axes>"
      ]
     },
     "metadata": {
      "needs_background": "light"
     },
     "output_type": "display_data"
    }
   ],
   "source": [
    "#Plot\n",
    "fig, ax1 = plt.subplots()\n",
    "ax1.plot(egs_running[start:][::dx],'o',color='lightskyblue')\n",
    "ax1.axhline(y=exact,linewidth=1,color=\"#555555\",zorder=2)\n",
    "ax1.set_ylabel(r\"$<E>/t$\")\n",
    "ax1.set_xlabel(r\"$MC_{step}$\")\n",
    "ax1.tick_params(axis='both',which='both',right=False,top=False,labelright=False,direction='in')\n",
    "plt.savefig(\"egsMCStep_%i_%i_%.4f_%.4f_%.4f_%.4f_%.4f_%i.pdf\"%(L,N,U,mu,t,eta,beta,mc_steps))"
   ]
  },
  {
   "cell_type": "markdown",
   "metadata": {},
   "source": [
    "### U/t=5.0, $\\mu=2.5$"
   ]
  },
  {
   "cell_type": "code",
   "execution_count": 138,
   "metadata": {},
   "outputs": [
    {
     "name": "stdout",
     "output_type": "stream",
     "text": [
      "<E>/t:  -2.5604903924530085\n"
     ]
    }
   ],
   "source": [
    "#Load data\n",
    "kinetic_file_name = \"../../Data/kinetic_4_4_5.0000_2.5000_1.0000_0.0900_1.0000_500000.dat\"\n",
    "diagonal_file_name = \"../../Data/diagonal_4_4_5.0000_2.5000_1.0000_0.0900_1.0000_500000.dat\"\n",
    "kinetic_data = np.loadtxt(kinetic_file_name)\n",
    "diagonal_data = np.loadtxt(diagonal_file_name)\n",
    "\n",
    "# Calculate total ground state energy at each U/t\n",
    "total_data = kinetic_data + diagonal_data\n",
    "total_data = total_data[50100:]\n",
    "\n",
    "#Extract BH and simulation parameters from file name\n",
    "L,N,U,mu,t,eta,beta,mc_steps = kinetic_file_name.split(\"_\")[1:]\n",
    "mc_steps = mc_steps.split(\".\")[0] # get rid of extension\n",
    "L,N,U,mu,t,eta,beta,mc_steps = int(L),int(N),float(U),float(mu),float(t),float(eta),float(beta),int(mc_steps) #Promote from str to int OR float\n",
    "\n",
    "# Calculate ground state energy running average\n",
    "egs_running = np.cumsum(total_data)\n",
    "for i in range(len(egs_running)):\n",
    "    egs_running[i] /= (i+1) \n",
    "    \n",
    "# Set from what values to start plotting due to equilibration\n",
    "samples = len(total_data)\n",
    "mc_fraction = 0\n",
    "start = int(round(mc_fraction*samples)) # start-of-data idx\n",
    "\n",
    "# Plot every other dx value\n",
    "percent = 1\n",
    "dx = int(1/percent)\n",
    "\n",
    "# Set exact value obtained from Exact Diagonalization\n",
    "exact = -3.3642622295673523\n",
    "\n",
    "print(\"<E>/t: \",np.mean(total_data[start:]))"
   ]
  },
  {
   "cell_type": "code",
   "execution_count": 140,
   "metadata": {},
   "outputs": [
    {
     "data": {
      "image/png": "[encoded data removed]",
      "text/plain": [
       "<Figure size 432x288 with 1 Axes>"
      ]
     },
     "metadata": {
      "needs_background": "light"
     },
     "output_type": "display_data"
    }
   ],
   "source": [
    "#Plot\n",
    "fig, ax1 = plt.subplots()\n",
    "ax1.plot(egs_running[start:][::dx],'-',color='lightskyblue')\n",
    "ax1.axhline(y=exact,linewidth=1,color=\"#555555\",zorder=2)\n",
    "ax1.set_ylabel(r\"$<E>/t$\")\n",
    "ax1.set_xlabel(r\"$MC_{step}$\")\n",
    "ax1.tick_params(axis='both',which='both',right=False,top=False,labelright=False,direction='in')\n",
    "plt.savefig(\"egsMCStep_%i_%i_%.4f_%.4f_%.4f_%.4f_%.4f_%i.pdf\"%(L,N,U,mu,t,eta,beta,mc_steps))"
   ]
  },
  {
   "cell_type": "markdown",
   "metadata": {},
   "source": [
    "### U/t=4.0, $\\mu=2.0$"
   ]
  },
  {
   "cell_type": "code",
   "execution_count": 27,
   "metadata": {},
   "outputs": [
    {
     "name": "stdout",
     "output_type": "stream",
     "text": [
      "<E>/t:  -2.9143985980751204\n"
     ]
    }
   ],
   "source": [
    "#Load data\n",
    "kinetic_file_name = \"../../Data/kinetic_4_4_4.0000_2.0000_1.0000_0.0900_1.0000_500000.dat\"\n",
    "diagonal_file_name = \"../../Data/diagonal_4_4_4.0000_2.0000_1.0000_0.0900_1.0000_500000.dat\"\n",
    "kinetic_data = np.loadtxt(kinetic_file_name)\n",
    "diagonal_data = np.loadtxt(diagonal_file_name)\n",
    "\n",
    "# Calculate total ground state energy at each U/t\n",
    "total_data = kinetic_data + diagonal_data\n",
    "\n",
    "#Extract BH and simulation parameters from file name\n",
    "L,N,U,mu,t,eta,beta,mc_steps = kinetic_file_name.split(\"_\")[1:]\n",
    "mc_steps = mc_steps.split(\".\")[0] # get rid of extension\n",
    "L,N,U,mu,t,eta,beta,mc_steps = int(L),int(N),float(U),float(mu),float(t),float(eta),float(beta),int(mc_steps) #Promote from str to int OR float\n",
    "\n",
    "# Calculate ground state energy running average\n",
    "egs_running = np.cumsum(total_data)\n",
    "for i in range(len(egs_running)):\n",
    "    egs_running[i] /= (i+1) \n",
    "    \n",
    "# Set from what values to start plotting due to equilibration\n",
    "samples = len(total_data)\n",
    "mc_fraction = 0.05\n",
    "start = int(round(mc_fraction*samples)) # start-of-data idx\n",
    "\n",
    "# Plot every other dx value\n",
    "percent = 0.002\n",
    "dx = int(1/percent)\n",
    "\n",
    "# Set exact value obtained from Exact Diagonalization\n",
    "exact = -3.9765130137420543\n",
    "\n",
    "print(\"<E>/t: \",np.mean(total_data[start:]))"
   ]
  },
  {
   "cell_type": "code",
   "execution_count": 28,
   "metadata": {},
   "outputs": [
    {
     "data": {
      "image/png": "[encoded data removed]",
      "text/plain": [
       "<Figure size 432x288 with 1 Axes>"
      ]
     },
     "metadata": {
      "needs_background": "light"
     },
     "output_type": "display_data"
    }
   ],
   "source": [
    "#Plot\n",
    "fig, ax1 = plt.subplots()\n",
    "ax1.plot(egs_running[start:][::dx],'o',color='lightskyblue')\n",
    "ax1.axhline(y=exact,linewidth=1,color=\"#555555\",zorder=2)\n",
    "ax1.set_ylabel(r\"$<E>/t$\")\n",
    "ax1.set_xlabel(r\"$MC_{step}$\")\n",
    "ax1.tick_params(axis='both',which='both',right=False,top=False,labelright=False,direction='in')\n",
    "plt.savefig(\"egsMCStep_%i_%i_%.4f_%.4f_%.4f_%.4f_%.4f_%i.pdf\"%(L,N,U,mu,t,eta,beta,mc_steps))"
   ]
  },
  {
   "cell_type": "markdown",
   "metadata": {},
   "source": [
    "### U/t=3.0, $\\mu=1.5$"
   ]
  },
  {
   "cell_type": "code",
   "execution_count": 494,
   "metadata": {},
   "outputs": [
    {
     "name": "stdout",
     "output_type": "stream",
     "text": [
      "<E>/t:  -3.4297500485049124\n"
     ]
    }
   ],
   "source": [
    "#Load data\n",
    "kinetic_file_name = \"../../Data/kinetic_4_4_3.0000_1.5000_1.0000_0.0900_1.0000_500000.dat\"\n",
    "diagonal_file_name = \"../../Data/diagonal_4_4_3.0000_1.5000_1.0000_0.0900_1.0000_500000.dat\"\n",
    "kinetic_data = np.loadtxt(kinetic_file_name)\n",
    "diagonal_data = np.loadtxt(diagonal_file_name)\n",
    "\n",
    "# Calculate total ground state energy at each U/t\n",
    "total_data = kinetic_data + diagonal_data\n",
    "\n",
    "#Extract BH and simulation parameters from file name\n",
    "L,N,U,mu,t,eta,beta,mc_steps = kinetic_file_name.split(\"_\")[1:]\n",
    "mc_steps = mc_steps.split(\".\")[0] # get rid of extension\n",
    "L,N,U,mu,t,eta,beta,mc_steps = int(L),int(N),float(U),float(mu),float(t),float(eta),float(beta),int(mc_steps) #Promote from str to int OR float\n",
    "\n",
    "# Calculate ground state energy running average\n",
    "egs_running = np.cumsum(total_data)\n",
    "for i in range(len(egs_running)):\n",
    "    egs_running[i] /= (i+1) \n",
    "    \n",
    "# Set from what values to start plotting due to equilibration\n",
    "samples = len(total_data)\n",
    "mc_fraction = 0\n",
    "start = int(round(mc_fraction*samples)) # start-of-data idx\n",
    "\n",
    "# Plot every other dx value\n",
    "percent = 0.002\n",
    "dx = int(1/percent)\n",
    "\n",
    "# Set exact value obtained from Exact Diagonalization\n",
    "exact = -4.721363934828824\n",
    "\n",
    "print(\"<E>/t: \",np.mean(total_data[start:]))"
   ]
  },
  {
   "cell_type": "code",
   "execution_count": 495,
   "metadata": {},
   "outputs": [
    {
     "data": {
      "image/png": "[encoded data removed]",
      "text/plain": [
       "<Figure size 432x288 with 1 Axes>"
      ]
     },
     "metadata": {
      "needs_background": "light"
     },
     "output_type": "display_data"
    }
   ],
   "source": [
    "#Plot\n",
    "fig, ax1 = plt.subplots()\n",
    "ax1.plot(egs_running[start:][::dx],'o',color='lightskyblue')\n",
    "ax1.axhline(y=exact,linewidth=1,color=\"#555555\",zorder=2)\n",
    "ax1.set_ylabel(r\"$<E>/t$\")\n",
    "ax1.set_xlabel(r\"$MC_{step}$\")\n",
    "ax1.tick_params(axis='both',which='both',right=False,top=False,labelright=False,direction='in')\n",
    "plt.savefig(\"egsMCStep_%i_%i_%.4f_%.4f_%.4f_%.4f_%.4f_%i.pdf\"%(L,N,U,mu,t,eta,beta,mc_steps))"
   ]
  },
  {
   "cell_type": "markdown",
   "metadata": {},
   "source": [
    "### U/t=2.0, $\\mu=1.0$"
   ]
  },
  {
   "cell_type": "code",
   "execution_count": 496,
   "metadata": {},
   "outputs": [
    {
     "name": "stdout",
     "output_type": "stream",
     "text": [
      "<E>/t:  -4.2523001927574455\n"
     ]
    }
   ],
   "source": [
    "#Load data\n",
    "kinetic_file_name = \"../../Data/kinetic_4_4_2.0000_1.0000_1.0000_0.0900_1.0000_500000.dat\"\n",
    "diagonal_file_name = \"../../Data/diagonal_4_4_2.0000_1.0000_1.0000_0.0900_1.0000_500000.dat\"\n",
    "kinetic_data = np.loadtxt(kinetic_file_name)\n",
    "diagonal_data = np.loadtxt(diagonal_file_name)\n",
    "\n",
    "# Calculate total ground state energy at each U/t\n",
    "total_data = kinetic_data + diagonal_data\n",
    "\n",
    "#Extract BH and simulation parameters from file name\n",
    "L,N,U,mu,t,eta,beta,mc_steps = kinetic_file_name.split(\"_\")[1:]\n",
    "mc_steps = mc_steps.split(\".\")[0] # get rid of extension\n",
    "L,N,U,mu,t,eta,beta,mc_steps = int(L),int(N),float(U),float(mu),float(t),float(eta),float(beta),int(mc_steps) #Promote from str to int OR float\n",
    "\n",
    "# Calculate ground state energy running average\n",
    "egs_running = np.cumsum(total_data)\n",
    "for i in range(len(egs_running)):\n",
    "    egs_running[i] /= (i+1) \n",
    "    \n",
    "# Set from what values to start plotting due to equilibration\n",
    "samples = len(total_data)\n",
    "mc_fraction = 0\n",
    "start = int(round(mc_fraction*samples)) # start-of-data idx\n",
    "\n",
    "# Plot every other dx value\n",
    "percent = 0.002\n",
    "dx = int(1/percent)\n",
    "\n",
    "# Set exact value obtained from Exact Diagonalization\n",
    "exact = -5.613864939117682\n",
    "\n",
    "print(\"<E>/t: \",np.mean(total_data[start:]))"
   ]
  },
  {
   "cell_type": "code",
   "execution_count": 497,
   "metadata": {},
   "outputs": [
    {
     "data": {
      "image/png": "[encoded data removed]",
      "text/plain": [
       "<Figure size 432x288 with 1 Axes>"
      ]
     },
     "metadata": {
      "needs_background": "light"
     },
     "output_type": "display_data"
    }
   ],
   "source": [
    "#Plot\n",
    "fig, ax1 = plt.subplots()\n",
    "ax1.plot(egs_running[start:][::dx],'o',color='lightskyblue')\n",
    "ax1.axhline(y=exact,linewidth=1,color=\"#555555\",zorder=2)\n",
    "ax1.set_ylabel(r\"$<E>/t$\")\n",
    "ax1.set_xlabel(r\"$MC_{step}$\")\n",
    "ax1.tick_params(axis='both',which='both',right=False,top=False,labelright=False,direction='in')\n",
    "plt.savefig(\"egsMCStep_%i_%i_%.4f_%.4f_%.4f_%.4f_%.4f_%i.pdf\"%(L,N,U,mu,t,eta,beta,mc_steps))"
   ]
  },
  {
   "cell_type": "markdown",
   "metadata": {},
   "source": [
    "### U/t=1.0, $\\mu=0.5$"
   ]
  },
  {
   "cell_type": "code",
   "execution_count": 498,
   "metadata": {},
   "outputs": [
    {
     "name": "stdout",
     "output_type": "stream",
     "text": [
      "<E>/t:  -5.059666338517908\n"
     ]
    }
   ],
   "source": [
    "#Load data\n",
    "kinetic_file_name = \"../../Data/kinetic_4_4_1.0000_0.5000_1.0000_0.0900_1.0000_500000.dat\"\n",
    "diagonal_file_name = \"../../Data/diagonal_4_4_1.0000_0.5000_1.0000_0.0900_1.0000_500000.dat\"\n",
    "kinetic_data = np.loadtxt(kinetic_file_name)\n",
    "diagonal_data = np.loadtxt(diagonal_file_name)\n",
    "\n",
    "# Calculate total ground state energy at each U/t\n",
    "total_data = kinetic_data + diagonal_data\n",
    "\n",
    "#Extract BH and simulation parameters from file name\n",
    "L,N,U,mu,t,eta,beta,mc_steps = kinetic_file_name.split(\"_\")[1:]\n",
    "mc_steps = mc_steps.split(\".\")[0] # get rid of extension\n",
    "L,N,U,mu,t,eta,beta,mc_steps = int(L),int(N),float(U),float(mu),float(t),float(eta),float(beta),int(mc_steps) #Promote from str to int OR float\n",
    "\n",
    "# Calculate ground state energy running average\n",
    "egs_running = np.cumsum(total_data)\n",
    "for i in range(len(egs_running)):\n",
    "    egs_running[i] /= (i+1) \n",
    "    \n",
    "# Set from what values to start plotting due to equilibration\n",
    "samples = len(total_data)\n",
    "mc_fraction = 0\n",
    "start = int(round(mc_fraction*samples)) # start-of-data idx\n",
    "\n",
    "# Plot every other dx value\n",
    "percent = 0.002\n",
    "dx = int(1/percent)\n",
    "\n",
    "# Set exact value obtained from Exact Diagonalization\n",
    "exact = -6.681733497641256\n",
    "\n",
    "print(\"<E>/t: \",np.mean(total_data[start:]))"
   ]
  },
  {
   "cell_type": "code",
   "execution_count": 499,
   "metadata": {},
   "outputs": [
    {
     "data": {
      "image/png": "[encoded data removed]",
      "text/plain": [
       "<Figure size 432x288 with 1 Axes>"
      ]
     },
     "metadata": {
      "needs_background": "light"
     },
     "output_type": "display_data"
    }
   ],
   "source": [
    "#Plot\n",
    "fig, ax1 = plt.subplots()\n",
    "ax1.plot(egs_running[start:][::dx],'o',color='lightskyblue')\n",
    "ax1.axhline(y=exact,linewidth=1,color=\"#555555\",zorder=2)\n",
    "ax1.set_ylabel(r\"$<E>/t$\")\n",
    "ax1.set_xlabel(r\"$MC_{step}$\")\n",
    "ax1.tick_params(axis='both',which='both',right=False,top=False,labelright=False,direction='in')\n",
    "plt.savefig(\"egsMCStep_%i_%i_%.4f_%.4f_%.4f_%.4f_%.4f_%i.pdf\"%(L,N,U,mu,t,eta,beta,mc_steps))"
   ]
  },
  {
   "cell_type": "markdown",
   "metadata": {},
   "source": [
    "### U/t=0.0,$\\mu=0.0$,$\\beta=1.0$"
   ]
  },
  {
   "cell_type": "code",
   "execution_count": 141,
   "metadata": {},
   "outputs": [
    {
     "name": "stdout",
     "output_type": "stream",
     "text": [
      "<E>/t:  -6.454141409205915\n"
     ]
    }
   ],
   "source": [
    "#Load data\n",
    "kinetic_file_name = \"../../Data/kinetic_4_4_0.0000_0.0000_1.0000_0.0900_1.0000_500000.dat\"\n",
    "diagonal_file_name = \"../../Data/diagonal_4_4_0.0000_0.0000_1.0000_0.0900_1.0000_500000.dat\"\n",
    "kinetic_data = np.loadtxt(kinetic_file_name)\n",
    "diagonal_data = np.loadtxt(diagonal_file_name)\n",
    "\n",
    "# Calculate total ground state energy at each U/t\n",
    "total_data = kinetic_data + diagonal_data\n",
    "total_data = total_data[5000:]\n",
    "\n",
    "#Extract BH and simulation parameters from file name\n",
    "L,N,U,mu,t,eta,beta,mc_steps = kinetic_file_name.split(\"_\")[1:]\n",
    "mc_steps = mc_steps.split(\".\")[0] # get rid of extension\n",
    "L,N,U,mu,t,eta,beta,mc_steps = int(L),int(N),float(U),float(mu),float(t),float(eta),float(beta),int(mc_steps) #Promote from str to int OR float\n",
    "\n",
    "# Calculate ground state energy running average\n",
    "egs_running = np.cumsum(total_data)\n",
    "for i in range(len(egs_running)):\n",
    "    egs_running[i] /= (i+1) \n",
    "    \n",
    "# Set from what values to start plotting due to equilibration\n",
    "samples = len(total_data)\n",
    "mc_fraction = 0\n",
    "start = int(round(mc_fraction*samples)) # start-of-data idx\n",
    "\n",
    "# Plot every other dx value\n",
    "percent = 1\n",
    "dx = int(1/percent)\n",
    "\n",
    "# Set exact value obtained from Exact Diagonalization\n",
    "exact = -8.000000000000002\n",
    "\n",
    "print(\"<E>/t: \",np.mean(total_data[start:]))"
   ]
  },
  {
   "cell_type": "code",
   "execution_count": 142,
   "metadata": {},
   "outputs": [
    {
     "data": {
      "image/png": "[encoded data removed]",
      "text/plain": [
       "<Figure size 432x288 with 1 Axes>"
      ]
     },
     "metadata": {
      "needs_background": "light"
     },
     "output_type": "display_data"
    }
   ],
   "source": [
    "#Plot\n",
    "fig, ax1 = plt.subplots()\n",
    "ax1.plot(egs_running[start:][::dx],'-',color='lightskyblue')\n",
    "ax1.axhline(y=exact,linewidth=1,color=\"#555555\",zorder=2)\n",
    "ax1.set_ylabel(r\"$<E>/t$\")\n",
    "ax1.set_xlabel(r\"$MC_{step}$\")\n",
    "ax1.tick_params(axis='both',which='both',right=False,top=False,labelright=False,direction='in')\n",
    "plt.savefig(\"egsMCStep_%i_%i_%.4f_%.4f_%.4f_%.4f_%.4f_%i.pdf\"%(L,N,U,mu,t,eta,beta,mc_steps))"
   ]
  },
  {
   "cell_type": "markdown",
   "metadata": {},
   "source": [
    "### U/t=0.0,$\\mu=2.0$,$\\beta=1.5$"
   ]
  },
  {
   "cell_type": "code",
   "execution_count": 348,
   "metadata": {},
   "outputs": [
    {
     "name": "stdout",
     "output_type": "stream",
     "text": [
      "<E>/t:  -6.674111327160173\n"
     ]
    }
   ],
   "source": [
    "#Load data\n",
    "kinetic_file_name = \"../../Data/kinetic_4_4_0.0000_0.0000_1.0000_0.0900_1.5000_500000.dat\"\n",
    "diagonal_file_name = \"../../Data/diagonal_4_4_0.0000_0.0000_1.0000_0.0900_1.5000_500000.dat\"\n",
    "kinetic_data = np.loadtxt(kinetic_file_name)\n",
    "diagonal_data = np.loadtxt(diagonal_file_name)\n",
    "\n",
    "# Calculate total ground state energy at each U/t\n",
    "total_data = kinetic_data + diagonal_data\n",
    "\n",
    "#Extract BH and simulation parameters from file name\n",
    "L,N,U,mu,t,eta,beta,mc_steps = kinetic_file_name.split(\"_\")[1:]\n",
    "mc_steps = mc_steps.split(\".\")[0] # get rid of extension\n",
    "L,N,U,mu,t,eta,beta,mc_steps = int(L),int(N),float(U),float(mu),float(t),float(eta),float(beta),int(mc_steps) #Promote from str to int OR float\n",
    "\n",
    "# Calculate ground state energy running average\n",
    "egs_running = np.cumsum(total_data)\n",
    "for i in range(len(egs_running)):\n",
    "    egs_running[i] /= (i+1) \n",
    "    \n",
    "# Set from what values to start plotting due to equilibration\n",
    "samples = len(total_data)\n",
    "mc_fraction = 0.0\n",
    "start = int(round(mc_fraction*samples)) # start-of-data idx\n",
    "\n",
    "# Plot every other dx value\n",
    "percent = 0.002.010\n",
    "dx = int(1/percent)\n",
    "\n",
    "# Set exact value obtained from Exact Diagonalization\n",
    "exact = -8.000000000000002\n",
    "\n",
    "print(\"<E>/t: \",np.mean(total_data[start:]))"
   ]
  },
  {
   "cell_type": "code",
   "execution_count": 318,
   "metadata": {},
   "outputs": [
    {
     "data": {
      "image/png": "[encoded data removed]",
      "text/plain": [
       "<Figure size 432x288 with 1 Axes>"
      ]
     },
     "metadata": {
      "needs_background": "light"
     },
     "output_type": "display_data"
    }
   ],
   "source": [
    "#Plot\n",
    "fig, ax1 = plt.subplots()\n",
    "ax1.plot(egs_running[start:][::dx],'o',color='lightskyblue')\n",
    "ax1.axhline(y=exact,linewidth=1,color=\"#555555\",zorder=2)\n",
    "ax1.set_ylabel(r\"$<E>/t$\")\n",
    "ax1.set_xlabel(r\"$MC_{step}$\")\n",
    "ax1.tick_params(axis='both',which='both',right=False,top=False,labelright=False,direction='in')\n",
    "plt.savefig(\"egsMCStep_%i_%i_%.4f_%.4f_%.4f_%.4f_%.4f_%i.pdf\"%(L,N,U,mu,t,eta,beta,mc_steps))"
   ]
  },
  {
   "cell_type": "markdown",
   "metadata": {},
   "source": [
    "### U/t=0.0,$\\mu=2.0$,$\\beta=2.0$"
   ]
  },
  {
   "cell_type": "code",
   "execution_count": 319,
   "metadata": {},
   "outputs": [
    {
     "name": "stdout",
     "output_type": "stream",
     "text": [
      "<E>/t:  -6.558563621121147\n"
     ]
    }
   ],
   "source": [
    "#Load data\n",
    "kinetic_file_name = \"../../Data/kinetic_4_4_0.0000_0.0000_1.0000_0.0900_2.0000_500000.dat\"\n",
    "diagonal_file_name = \"../../Data/diagonal_4_4_0.0000_0.0000_1.0000_0.0900_2.0000_500000.dat\"\n",
    "kinetic_data = np.loadtxt(kinetic_file_name)\n",
    "diagonal_data = np.loadtxt(diagonal_file_name)\n",
    "\n",
    "# Calculate total ground state energy at each U/t\n",
    "total_data = kinetic_data + diagonal_data\n",
    "\n",
    "#Extract BH and simulation parameters from file name\n",
    "L,N,U,mu,t,eta,beta,mc_steps = kinetic_file_name.split(\"_\")[1:]\n",
    "mc_steps = mc_steps.split(\".\")[0] # get rid of extension\n",
    "L,N,U,mu,t,eta,beta,mc_steps = int(L),int(N),float(U),float(mu),float(t),float(eta),float(beta),int(mc_steps) #Promote from str to int OR float\n",
    "\n",
    "# Calculate ground state energy running average\n",
    "egs_running = np.cumsum(total_data)\n",
    "for i in range(len(egs_running)):\n",
    "    egs_running[i] /= (i+1) \n",
    "    \n",
    "# Set from what values to start plotting due to equilibration\n",
    "samples = len(total_data)\n",
    "mc_fraction = 0.0\n",
    "start = int(round(mc_fraction*samples)) # start-of-data idx\n",
    "\n",
    "# Plot every other dx value\n",
    "percent = 1.001.000\n",
    "dx = int(1/percent)\n",
    "\n",
    "# Set exact value obtained from Exact Diagonalization\n",
    "exact = -8.000000000000002\n",
    "\n",
    "print(\"<E>/t: \",np.mean(total_data[start:]))"
   ]
  },
  {
   "cell_type": "code",
   "execution_count": 320,
   "metadata": {},
   "outputs": [
    {
     "data": {
      "image/png": "[encoded data removed]",
      "text/plain": [
       "<Figure size 432x288 with 1 Axes>"
      ]
     },
     "metadata": {
      "needs_background": "light"
     },
     "output_type": "display_data"
    }
   ],
   "source": [
    "#Plot\n",
    "fig, ax1 = plt.subplots()\n",
    "ax1.plot(egs_running[start:][::dx],'o',color='lightskyblue')\n",
    "ax1.axhline(y=exact,linewidth=1,color=\"#555555\",zorder=2)\n",
    "ax1.set_ylabel(r\"$<E>/t$\")\n",
    "ax1.set_xlabel(r\"$MC_{step}$\")\n",
    "ax1.tick_params(axis='both',which='both',right=False,top=False,labelright=False,direction='in')\n",
    "plt.savefig(\"egsMCStep_%i_%i_%.4f_%.4f_%.4f_%.4f_%.4f_%i.pdf\"%(L,N,U,mu,t,eta,beta,mc_steps))"
   ]
  },
  {
   "cell_type": "markdown",
   "metadata": {},
   "source": [
    "### U/t=0.0,$\\mu=2.0$,$\\beta=2.5$"
   ]
  },
  {
   "cell_type": "code",
   "execution_count": 60,
   "metadata": {},
   "outputs": [
    {
     "name": "stdout",
     "output_type": "stream",
     "text": [
      "<E>/t:  -6.474022077142701\n"
     ]
    }
   ],
   "source": [
    "#Load data\n",
    "kinetic_file_name = \"../../Data/kinetic_4_4_0.0000_0.0000_1.0000_0.0900_2.5000_500000.dat\"\n",
    "diagonal_file_name = \"../../Data/diagonal_4_4_0.0000_0.0000_1.0000_0.0900_2.5000_500000.dat\"\n",
    "kinetic_data = np.loadtxt(kinetic_file_name)\n",
    "diagonal_data = np.loadtxt(diagonal_file_name)\n",
    "\n",
    "# Calculate total ground state energy at each U/t\n",
    "total_data = kinetic_data + diagonal_data\n",
    "total_data = total_data[50:]\n",
    "\n",
    "#Extract BH and simulation parameters from file name\n",
    "L,N,U,mu,t,eta,beta,mc_steps = kinetic_file_name.split(\"_\")[1:]\n",
    "mc_steps = mc_steps.split(\".\")[0] # get rid of extension\n",
    "L,N,U,mu,t,eta,beta,mc_steps = int(L),int(N),float(U),float(mu),float(t),float(eta),float(beta),int(mc_steps) #Promote from str to int OR float\n",
    "\n",
    "# Calculate ground state energy running average\n",
    "egs_running = np.cumsum(total_data)\n",
    "for i in range(len(egs_running)):\n",
    "    egs_running[i] /= (i+1) \n",
    "    \n",
    "# Set from what values to start plotting due to equilibration\n",
    "samples = len(total_data)\n",
    "mc_fraction = 0.0\n",
    "start = int(round(mc_fraction*samples)) # start-of-data idx\n",
    "\n",
    "# Plot every other dx value\n",
    "percent = 1.00\n",
    "dx = int(1/percent)\n",
    "\n",
    "# Set exact value obtained from Exact Diagonalization\n",
    "exact = -8.000000000000002\n",
    "\n",
    "print(\"<E>/t: \",np.mean(total_data[start:]))"
   ]
  },
  {
   "cell_type": "code",
   "execution_count": 61,
   "metadata": {},
   "outputs": [
    {
     "data": {
      "image/png": "[encoded data removed]",
      "text/plain": [
       "<Figure size 432x288 with 1 Axes>"
      ]
     },
     "metadata": {
      "needs_background": "light"
     },
     "output_type": "display_data"
    }
   ],
   "source": [
    "#Plot\n",
    "fig, ax1 = plt.subplots()\n",
    "ax1.plot(egs_running[start:][::dx],'o',color='lightskyblue')\n",
    "ax1.axhline(y=exact,linewidth=1,color=\"#555555\",zorder=2)\n",
    "ax1.set_ylabel(r\"$<E>/t$\")\n",
    "ax1.set_xlabel(r\"$MC_{step}$\")\n",
    "ax1.tick_params(axis='both',which='both',right=False,top=False,labelright=False,direction='in')\n",
    "plt.savefig(\"egsMCStep_%i_%i_%.4f_%.4f_%.4f_%.4f_%.4f_%i.pdf\"%(L,N,U,mu,t,eta,beta,mc_steps))"
   ]
  },
  {
   "cell_type": "markdown",
   "metadata": {},
   "source": [
    "### U/t=0.0,$\\mu=2.0$,$\\beta=3.0$"
   ]
  },
  {
   "cell_type": "code",
   "execution_count": 53,
   "metadata": {},
   "outputs": [
    {
     "name": "stdout",
     "output_type": "stream",
     "text": [
      "<E>/t:  -7.629231474000426\n"
     ]
    }
   ],
   "source": [
    "#Load data\n",
    "kinetic_file_name = \"../../Data/kinetic_4_4_0.0000_0.0000_1.0000_0.0900_3.0000_1000000.dat\"\n",
    "diagonal_file_name = \"../../Data/diagonal_4_4_0.0000_0.0000_1.0000_0.0900_3.0000_1000000.dat\"\n",
    "kinetic_data = np.loadtxt(kinetic_file_name)\n",
    "diagonal_data = np.loadtxt(diagonal_file_name)\n",
    "\n",
    "# Calculate total ground state energy at each U/t\n",
    "total_data = kinetic_data + diagonal_data\n",
    "total_data = total_data[150:]\n",
    "\n",
    "#Extract BH and simulation parameters from file name\n",
    "L,N,U,mu,t,eta,beta,mc_steps = kinetic_file_name.split(\"_\")[1:]\n",
    "mc_steps = mc_steps.split(\".\")[0] # get rid of extension\n",
    "L,N,U,mu,t,eta,beta,mc_steps = int(L),int(N),float(U),float(mu),float(t),float(eta),float(beta),int(mc_steps) #Promote from str to int OR float\n",
    "\n",
    "# Calculate ground state energy running average\n",
    "egs_running = np.cumsum(total_data)\n",
    "for i in range(len(egs_running)):\n",
    "    egs_running[i] /= (i+1) \n",
    "    \n",
    "# Set from what values to start plotting due to equilibration\n",
    "samples = len(total_data)\n",
    "mc_fraction = 0.0\n",
    "start = int(round(mc_fraction*samples)) # start-of-data idx\n",
    "\n",
    "# Plot every other dx value\n",
    "percent = 1.00\n",
    "dx = int(1/percent)\n",
    "\n",
    "# Set exact value obtained from Exact Diagonalization\n",
    "exact = -8.000000000000002\n",
    "\n",
    "print(\"<E>/t: \",np.mean(total_data[start:]))"
   ]
  },
  {
   "cell_type": "code",
   "execution_count": 54,
   "metadata": {},
   "outputs": [
    {
     "data": {
      "image/png": "[encoded data removed]",
      "text/plain": [
       "<Figure size 432x288 with 1 Axes>"
      ]
     },
     "metadata": {
      "needs_background": "light"
     },
     "output_type": "display_data"
    }
   ],
   "source": [
    "#Plot\n",
    "fig, ax1 = plt.subplots()\n",
    "ax1.plot(egs_running[start:][::dx],'o',color='lightskyblue')\n",
    "ax1.axhline(y=exact,linewidth=1,color=\"#555555\",zorder=2)\n",
    "ax1.set_ylabel(r\"$<E>/t$\")\n",
    "ax1.set_xlabel(r\"$MC_{step}$\")\n",
    "ax1.tick_params(axis='both',which='both',right=False,top=False,labelright=False,direction='in')\n",
    "plt.savefig(\"egsMCStep_%i_%i_%.4f_%.4f_%.4f_%.4f_%.4f_%i.pdf\"%(L,N,U,mu,t,eta,beta,mc_steps))"
   ]
  },
  {
   "cell_type": "markdown",
   "metadata": {},
   "source": [
    "### U/t=0.0,$\\mu=2.0$,$\\beta=3.0$,${MC}_{step}=10^6$"
   ]
  },
  {
   "cell_type": "code",
   "execution_count": 358,
   "metadata": {},
   "outputs": [
    {
     "name": "stdout",
     "output_type": "stream",
     "text": [
      "<E>/t:  -7.569795897505489\n"
     ]
    }
   ],
   "source": [
    "#Load data\n",
    "kinetic_file_name = \"../../Data/kinetic_4_4_0.0000_0.0000_1.0000_0.0900_3.0000_1000000.dat\"\n",
    "diagonal_file_name = \"../../Data/diagonal_4_4_0.0000_0.0000_1.0000_0.0900_3.0000_1000000.dat\"\n",
    "kinetic_data = np.loadtxt(kinetic_file_name)\n",
    "diagonal_data = np.loadtxt(diagonal_file_name)\n",
    "\n",
    "# Calculate total ground state energy at each U/t\n",
    "total_data = kinetic_data + diagonal_data\n",
    "\n",
    "#Extract BH and simulation parameters from file name\n",
    "L,N,U,mu,t,eta,beta,mc_steps = kinetic_file_name.split(\"_\")[1:]\n",
    "mc_steps = mc_steps.split(\".\")[0] # get rid of extension\n",
    "L,N,U,mu,t,eta,beta,mc_steps = int(L),int(N),float(U),float(mu),float(t),float(eta),float(beta),int(mc_steps) #Promote from str to int OR float\n",
    "\n",
    "# Calculate ground state energy running average\n",
    "egs_running = np.cumsum(total_data)\n",
    "for i in range(len(egs_running)):\n",
    "    egs_running[i] /= (i+1) \n",
    "    \n",
    "# Set from what values to start plotting due to equilibration\n",
    "samples = len(total_data)\n",
    "mc_fraction = 0.0\n",
    "start = int(round(mc_fraction*samples)) # start-of-data idx\n",
    "\n",
    "# Plot every other dx value\n",
    "percent = 1.001.000\n",
    "dx = int(1/percent)\n",
    "\n",
    "# Set exact value obtained from Exact Diagonalization\n",
    "exact = -8.000000000000002\n",
    "\n",
    "print(\"<E>/t: \",egs_running[start:][::dx][-1])"
   ]
  },
  {
   "cell_type": "code",
   "execution_count": 359,
   "metadata": {},
   "outputs": [
    {
     "data": {
      "image/png": "[encoded data removed]",
      "text/plain": [
       "<Figure size 432x288 with 1 Axes>"
      ]
     },
     "metadata": {
      "needs_background": "light"
     },
     "output_type": "display_data"
    }
   ],
   "source": [
    "#Plot\n",
    "fig, ax1 = plt.subplots()\n",
    "ax1.plot(egs_running[start:][::dx],'o',color='lightskyblue')\n",
    "ax1.axhline(y=exact,linewidth=1,color=\"#555555\",zorder=2)\n",
    "ax1.set_ylabel(r\"$<E>/t$\")\n",
    "ax1.set_xlabel(r\"$MC_{step}$\")\n",
    "ax1.tick_params(axis='both',which='both',right=False,top=False,labelright=False,direction='in')\n",
    "plt.savefig(\"egsMCStep_%i_%i_%.4f_%.4f_%.4f_%.4f_%.4f_%i.pdf\"%(L,N,U,mu,t,eta,beta,mc_steps))"
   ]
  },
  {
   "cell_type": "markdown",
   "metadata": {},
   "source": [
    "### $U/t=0.0$,$\\mu=2.0$,$\\beta=3.0$,${MC}_{step}=2\\times10^6$"
   ]
  },
  {
   "cell_type": "code",
   "execution_count": 356,
   "metadata": {},
   "outputs": [
    {
     "name": "stdout",
     "output_type": "stream",
     "text": [
      "<E>/t:  -6.782046064385297\n"
     ]
    }
   ],
   "source": [
    "#Load data\n",
    "kinetic_file_name = \"../../Data/kinetic_4_4_0.0000_0.0000_1.0000_0.0900_3.0000_2000000.dat\"\n",
    "diagonal_file_name = \"../../Data/diagonal_4_4_0.0000_0.0000_1.0000_0.0900_3.0000_2000000.dat\"\n",
    "kinetic_data = np.loadtxt(kinetic_file_name)\n",
    "diagonal_data = np.loadtxt(diagonal_file_name)\n",
    "\n",
    "# Calculate total ground state energy at each U/t\n",
    "total_data = kinetic_data + diagonal_data\n",
    "\n",
    "#Extract BH and simulation parameters from file name\n",
    "L,N,U,mu,t,eta,beta,mc_steps = kinetic_file_name.split(\"_\")[1:]\n",
    "mc_steps = mc_steps.split(\".\")[0] # get rid of extension\n",
    "L,N,U,mu,t,eta,beta,mc_steps = int(L),int(N),float(U),float(mu),float(t),float(eta),float(beta),int(mc_steps) #Promote from str to int OR float\n",
    "\n",
    "# Calculate ground state energy running average\n",
    "egs_running = np.cumsum(total_data)\n",
    "for i in range(len(egs_running)):\n",
    "    egs_running[i] /= (i+1) \n",
    "    \n",
    "# Set from what values to start plotting due to equilibration\n",
    "samples = len(total_data)\n",
    "mc_fraction = 0.0\n",
    "start = int(round(mc_fraction*samples)) # start-of-data idx\n",
    "\n",
    "# Plot every other dx value\n",
    "percent = 1.001.000\n",
    "dx = int(1/percent)\n",
    "\n",
    "# Set exact value obtained from Exact Diagonalization\n",
    "exact = -8.000000000000002\n",
    "\n",
    "print(\"<E>/t: \",egs_running[start:][::dx][-1])"
   ]
  },
  {
   "cell_type": "code",
   "execution_count": 357,
   "metadata": {},
   "outputs": [
    {
     "data": {
      "image/png": "[encoded data removed]",
      "text/plain": [
       "<Figure size 432x288 with 1 Axes>"
      ]
     },
     "metadata": {
      "needs_background": "light"
     },
     "output_type": "display_data"
    }
   ],
   "source": [
    "#Plot\n",
    "fig, ax1 = plt.subplots()\n",
    "ax1.plot(egs_running[start:][::dx],'o',color='lightskyblue')\n",
    "ax1.axhline(y=exact,linewidth=1,color=\"#555555\",zorder=2)\n",
    "ax1.set_ylabel(r\"$<E>/t$\")\n",
    "ax1.set_xlabel(r\"$MC_{step}$\")\n",
    "ax1.tick_params(axis='both',which='both',right=False,top=False,labelright=False,direction='in')\n",
    "plt.savefig(\"egsMCStep_%i_%i_%.4f_%.4f_%.4f_%.4f_%.4f_%i.pdf\"%(L,N,U,mu,t,eta,beta,mc_steps))"
   ]
  },
  {
   "cell_type": "markdown",
   "metadata": {},
   "source": [
    "### $U/t=0.0$,$\\mu=2.0$,$\\beta=2.0$,${MC}_{step}=10^6$"
   ]
  },
  {
   "cell_type": "code",
   "execution_count": 361,
   "metadata": {},
   "outputs": [
    {
     "name": "stdout",
     "output_type": "stream",
     "text": [
      "<E>/t:  -6.713460006125327\n"
     ]
    }
   ],
   "source": [
    "#Load data\n",
    "kinetic_file_name = \"../../Data/kinetic_4_4_0.0000_0.0000_1.0000_0.0900_2.0000_1000000.dat\"\n",
    "diagonal_file_name = \"../../Data/diagonal_4_4_0.0000_0.0000_1.0000_0.0900_2.0000_1000000.dat\"\n",
    "kinetic_data = np.loadtxt(kinetic_file_name)\n",
    "diagonal_data = np.loadtxt(diagonal_file_name)\n",
    "\n",
    "# Calculate total ground state energy at each U/t\n",
    "total_data = kinetic_data + diagonal_data\n",
    "\n",
    "#Extract BH and simulation parameters from file name\n",
    "L,N,U,mu,t,eta,beta,mc_steps = kinetic_file_name.split(\"_\")[1:]\n",
    "mc_steps = mc_steps.split(\".\")[0] # get rid of extension\n",
    "L,N,U,mu,t,eta,beta,mc_steps = int(L),int(N),float(U),float(mu),float(t),float(eta),float(beta),int(mc_steps) #Promote from str to int OR float\n",
    "\n",
    "# Calculate ground state energy running average\n",
    "egs_running = np.cumsum(total_data)\n",
    "for i in range(len(egs_running)):\n",
    "    egs_running[i] /= (i+1) \n",
    "    \n",
    "# Set from what values to start plotting due to equilibration\n",
    "samples = len(total_data)\n",
    "mc_fraction = 0.0\n",
    "start = int(round(mc_fraction*samples)) # start-of-data idx\n",
    "\n",
    "# Plot every other dx value\n",
    "percent = 1.001.000\n",
    "dx = int(1/percent)\n",
    "\n",
    "# Set exact value obtained from Exact Diagonalization\n",
    "exact = -8.000000000000002\n",
    "\n",
    "print(\"<E>/t: \",egs_running[start:][::dx][-1])"
   ]
  },
  {
   "cell_type": "code",
   "execution_count": 362,
   "metadata": {},
   "outputs": [
    {
     "data": {
      "image/png": "[encoded data removed]",
      "text/plain": [
       "<Figure size 432x288 with 1 Axes>"
      ]
     },
     "metadata": {
      "needs_background": "light"
     },
     "output_type": "display_data"
    }
   ],
   "source": [
    "#Plot\n",
    "fig, ax1 = plt.subplots()\n",
    "ax1.plot(egs_running[start:][::dx],'o',color='lightskyblue')\n",
    "ax1.axhline(y=exact,linewidth=1,color=\"#555555\",zorder=2)\n",
    "ax1.set_ylabel(r\"$<E>/t$\")\n",
    "ax1.set_xlabel(r\"$MC_{step}$\")\n",
    "ax1.tick_params(axis='both',which='both',right=False,top=False,labelright=False,direction='in')\n",
    "plt.savefig(\"egsMCStep_%i_%i_%.4f_%.4f_%.4f_%.4f_%.4f_%i.pdf\"%(L,N,U,mu,t,eta,beta,mc_steps))"
   ]
  },
  {
   "cell_type": "code",
   "execution_count": null,
   "metadata": {},
   "outputs": [],
   "source": []
  },
  {
   "cell_type": "markdown",
   "metadata": {},
   "source": [
    "### $U/t=0.0$,$\\mu=2.0$,$\\beta=2.0$,${MC}_{step}=10^6$"
   ]
  },
  {
   "cell_type": "code",
   "execution_count": 11,
   "metadata": {},
   "outputs": [
    {
     "name": "stdout",
     "output_type": "stream",
     "text": [
      "<E>/t:  -1.6655843553707201\n"
     ]
    }
   ],
   "source": [
    "#Load data\n",
    "kinetic_file_name = \"../../Data/kinetic_2_2_0.0000_0.0000_1.0000_0.0900_1.0000_100000.dat\"\n",
    "diagonal_file_name = \"../../Data/diagonal_2_2_0.0000_0.0000_1.0000_0.0900_1.0000_100000.dat\"\n",
    "kinetic_data = np.loadtxt(kinetic_file_name)\n",
    "diagonal_data = np.loadtxt(diagonal_file_name)\n",
    "\n",
    "# Calculate total ground state energy at each U/t\n",
    "total_data = kinetic_data + diagonal_data\n",
    "\n",
    "#Extract BH and simulation parameters from file name\n",
    "L,N,U,mu,t,eta,beta,mc_steps = kinetic_file_name.split(\"_\")[1:]\n",
    "mc_steps = mc_steps.split(\".\")[0] # get rid of extension\n",
    "L,N,U,mu,t,eta,beta,mc_steps = int(L),int(N),float(U),float(mu),float(t),float(eta),float(beta),int(mc_steps) #Promote from str to int OR float\n",
    "\n",
    "# Calculate ground state energy running average\n",
    "egs_running = np.cumsum(total_data)\n",
    "for i in range(len(egs_running)):\n",
    "    egs_running[i] /= (i+1) \n",
    "    \n",
    "# Set from what values to start plotting due to equilibration\n",
    "samples = len(total_data)\n",
    "mc_fraction = 0.5\n",
    "start = int(round(mc_fraction*samples)) # start-of-data idx\n",
    "\n",
    "# Plot every other dx value\n",
    "percent = 1.00\n",
    "dx = int(1/percent)\n",
    "\n",
    "# Set exact value obtained from Exact Diagonalization\n",
    "exact = -4.000000000000001\n",
    "\n",
    "print(\"<E>/t: \",np.mean(total_data[start:]))"
   ]
  },
  {
   "cell_type": "code",
   "execution_count": 12,
   "metadata": {},
   "outputs": [
    {
     "data": {
      "image/png": "[encoded data removed]",
      "text/plain": [
       "<Figure size 432x288 with 1 Axes>"
      ]
     },
     "metadata": {
      "needs_background": "light"
     },
     "output_type": "display_data"
    }
   ],
   "source": [
    "#Plot\n",
    "fig, ax1 = plt.subplots()\n",
    "ax1.plot(egs_running[start:][::dx],'o',color='lightskyblue')\n",
    "ax1.axhline(y=exact,linewidth=1,color=\"#555555\",zorder=2)\n",
    "ax1.set_ylabel(r\"$<E>/t$\")\n",
    "ax1.set_xlabel(r\"$MC_{step}$\")\n",
    "ax1.tick_params(axis='both',which='both',right=False,top=False,labelright=False,direction='in')\n",
    "plt.savefig(\"egsMCStep_%i_%i_%.4f_%.4f_%.4f_%.4f_%.4f_%i.pdf\"%(L,N,U,mu,t,eta,beta,mc_steps))"
   ]
  },
  {
   "cell_type": "code",
   "execution_count": null,
   "metadata": {},
   "outputs": [],
   "source": []
  }
 ],
 "metadata": {
  "kernelspec": {
   "display_name": "Python 3",
   "language": "python",
   "name": "python3"
  },
  "language_info": {
   "codemirror_mode": {
    "name": "ipython",
    "version": 3
   },
   "file_extension": ".py",
   "mimetype": "text/x-python",
   "name": "python",
   "nbconvert_exporter": "python",
   "pygments_lexer": "ipython3",
   "version": "3.7.3"
  }
 },
 "nbformat": 4,
 "nbformat_minor": 4
}
