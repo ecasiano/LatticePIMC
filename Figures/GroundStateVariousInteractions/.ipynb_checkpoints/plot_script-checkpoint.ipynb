{
 "cells": [
  {
   "cell_type": "markdown",
   "metadata": {},
   "source": [
    "### Ground state energy as a function of interaction strength"
   ]
  },
  {
   "cell_type": "code",
   "execution_count": 1,
   "metadata": {},
   "outputs": [],
   "source": [
    "import numpy as np\n",
    "import matplotlib.pyplot as plt"
   ]
  },
  {
   "cell_type": "code",
   "execution_count": 2,
   "metadata": {},
   "outputs": [],
   "source": [
    "#Load data\n",
    "kinetic_file_name = \"../../Data/kinetic_4_4_10.0000_5.0000_1.0000_0.0900_1.0000_500000.dat\"\n",
    "diagonal_file_name = \"../../Data/diagonal_4_4_10.0000_5.0000_1.0000_0.0900_1.0000_500000.dat\"\n",
    "kinetic_data = np.loadtxt(kinetic_file_name)\n",
    "diagonal_data = np.loadtxt(diagonal_file_name)\n",
    "\n",
    "# Calculate total ground state energy at each U/t\n",
    "total_data = kinetic_data + diagonal_data\n",
    "\n",
    "#Extract BH and simulation parameters from file name\n",
    "L,N,U,mu,t,eta,beta,mc_steps = kinetic_file_name.split(\"_\")[1:]\n",
    "mc_steps = mc_steps.split(\".\")[0] # get rid of extension\n",
    "L,N,U,mu,t,eta,beta,mc_steps = int(L),int(N),float(U),float(mu),float(t),float(eta),float(beta),int(mc_steps) #Promote from str to int OR float"
   ]
  },
  {
   "cell_type": "code",
   "execution_count": 98,
   "metadata": {},
   "outputs": [
    {
     "data": {
      "image/png": "[encoded data removed]",
      "text/plain": [
       "<Figure size 432x288 with 1 Axes>"
      ]
     },
     "metadata": {
      "needs_background": "light"
     },
     "output_type": "display_data"
    }
   ],
   "source": [
    "#Plot\n",
    "Uot_list = [0,1,2,3,4,5,6,7,8,9,10,11,12,13,14,15,16]\n",
    "#beta=1,mc_steps = 500,000\n",
    "Eot_list = [-6.414108933727686,-5.059666338517908,\n",
    "            -4.2523001927574455,-3.4297500485049124,\n",
    "            -2.917390072840013,-2.5954679931598386,\n",
    "            -2.246331661385971,-2.295367741400423,\n",
    "            -2.1219996852139698,-2.0458927231793242,\n",
    "            -1.888756308198642,-1.8231245905454108,\n",
    "            -1.728946054504635,-1.7142656268864396,\n",
    "            -1.599733888323471,-1.4857844897824422,\n",
    "            -1.2164337665865517]\n",
    "Eot_list_exact = [-8.000000000000002,-6.681733497641256,\n",
    "                  -5.613864939117682,-4.721363934828824,\n",
    "                  -3.9765130137420543,-3.3642622295673523,\n",
    "                  -2.8697399783374693,-2.47505670500198,\n",
    "                  -2.1610571997712014,-1.910056955160866,\n",
    "                  -1.7073975372483998,-1.541691208444117,\n",
    "                  -1.4043778357715808,-1.2891013254054347,\n",
    "                  -1.1911417583681392,-1.1069696110484792,\n",
    "                  -1.0339175139514507]\n",
    "#beta=3,mc_steps = 1,000,000\n",
    "# Eot_list = [-7.569795897505489,-5.141679201436741,\n",
    "#            -4.457127647941221,-3.397738344289281,\n",
    "#            -2.5887850286331133,-2.2617947118262096,\n",
    "#            -1.8569571586247808,-1.723612884126813,\n",
    "#            -1.492538585489226,-1.4382810991711898,\n",
    "#            -1.076726848052756]\n",
    "# Eot_list_exact = [-8.000000000000002,-6.681733497641256,\n",
    "#                   -5.613864939117682,-4.721363934828824,\n",
    "#                   -3.9765130137420543,-3.3642622295673523,\n",
    "#                   -2.8697399783374693,-2.47505670500198,\n",
    "#                   -2.1610571997712014,-1.910056955160866,\n",
    "#                   -1.7073975372483998,-1.541691208444117,\n",
    "#                   -1.4043778357715808,-1.2891013254054347,\n",
    "#                   -1.1911417583681392,-1.1069696110484792,\n",
    "#                   -1.0339175139514507]\n",
    "         \n",
    "# Add errrorbars\n",
    "\n",
    "error_bar_data = np.loadtxt(\"../BinningAnalysis/egserrVariousInteractions.dat\")\n",
    "\n",
    "fig, ax1 = plt.subplots()\n",
    "ax1.plot(Uot_list,Eot_list_exact,'-',color='#cccccc',label=\"ED\",zorder=0)\n",
    "ax1.plot(Uot_list,Eot_list,'o',ms=4,mfc='lightskyblue',mec=\"dodgerblue\",mew=0.5,alpha=1.0,label=\"PIMC\")\n",
    "(_, caps, _) = plt.errorbar(Uot_list, Eot_list,marker='o',mec='dodgerblue',mfc='lightskyblue',mew=0.5,alpha=1,yerr=error_bar_data[:,1],fmt='o',ecolor='dodgerblue',zorder=1,capsize=2,ms=0,elinewidth=0.5)\n",
    "for cap in caps:\n",
    "    cap.set_markeredgewidth(0.5)\n",
    "#ax1.errorbar(Uot_list, Eot_list,marker='o',color='lightskyblue',mfc=\"None\",alpha=1,yerr=error_bar_data[:,1],fmt='o',capthick=20,ecolor='black',zorder=10)\n",
    "ax1.set_ylabel(r\"$<E>/t$\")\n",
    "ax1.set_xlabel(r\"$U/t$\")\n",
    "ax1.tick_params(axis='both',which='both',right=False,top=False,labelright=False,direction='in')\n",
    "plt.legend()\n",
    "plt.savefig(\"egsUot_%i_%i_U_Uhalf_%.4f_%.4f_%.4f_%i.pdf\"%(L,N,t,eta,beta,mc_steps))"
   ]
  },
  {
   "cell_type": "code",
   "execution_count": 72,
   "metadata": {},
   "outputs": [],
   "source": [
    "# Add errrorbars\n",
    "\n",
    "error_bar_data = np.loadtxt(\"../BinningAnalysis/egserrVariousInteractions.dat\",)\n"
   ]
  },
  {
   "cell_type": "code",
   "execution_count": 13,
   "metadata": {},
   "outputs": [
    {
     "data": {
      "text/plain": [
       "array([ 0.,  1.,  2.,  3.,  4.,  5.,  6.,  7.,  8.,  9., 10., 11., 12.,\n",
       "       13., 14., 15., 16.])"
      ]
     },
     "execution_count": 13,
     "metadata": {},
     "output_type": "execute_result"
    }
   ],
   "source": [
    "error_bar_data[:,0]"
   ]
  },
  {
   "cell_type": "code",
   "execution_count": null,
   "metadata": {},
   "outputs": [],
   "source": []
  },
  {
   "cell_type": "code",
   "execution_count": null,
   "metadata": {},
   "outputs": [],
   "source": []
  },
  {
   "cell_type": "code",
   "execution_count": null,
   "metadata": {},
   "outputs": [],
   "source": []
  },
  {
   "cell_type": "code",
   "execution_count": null,
   "metadata": {},
   "outputs": [],
   "source": []
  }
 ],
 "metadata": {
  "kernelspec": {
   "display_name": "Python 3",
   "language": "python",
   "name": "python3"
  },
  "language_info": {
   "codemirror_mode": {
    "name": "ipython",
    "version": 3
   },
   "file_extension": ".py",
   "mimetype": "text/x-python",
   "name": "python",
   "nbconvert_exporter": "python",
   "pygments_lexer": "ipython3",
   "version": "3.7.3"
  }
 },
 "nbformat": 4,
 "nbformat_minor": 4
}
