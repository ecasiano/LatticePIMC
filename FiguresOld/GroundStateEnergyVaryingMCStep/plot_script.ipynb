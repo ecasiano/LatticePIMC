{
 "cells": [
  {
   "cell_type": "markdown",
   "metadata": {},
   "source": [
    "### Ground state energy as a function of Monte Carlo step"
   ]
  },
  {
   "cell_type": "code",
   "execution_count": 85,
   "metadata": {},
   "outputs": [],
   "source": [
    "import numpy as np\n",
    "import matplotlib.pyplot as plt"
   ]
  },
  {
   "cell_type": "markdown",
   "metadata": {},
   "source": [
    "### Sweep over $U/t$ with $\\mu/t=U/2$"
   ]
  },
  {
   "cell_type": "code",
   "execution_count": 86,
   "metadata": {},
   "outputs": [],
   "source": [
    "#Load data\n",
    "file_names = [ \"4_4_16.0000_8.0000_1.0000_0.2396_1.0000_1000000_can.dat\" ,\n",
    "\"4_4_15.0000_7.5000_1.0000_0.2349_1.0000_1000000_can.dat\" ,\n",
    "\"4_4_14.0000_7.0000_1.0000_0.2269_1.0000_1000000_can.dat\" ,\n",
    "\"4_4_13.0000_6.5000_1.0000_0.2229_1.0000_1000000_can.dat\" ,\n",
    "\"4_4_12.0000_6.0000_1.0000_0.2185_1.0000_1000000_can.dat\" ,\n",
    "\"4_4_11.0000_5.5000_1.0000_0.2095_1.0000_1000000_can.dat\" ,\n",
    "\"4_4_10.0000_5.0000_1.0000_0.2039_1.0000_1000000_can.dat\" ,\n",
    "\"4_4_9.0000_4.5000_1.0000_0.1986_1.0000_1000000_can.dat\" ,\n",
    "\"4_4_8.0000_4.0000_1.0000_0.1902_1.0000_1000000_can.dat\" ,\n",
    "\"4_4_7.0000_3.5000_1.0000_0.1865_1.0000_1000000_can.dat\" ,\n",
    "\"4_4_6.0000_3.0000_1.0000_0.1805_1.0000_1000000_can.dat\" ,\n",
    "\"4_4_5.0000_2.5000_1.0000_0.1756_1.0000_1000000_can.dat\" ,\n",
    "\"4_4_4.0000_2.0000_1.0000_0.1713_1.0000_1000000_can.dat\" ,\n",
    "\"4_4_3.0000_1.5000_1.0000_0.1684_1.0000_1000000_can.dat\" ,\n",
    "\"4_4_2.0000_1.0000_1.0000_0.1651_1.0000_1000000_can.dat\" ,\n",
    "\"4_4_1.0000_0.5000_1.0000_0.1617_1.0000_1000000_can.dat\" ,\n",
    "\"4_4_0.0000_0.0000_1.0000_0.1604_1.0000_1000000_can.dat\" ]\n",
    "file_names = file_names[::-1]\n",
    "\n",
    "# Exact E/t values for U/t = [0,16] (obtained via ED)\n",
    "Eot_list_exact = [-8.000000000000002,-6.681733497641256,\n",
    "                  -5.613864939117682,-4.721363934828824,\n",
    "                  -3.9765130137420543,-3.3642622295673523,\n",
    "                  -2.8697399783374693,-2.47505670500198,\n",
    "                  -2.1610571997712014,-1.910056955160866,\n",
    "                  -1.7073975372483998,-1.541691208444117,\n",
    "                  -1.4043778357715808,-1.2891013254054347,\n",
    "                  -1.1911417583681392,-1.1069696110484792,\n",
    "                  -1.0339175139514507]\n",
    "\n",
    "# Stores mean E/t obtained from PIMC\n",
    "Eot_list = []\n",
    "\n",
    "# Values of U/t\n",
    "Uot_list = list(range(17))"
   ]
  },
  {
   "cell_type": "code",
   "execution_count": 87,
   "metadata": {},
   "outputs": [
    {
     "name": "stdout",
     "output_type": "stream",
     "text": [
      "<E>/t: -6.7020611336234932 U/t: 0.0000 mu: 0.0000\n",
      "<E>/t: -5.1247618594018487 U/t: 1.0000 mu: 0.5000\n",
      "<E>/t: -4.1568745848678876 U/t: 2.0000 mu: 1.0000\n",
      "<E>/t: -3.2755261784662442 U/t: 3.0000 mu: 1.5000\n",
      "<E>/t: -2.5015374580695098 U/t: 4.0000 mu: 2.0000\n",
      "<E>/t: -2.0212355692670254 U/t: 5.0000 mu: 2.5000\n",
      "<E>/t: -1.7073144885689631 U/t: 6.0000 mu: 3.0000\n",
      "<E>/t: -1.2628072483703696 U/t: 7.0000 mu: 3.5000\n",
      "<E>/t: -1.0790602214425506 U/t: 8.0000 mu: 4.0000\n",
      "<E>/t: -0.9297558612477822 U/t: 9.0000 mu: 4.5000\n",
      "<E>/t: -0.9290685925987553 U/t: 10.0000 mu: 5.0000\n",
      "<E>/t: -0.6399412653697418 U/t: 11.0000 mu: 5.5000\n",
      "<E>/t: -0.5722071974927290 U/t: 12.0000 mu: 6.0000\n",
      "<E>/t: -0.5342120888255077 U/t: 13.0000 mu: 6.5000\n",
      "<E>/t: -0.4278204272339936 U/t: 14.0000 mu: 7.0000\n",
      "<E>/t: -0.4294195201534152 U/t: 15.0000 mu: 7.5000\n",
      "<E>/t: -0.2987227089372660 U/t: 16.0000 mu: 8.0000\n"
     ]
    }
   ],
   "source": [
    "# Do MC_step sweep for each U/t file\n",
    "ctr = 0\n",
    "for file_name in file_names:\n",
    "    data = np.loadtxt(\"../../Data/\"+file_name)\n",
    "    total_data = data[:,2]\n",
    "\n",
    "    #Extract BH and simulation parameters from file name\n",
    "    L,N,U,mu,t,eta,beta,mc_steps,ensemble = file_name.split(\"_\")[:]\n",
    "    ensemble = ensemble.split(\".\")[0] # get rid of extension\n",
    "    L,N,U,mu,t,eta,beta,mc_steps,ensemble = int(L),int(N),float(U),float(mu),float(t),float(eta),float(beta),int(mc_steps),ensemble #Promote from str to int OR float\n",
    "\n",
    "    # Calculate ground state energy running average\n",
    "    egs_running = np.cumsum(total_data)\n",
    "    for i in range(len(egs_running)):\n",
    "        egs_running[i] /= (i+1) \n",
    "\n",
    "    # Set from what values to start plotting due to equilibration\n",
    "    samples = len(total_data)\n",
    "    mc_fraction = 0.25\n",
    "    start = int(round(mc_fraction*samples)) # start-of-data idx\n",
    "\n",
    "    # Set exact value obtained from Exact Diagonalization\n",
    "    exact = Eot_list_exact[ctr]\n",
    "    dx = 10 # Plot only every other dx point\n",
    "    \n",
    "    # Calculate mean value from data\n",
    "    mean_total = np.mean(total_data[start:])\n",
    "    Eot_list.append(mean_total)\n",
    "    \n",
    "    print(\"<E>/t: %.16f U/t: %.4f mu: %.4f\"%(np.mean(total_data[start:]),U,mu))\n",
    "\n",
    "    #Plot\n",
    "    fig, ax1 = plt.subplots()\n",
    "    ax1.plot(egs_running[start:][::dx],'-',color='lightskyblue')\n",
    "    ax1.axhline(y=exact,linewidth=1,color=\"#555555\",zorder=2)\n",
    "    ax1.set_ylabel(r\"$<E>/t$\")\n",
    "    ax1.set_xlabel(r\"$MC_{step}$\")\n",
    "    ax1.set_ylim(-11,5)\n",
    "    ax1.tick_params(axis='both',which='both',right=False,top=False,labelright=False,direction='in')\n",
    "    plt.savefig(\"egsMCStep_%i_%i_%.4f_%.4f_%.4f_%.4f_%.4f_%i_%s.pdf\"%(L,N,U,mu,t,eta,beta,mc_steps,ensemble));\n",
    "    plt.close();\n",
    "    \n",
    "    # Update the iteration counter\n",
    "    ctr += 1;"
   ]
  },
  {
   "cell_type": "markdown",
   "metadata": {},
   "source": [
    "### Calculate error bars for each point $U/t$ point"
   ]
  },
  {
   "cell_type": "code",
   "execution_count": 88,
   "metadata": {},
   "outputs": [],
   "source": [
    "# Error analysis functions\n",
    "\n",
    "def get_std_error(mc_data):\n",
    "    '''Input array and calculate standard error'''\n",
    "    N_bins = np.shape(mc_data)[0]\n",
    "    std_error = np.std(mc_data)/np.sqrt(N_bins)\n",
    "    \n",
    "    return std_error\n",
    "\n",
    "def get_binned_data(mc_data):\n",
    "    '''Return neighbor averaged data.'''\n",
    "    N_bins = np.shape(mc_data)[0]\n",
    "    start_bin = N_bins % 2\n",
    "    binned_mc_data = 0.5*(mc_data[start_bin::2]+mc_data[start_bin+1::2]) #Averages (A0,A1), (A2,A3), + ... A0 ignored if odd data\n",
    "\n",
    "    return binned_mc_data\n",
    "\n",
    "def get_autocorrelation_time(error_data):\n",
    "    '''Given an array of standard errors, calculates autocorrelation time'''\n",
    "    print(error_data[0],error_data[-2])\n",
    "    autocorr_time = 0.5*((error_data[-2]/error_data[0])**2 - 1)\n",
    "    return autocorr_time"
   ]
  },
  {
   "cell_type": "code",
   "execution_count": 89,
   "metadata": {},
   "outputs": [
    {
     "ename": "SyntaxError",
     "evalue": "invalid syntax (<ipython-input-89-f99c1792d2c1>, line 28)",
     "output_type": "error",
     "traceback": [
      "\u001b[0;36m  File \u001b[0;32m\"<ipython-input-89-f99c1792d2c1>\"\u001b[0;36m, line \u001b[0;32m28\u001b[0m\n\u001b[0;31m    std_errors.append(get_std_error(binned_data))\u001b[0m\n\u001b[0m             ^\u001b[0m\n\u001b[0;31mSyntaxError\u001b[0m\u001b[0;31m:\u001b[0m invalid syntax\n"
     ]
    }
   ],
   "source": [
    "# Initialize list that will store that maximum standard error for each point\n",
    "std_error_max_list = []\n",
    "\n",
    "# Do error analysis for each U/t file\n",
    "ctr = 0\n",
    "for file_name in file_names:\n",
    "    \n",
    "    data = np.loadtxt(\"../../Data/\"+file_name)\n",
    "    total_data = data[:,2] # Extract the total energy data\n",
    "\n",
    "    #Extract BH and simulation parameters from file name\n",
    "    L,N,U,mu,t,eta,beta,mc_steps,ensemble = file_name.split(\"_\")[:]\n",
    "    ensemble = ensemble.split(\".\")[0] # get rid of extension\n",
    "    L,N,U,mu,t,eta,beta,mc_steps,ensemble = int(L),int(N),float(U),float(mu),float(t),float(eta),float(beta),int(mc_steps),ensemble #Promote from str to int OR float\n",
    "\n",
    "    \n",
    "    #Determine max bin level\n",
    "    max_bin_level = int(np.log2(len(total_data)))\n",
    "    min_bin = 40\n",
    "\n",
    "    #Initialize list that saves standard error at each bin level\n",
    "    std_errors = []\n",
    "\n",
    "    #Binning loop\n",
    "    binned_data = np.copy(total_data)\n",
    "    for i in range(max_bin_level):\n",
    "        print(len(binned_data))\n",
    "        std_errors.append(get_std_error(binned_data))   \n",
    "        if len(binned_data)/2 <= min_bin: \n",
    "              break\n",
    "        else:\n",
    "              binned_data = get_binned_data(binned_data)\n",
    "\n",
    "    # Retrieve the maximum standard error\n",
    "    std_error_max = np.max(std_errors)\n",
    "    \n",
    "    # Save the max std error for each U/t (Will use for errorbars later)\n",
    "    std_error_max_list.append(std_error_max)\n",
    "    \n",
    "    # Save bin analysis data to disk\n",
    "    std_errors = np.array(std_errors)\n",
    "    with open(\"egserr_%i_%i_%.4f_%.4f_%.4f_%.4f_%.4f_%i_%s.dat\"%(L,N,U,mu,t,eta,beta,mc_steps,ensemble),\"w+\") as data:\n",
    "        np.savetxt(data,std_errors,delimiter=\" \",fmt=\"%.16f\",header=\"MC_step <E> // BH Parameters: L=%d,N=%d,U=%.8f,mu=%.8f,t=%.4f,eta=%.8f,beta=%.4f,MC_steps=%i\"%(L,N,U,mu,t,eta,beta,mc_steps))\n",
    "            \n",
    "    # Bin plot\n",
    "    fig, ax1 = plt.subplots()\n",
    "    ax1.plot(std_errors,'-',color='lightskyblue')\n",
    "    ax1.plot(std_errors,'o',color='lightskyblue')\n",
    "    ax1.set_ylabel(r\"$Std.Error$\")\n",
    "    ax1.set_xlabel(r\"$BinLevel$\")\n",
    "    ax1.tick_params(axis='both',which='both',right=False,top=False,labelright=False,direction='in')\n",
    "    plt.savefig(\"egserr_%i_%i_%.4f_%.4f_%.4f_%.4f_%.4f_%i_%s.pdf\"%(L,N,U,mu,t,eta,beta,mc_steps,ensemble));\n",
    "    plt.close();"
   ]
  },
  {
   "cell_type": "markdown",
   "metadata": {},
   "source": [
    "### Plot the $U/t$ sweep with error bars"
   ]
  },
  {
   "cell_type": "code",
   "execution_count": null,
   "metadata": {},
   "outputs": [],
   "source": [
    "# Add errrorbars\n",
    "print(error_bar_data)\n",
    "\n",
    "# Plot <E/t> vs U/t\n",
    "fig, ax1 = plt.subplots()\n",
    "ax1.plot(Uot_list,Eot_list_exact,'-',color='#cccccc',label=\"ED\",zorder=0)\n",
    "ax1.plot(Uot_list,Eot_list,'o',ms=4,mfc='lightskyblue',mec=\"dodgerblue\",\n",
    "         mew=0.5,alpha=1.0,label=\"PIMC\")\n",
    "\n",
    "ax1.set_ylabel(r\"$<E>/t$\")\n",
    "ax1.set_xlabel(r\"$U/t$\")\n",
    "\n",
    "# Tick formatting\n",
    "ax1.tick_params(axis='both',which='both',right=False,top=False,\n",
    "                labelright=False,direction='in')\n",
    "\n",
    "# Error bar formatting\n",
    "(_, caps, _) = plt.errorbar(Uot_list, Eot_list,marker='o',mec='dodgerblue',\n",
    "                            mfc='lightskyblue',mew=0.5,alpha=1,\n",
    "                            yerr=std_error_max_list,fmt='o',\n",
    "                            ecolor='dodgerblue',zorder=1,capsize=2,\n",
    "                            ms=0,elinewidth=0.5)\n",
    "for cap in caps:\n",
    "    cap.set_markeredgewidth(0.5)\n",
    "    \n",
    "plt.legend()\n",
    "\n",
    "# Save figure to disk\n",
    "plt.savefig(\"egsUot_%i_%i_U_Uhalf_%.4f_%.4f_%.4f_%i_%s.pdf\"%(L,N,t,eta,beta,mc_steps,ensemble))"
   ]
  },
  {
   "cell_type": "code",
   "execution_count": null,
   "metadata": {},
   "outputs": [],
   "source": []
  },
  {
   "cell_type": "code",
   "execution_count": null,
   "metadata": {},
   "outputs": [],
   "source": []
  },
  {
   "cell_type": "code",
   "execution_count": null,
   "metadata": {},
   "outputs": [],
   "source": []
  },
  {
   "cell_type": "code",
   "execution_count": null,
   "metadata": {},
   "outputs": [],
   "source": []
  },
  {
   "cell_type": "code",
   "execution_count": null,
   "metadata": {},
   "outputs": [],
   "source": []
  },
  {
   "cell_type": "code",
   "execution_count": null,
   "metadata": {},
   "outputs": [],
   "source": []
  }
 ],
 "metadata": {
  "kernelspec": {
   "display_name": "Python 3",
   "language": "python",
   "name": "python3"
  },
  "language_info": {
   "codemirror_mode": {
    "name": "ipython",
    "version": 3
   },
   "file_extension": ".py",
   "mimetype": "text/x-python",
   "name": "python",
   "nbconvert_exporter": "python",
   "pygments_lexer": "ipython3",
   "version": "3.7.3"
  }
 },
 "nbformat": 4,
 "nbformat_minor": 4
}
