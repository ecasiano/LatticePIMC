{
 "cells": [
  {
   "cell_type": "markdown",
   "metadata": {},
   "source": [
    "### $\\tau$ resolved results"
   ]
  },
  {
   "cell_type": "code",
   "execution_count": 1,
   "metadata": {},
   "outputs": [
    {
     "data": {
      "text/plain": [
       "<module 'pimc' from '/Users/ecasiano/Desktop/LatticePIMC/pimc.py'>"
      ]
     },
     "execution_count": 1,
     "metadata": {},
     "output_type": "execute_result"
    }
   ],
   "source": [
    "import pimc\n",
    "import numpy as np\n",
    "import matplotlib.pyplot as plt\n",
    "from scipy.stats import sem\n",
    "import importlib\n",
    "importlib.reload(pimc)"
   ]
  },
  {
   "cell_type": "code",
   "execution_count": 2,
   "metadata": {},
   "outputs": [
    {
     "name": "stdout",
     "output_type": "stream",
     "text": [
      "CPU times: user 3 µs, sys: 0 ns, total: 3 µs\n",
      "Wall time: 7.15 µs\n"
     ]
    }
   ],
   "source": [
    "%%time\n",
    "# To store raw data\n",
    "K_raw={}\n",
    "V_raw={}\n",
    "E_raw={}\n",
    "N_raw={}\n",
    "\n",
    "# To store equilibrated data\n",
    "K = {}\n",
    "V = {}\n",
    "E = {}"
   ]
  },
  {
   "cell_type": "code",
   "execution_count": 3,
   "metadata": {},
   "outputs": [
    {
     "name": "stdout",
     "output_type": "stream",
     "text": [
      "3_9_1.0000_-3.4000_1.0000_2.0000_10000000_17_2D_gc_K.dat\n",
      "3_9_1.0000_-3.4000_1.0000_2.0000_10000000_17_2D_gc_N.dat\n",
      "3_9_1.0000_-3.4000_1.0000_2.0000_10000000_17_2D_gc_V.dat\n",
      "4_4_1.0000_-1.2227_1.0000_1.0000_10000000_17_1D_can_K.dat\n",
      "4_4_1.0000_-1.2227_1.0000_1.0000_10000000_17_1D_can_N.dat\n",
      "4_4_1.0000_-1.2227_1.0000_1.0000_10000000_17_1D_can_V.dat\n",
      "4_4_1.0000_-1.2227_1.0000_1.0000_1000000_17_1D_can_K.dat\n",
      "4_4_1.0000_-1.2227_1.0000_1.0000_1000000_17_1D_can_N.dat\n",
      "4_4_1.0000_-1.2227_1.0000_1.0000_1000000_17_1D_can_V.dat\n",
      "4_4_1.0000_-1.2227_1.0000_1.0000_2000000_17_1D_can_K.dat\n",
      "4_4_1.0000_-1.2227_1.0000_1.0000_2000000_17_1D_can_N.dat\n",
      "4_4_1.0000_-1.2227_1.0000_1.0000_2000000_17_1D_can_V.dat\n",
      "9_1.0000_-3.4000_2.0000_10000000_Nhist.pdf\n",
      "\u001b[1m\u001b[36mData\u001b[m\u001b[m\n",
      "E.pdf\n",
      "E_bin_plot.pdf\n",
      "E_running_avg_beta9.pdf\n",
      "\u001b[1m\u001b[36mEnergyAtFixedInteraction\u001b[m\u001b[m\n",
      "\u001b[1m\u001b[36mEntanglement\u001b[m\u001b[m\n",
      "\u001b[1m\u001b[36mFigures\u001b[m\u001b[m\n",
      "\u001b[1m\u001b[36mHigherDimensionTestData\u001b[m\u001b[m\n",
      "\u001b[1m\u001b[36mNTargetDependenceMu\u001b[m\u001b[m\n",
      "N_histogram.ipynb\n",
      "N_histogram.pdf\n",
      "\u001b[1m\u001b[36mNotebooks\u001b[m\u001b[m\n",
      "\u001b[1m\u001b[36mNotes\u001b[m\u001b[m\n",
      "\u001b[1m\u001b[36mTauSliceComparison\u001b[m\u001b[m\n",
      "U_tau_frac_C1_COEFF.pdf\n",
      "Z32pct_E.pdf\n",
      "Z32pct_K.pdf\n",
      "Z32pct_V.pdf\n",
      "Z32pct_bin_plot_K.pdf\n",
      "Z32pct_bin_plot_V.pdf\n",
      "Z7pct_E.pdf\n",
      "Z7pct_K.pdf\n",
      "Z7pct_V.pdf\n",
      "Z7pct_bin_plot_K.pdf\n",
      "Z7pct_bin_plot_V.pdf\n",
      "\u001b[1m\u001b[36m__pycache__\u001b[m\u001b[m\n",
      "hello.py\n",
      "main.py\n",
      "output_mathexp.prof\n",
      "output_mathsqrt.prof\n",
      "output_noabs.prof\n",
      "output_npexp.prof\n",
      "output_npsqrt.prof\n",
      "pimc.py\n",
      "quick_beta_scaling.ipynb\n",
      "tau_slice_sweep.ipynb\n",
      "tau_slice_sweep.py\n",
      "\u001b[1m\u001b[36mtruncexpon_old_way\u001b[m\u001b[m\n",
      "worldline.pdf\n"
     ]
    }
   ],
   "source": [
    "!ls"
   ]
  },
  {
   "cell_type": "code",
   "execution_count": 4,
   "metadata": {},
   "outputs": [
    {
     "name": "stdout",
     "output_type": "stream",
     "text": [
      "CPU times: user 77.2 ms, sys: 5.12 ms, total: 82.3 ms\n",
      "Wall time: 80.3 ms\n"
     ]
    }
   ],
   "source": [
    "%%time\n",
    "# 3X3\n",
    "K_raw['beta=1'] = np.loadtxt(\"4_4_1.0000_-1.2227_1.0000_1.0000_2000000_17_1D_can_K.dat\")\n",
    "V_raw['beta=1'] = np.loadtxt(\"4_4_1.0000_-1.2227_1.0000_1.0000_2000000_17_1D_can_V.dat\")-1.2227*4\n",
    "#N_raw['beta=1'] = np.loadtxt(\"3_9_1.0000_-3.9000_1.0000_2.0000_1000000_17_2D_gc_N.dat\")\n",
    "\n",
    "# K_raw['beta=1'] = np.loadtxt(\"3_9_10.0000_4.9950_1.0000_2.0000_20000000_17_2D_canK.dat\")\n",
    "# V_raw['beta=1'] = np.loadtxt(\"3_9_10.0000_4.9950_1.0000_2.0000_20000000_17_2D_canV.dat\")+4.9950*9"
   ]
  },
  {
   "cell_type": "code",
   "execution_count": 5,
   "metadata": {},
   "outputs": [
    {
     "name": "stdout",
     "output_type": "stream",
     "text": [
      "1774\n",
      "1774\n"
     ]
    }
   ],
   "source": [
    "Klen = len(K_raw['beta=1'])\n",
    "Vlen = len(V_raw['beta=1'])\n",
    "if Klen > Vlen: length = Vlen\n",
    "else: length = Klen\n",
    "print(len(K_raw['beta=1']))\n",
    "print(len(V_raw['beta=1']))\n",
    "#print(len(N_raw['beta=1']))"
   ]
  },
  {
   "cell_type": "code",
   "execution_count": 6,
   "metadata": {},
   "outputs": [],
   "source": [
    "# Throw away data because of equilibration\n",
    "beta_list = [1,3,5]\n",
    "beta_list = [1]\n",
    "\n",
    "for i,beta in enumerate(beta_list):\n",
    "    \n",
    "    label = f'beta={beta}'\n",
    "    \n",
    "    samples = len(K_raw[label])\n",
    "\n",
    "    # Throw away presumably inequilibrated data\n",
    "    K[label] = K_raw[label][int(samples*0.01):length]\n",
    "    V[label] = V_raw[label][int(samples*0.01):length]\n",
    "    E[label] = K[label][:]+V[label][:]"
   ]
  },
  {
   "cell_type": "code",
   "execution_count": 7,
   "metadata": {},
   "outputs": [
    {
     "name": "stdout",
     "output_type": "stream",
     "text": [
      "1757\n",
      "878\n",
      "439\n",
      "219\n",
      "109\n",
      "54\n"
     ]
    }
   ],
   "source": [
    "# Get mean and standard error as measured from various tau slices\n",
    "K_mean = {}\n",
    "V_mean = {}\n",
    "E_mean = {}\n",
    "\n",
    "K_err_bin_levels = []\n",
    "V_err_bin_levels = []\n",
    "E_err_bin_levels = []\n",
    "\n",
    "K_err = {}\n",
    "V_err = {}\n",
    "E_err = {}\n",
    "\n",
    "for beta in beta_list:\n",
    "    \n",
    "    label = f'beta={beta}'\n",
    "\n",
    "    samples = len(K[label])\n",
    "    \n",
    "    K_mean[label] = np.mean(K[label],axis=0)\n",
    "    V_mean[label] = np.mean(V[label],axis=0)\n",
    "    E_mean[label]= np.mean(E[label],axis=0)\n",
    "    \n",
    "    # STD Err via Binning Analysis (<K>)\n",
    "    max_bin_level = int(np.log2(len(K[label])))\n",
    "    min_bin = 30\n",
    "    binned_data = np.copy(K[label])\n",
    "    for i in range(max_bin_level):\n",
    "        print(len(binned_data))\n",
    "        K_err_bin_levels.append(sem(binned_data,axis=0,ddof=1))\n",
    "        if len(binned_data)/2 <= min_bin: \n",
    "              break\n",
    "        else:\n",
    "              binned_data = pimc.get_binned_data(binned_data)\n",
    "    K_err_bin_levels = np.array(K_err_bin_levels) # This allows for tuple indices\n",
    "    \n",
    "    # STD Err via Binning Analysis (<V>)\n",
    "    max_bin_level = int(np.log2(len(V[label])))\n",
    "    min_bin = 30\n",
    "    binned_data = np.copy(V[label])\n",
    "    for i in range(max_bin_level):\n",
    "        V_err_bin_levels.append(sem(binned_data,axis=0,ddof=1))\n",
    "        if len(binned_data)/2 <= min_bin: \n",
    "              break\n",
    "        else:\n",
    "              binned_data = pimc.get_binned_data(binned_data)\n",
    "    V_err_bin_levels = np.array(V_err_bin_levels) # This allows for tuple indices\n",
    "    \n",
    "    # STD Err via Binning Analysis (<E>)\n",
    "    max_bin_level = int(np.log2(len(E[label])))\n",
    "    min_bin = 30\n",
    "    binned_data = np.copy(E[label])\n",
    "    for i in range(max_bin_level):\n",
    "        E_err_bin_levels.append(sem(binned_data,axis=0,ddof=1))\n",
    "        if len(binned_data)/2 <= min_bin: \n",
    "              break\n",
    "        else:\n",
    "              binned_data = pimc.get_binned_data(binned_data)\n",
    "    E_err_bin_levels = np.array(E_err_bin_levels) # This allows for tuple indices\n",
    "\n",
    "# From all bin levels, choose the highest std error. Use this for errorbars.\n",
    "K_err[label] = np.max(K_err_bin_levels,axis=0)\n",
    "V_err[label] = np.max(V_err_bin_levels,axis=0)\n",
    "E_err[label] = np.max(E_err_bin_levels,axis=0)"
   ]
  },
  {
   "cell_type": "code",
   "execution_count": 8,
   "metadata": {},
   "outputs": [],
   "source": [
    "# Generate the tau slices (actually fractions of beta)\n",
    "n_slices=43\n",
    "beta=1\n",
    "tau_slices = np.linspace(0,beta,n_slices)[1:-1][::2]\n",
    "\n",
    "len(tau_slices)\n",
    "half_idx = int(len(tau_slices)/2)\n",
    "tau_slices[half_idx]\n",
    "half_idx = 10"
   ]
  },
  {
   "cell_type": "code",
   "execution_count": 9,
   "metadata": {},
   "outputs": [
    {
     "name": "stdout",
     "output_type": "stream",
     "text": [
      "1.4098645377452121\n"
     ]
    },
    {
     "data": {
      "image/png": "[encoded data removed]",
      "text/plain": [
       "<Figure size 432x288 with 1 Axes>"
      ]
     },
     "metadata": {
      "needs_background": "light"
     },
     "output_type": "display_data"
    }
   ],
   "source": [
    "plt.plot(K_err_bin_levels[:,half_idx],marker='o')\n",
    "plt.ylabel(r'$\\langle K \\rangle_{\\rm{err}}$')\n",
    "plt.xlabel('bin level')\n",
    "plt.savefig(\"Z7pct_bin_plot_K.pdf\")\n",
    "print(K_err[label][half_idx])"
   ]
  },
  {
   "cell_type": "code",
   "execution_count": 10,
   "metadata": {},
   "outputs": [
    {
     "name": "stdout",
     "output_type": "stream",
     "text": [
      "0.10915536081305839\n"
     ]
    },
    {
     "data": {
      "image/png": "[encoded data removed]",
      "text/plain": [
       "<Figure size 432x288 with 1 Axes>"
      ]
     },
     "metadata": {
      "needs_background": "light"
     },
     "output_type": "display_data"
    }
   ],
   "source": [
    "plt.plot(V_err_bin_levels[:,half_idx],marker='o')\n",
    "plt.ylabel(r'$\\langle V \\rangle_{\\rm{err}}$')\n",
    "plt.xlabel('bin level')\n",
    "plt.savefig(\"Z7pct_bin_plot_V.pdf\")\n",
    "print(V_err[label][half_idx])"
   ]
  },
  {
   "cell_type": "code",
   "execution_count": 11,
   "metadata": {},
   "outputs": [
    {
     "name": "stdout",
     "output_type": "stream",
     "text": [
      "Ground state kinetic energy: -8.3904 +/- 1.4099\n"
     ]
    },
    {
     "data": {
      "image/png": "[encoded data removed]",
      "text/plain": [
       "<Figure size 432x288 with 1 Axes>"
      ]
     },
     "metadata": {
      "needs_background": "light"
     },
     "output_type": "display_data"
    }
   ],
   "source": [
    "# Plot kinetic energy as function of tau slices\n",
    "fig, ax1 = plt.subplots()\n",
    "i = 1\n",
    "label = f'beta={i}'\n",
    "ax1.plot(tau_slices,K_mean[label],'-',label='beta=4')\n",
    "ax1.errorbar(tau_slices,K_mean[label],marker='o',mec='dodgerblue',\n",
    "                            mfc='lightskyblue',mew=0.5,alpha=1,\n",
    "                            yerr=K_err[label],fmt='o',\n",
    "                            ecolor='dodgerblue',zorder=1,capsize=2,\n",
    "                            ms=0,elinewidth=0.5)\n",
    "#ax1.axhline(-35.715378606015335,color='#666666') #3D\n",
    "ax1.axhline(-7.854909432535828,color='#666666') #3D\n",
    "ax1.set_ylabel(r'$\\langle K \\rangle /t$')\n",
    "ax1.set_xlabel(r'$\\tau/\\beta$')\n",
    "ax1.tick_params(axis='both',which='both',right=False,top=False,labelright=False,direction='in')\n",
    "ax1.axvline(beta/2,zorder=-10,alpha=0.2,color='#666666')\n",
    "# plt.savefig(\"Z7pct_K.pdf\")\n",
    "print(\"Ground state kinetic energy: %.4f +/- %.4f\"%(K_mean[label][half_idx],K_err[label][half_idx]))"
   ]
  },
  {
   "cell_type": "code",
   "execution_count": 12,
   "metadata": {},
   "outputs": [
    {
     "name": "stdout",
     "output_type": "stream",
     "text": [
      "Ground state diagonal energy: 1.3341 +/- 0.1092\n"
     ]
    },
    {
     "data": {
      "image/png": "[encoded data removed]",
      "text/plain": [
       "<Figure size 432x288 with 1 Axes>"
      ]
     },
     "metadata": {
      "needs_background": "light"
     },
     "output_type": "display_data"
    }
   ],
   "source": [
    "# Plot diagonal energy as function of tau slices\n",
    "fig, ax2 = plt.subplots()\n",
    "ax2.plot(tau_slices,V_mean[label],'-',label='beta=4')\n",
    "ax2.errorbar(tau_slices,V_mean[label],marker='o',mec='dodgerblue',\n",
    "                            mfc='lightskyblue',mew=0.5,alpha=1,\n",
    "                            yerr=V_err[label],fmt='o',\n",
    "                            ecolor='dodgerblue',zorder=1,capsize=2,\n",
    "                            ms=0,elinewidth=0.5)\n",
    "#ax2.axhline(3.3650282801015536,color='#666666')\n",
    "ax2.axhline(1.1731759348945732,color='#666666')\n",
    "ax2.set_ylabel(r'$\\langle V \\rangle /t$')\n",
    "ax2.set_xlabel(r'$\\tau/\\beta$')\n",
    "ax2.tick_params(axis='both',which='both',right=False,top=False,labelright=False,direction='in')\n",
    "ax2.axvline(beta/2,zorder=-10,alpha=0.2,color='#666666')\n",
    "# plt.savefig(\"Z7pct_V.pdf\")\n",
    "print(\"Ground state diagonal energy: %.4f +/- %.4f\"%(V_mean[label][half_idx],V_err[label][half_idx]))"
   ]
  },
  {
   "cell_type": "code",
   "execution_count": 416,
   "metadata": {},
   "outputs": [
    {
     "name": "stdout",
     "output_type": "stream",
     "text": [
      "Ground state energy: -6.2672 +/- 1.1011\n"
     ]
    },
    {
     "data": {
      "image/png": "[encoded data removed]",
      "text/plain": [
       "<Figure size 432x288 with 1 Axes>"
      ]
     },
     "metadata": {
      "needs_background": "light"
     },
     "output_type": "display_data"
    }
   ],
   "source": [
    "# Plot total energy as function of tau slices\n",
    "fig, ax3 = plt.subplots()\n",
    "ax3.plot(tau_slices,E_mean[label],'-',label='beta=4')\n",
    "ax3.errorbar(tau_slices,E_mean[label],marker='o',mec='dodgerblue',\n",
    "                            mfc='lightskyblue',mew=0.5,alpha=1,\n",
    "                            yerr=E_err[label],fmt='o',\n",
    "                            ecolor='dodgerblue',zorder=1,capsize=2,\n",
    "                            ms=0,elinewidth=0.5)\n",
    "#ax3.axhline(-32.35035032591378,color='#666666')\n",
    "ax3.axhline(-6.681733497641255,color='#666666')\n",
    "ax3.set_ylabel(r'$\\langle E \\rangle /t$')\n",
    "ax3.set_xlabel(r'$\\tau/\\beta$')\n",
    "ax3.tick_params(axis='both',which='both',right=False,top=False,labelright=False,direction='in')\n",
    "ax3.axvline(beta/2,zorder=-10,alpha=0.2,color='#666666')\n",
    "# plt.savefig(\"Z7pct_E.pdf\")\n",
    "print(\"Ground state energy: %.4f +/- %.4f\"%(E_mean[label][half_idx],E_err[label][half_idx]))"
   ]
  },
  {
   "cell_type": "code",
   "execution_count": 399,
   "metadata": {},
   "outputs": [
    {
     "name": "stdout",
     "output_type": "stream",
     "text": [
      "0.35558098820837386\n"
     ]
    },
    {
     "data": {
      "image/png": "[encoded data removed]",
      "text/plain": [
       "<Figure size 432x288 with 1 Axes>"
      ]
     },
     "metadata": {
      "needs_background": "light"
     },
     "output_type": "display_data"
    }
   ],
   "source": [
    "plt.plot(E_err_bin_levels[:,half_idx],marker='o')\n",
    "plt.ylabel(r'$\\langle E \\rangle_{\\rm{err}}$')\n",
    "plt.xlabel('bin level')\n",
    "# plt.savefig(\"E_bin_plot.pdf\")\n",
    "print(E_err[label][half_idx])"
   ]
  },
  {
   "cell_type": "code",
   "execution_count": 400,
   "metadata": {},
   "outputs": [
    {
     "name": "stdout",
     "output_type": "stream",
     "text": [
      "-6.6701 +/- 0.3556\n"
     ]
    }
   ],
   "source": [
    "print(\"%.4f +/- %.4f\"%(E_mean[label][half_idx],E_err[label][half_idx]))"
   ]
  },
  {
   "cell_type": "code",
   "execution_count": 401,
   "metadata": {},
   "outputs": [],
   "source": [
    "Eot_list = [-8.0797,-5.5915,-3.9761,-2.8846,-2.1853,-1.7026,-1.3722,-1.1983,-1.0231]\n",
    "std_error_max_list = [0.0428,0.0221,0.0282,0.0268,0.0190,0.0323,0.0224,0.0271,0.0196]"
   ]
  },
  {
   "cell_type": "code",
   "execution_count": 402,
   "metadata": {},
   "outputs": [],
   "source": [
    "### Running averages"
   ]
  },
  {
   "cell_type": "code",
   "execution_count": 403,
   "metadata": {},
   "outputs": [
    {
     "data": {
      "image/png": "[encoded data removed]",
      "text/plain": [
       "<Figure size 432x288 with 1 Axes>"
      ]
     },
     "metadata": {
      "needs_background": "light"
     },
     "output_type": "display_data"
    }
   ],
   "source": [
    "K_halfBeta = K[label][:,half_idx]\n",
    "K_halfBeta_cumsum = np.cumsum(K_halfBeta)\n",
    "for i in range(len(K_halfBeta)):\n",
    "    K_halfBeta_cumsum[i] /= (i+1)\n",
    "    \n",
    "fig, ax4 = plt.subplots()\n",
    "ax4.plot(K_halfBeta_cumsum,'-',color='mediumseagreen',label=r'$\\beta=9.0$')\n",
    "#ax4.axhline(-35.715378606015335)\n",
    "ax4.axhline(-7.854909432535828)\n",
    "ax4.tick_params(axis='both',which='both',right=False,top=False,labelright=False,direction='in')"
   ]
  },
  {
   "cell_type": "code",
   "execution_count": 371,
   "metadata": {},
   "outputs": [
    {
     "data": {
      "image/png": "[encoded data removed]",
      "text/plain": [
       "<Figure size 432x288 with 1 Axes>"
      ]
     },
     "metadata": {
      "needs_background": "light"
     },
     "output_type": "display_data"
    }
   ],
   "source": [
    "V_halfBeta = V[label][:,half_idx]\n",
    "V_halfBeta_cumsum = np.cumsum(V_halfBeta)\n",
    "for i in range(len(V_halfBeta)):\n",
    "    V_halfBeta_cumsum[i] /= (i+1)\n",
    "    \n",
    "fig, ax5 = plt.subplots()\n",
    "ax5.plot(V_halfBeta_cumsum,'-',color='pink',label=r'$\\beta=9.0$',zorder=3)\n",
    "#ax5.axhline(0.438)\n",
    "ax5.axhline(3.3650282801015536)\n",
    "ax5.tick_params(axis='both',which='both',right=False,top=False,labelright=False,direction='in')"
   ]
  },
  {
   "cell_type": "code",
   "execution_count": 425,
   "metadata": {},
   "outputs": [
    {
     "data": {
      "image/png": "[encoded data removed]",
      "text/plain": [
       "<Figure size 432x288 with 1 Axes>"
      ]
     },
     "metadata": {
      "needs_background": "light"
     },
     "output_type": "display_data"
    }
   ],
   "source": [
    "E_halfBeta = E[label][:,half_idx]\n",
    "E_halfBeta_cumsum = np.cumsum(E_halfBeta)\n",
    "for i in range(len(E_halfBeta)):\n",
    "    E_halfBeta_cumsum[i] /= (i+1)\n",
    "fig, ax6 = plt.subplots()\n",
    "ax6.plot(E_halfBeta_cumsum,'-',color='mediumpurple',label=r'$\\beta=9.0$')\n",
    "ax6.set_ylabel(r'$\\langle E \\rangle / t$')\n",
    "ax6.set_xlabel(r'$\\rm{sample \\ number}$')\n",
    "#ax6.axhline(-3.531128874149274,color='#666666')\n",
    "\n",
    "ax6.axhline(-32.35035032591378,color='#666666')\n",
    "\n",
    "#ax6.set_ylim(-3.6,-2)\n",
    "ax6.tick_params(axis='both',which='both',right=False,top=False,labelright=False,direction='in')\n",
    "#plt.legend()\n",
    "# plt.savefig('E_running_avg_beta9.pdf')"
   ]
  },
  {
   "cell_type": "code",
   "execution_count": null,
   "metadata": {},
   "outputs": [],
   "source": []
  },
  {
   "cell_type": "markdown",
   "metadata": {},
   "source": [
    "### $\\langle E(\\tau/\\beta=0.5) \\rangle$ / t vs. $\\beta$"
   ]
  },
  {
   "cell_type": "code",
   "execution_count": 1462,
   "metadata": {},
   "outputs": [
    {
     "ename": "KeyError",
     "evalue": "'beta=2'",
     "output_type": "error",
     "traceback": [
      "\u001b[0;31m---------------------------------------------------------------------------\u001b[0m",
      "\u001b[0;31mKeyError\u001b[0m                                  Traceback (most recent call last)",
      "\u001b[0;32m<ipython-input-1462-c46225bbb40e>\u001b[0m in \u001b[0;36m<module>\u001b[0;34m\u001b[0m\n\u001b[1;32m      8\u001b[0m     \u001b[0;31m# Attach center data\u001b[0m\u001b[0;34m\u001b[0m\u001b[0;34m\u001b[0m\u001b[0;34m\u001b[0m\u001b[0m\n\u001b[1;32m      9\u001b[0m     \u001b[0mlabel\u001b[0m \u001b[0;34m=\u001b[0m \u001b[0;34mf'beta={i}'\u001b[0m\u001b[0;34m\u001b[0m\u001b[0;34m\u001b[0m\u001b[0m\n\u001b[0;32m---> 10\u001b[0;31m     \u001b[0mE_center_mean\u001b[0m\u001b[0;34m.\u001b[0m\u001b[0mappend\u001b[0m\u001b[0;34m(\u001b[0m\u001b[0mE_mean\u001b[0m\u001b[0;34m[\u001b[0m\u001b[0mlabel\u001b[0m\u001b[0;34m]\u001b[0m\u001b[0;34m[\u001b[0m\u001b[0;36m2\u001b[0m\u001b[0;34m]\u001b[0m\u001b[0;34m)\u001b[0m\u001b[0;34m\u001b[0m\u001b[0;34m\u001b[0m\u001b[0m\n\u001b[0m\u001b[1;32m     11\u001b[0m     \u001b[0mE_center_err\u001b[0m\u001b[0;34m.\u001b[0m\u001b[0mappend\u001b[0m\u001b[0;34m(\u001b[0m\u001b[0mE_err\u001b[0m\u001b[0;34m[\u001b[0m\u001b[0mlabel\u001b[0m\u001b[0;34m]\u001b[0m\u001b[0;34m[\u001b[0m\u001b[0;36m2\u001b[0m\u001b[0;34m]\u001b[0m\u001b[0;34m)\u001b[0m\u001b[0;34m\u001b[0m\u001b[0;34m\u001b[0m\u001b[0m\n\u001b[1;32m     12\u001b[0m \u001b[0;34m\u001b[0m\u001b[0m\n",
      "\u001b[0;31mKeyError\u001b[0m: 'beta=2'"
     ]
    },
    {
     "data": {
      "image/png": "[encoded data removed]",
      "text/plain": [
       "<Figure size 432x288 with 1 Axes>"
      ]
     },
     "metadata": {
      "needs_background": "light"
     },
     "output_type": "display_data"
    }
   ],
   "source": [
    "# Plot total ground state energy as function of tau slices\n",
    "fig, ax7 = plt.subplots()\n",
    "plot_list = list(range(1,10,1))\n",
    " \n",
    "E_center_mean = []\n",
    "E_center_err = []\n",
    "for i in plot_list:\n",
    "    # Attach center data\n",
    "    label = f'beta={i}'\n",
    "    E_center_mean.append(E_mean[label][2])\n",
    "    E_center_err.append(E_err[label][2])\n",
    "\n",
    "\n",
    "\n",
    "ax7.plot(plot_list,E_center_mean,'-',label=label,color='lightskyblue')\n",
    "ax7.errorbar(plot_list,E_center_mean,marker='o',mec='dodgerblue',\n",
    "                            mfc='lightskyblue',mew=0.5,alpha=1,\n",
    "                            yerr=E_center_err,fmt='o',\n",
    "                            ecolor='dodgerblue',zorder=1,capsize=2,\n",
    "                            ms=0,elinewidth=0.5)\n",
    "ax7.axhline(-3.531128874149274,color='#666666')\n",
    "ax7.set_ylabel(r'$\\langle E \\rangle /t$')\n",
    "ax7.set_xlabel(r'$\\beta$')\n",
    "ax7.tick_params(axis='both',which='both',right=False,top=False,labelright=False,direction='in')\n",
    "#plt.legend()\n",
    "# plt.savefig('energy_beta_dependence_1mill_points.pdf')"
   ]
  },
  {
   "cell_type": "code",
   "execution_count": null,
   "metadata": {},
   "outputs": [],
   "source": [
    "# Mix the data files\n"
   ]
  },
  {
   "cell_type": "code",
   "execution_count": null,
   "metadata": {},
   "outputs": [],
   "source": []
  },
  {
   "cell_type": "code",
   "execution_count": null,
   "metadata": {},
   "outputs": [],
   "source": []
  },
  {
   "cell_type": "code",
   "execution_count": 4,
   "metadata": {},
   "outputs": [
    {
     "name": "stdout",
     "output_type": "stream",
     "text": [
      "3_9_1.0000_-3.9000_1.0000_2.0000_1000000_17_2D_canK.dat\n",
      "3_9_1.0000_-3.9000_1.0000_2.0000_1000000_17_2D_canV.dat\n",
      "3_9_1.0000_-3.9000_1.0000_2.0000_1000000_17_2D_gc_K.dat\n",
      "3_9_1.0000_-3.9000_1.0000_2.0000_1000000_17_2D_gc_N.dat\n",
      "3_9_1.0000_-3.9000_1.0000_2.0000_1000000_17_2D_gc_V.dat\n",
      "3_9_1.0000_-4.0009_1.0000_2.0000_1000000_17_2D_canK.dat\n",
      "3_9_1.0000_-4.0009_1.0000_2.0000_1000000_17_2D_canV.dat\n",
      "3_9_1.0000_-4.2009_1.0000_2.0000_1000000_17_2D_canK.dat\n",
      "3_9_1.0000_-4.2009_1.0000_2.0000_1000000_17_2D_canV.dat\n",
      "3_9_1.0000_-4.2009_1.0000_2.0000_60000000_17_2D_canK.dat\n",
      "3_9_1.0000_-4.2009_1.0000_2.0000_60000000_17_2D_canV.dat\n",
      "\u001b[1m\u001b[36mData\u001b[m\u001b[m\n",
      "\u001b[1m\u001b[36mEnergyAtFixedInteraction\u001b[m\u001b[m\n",
      "\u001b[1m\u001b[36mEntanglement\u001b[m\u001b[m\n",
      "\u001b[1m\u001b[36mFigures\u001b[m\u001b[m\n",
      "\u001b[1m\u001b[36mHigherDimensionTestData\u001b[m\u001b[m\n",
      "\u001b[1m\u001b[36mNTargetDependenceMu\u001b[m\u001b[m\n",
      "\u001b[1m\u001b[36mNotebooks\u001b[m\u001b[m\n",
      "\u001b[1m\u001b[36mNotes\u001b[m\u001b[m\n",
      "\u001b[1m\u001b[36mTauSliceComparison\u001b[m\u001b[m\n",
      "\u001b[1m\u001b[36m__pycache__\u001b[m\u001b[m\n",
      "main.py\n",
      "output.prof\n",
      "output_no_prealloc_insertion_sites_no_round.prof\n",
      "output_no_prealloc_insertion_sites_with_round.prof\n",
      "output_prealloc_insertion_sites.prof\n",
      "output_prealloc_insertion_sites_no_round.prof\n",
      "pimc.py\n",
      "quick_beta_scaling.ipynb\n",
      "tau_slice_sweep.ipynb\n",
      "tau_slice_sweep.py\n",
      "\u001b[1m\u001b[36mtruncexpon_old_way\u001b[m\u001b[m\n",
      "worldline.pdf\n"
     ]
    }
   ],
   "source": [
    "!ls"
   ]
  },
  {
   "cell_type": "code",
   "execution_count": 84,
   "metadata": {},
   "outputs": [],
   "source": [
    "!head 3_9_1.0000_-3.9000_1.0000_2.0000_1000000_17_2D_gc_N.dat"
   ]
  },
  {
   "cell_type": "code",
   "execution_count": null,
   "metadata": {},
   "outputs": [],
   "source": []
  }
 ],
 "metadata": {
  "kernelspec": {
   "display_name": "Python 3",
   "language": "python",
   "name": "python3"
  },
  "language_info": {
   "codemirror_mode": {
    "name": "ipython",
    "version": 3
   },
   "file_extension": ".py",
   "mimetype": "text/x-python",
   "name": "python",
   "nbconvert_exporter": "python",
   "pygments_lexer": "ipython3",
   "version": "3.7.3"
  }
 },
 "nbformat": 4,
 "nbformat_minor": 4
}
