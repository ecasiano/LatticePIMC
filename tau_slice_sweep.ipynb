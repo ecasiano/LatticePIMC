{
 "cells": [
  {
   "cell_type": "markdown",
   "metadata": {},
   "source": [
    "### $\\tau$ resolved results"
   ]
  },
  {
   "cell_type": "code",
   "execution_count": 180,
   "metadata": {},
   "outputs": [
    {
     "data": {
      "text/plain": [
       "<module 'pimc' from '/Users/ecasiano/Desktop/LatticePIMC/pimc.py'>"
      ]
     },
     "execution_count": 180,
     "metadata": {},
     "output_type": "execute_result"
    }
   ],
   "source": [
    "import pimc\n",
    "import numpy as np\n",
    "import matplotlib.pyplot as plt\n",
    "from scipy.stats import sem\n",
    "import importlib\n",
    "importlib.reload(pimc)"
   ]
  },
  {
   "cell_type": "code",
   "execution_count": 181,
   "metadata": {},
   "outputs": [
    {
     "name": "stdout",
     "output_type": "stream",
     "text": [
      "CPU times: user 33 µs, sys: 1.99 ms, total: 2.02 ms\n",
      "Wall time: 2.03 ms\n"
     ]
    }
   ],
   "source": [
    "%%time\n",
    "# To store raw data\n",
    "K_raw={}\n",
    "V_raw={}\n",
    "E_raw={}\n",
    "\n",
    "# To store equilibrated data\n",
    "K = {}\n",
    "V = {}\n",
    "E = {}"
   ]
  },
  {
   "cell_type": "code",
   "execution_count": 182,
   "metadata": {},
   "outputs": [
    {
     "name": "stdout",
     "output_type": "stream",
     "text": [
      "CPU times: user 572 ms, sys: 12.9 ms, total: 584 ms\n",
      "Wall time: 581 ms\n"
     ]
    }
   ],
   "source": [
    "%%time\n",
    "K_raw['beta=1'] = np.loadtxt(\"4_4_10.0000_-2.8000_1.0000_1.0000_200000000_0_2D_canK.dat\")\n",
    "V_raw['beta=1'] = np.loadtxt(\"4_4_10.0000_-2.8000_1.0000_1.0000_200000000_0_2D_canV.dat\")-2.8*4\n",
    "\n",
    "# # Combine data from 4 different seeds\n",
    "# K_raw['beta=1'] = np.loadtxt(\"4_4_10.0000_2.1000_1.0000_4.0000_100000000_1968_canK.dat\")\n",
    "# V_raw['beta=1'] = np.loadtxt(\"4_4_10.0000_2.1000_1.0000_4.0000_100000000_1968_canV.dat\")+2.1*4\n",
    "\n",
    "# K_raw['beta=1'] = np.vstack((K_raw['beta=1'],np.loadtxt(\"4_4_10.0000_2.2000_1.0000_4.0000_100000000_326_canK.dat\")))\n",
    "# V_raw['beta=1'] = np.vstack((V_raw['beta=1'],np.loadtxt(\"4_4_10.0000_2.2000_1.0000_4.0000_100000000_326_canV.dat\")+4*2.2))\n",
    "\n",
    "# K_raw['beta=1'] = np.vstack((K_raw['beta=1'],np.loadtxt(\"4_4_10.0000_2.4000_1.0000_4.0000_100000000_0_canK.dat\")))\n",
    "# V_raw['beta=1'] = np.vstack((V_raw['beta=1'],np.loadtxt(\"4_4_10.0000_2.4000_1.0000_4.0000_100000000_0_canV.dat\")+4*2.4))\n",
    "\n",
    "# K_raw['beta=1'] = np.vstack((K_raw['beta=1'],np.loadtxt(\"4_4_10.0000_2.5000_1.0000_4.0000_100000000_17_canK.dat\")))\n",
    "# V_raw['beta=1'] = np.vstack((V_raw['beta=1'],np.loadtxt(\"4_4_10.0000_2.5000_1.0000_4.0000_100000000_17_canV.dat\")+4*2.5))\n",
    "\n",
    "\n",
    "# # # Combine data from 2 different seeds\n",
    "# K_raw['beta=1'] = np.loadtxt(\"4_4_10.0000_2.3000_1.0000_1.0000_4000000_326_canK.dat\")\n",
    "# V_raw['beta=1'] = np.loadtxt(\"4_4_10.0000_2.3000_1.0000_1.0000_4000000_326_canV.dat\")+2.3*4\n",
    "\n",
    "# K_raw['beta=1'] = np.vstack((K_raw['beta=1'],np.loadtxt(\"4_4_10.0000_1.8000_1.0000_1.0000_4000000_0_canK.dat\")))\n",
    "# V_raw['beta=1'] = np.vstack((V_raw['beta=1'],np.loadtxt(\"4_4_10.0000_1.8000_1.0000_1.0000_4000000_0_canV.dat\")+1.8*4))\n",
    "\n",
    "# # # Combine data from 2 different seeds\n",
    "# K_raw['beta=1'] = np.loadtxt(\"4_4_10.0000_2.0000_1.0000_5.0000_30000000_0_canK.dat\")\n",
    "# V_raw['beta=1'] = np.loadtxt(\"4_4_10.0000_2.0000_1.0000_5.0000_30000000_0_canV.dat\")+2*4\n",
    "\n",
    "# K_raw['beta=1'] = np.vstack((K_raw['beta=1'],np.loadtxt(\"4_4_10.0000_2.0000_1.0000_5.0000_30000000_326_canK.dat\")))\n",
    "# V_raw['beta=1'] = np.vstack((V_raw['beta=1'],np.loadtxt(\"4_4_10.0000_2.0000_1.0000_5.0000_30000000_326_canV.dat\")+2*4))\n",
    "\n",
    "# K_raw['beta=1'] = np.loadtxt(\"4_4_10.0000_1.8000_1.0000_1.0000_10000000_0_canK.dat\")\n",
    "# V_raw['beta=1'] = np.loadtxt(\"4_4_10.0000_1.8000_1.0000_1.0000_10000000_0_canV.dat\")+1.8*4\n",
    "\n",
    "# K_raw['beta=1'] = np.vstack((K_raw['beta=1'],np.loadtxt(\"4_4_10.0000_1.9000_1.0000_3.0000_30000000_326_canK.dat\")))\n",
    "# V_raw['beta=1'] = np.vstack((V_raw['beta=1'],np.loadtxt(\"4_4_10.0000_1.9000_1.0000_3.0000_30000000_326_canV.dat\")+1.9*4))\n"
   ]
  },
  {
   "cell_type": "code",
   "execution_count": 183,
   "metadata": {},
   "outputs": [
    {
     "name": "stdout",
     "output_type": "stream",
     "text": [
      "12924\n",
      "12924\n"
     ]
    }
   ],
   "source": [
    "print(len(K_raw['beta=1']))\n",
    "print(len(V_raw['beta=1']))"
   ]
  },
  {
   "cell_type": "code",
   "execution_count": 184,
   "metadata": {},
   "outputs": [],
   "source": [
    "# Throw away data because of equilibration\n",
    "beta_list = [1,3,5]\n",
    "beta_list = [1]\n",
    "\n",
    "# List of mu corrections for each run\n",
    "#correction = 2.3*4\n",
    "correction = 0\n",
    "\n",
    "for i,beta in enumerate(beta_list):\n",
    "    \n",
    "    label = f'beta={beta}'\n",
    "    \n",
    "    samples = len(K_raw[label])\n",
    "\n",
    "    # Throw away presumably inequilibrated data\n",
    "    K[label] = K_raw[label][int(samples*0.1):]\n",
    "    V[label] = V_raw[label][int(samples*0.1):]+correction\n",
    "    E[label] = K[label][:]+V[label][:]"
   ]
  },
  {
   "cell_type": "code",
   "execution_count": 185,
   "metadata": {},
   "outputs": [
    {
     "name": "stdout",
     "output_type": "stream",
     "text": [
      "11632\n",
      "5816\n",
      "2908\n",
      "1454\n",
      "727\n",
      "363\n",
      "181\n",
      "90\n",
      "45\n"
     ]
    }
   ],
   "source": [
    "# Get mean and standard error as measured from various tau slices\n",
    "K_mean = {}\n",
    "V_mean = {}\n",
    "E_mean = {}\n",
    "\n",
    "K_err_bin_levels = []\n",
    "V_err_bin_levels = []\n",
    "E_err_bin_levels = []\n",
    "\n",
    "K_err = {}\n",
    "V_err = {}\n",
    "E_err = {}\n",
    "\n",
    "for beta in beta_list:\n",
    "    \n",
    "    label = f'beta={beta}'\n",
    "\n",
    "    samples = len(K[label])\n",
    "    \n",
    "    K_mean[label] = np.mean(K[label],axis=0)\n",
    "    V_mean[label] = np.mean(V[label],axis=0)\n",
    "    E_mean[label]= np.mean(E[label],axis=0)\n",
    "    \n",
    "    # STD Err via Binning Analysis (<K>)\n",
    "    max_bin_level = int(np.log2(len(K[label])))\n",
    "    min_bin = 40\n",
    "    binned_data = np.copy(K[label])\n",
    "    for i in range(max_bin_level):\n",
    "        print(len(binned_data))\n",
    "        K_err_bin_levels.append(sem(binned_data,axis=0,ddof=1))\n",
    "        if len(binned_data)/2 <= min_bin: \n",
    "              break\n",
    "        else:\n",
    "              binned_data = pimc.get_binned_data(binned_data)\n",
    "    K_err_bin_levels = np.array(K_err_bin_levels) # This allows for tuple indices\n",
    "    \n",
    "    # STD Err via Binning Analysis (<V>)\n",
    "    max_bin_level = int(np.log2(len(V[label])))\n",
    "    min_bin = 40\n",
    "    binned_data = np.copy(V[label])\n",
    "    for i in range(max_bin_level):\n",
    "        V_err_bin_levels.append(sem(binned_data,axis=0,ddof=1))\n",
    "        if len(binned_data)/2 <= min_bin: \n",
    "              break\n",
    "        else:\n",
    "              binned_data = pimc.get_binned_data(binned_data)\n",
    "    V_err_bin_levels = np.array(V_err_bin_levels) # This allows for tuple indices\n",
    "    \n",
    "    # STD Err via Binning Analysis (<V>)\n",
    "    max_bin_level = int(np.log2(len(E[label])))\n",
    "    min_bin = 40\n",
    "    binned_data = np.copy(E[label])\n",
    "    for i in range(max_bin_level):\n",
    "        E_err_bin_levels.append(sem(binned_data,axis=0,ddof=1))\n",
    "        if len(binned_data)/2 <= min_bin: \n",
    "              break\n",
    "        else:\n",
    "              binned_data = pimc.get_binned_data(binned_data)\n",
    "    E_err_bin_levels = np.array(E_err_bin_levels) # This allows for tuple indices\n",
    "\n",
    "# From all bin levels, choose the highest std error. Use this for errorbars.\n",
    "K_err[label] = np.max(K_err_bin_levels,axis=0)\n",
    "V_err[label] = np.max(V_err_bin_levels,axis=0)\n",
    "E_err[label] = np.max(E_err_bin_levels,axis=0)"
   ]
  },
  {
   "cell_type": "code",
   "execution_count": 186,
   "metadata": {},
   "outputs": [
    {
     "name": "stdout",
     "output_type": "stream",
     "text": [
      "0.08950771596226326\n"
     ]
    },
    {
     "data": {
      "image/png": "[encoded data removed]",
      "text/plain": [
       "<Figure size 432x288 with 1 Axes>"
      ]
     },
     "metadata": {
      "needs_background": "light"
     },
     "output_type": "display_data"
    }
   ],
   "source": [
    "half_idx = 10\n",
    "plt.plot(K_err_bin_levels[:,half_idx])\n",
    "print(K_err[label][half_idx])"
   ]
  },
  {
   "cell_type": "code",
   "execution_count": 187,
   "metadata": {},
   "outputs": [
    {
     "name": "stdout",
     "output_type": "stream",
     "text": [
      "0.01569362206606154\n"
     ]
    },
    {
     "data": {
      "image/png": "[encoded data removed]",
      "text/plain": [
       "<Figure size 432x288 with 1 Axes>"
      ]
     },
     "metadata": {
      "needs_background": "light"
     },
     "output_type": "display_data"
    }
   ],
   "source": [
    "half_idx = 10\n",
    "plt.plot(V_err_bin_levels[:,half_idx])\n",
    "print(V_err[label][half_idx])"
   ]
  },
  {
   "cell_type": "code",
   "execution_count": 188,
   "metadata": {},
   "outputs": [],
   "source": [
    "# Generate the tau slices (actually fractions of beta)\n",
    "n_slices=43\n",
    "beta=1\n",
    "tau_slices = np.linspace(0,beta,n_slices)[1:-1][::2]"
   ]
  },
  {
   "cell_type": "code",
   "execution_count": 189,
   "metadata": {},
   "outputs": [
    {
     "data": {
      "text/plain": [
       "10"
      ]
     },
     "execution_count": 189,
     "metadata": {},
     "output_type": "execute_result"
    }
   ],
   "source": [
    "tau_slices\n",
    "len(tau_slices)\n",
    "half_idx = int(len(tau_slices)/2)\n",
    "tau_slices[half_idx]\n",
    "half_idx"
   ]
  },
  {
   "cell_type": "code",
   "execution_count": 190,
   "metadata": {},
   "outputs": [
    {
     "data": {
      "text/plain": [
       "<matplotlib.legend.Legend at 0x1a17d56550>"
      ]
     },
     "execution_count": 190,
     "metadata": {},
     "output_type": "execute_result"
    },
    {
     "data": {
      "image/png": "[encoded data removed]",
      "text/plain": [
       "<Figure size 432x288 with 1 Axes>"
      ]
     },
     "metadata": {
      "needs_background": "light"
     },
     "output_type": "display_data"
    }
   ],
   "source": [
    "# Plot kinetic energy as function of tau slices\n",
    "fig, ax1 = plt.subplots()\n",
    "i = 1\n",
    "label = f'beta={i}'\n",
    "ax1.plot(tau_slices,K_mean[label],'-',label='beta=4')\n",
    "ax1.errorbar(tau_slices,K_mean[label],marker='o',mec='dodgerblue',\n",
    "                            mfc='lightskyblue',mew=0.5,alpha=1,\n",
    "                            yerr=K_err[label],fmt='o',\n",
    "                            ecolor='dodgerblue',zorder=1,capsize=2,\n",
    "                            ms=0,elinewidth=0.5)\n",
    "\n",
    "#ax1.axhline(-1.70739753724840-1.82540875413382,color='#666666')\n",
    "ax1.set_xticks(np.linspace(0,beta,n_slices)[1:-1][::10])\n",
    "ax1.set_ylabel(r'$\\langle K \\rangle /t$')\n",
    "ax1.set_xlabel(r'$\\tau/\\beta$')\n",
    "ax1.tick_params(axis='both',which='both',right=False,top=False,labelright=False,direction='in')\n",
    "#plt.savefig('K_tau_frac.pdf')\n",
    "plt.legend()"
   ]
  },
  {
   "cell_type": "code",
   "execution_count": 191,
   "metadata": {},
   "outputs": [
    {
     "data": {
      "text/plain": [
       "array([0.02380952, 0.07142857, 0.11904762, 0.16666667, 0.21428571,\n",
       "       0.26190476, 0.30952381, 0.35714286, 0.4047619 , 0.45238095,\n",
       "       0.5       , 0.54761905, 0.5952381 , 0.64285714, 0.69047619,\n",
       "       0.73809524, 0.78571429, 0.83333333, 0.88095238, 0.92857143,\n",
       "       0.97619048])"
      ]
     },
     "execution_count": 191,
     "metadata": {},
     "output_type": "execute_result"
    },
    {
     "data": {
      "image/png": "[encoded data removed]",
      "text/plain": [
       "<Figure size 432x288 with 1 Axes>"
      ]
     },
     "metadata": {
      "needs_background": "light"
     },
     "output_type": "display_data"
    }
   ],
   "source": [
    "# Plot diagonal energy as function of tau slices\n",
    "fig, ax2 = plt.subplots()\n",
    "ax2.plot(tau_slices,V_mean[label],'-',label='beta=4')\n",
    "ax2.errorbar(tau_slices,V_mean[label],marker='o',mec='dodgerblue',\n",
    "                            mfc='lightskyblue',mew=0.5,alpha=1,\n",
    "                            yerr=V_err[label],fmt='o',\n",
    "                            ecolor='dodgerblue',zorder=1,capsize=2,\n",
    "                            ms=0,elinewidth=0.5)\n",
    "#ax2.axhline(1.82540875413382,color='#666666')\n",
    "ax2.set_ylabel(r'$\\langle V \\rangle /t$')\n",
    "ax2.set_xlabel(r'$\\tau/\\beta$')\n",
    "ax2.set_xticks(np.linspace(0,beta,n_slices)[1:-1][::10])\n",
    "ax2.tick_params(axis='both',which='both',right=False,top=False,labelright=False,direction='in')\n",
    "#plt.savefig('U_tau_frac.pdf')\n",
    "plt.legend()\n",
    "tau_slices"
   ]
  },
  {
   "cell_type": "code",
   "execution_count": 145,
   "metadata": {},
   "outputs": [
    {
     "ename": "KeyError",
     "evalue": "'beta=1'",
     "output_type": "error",
     "traceback": [
      "\u001b[0;31m---------------------------------------------------------------------------\u001b[0m",
      "\u001b[0;31mKeyError\u001b[0m                                  Traceback (most recent call last)",
      "\u001b[0;32m<ipython-input-145-b7e22e5e621d>\u001b[0m in \u001b[0;36m<module>\u001b[0;34m\u001b[0m\n\u001b[1;32m      1\u001b[0m \u001b[0;31m# Plot total energy as function of tau slices\u001b[0m\u001b[0;34m\u001b[0m\u001b[0;34m\u001b[0m\u001b[0;34m\u001b[0m\u001b[0m\n\u001b[1;32m      2\u001b[0m \u001b[0mfig\u001b[0m\u001b[0;34m,\u001b[0m \u001b[0max3\u001b[0m \u001b[0;34m=\u001b[0m \u001b[0mplt\u001b[0m\u001b[0;34m.\u001b[0m\u001b[0msubplots\u001b[0m\u001b[0;34m(\u001b[0m\u001b[0;34m)\u001b[0m\u001b[0;34m\u001b[0m\u001b[0;34m\u001b[0m\u001b[0m\n\u001b[0;32m----> 3\u001b[0;31m \u001b[0max3\u001b[0m\u001b[0;34m.\u001b[0m\u001b[0mplot\u001b[0m\u001b[0;34m(\u001b[0m\u001b[0mtau_slices\u001b[0m\u001b[0;34m,\u001b[0m\u001b[0mE_mean\u001b[0m\u001b[0;34m[\u001b[0m\u001b[0mlabel\u001b[0m\u001b[0;34m]\u001b[0m\u001b[0;34m,\u001b[0m\u001b[0;34m'-'\u001b[0m\u001b[0;34m,\u001b[0m\u001b[0mlabel\u001b[0m\u001b[0;34m=\u001b[0m\u001b[0;34m'beta=4'\u001b[0m\u001b[0;34m)\u001b[0m\u001b[0;34m\u001b[0m\u001b[0;34m\u001b[0m\u001b[0m\n\u001b[0m\u001b[1;32m      4\u001b[0m ax3.errorbar(tau_slices,E_mean[label],marker='o',mec='dodgerblue',\n\u001b[1;32m      5\u001b[0m                             \u001b[0mmfc\u001b[0m\u001b[0;34m=\u001b[0m\u001b[0;34m'lightskyblue'\u001b[0m\u001b[0;34m,\u001b[0m\u001b[0mmew\u001b[0m\u001b[0;34m=\u001b[0m\u001b[0;36m0.5\u001b[0m\u001b[0;34m,\u001b[0m\u001b[0malpha\u001b[0m\u001b[0;34m=\u001b[0m\u001b[0;36m1\u001b[0m\u001b[0;34m,\u001b[0m\u001b[0;34m\u001b[0m\u001b[0;34m\u001b[0m\u001b[0m\n",
      "\u001b[0;31mKeyError\u001b[0m: 'beta=1'"
     ]
    },
    {
     "data": {
      "image/png": "[encoded data removed]",
      "text/plain": [
       "<Figure size 432x288 with 1 Axes>"
      ]
     },
     "metadata": {
      "needs_background": "light"
     },
     "output_type": "display_data"
    }
   ],
   "source": [
    "# Plot total energy as function of tau slices\n",
    "fig, ax3 = plt.subplots()\n",
    "ax3.plot(tau_slices,E_mean[label],'-',label='beta=4')\n",
    "ax3.errorbar(tau_slices,E_mean[label],marker='o',mec='dodgerblue',\n",
    "                            mfc='lightskyblue',mew=0.5,alpha=1,\n",
    "                            yerr=E_err[label],fmt='o',\n",
    "                            ecolor='dodgerblue',zorder=1,capsize=2,\n",
    "                            ms=0,elinewidth=0.5)\n",
    "ax3.axhline(-1.70739753724840,color='#666666')\n",
    "ax3.set_ylabel(r'$\\langle E \\rangle /t$')\n",
    "ax3.set_xlabel(r'$\\tau/\\beta$')\n",
    "ax3.set_xticks(np.linspace(0,beta,n_slices)[1:-1][::10])\n",
    "ax3.tick_params(axis='both',which='both',right=False,top=False,labelright=False,direction='in')\n",
    "plt.legend()"
   ]
  },
  {
   "cell_type": "code",
   "execution_count": 120,
   "metadata": {},
   "outputs": [
    {
     "ename": "TypeError",
     "evalue": "list indices must be integers or slices, not tuple",
     "output_type": "error",
     "traceback": [
      "\u001b[0;31m---------------------------------------------------------------------------\u001b[0m",
      "\u001b[0;31mTypeError\u001b[0m                                 Traceback (most recent call last)",
      "\u001b[0;32m<ipython-input-120-882ae551fe03>\u001b[0m in \u001b[0;36m<module>\u001b[0;34m\u001b[0m\n\u001b[1;32m      1\u001b[0m \u001b[0mhalf_idx\u001b[0m \u001b[0;34m=\u001b[0m \u001b[0;36m10\u001b[0m\u001b[0;34m\u001b[0m\u001b[0;34m\u001b[0m\u001b[0m\n\u001b[0;32m----> 2\u001b[0;31m \u001b[0mplt\u001b[0m\u001b[0;34m.\u001b[0m\u001b[0mplot\u001b[0m\u001b[0;34m(\u001b[0m\u001b[0mE_err_bin_levels\u001b[0m\u001b[0;34m[\u001b[0m\u001b[0;34m:\u001b[0m\u001b[0;34m,\u001b[0m\u001b[0mhalf_idx\u001b[0m\u001b[0;34m]\u001b[0m\u001b[0;34m)\u001b[0m\u001b[0;34m\u001b[0m\u001b[0;34m\u001b[0m\u001b[0m\n\u001b[0m\u001b[1;32m      3\u001b[0m \u001b[0mprint\u001b[0m\u001b[0;34m(\u001b[0m\u001b[0mE_err\u001b[0m\u001b[0;34m[\u001b[0m\u001b[0mlabel\u001b[0m\u001b[0;34m]\u001b[0m\u001b[0;34m[\u001b[0m\u001b[0mhalf_idx\u001b[0m\u001b[0;34m]\u001b[0m\u001b[0;34m)\u001b[0m\u001b[0;34m\u001b[0m\u001b[0;34m\u001b[0m\u001b[0m\n",
      "\u001b[0;31mTypeError\u001b[0m: list indices must be integers or slices, not tuple"
     ]
    }
   ],
   "source": [
    "half_idx = 10\n",
    "plt.plot(E_err_bin_levels[:,half_idx])\n",
    "print(E_err[label][half_idx])"
   ]
  },
  {
   "cell_type": "code",
   "execution_count": null,
   "metadata": {},
   "outputs": [],
   "source": [
    "half_idx = 10\n",
    "print(\"%.4f +/- %.4f\"%(E_mean[label][half_idx],E_err[label][half_idx]))"
   ]
  },
  {
   "cell_type": "code",
   "execution_count": null,
   "metadata": {},
   "outputs": [],
   "source": [
    "Eot_list = [-8.0797,-5.5915,-3.9761,-2.8846,-2.1853,-1.7026,-1.3722,-1.1983,-1.0231]\n",
    "std_error_max_list = [0.0428,0.0221,0.0282,0.0268,0.0190,0.0323,0.0224,0.0271,0.0196]"
   ]
  },
  {
   "cell_type": "code",
   "execution_count": null,
   "metadata": {},
   "outputs": [],
   "source": [
    "### Running averages"
   ]
  },
  {
   "cell_type": "code",
   "execution_count": null,
   "metadata": {},
   "outputs": [],
   "source": [
    "half_idx=10\n",
    "K_halfBeta = K[label][:,half_idx]\n",
    "K_halfBeta_cumsum = np.cumsum(K_halfBeta)\n",
    "for i in range(len(K_halfBeta)):\n",
    "    K_halfBeta_cumsum[i] /= (i+1)\n",
    "    \n",
    "fig, ax4 = plt.subplots()\n",
    "ax4.plot(K_halfBeta_cumsum,'-',color='mediumseagreen',label=r'$\\beta=9.0$')\n",
    "#ax4.axhline(-3.5311-0.438)\n",
    "ax4.axhline(-2.47213595499958-1.10557280900009)\n",
    "ax4.tick_params(axis='both',which='both',right=False,top=False,labelright=False,direction='in')"
   ]
  },
  {
   "cell_type": "code",
   "execution_count": null,
   "metadata": {},
   "outputs": [],
   "source": [
    "V_halfBeta = V[label][:,half_idx]\n",
    "V_halfBeta_cumsum = np.cumsum(V_halfBeta)\n",
    "for i in range(len(V_halfBeta)):\n",
    "    V_halfBeta_cumsum[i] /= (i+1)\n",
    "    \n",
    "fig, ax5 = plt.subplots()\n",
    "ax5.plot(V_halfBeta_cumsum,'-',color='pink',label=r'$\\beta=9.0$',zorder=3)\n",
    "#ax5.axhline(0.438)\n",
    "ax5.axhline(1.10557280900009)\n",
    "ax5.tick_params(axis='both',which='both',right=False,top=False,labelright=False,direction='in')"
   ]
  },
  {
   "cell_type": "code",
   "execution_count": null,
   "metadata": {},
   "outputs": [],
   "source": [
    "E_halfBeta = E[label][:,half_idx]\n",
    "E_halfBeta_cumsum = np.cumsum(E_halfBeta)\n",
    "for i in range(len(E_halfBeta)):\n",
    "    E_halfBeta_cumsum[i] /= (i+1)\n",
    "fig, ax6 = plt.subplots()\n",
    "ax6.plot(E_halfBeta_cumsum,'-',color='mediumpurple',label=r'$\\beta=9.0$')\n",
    "ax6.set_ylabel(r'$\\langle E \\rangle / t$')\n",
    "ax6.set_xlabel(r'$\\rm{sample \\ number}$')\n",
    "#ax6.axhline(-3.531128874149274,color='#666666')\n",
    "\n",
    "ax6.axhline(1.10557280900009,color='#666666')\n",
    "\n",
    "#ax6.set_ylim(-3.6,-2)\n",
    "ax6.tick_params(axis='both',which='both',right=False,top=False,labelright=False,direction='in')\n",
    "plt.legend()\n",
    "plt.savefig('E_running_avg_beta9.pdf')"
   ]
  },
  {
   "cell_type": "code",
   "execution_count": null,
   "metadata": {},
   "outputs": [],
   "source": []
  },
  {
   "cell_type": "markdown",
   "metadata": {},
   "source": [
    "### $\\langle E(\\tau/\\beta=0.5) \\rangle$ / t vs. $\\beta$"
   ]
  },
  {
   "cell_type": "code",
   "execution_count": null,
   "metadata": {},
   "outputs": [],
   "source": [
    "# Plot total ground state energy as function of tau slices\n",
    "fig, ax7 = plt.subplots()\n",
    "plot_list = list(range(1,10,1))\n",
    " \n",
    "E_center_mean = []\n",
    "E_center_err = []\n",
    "for i in plot_list:\n",
    "    # Attach center data\n",
    "    label = f'beta={i}'\n",
    "    E_center_mean.append(E_mean[label][2])\n",
    "    E_center_err.append(E_err[label][2])\n",
    "\n",
    "\n",
    "\n",
    "ax7.plot(plot_list,E_center_mean,'-',label=label,color='lightskyblue')\n",
    "ax7.errorbar(plot_list,E_center_mean,marker='o',mec='dodgerblue',\n",
    "                            mfc='lightskyblue',mew=0.5,alpha=1,\n",
    "                            yerr=E_center_err,fmt='o',\n",
    "                            ecolor='dodgerblue',zorder=1,capsize=2,\n",
    "                            ms=0,elinewidth=0.5)\n",
    "ax7.axhline(-3.531128874149274,color='#666666')\n",
    "ax7.set_ylabel(r'$\\langle E \\rangle /t$')\n",
    "ax7.set_xlabel(r'$\\beta$')\n",
    "ax7.tick_params(axis='both',which='both',right=False,top=False,labelright=False,direction='in')\n",
    "#plt.legend()\n",
    "plt.savefig('energy_beta_dependence_1mill_points.pdf')"
   ]
  },
  {
   "cell_type": "code",
   "execution_count": null,
   "metadata": {},
   "outputs": [],
   "source": [
    "# Mix the data files\n"
   ]
  },
  {
   "cell_type": "code",
   "execution_count": null,
   "metadata": {},
   "outputs": [],
   "source": []
  },
  {
   "cell_type": "code",
   "execution_count": null,
   "metadata": {},
   "outputs": [],
   "source": []
  },
  {
   "cell_type": "code",
   "execution_count": null,
   "metadata": {},
   "outputs": [],
   "source": []
  }
 ],
 "metadata": {
  "kernelspec": {
   "display_name": "Python 3",
   "language": "python",
   "name": "python3"
  },
  "language_info": {
   "codemirror_mode": {
    "name": "ipython",
    "version": 3
   },
   "file_extension": ".py",
   "mimetype": "text/x-python",
   "name": "python",
   "nbconvert_exporter": "python",
   "pygments_lexer": "ipython3",
   "version": "3.7.3"
  }
 },
 "nbformat": 4,
 "nbformat_minor": 4
}
