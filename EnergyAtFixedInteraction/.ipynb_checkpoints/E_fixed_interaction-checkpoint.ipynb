{
 "cells": [
  {
   "cell_type": "markdown",
   "metadata": {},
   "source": [
    "### Calculate $\\langle E \\rangle / t$"
   ]
  },
  {
   "cell_type": "code",
   "execution_count": 38,
   "metadata": {},
   "outputs": [],
   "source": [
    "import numpy as np\n",
    "import matplotlib.pyplot as plt"
   ]
  },
  {
   "cell_type": "code",
   "execution_count": 39,
   "metadata": {},
   "outputs": [],
   "source": [
    "# Load data files\n",
    "file_name_01 = \"4_4_1000.0000_1500.0000_1.0000_0.3500_1.0000_0.5000_60000_gcan.dat\"\n",
    "data_01 = np.loadtxt(file_name_01)\n",
    "\n",
    "# file_name_02 = \"4_4_0.0000_-2.8844_1.0000_0.1617_1.2500_0.6250_10000000_gcan.dat\"\n",
    "# data_02 = np.loadtxt(file_name_02)\n",
    "\n",
    "# file_name_03 = \"4_4_0.0000_-2.8844_1.0000_0.1580_1.5000_0.7500_10000000_gcan.dat\"\n",
    "# data_03 = np.loadtxt(file_name_03)\n",
    "\n",
    "\n",
    "# Load ground state energy as function of sample number\n",
    "E_list_01 = data_01[:,2]\n",
    "# E_list_02 = data_02[:,2]\n",
    "# E_list_03 = data_03[:,2]\n",
    "\n",
    "\n",
    "# Load number of total particles as a function of sample number\n",
    "N_list_01 = data_01[:,3]\n",
    "# N_list_02 = data_02[:,3]\n",
    "# N_list_03 = data_03[:,3]\n",
    "\n",
    "\n",
    "# Specify the target number of particles and mu\n",
    "N_target = 3\n",
    "mu = -2.8844\n",
    "mu = -2.4000\n",
    "mu = 500\n",
    "\n",
    "\n",
    "# Select samples from configurations that have the target number of particles\n",
    "EN_list_01 = []\n",
    "for i,E in enumerate(E_list_01):\n",
    "    if round(N_list_01[i],8) == N_target:\n",
    "        N = N_list_01[i]\n",
    "#        EN_list_01.append(E+mu*N_target)\n",
    "        EN_list_01.append(E)\n",
    "\n",
    "        \n",
    "# EN_list_02 = []\n",
    "# for i,E in enumerate(E_list_02):\n",
    "#     if round(N_list_02[i],8) == N_target:\n",
    "#         N = N_list_02[i]\n",
    "#         EN_list_02.append(E+mu*N_target)\n",
    "        \n",
    "# EN_list_03 = []\n",
    "# for i,E in enumerate(E_list_03):\n",
    "#     if round(N_list_03[i],8) == N_target:\n",
    "#         N = N_list_03[i]\n",
    "#         EN_list_03.append(E+mu*N_target)\n",
    "\n",
    "# EN_list_04 = []\n",
    "# for i,E in enumerate(E_list_04):\n",
    "#     if round(N_list_04[i],8) == N_target:\n",
    "#         N = N_list_04[i]\n",
    "#         EN_list_04.append(E+mu*N_target)\n",
    "        \n",
    "        \n",
    "# Take cumulative average of the energy\n",
    "EN_cumsum_01 = np.cumsum(EN_list_01)\n",
    "for i in range(len(EN_cumsum_01)):\n",
    "    EN_cumsum_01[i] /= (i+1)\n",
    "    \n",
    "# EN_cumsum_02 = np.cumsum(EN_list_02)\n",
    "# for i in range(len(EN_list_02)):\n",
    "#     EN_cumsum_02[i] /= (i+1)\n",
    "    \n",
    "# EN_cumsum_03 = np.cumsum(EN_list_03)\n",
    "# for i in range(len(EN_list_03)):\n",
    "#     EN_cumsum_03[i] /= (i+1)\n",
    "    \n",
    "# EN_cumsum_04 = np.cumsum(EN_list_04)\n",
    "# for i in range(len(EN_list_04)):\n",
    "#     EN_cumsum_04[i] /= (i+1)"
   ]
  },
  {
   "cell_type": "code",
   "execution_count": 13,
   "metadata": {},
   "outputs": [],
   "source": [
    "# Plot <E>/t as a function of sample number\n",
    "fig, ax1 = plt.subplots()\n",
    "ax1.plot(EN_cumsum_01,'-',color='lightcoral',label=r'$\\beta=8$')\n",
    "#ax1.plot(EN_cumsum_02,'-',color='mediumseagreen',label=r'$\\beta=1.25$')\n",
    "#ax1.plot(EN_cumsum_03,'-',color='lightskyblue',label=r'$\\beta=1.5$')\n",
    "#ax1.plot(EN_cumsum_04,'-',color='orange',label=r'$\\beta=0.75$')\n",
    "\n",
    "ax1.axhline(y=-8.000000000000002,linewidth=1,color=\"#555555\",zorder=2) # Exact <E>/t\n",
    "ax1.set_ylabel(r\"$\\langle E \\rangle / t$\")\n",
    "ax1.set_xlabel(r\"$\\rm{sample \\ number}$\")\n",
    "ax1.tick_params(axis='both',which='both',right=False,top=False,labelright=False,direction='in')\n",
    "plt.legend()\n",
    "plt.savefig(\"4_4_0_-2.8844_CONST_egs.pdf\")\n",
    "plt.close();"
   ]
  },
  {
   "cell_type": "code",
   "execution_count": null,
   "metadata": {},
   "outputs": [],
   "source": []
  },
  {
   "cell_type": "code",
   "execution_count": null,
   "metadata": {},
   "outputs": [],
   "source": []
  },
  {
   "cell_type": "code",
   "execution_count": 3,
   "metadata": {},
   "outputs": [
    {
     "ename": "NameError",
     "evalue": "name 'EN_list' is not defined",
     "output_type": "error",
     "traceback": [
      "\u001b[0;31m---------------------------------------------------------------------------\u001b[0m",
      "\u001b[0;31mNameError\u001b[0m                                 Traceback (most recent call last)",
      "\u001b[0;32m<ipython-input-3-25df51551838>\u001b[0m in \u001b[0;36m<module>\u001b[0;34m\u001b[0m\n\u001b[0;32m----> 1\u001b[0;31m \u001b[0mprint\u001b[0m\u001b[0;34m(\u001b[0m\u001b[0mEN_list\u001b[0m\u001b[0;34m)\u001b[0m\u001b[0;34m\u001b[0m\u001b[0;34m\u001b[0m\u001b[0m\n\u001b[0m",
      "\u001b[0;31mNameError\u001b[0m: name 'EN_list' is not defined"
     ]
    }
   ],
   "source": [
    "print(EN_list)"
   ]
  },
  {
   "cell_type": "code",
   "execution_count": 19,
   "metadata": {},
   "outputs": [
    {
     "data": {
      "text/plain": [
       "-0.5"
      ]
     },
     "execution_count": 19,
     "metadata": {},
     "output_type": "execute_result"
    }
   ],
   "source": [
    "np.mean(EN_list_01)/1000/3"
   ]
  },
  {
   "cell_type": "code",
   "execution_count": 41,
   "metadata": {},
   "outputs": [
    {
     "data": {
      "text/plain": [
       "1.9999999999999953"
      ]
     },
     "execution_count": 41,
     "metadata": {},
     "output_type": "execute_result"
    }
   ],
   "source": [
    "N_list = data_01[:,3]\n",
    "np.mean(N_list)/4"
   ]
  },
  {
   "cell_type": "code",
   "execution_count": 42,
   "metadata": {},
   "outputs": [
    {
     "data": {
      "text/plain": [
       "-2000.0000000000002"
      ]
     },
     "execution_count": 42,
     "metadata": {},
     "output_type": "execute_result"
    }
   ],
   "source": [
    "1.9999999999999953*(1.9999999999999953-1)*(500)-1500*1.9999999999999953"
   ]
  },
  {
   "cell_type": "code",
   "execution_count": 44,
   "metadata": {},
   "outputs": [
    {
     "data": {
      "text/plain": [
       "-2.0000000000000004"
      ]
     },
     "execution_count": 44,
     "metadata": {},
     "output_type": "execute_result"
    }
   ],
   "source": [
    "-2000.0000000000002/1000"
   ]
  },
  {
   "cell_type": "code",
   "execution_count": null,
   "metadata": {},
   "outputs": [],
   "source": []
  }
 ],
 "metadata": {
  "kernelspec": {
   "display_name": "Python 3",
   "language": "python",
   "name": "python3"
  },
  "language_info": {
   "codemirror_mode": {
    "name": "ipython",
    "version": 3
   },
   "file_extension": ".py",
   "mimetype": "text/x-python",
   "name": "python",
   "nbconvert_exporter": "python",
   "pygments_lexer": "ipython3",
   "version": "3.7.3"
  }
 },
 "nbformat": 4,
 "nbformat_minor": 4
}
