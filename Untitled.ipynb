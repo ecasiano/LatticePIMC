{
 "cells": [
  {
   "cell_type": "code",
   "execution_count": null,
   "metadata": {},
   "outputs": [],
   "source": [
    "import numpy as np\n",
    "import matplotlib.pyplot as plt\n",
    "%matplotlib inline"
   ]
  },
  {
   "cell_type": "code",
   "execution_count": null,
   "metadata": {},
   "outputs": [],
   "source": [
    "data_100K = np.loadtxt(\"4_4_1.0000_0.5000_1.0000_0.1619_1.0000_100000_can.dat\")\n",
    "data_200K = np.loadtxt(\"4_4_1.0000_0.5000_1.0000_0.1204_2.0000_200000_can.dat\")\n",
    "data_1000K = np.loadtxt(\"4_4_1.0000_0.5000_1.0000_0.0780_5.0000_1000000_can.dat\")\n",
    "\n",
    "\n",
    "data_100K_cumsum = np.cumsum(data_100K[:,2])\n",
    "data_200K_cumsum = np.cumsum(data_200K[:,2])\n",
    "data_1000K_cumsum = np.cumsum(data_1000K[:,2])\n",
    "\n",
    "\n",
    "len_100K = len(data_100K[:,2])\n",
    "len_200K = len(data_200K[:,2])\n",
    "len_1000K = len(data_1000K[:,2])\n",
    "\n",
    "\n",
    "for i in range(len_100K):\n",
    "    data_100K_cumsum[i] /= (i+1)\n",
    "    \n",
    "for i in range(len_200K):\n",
    "    data_200K_cumsum[i] /= (i+1)\n",
    "    \n",
    "for i in range(len_1000K):\n",
    "    data_1000K_cumsum[i] /= (i+1)"
   ]
  },
  {
   "cell_type": "code",
   "execution_count": null,
   "metadata": {},
   "outputs": [],
   "source": [
    "!ls"
   ]
  },
  {
   "cell_type": "code",
   "execution_count": null,
   "metadata": {},
   "outputs": [],
   "source": [
    "#print(data_100K[:15])\n",
    "plt.plot(data_100K[:,2])"
   ]
  },
  {
   "cell_type": "code",
   "execution_count": null,
   "metadata": {},
   "outputs": [],
   "source": [
    "!pwd\n",
    "!cat 4_4_1.0000_0.5000_1.0000_0.1619_1.0000_100000_can.dat"
   ]
  },
  {
   "cell_type": "code",
   "execution_count": null,
   "metadata": {},
   "outputs": [],
   "source": [
    "plt.plot(data_100K_cumsum,label=r'$\\beta=1$')\n",
    "plt.plot(data_200K_cumsum,label=r'$\\beta=2$')\n",
    "plt.plot(data_1000K_cumsum,label=r'$\\beta=5$')\n",
    "plt.legend()\n",
    "\n",
    "plt.axhline(-6.68)\n"
   ]
  },
  {
   "cell_type": "code",
   "execution_count": null,
   "metadata": {},
   "outputs": [],
   "source": [
    "print(data_100K[:,2])"
   ]
  },
  {
   "cell_type": "code",
   "execution_count": null,
   "metadata": {},
   "outputs": [],
   "source": []
  },
  {
   "cell_type": "code",
   "execution_count": null,
   "metadata": {},
   "outputs": [],
   "source": []
  }
 ],
 "metadata": {
  "kernelspec": {
   "display_name": "Python 3",
   "language": "python",
   "name": "python3"
  },
  "language_info": {
   "codemirror_mode": {
    "name": "ipython",
    "version": 3
   },
   "file_extension": ".py",
   "mimetype": "text/x-python",
   "name": "python",
   "nbconvert_exporter": "python",
   "pygments_lexer": "ipython3",
   "version": "3.7.3"
  }
 },
 "nbformat": 4,
 "nbformat_minor": 4
}
